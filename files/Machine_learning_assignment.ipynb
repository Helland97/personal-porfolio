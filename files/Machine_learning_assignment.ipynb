{
 "cells": [
  {
   "cell_type": "markdown",
   "metadata": {
    "id": "z4ewIv3nGZ-c",
    "pycharm": {
     "name": "#%% md\n"
    }
   },
   "source": [
    "## INFO284 Machine learning semester assignment, spring 2022"
   ]
  },
  {
   "cell_type": "markdown",
   "metadata": {
    "id": "Y_hjjMeZcXEV",
    "pycharm": {
     "name": "#%% md\n"
    }
   },
   "source": [
    "## Introduction\n",
    "\n",
    "The dataset \"albums_all.csv\" is a record of 2833 albums from Spotify. With this dataset, we wish to create four different machine learning models to predict the popularity of the albums based on the features from the dataset. As the dataset is primarily numeric, we will create models based on regression. Using LASSO, Random Forest Regressor, KNN Regressor and Support Vector Regressor.\n",
    "\n",
    "For the second part of the assignment, we will create a home-made convolutional neural network. This model will predict popularity, average tempo, average energy and release date based on album covers. "
   ]
  },
  {
   "cell_type": "markdown",
   "metadata": {
    "id": "MVhQoePvcXEa",
    "pycharm": {
     "name": "#%% md\n"
    }
   },
   "source": [
    "## **A)**  Tabular album data\n",
    "### **1**\n",
    "**1.1** Loading the dataset. \n",
    "\n",
    "Importing pandas, because we need a library that can analyze our dataset. In addition to this, we also need to import warnings, because our program, whilst running, got warning messages. This may be because our program uses an obsolete module (Python, 2022)."
   ]
  },
  {
   "cell_type": "code",
   "execution_count": 241,
   "metadata": {
    "id": "3MhHJQ61cXEb",
    "pycharm": {
     "is_executing": true,
     "name": "#%%\n"
    }
   },
   "outputs": [],
   "source": [
    "import numpy as np\n",
    "import pandas as pd\n",
    "from matplotlib import pyplot as plt\n",
    "import seaborn as sns\n",
    "import warnings\n",
    "warnings.filterwarnings('ignore')\n",
    "\n",
    "from sklearn.linear_model import Lasso\n",
    "from sklearn.ensemble import RandomForestRegressor\n",
    "from sklearn.neighbors import KNeighborsRegressor\n",
    "from sklearn import svm\n",
    "from sklearn.metrics import mean_squared_error\n",
    "from sklearn.model_selection import KFold\n",
    "from sklearn.model_selection import GridSearchCV\n",
    "import timeit"
   ]
  },
  {
   "cell_type": "markdown",
   "metadata": {
    "id": "YOi8nKlZeWPG",
    "pycharm": {
     "name": "#%% md\n"
    }
   },
   "source": [
    "To start the process, we need our program to read the csv file, which is our dataset. To manage this, we need to use pandas, shortened as pd. After that, we sort the values after id - the ids are in chronical order.\n",
    "\n",
    "**1.2** Creating grid.\n",
    "\n",
    "Afterwards, a grid will be created. This grid shows all the features in the csv file. For example t_name0 shows the name of the first song in that album, t_dur0 show the songs duration in milliseconds etc. Since we can see the features now, we can easily manipulate the grid in order to sort out the important features and the unimportant features. "
   ]
  },
  {
   "cell_type": "code",
   "execution_count": 242,
   "metadata": {
    "colab": {
     "base_uri": "https://localhost:8080/",
     "height": 925
    },
    "id": "2v3B5eUkcXEd",
    "outputId": "f1566e60-3932-4236-88c6-50018ae31f1e",
    "pycharm": {
     "name": "#%%\n"
    }
   },
   "outputs": [
    {
     "data": {
      "text/html": [
       "<div>\n",
       "<style scoped>\n",
       "    .dataframe tbody tr th:only-of-type {\n",
       "        vertical-align: middle;\n",
       "    }\n",
       "\n",
       "    .dataframe tbody tr th {\n",
       "        vertical-align: top;\n",
       "    }\n",
       "\n",
       "    .dataframe thead th {\n",
       "        text-align: right;\n",
       "    }\n",
       "</style>\n",
       "<table border=\"1\" class=\"dataframe\">\n",
       "  <thead>\n",
       "    <tr style=\"text-align: right;\">\n",
       "      <th></th>\n",
       "      <th>name</th>\n",
       "      <th>id</th>\n",
       "      <th>release_date</th>\n",
       "      <th>artists</th>\n",
       "      <th>total_tracks</th>\n",
       "      <th>t_name0</th>\n",
       "      <th>t_name1</th>\n",
       "      <th>t_name2</th>\n",
       "      <th>t_dur0</th>\n",
       "      <th>t_dur1</th>\n",
       "      <th>...</th>\n",
       "      <th>t_val0</th>\n",
       "      <th>t_val1</th>\n",
       "      <th>t_val2</th>\n",
       "      <th>t_tempo0</th>\n",
       "      <th>t_tempo1</th>\n",
       "      <th>t_tempo2</th>\n",
       "      <th>t_sig0</th>\n",
       "      <th>t_sig1</th>\n",
       "      <th>t_sig2</th>\n",
       "      <th>popularity</th>\n",
       "    </tr>\n",
       "  </thead>\n",
       "  <tbody>\n",
       "    <tr>\n",
       "      <th>1554</th>\n",
       "      <td>Nibiru</td>\n",
       "      <td>1</td>\n",
       "      <td>2019-11-29</td>\n",
       "      <td>Ozuna,</td>\n",
       "      <td>18</td>\n",
       "      <td>Nibiru</td>\n",
       "      <td>Hasta Que Salga el Sol</td>\n",
       "      <td>Temporal</td>\n",
       "      <td>158826</td>\n",
       "      <td>188480.0</td>\n",
       "      <td>...</td>\n",
       "      <td>0.1580</td>\n",
       "      <td>0.5980</td>\n",
       "      <td>0.4840</td>\n",
       "      <td>173.023</td>\n",
       "      <td>96.042</td>\n",
       "      <td>148.019</td>\n",
       "      <td>4.0</td>\n",
       "      <td>4.0</td>\n",
       "      <td>4.0</td>\n",
       "      <td>67</td>\n",
       "    </tr>\n",
       "    <tr>\n",
       "      <th>443</th>\n",
       "      <td>Club Future Nostalgia (DJ Mix)</td>\n",
       "      <td>15</td>\n",
       "      <td>2020-08-28</td>\n",
       "      <td>Dua Lipa, The Blessed Madonna,</td>\n",
       "      <td>17</td>\n",
       "      <td>Future Nostalgia (Joe Goddard Remix) [Mixed]</td>\n",
       "      <td>Cool (Jayda G Remix) [Mixed]</td>\n",
       "      <td>Good In Bed (Zach Witness &amp; Gen Hoshino Remixe...</td>\n",
       "      <td>174240</td>\n",
       "      <td>126373.0</td>\n",
       "      <td>...</td>\n",
       "      <td>0.6070</td>\n",
       "      <td>0.6480</td>\n",
       "      <td>0.3790</td>\n",
       "      <td>122.978</td>\n",
       "      <td>122.913</td>\n",
       "      <td>93.888</td>\n",
       "      <td>4.0</td>\n",
       "      <td>4.0</td>\n",
       "      <td>4.0</td>\n",
       "      <td>56</td>\n",
       "    </tr>\n",
       "    <tr>\n",
       "      <th>458</th>\n",
       "      <td>Come Over When You're Sober, Pt. 2</td>\n",
       "      <td>21</td>\n",
       "      <td>2018-11-09</td>\n",
       "      <td>Lil Peep,</td>\n",
       "      <td>13</td>\n",
       "      <td>Broken Smile (My All)</td>\n",
       "      <td>Runaway</td>\n",
       "      <td>Sex with My Ex</td>\n",
       "      <td>280520</td>\n",
       "      <td>192760.0</td>\n",
       "      <td>...</td>\n",
       "      <td>0.1150</td>\n",
       "      <td>0.1750</td>\n",
       "      <td>0.4700</td>\n",
       "      <td>120.044</td>\n",
       "      <td>79.892</td>\n",
       "      <td>167.892</td>\n",
       "      <td>4.0</td>\n",
       "      <td>3.0</td>\n",
       "      <td>4.0</td>\n",
       "      <td>77</td>\n",
       "    </tr>\n",
       "    <tr>\n",
       "      <th>967</th>\n",
       "      <td>Hollywood's Bleeding</td>\n",
       "      <td>36</td>\n",
       "      <td>2019-09-06</td>\n",
       "      <td>Post Malone,</td>\n",
       "      <td>17</td>\n",
       "      <td>Hollywood's Bleeding</td>\n",
       "      <td>Saint-Tropez</td>\n",
       "      <td>Enemies (feat. DaBaby)</td>\n",
       "      <td>156266</td>\n",
       "      <td>150866.0</td>\n",
       "      <td>...</td>\n",
       "      <td>0.1700</td>\n",
       "      <td>0.2950</td>\n",
       "      <td>0.6670</td>\n",
       "      <td>130.218</td>\n",
       "      <td>132.113</td>\n",
       "      <td>76.388</td>\n",
       "      <td>4.0</td>\n",
       "      <td>4.0</td>\n",
       "      <td>4.0</td>\n",
       "      <td>86</td>\n",
       "    </tr>\n",
       "    <tr>\n",
       "      <th>578</th>\n",
       "      <td>Djesse Vol. 1</td>\n",
       "      <td>48</td>\n",
       "      <td>2018-12-07</td>\n",
       "      <td>Jacob Collier, Metropole Orkest, Jules Buckley,</td>\n",
       "      <td>9</td>\n",
       "      <td>Home Is</td>\n",
       "      <td>Overture</td>\n",
       "      <td>With The Love In My Heart</td>\n",
       "      <td>345270</td>\n",
       "      <td>174345.0</td>\n",
       "      <td>...</td>\n",
       "      <td>0.0335</td>\n",
       "      <td>0.1690</td>\n",
       "      <td>0.1260</td>\n",
       "      <td>104.279</td>\n",
       "      <td>114.161</td>\n",
       "      <td>122.981</td>\n",
       "      <td>4.0</td>\n",
       "      <td>4.0</td>\n",
       "      <td>1.0</td>\n",
       "      <td>44</td>\n",
       "    </tr>\n",
       "    <tr>\n",
       "      <th>...</th>\n",
       "      <td>...</td>\n",
       "      <td>...</td>\n",
       "      <td>...</td>\n",
       "      <td>...</td>\n",
       "      <td>...</td>\n",
       "      <td>...</td>\n",
       "      <td>...</td>\n",
       "      <td>...</td>\n",
       "      <td>...</td>\n",
       "      <td>...</td>\n",
       "      <td>...</td>\n",
       "      <td>...</td>\n",
       "      <td>...</td>\n",
       "      <td>...</td>\n",
       "      <td>...</td>\n",
       "      <td>...</td>\n",
       "      <td>...</td>\n",
       "      <td>...</td>\n",
       "      <td>...</td>\n",
       "      <td>...</td>\n",
       "      <td>...</td>\n",
       "    </tr>\n",
       "    <tr>\n",
       "      <th>1156</th>\n",
       "      <td>Jurassic Shift</td>\n",
       "      <td>159747</td>\n",
       "      <td>1993-01-01</td>\n",
       "      <td>Ozric Tentacles,</td>\n",
       "      <td>9</td>\n",
       "      <td>Sunhair</td>\n",
       "      <td>Stretchy</td>\n",
       "      <td>Feng Shui</td>\n",
       "      <td>343266</td>\n",
       "      <td>411533.0</td>\n",
       "      <td>...</td>\n",
       "      <td>0.7140</td>\n",
       "      <td>0.7350</td>\n",
       "      <td>0.5120</td>\n",
       "      <td>135.078</td>\n",
       "      <td>150.048</td>\n",
       "      <td>148.096</td>\n",
       "      <td>3.0</td>\n",
       "      <td>4.0</td>\n",
       "      <td>4.0</td>\n",
       "      <td>20</td>\n",
       "    </tr>\n",
       "    <tr>\n",
       "      <th>2592</th>\n",
       "      <td>World of Warcraft: Wrath of the Lich King Orig...</td>\n",
       "      <td>159822</td>\n",
       "      <td>2008-11-13</td>\n",
       "      <td>Various Artists,</td>\n",
       "      <td>21</td>\n",
       "      <td>Wrath of the Lich King (Main Title)</td>\n",
       "      <td>Dragons' Rest</td>\n",
       "      <td>Arthas, My Son (Cinematic Intro)</td>\n",
       "      <td>536653</td>\n",
       "      <td>187533.0</td>\n",
       "      <td>...</td>\n",
       "      <td>0.0502</td>\n",
       "      <td>0.0313</td>\n",
       "      <td>0.0986</td>\n",
       "      <td>79.892</td>\n",
       "      <td>81.045</td>\n",
       "      <td>93.347</td>\n",
       "      <td>3.0</td>\n",
       "      <td>4.0</td>\n",
       "      <td>1.0</td>\n",
       "      <td>47</td>\n",
       "    </tr>\n",
       "    <tr>\n",
       "      <th>1695</th>\n",
       "      <td>PBP</td>\n",
       "      <td>159845</td>\n",
       "      <td>2021-07-16</td>\n",
       "      <td>Proof,</td>\n",
       "      <td>11</td>\n",
       "      <td>Pas un centime</td>\n",
       "      <td>PGP</td>\n",
       "      <td>Sahara</td>\n",
       "      <td>250538</td>\n",
       "      <td>222720.0</td>\n",
       "      <td>...</td>\n",
       "      <td>0.0784</td>\n",
       "      <td>0.6300</td>\n",
       "      <td>0.4210</td>\n",
       "      <td>130.768</td>\n",
       "      <td>142.011</td>\n",
       "      <td>142.084</td>\n",
       "      <td>4.0</td>\n",
       "      <td>4.0</td>\n",
       "      <td>4.0</td>\n",
       "      <td>35</td>\n",
       "    </tr>\n",
       "    <tr>\n",
       "      <th>1069</th>\n",
       "      <td>Inspiron</td>\n",
       "      <td>159942</td>\n",
       "      <td>2020-10-23</td>\n",
       "      <td>XDB,</td>\n",
       "      <td>9</td>\n",
       "      <td>Prelude</td>\n",
       "      <td>Moveya</td>\n",
       "      <td>Endo</td>\n",
       "      <td>72214</td>\n",
       "      <td>334292.0</td>\n",
       "      <td>...</td>\n",
       "      <td>0.0392</td>\n",
       "      <td>0.3090</td>\n",
       "      <td>0.2670</td>\n",
       "      <td>85.928</td>\n",
       "      <td>118.983</td>\n",
       "      <td>124.003</td>\n",
       "      <td>4.0</td>\n",
       "      <td>4.0</td>\n",
       "      <td>4.0</td>\n",
       "      <td>4</td>\n",
       "    </tr>\n",
       "    <tr>\n",
       "      <th>537</th>\n",
       "      <td>Dedicated To Bobby Jameson</td>\n",
       "      <td>159971</td>\n",
       "      <td>2017-09-15</td>\n",
       "      <td>Ariel Pink,</td>\n",
       "      <td>14</td>\n",
       "      <td>Time To Meet Your God</td>\n",
       "      <td>Feels Like Heaven</td>\n",
       "      <td>Death Patrol</td>\n",
       "      <td>160866</td>\n",
       "      <td>196106.0</td>\n",
       "      <td>...</td>\n",
       "      <td>0.4310</td>\n",
       "      <td>0.4300</td>\n",
       "      <td>0.9600</td>\n",
       "      <td>149.501</td>\n",
       "      <td>121.251</td>\n",
       "      <td>112.989</td>\n",
       "      <td>1.0</td>\n",
       "      <td>4.0</td>\n",
       "      <td>4.0</td>\n",
       "      <td>44</td>\n",
       "    </tr>\n",
       "  </tbody>\n",
       "</table>\n",
       "<p>2833 rows × 45 columns</p>\n",
       "</div>"
      ],
      "text/plain": [
       "                                                   name      id release_date  \\\n",
       "1554                                             Nibiru       1   2019-11-29   \n",
       "443                      Club Future Nostalgia (DJ Mix)      15   2020-08-28   \n",
       "458                  Come Over When You're Sober, Pt. 2      21   2018-11-09   \n",
       "967                                Hollywood's Bleeding      36   2019-09-06   \n",
       "578                                       Djesse Vol. 1      48   2018-12-07   \n",
       "...                                                 ...     ...          ...   \n",
       "1156                                     Jurassic Shift  159747   1993-01-01   \n",
       "2592  World of Warcraft: Wrath of the Lich King Orig...  159822   2008-11-13   \n",
       "1695                                                PBP  159845   2021-07-16   \n",
       "1069                                           Inspiron  159942   2020-10-23   \n",
       "537                          Dedicated To Bobby Jameson  159971   2017-09-15   \n",
       "\n",
       "                                               artists  total_tracks  \\\n",
       "1554                                           Ozuna,             18   \n",
       "443                    Dua Lipa, The Blessed Madonna,             17   \n",
       "458                                         Lil Peep,             13   \n",
       "967                                      Post Malone,             17   \n",
       "578   Jacob Collier, Metropole Orkest, Jules Buckley,              9   \n",
       "...                                                ...           ...   \n",
       "1156                                 Ozric Tentacles,              9   \n",
       "2592                                 Various Artists,             21   \n",
       "1695                                           Proof,             11   \n",
       "1069                                             XDB,              9   \n",
       "537                                       Ariel Pink,             14   \n",
       "\n",
       "                                           t_name0  \\\n",
       "1554                                        Nibiru   \n",
       "443   Future Nostalgia (Joe Goddard Remix) [Mixed]   \n",
       "458                          Broken Smile (My All)   \n",
       "967                           Hollywood's Bleeding   \n",
       "578                                        Home Is   \n",
       "...                                            ...   \n",
       "1156                                       Sunhair   \n",
       "2592           Wrath of the Lich King (Main Title)   \n",
       "1695                                Pas un centime   \n",
       "1069                                       Prelude   \n",
       "537                          Time To Meet Your God   \n",
       "\n",
       "                           t_name1  \\\n",
       "1554        Hasta Que Salga el Sol   \n",
       "443   Cool (Jayda G Remix) [Mixed]   \n",
       "458                        Runaway   \n",
       "967                   Saint-Tropez   \n",
       "578                       Overture   \n",
       "...                            ...   \n",
       "1156                      Stretchy   \n",
       "2592                 Dragons' Rest   \n",
       "1695                           PGP   \n",
       "1069                        Moveya   \n",
       "537              Feels Like Heaven   \n",
       "\n",
       "                                                t_name2  t_dur0    t_dur1  \\\n",
       "1554                                           Temporal  158826  188480.0   \n",
       "443   Good In Bed (Zach Witness & Gen Hoshino Remixe...  174240  126373.0   \n",
       "458                                      Sex with My Ex  280520  192760.0   \n",
       "967                              Enemies (feat. DaBaby)  156266  150866.0   \n",
       "578                           With The Love In My Heart  345270  174345.0   \n",
       "...                                                 ...     ...       ...   \n",
       "1156                                          Feng Shui  343266  411533.0   \n",
       "2592                   Arthas, My Son (Cinematic Intro)  536653  187533.0   \n",
       "1695                                             Sahara  250538  222720.0   \n",
       "1069                                               Endo   72214  334292.0   \n",
       "537                                        Death Patrol  160866  196106.0   \n",
       "\n",
       "      ...  t_val0  t_val1  t_val2  t_tempo0  t_tempo1  t_tempo2  t_sig0  \\\n",
       "1554  ...  0.1580  0.5980  0.4840   173.023    96.042   148.019     4.0   \n",
       "443   ...  0.6070  0.6480  0.3790   122.978   122.913    93.888     4.0   \n",
       "458   ...  0.1150  0.1750  0.4700   120.044    79.892   167.892     4.0   \n",
       "967   ...  0.1700  0.2950  0.6670   130.218   132.113    76.388     4.0   \n",
       "578   ...  0.0335  0.1690  0.1260   104.279   114.161   122.981     4.0   \n",
       "...   ...     ...     ...     ...       ...       ...       ...     ...   \n",
       "1156  ...  0.7140  0.7350  0.5120   135.078   150.048   148.096     3.0   \n",
       "2592  ...  0.0502  0.0313  0.0986    79.892    81.045    93.347     3.0   \n",
       "1695  ...  0.0784  0.6300  0.4210   130.768   142.011   142.084     4.0   \n",
       "1069  ...  0.0392  0.3090  0.2670    85.928   118.983   124.003     4.0   \n",
       "537   ...  0.4310  0.4300  0.9600   149.501   121.251   112.989     1.0   \n",
       "\n",
       "      t_sig1  t_sig2  popularity  \n",
       "1554     4.0     4.0          67  \n",
       "443      4.0     4.0          56  \n",
       "458      3.0     4.0          77  \n",
       "967      4.0     4.0          86  \n",
       "578      4.0     1.0          44  \n",
       "...      ...     ...         ...  \n",
       "1156     4.0     4.0          20  \n",
       "2592     4.0     1.0          47  \n",
       "1695     4.0     4.0          35  \n",
       "1069     4.0     4.0           4  \n",
       "537      4.0     4.0          44  \n",
       "\n",
       "[2833 rows x 45 columns]"
      ]
     },
     "execution_count": 242,
     "metadata": {},
     "output_type": "execute_result"
    }
   ],
   "source": [
    "df = pd.read_csv(\"albums_all.csv\")\n",
    "df.sort_values('id')"
   ]
  },
  {
   "cell_type": "markdown",
   "metadata": {
    "id": "NB3zULaPInsN",
    "pycharm": {
     "name": "#%% md\n"
    }
   },
   "source": [
    "**1.3** Data types and features\n",
    "\n",
    "df.info() shows the data type of each feature and number of non-values there are for each feature.\n",
    "\n",
    "As you can see below, there are mostly numeric values (int64 and float64). except from \"name\", \"release_date\", \"artists\" and \"track_name0, 1 and 2\". In section 1.6 we will check for outliers."
   ]
  },
  {
   "cell_type": "code",
   "execution_count": 243,
   "metadata": {
    "colab": {
     "base_uri": "https://localhost:8080/"
    },
    "id": "ylLae8alU62e",
    "outputId": "fc7c0fb5-cb99-4ad4-d4b9-1747de87bba2",
    "pycharm": {
     "is_executing": true,
     "name": "#%%\n"
    }
   },
   "outputs": [
    {
     "name": "stdout",
     "output_type": "stream",
     "text": [
      "<class 'pandas.core.frame.DataFrame'>\n",
      "RangeIndex: 2833 entries, 0 to 2832\n",
      "Data columns (total 45 columns):\n",
      " #   Column        Non-Null Count  Dtype  \n",
      "---  ------        --------------  -----  \n",
      " 0   name          2833 non-null   object \n",
      " 1   id            2833 non-null   int64  \n",
      " 2   release_date  2833 non-null   object \n",
      " 3   artists       2833 non-null   object \n",
      " 4   total_tracks  2833 non-null   int64  \n",
      " 5   t_name0       2833 non-null   object \n",
      " 6   t_name1       2833 non-null   object \n",
      " 7   t_name2       2833 non-null   object \n",
      " 8   t_dur0        2833 non-null   int64  \n",
      " 9   t_dur1        2833 non-null   float64\n",
      " 10  t_dur2        2833 non-null   float64\n",
      " 11  t_dance0      2833 non-null   float64\n",
      " 12  t_dance1      2833 non-null   float64\n",
      " 13  t_dance2      2833 non-null   float64\n",
      " 14  t_energy0     2833 non-null   float64\n",
      " 15  t_energy1     2833 non-null   float64\n",
      " 16  t_energy2     2833 non-null   float64\n",
      " 17  t_key0        2833 non-null   float64\n",
      " 18  t_key1        2833 non-null   float64\n",
      " 19  t_key2        2833 non-null   float64\n",
      " 20  t_mode0       2833 non-null   float64\n",
      " 21  t_mode1       2833 non-null   float64\n",
      " 22  t_mode2       2833 non-null   float64\n",
      " 23  t_speech0     2833 non-null   float64\n",
      " 24  t_speech1     2833 non-null   float64\n",
      " 25  t_speech2     2833 non-null   float64\n",
      " 26  t_acous0      2833 non-null   float64\n",
      " 27  t_acous1      2833 non-null   float64\n",
      " 28  t_acous2      2833 non-null   float64\n",
      " 29  t_ins0        2833 non-null   float64\n",
      " 30  t_ins1        2833 non-null   float64\n",
      " 31  t_ins2        2833 non-null   float64\n",
      " 32  t_live0       2833 non-null   float64\n",
      " 33  t_live1       2833 non-null   float64\n",
      " 34  t_live2       2833 non-null   float64\n",
      " 35  t_val0        2833 non-null   float64\n",
      " 36  t_val1        2833 non-null   float64\n",
      " 37  t_val2        2833 non-null   float64\n",
      " 38  t_tempo0      2833 non-null   float64\n",
      " 39  t_tempo1      2833 non-null   float64\n",
      " 40  t_tempo2      2833 non-null   float64\n",
      " 41  t_sig0        2833 non-null   float64\n",
      " 42  t_sig1        2833 non-null   float64\n",
      " 43  t_sig2        2833 non-null   float64\n",
      " 44  popularity    2833 non-null   int64  \n",
      "dtypes: float64(35), int64(4), object(6)\n",
      "memory usage: 996.1+ KB\n"
     ]
    }
   ],
   "source": [
    "df.info()"
   ]
  },
  {
   "cell_type": "markdown",
   "metadata": {
    "id": "ZSSLmDUHVHEQ",
    "pycharm": {
     "name": "#%% md\n"
    }
   },
   "source": [
    "Many of the features in the data set is information about the albums, such as name of the album, ID, Release date and Artists. Since the name of the album uses ID to identify it as well, and do not say anything on their own, we will be removing this later. The other features are about the tracks, how popular they are, the songs tempo, level of acoustics, how danceable it is and so on. We kept these features to predict the popularity of the albums later on. "
   ]
  },
  {
   "cell_type": "markdown",
   "metadata": {
    "id": "1HYuwt8DcXEe",
    "pycharm": {
     "name": "#%% md\n"
    }
   },
   "source": [
    "**1.4** Cleaning the dataset"
   ]
  },
  {
   "cell_type": "markdown",
   "metadata": {
    "id": "CE6J9x7OJyoo",
    "pycharm": {
     "name": "#%% md\n"
    }
   },
   "source": [
    "Checking for duplicates. There are none."
   ]
  },
  {
   "cell_type": "code",
   "execution_count": 244,
   "metadata": {
    "colab": {
     "base_uri": "https://localhost:8080/"
    },
    "id": "i7AG779FKBeZ",
    "outputId": "a894f321-1339-4856-e4d0-2f6a49762e9a",
    "pycharm": {
     "is_executing": true,
     "name": "#%%\n"
    }
   },
   "outputs": [
    {
     "data": {
      "text/plain": [
       "0"
      ]
     },
     "execution_count": 244,
     "metadata": {},
     "output_type": "execute_result"
    }
   ],
   "source": [
    "sum(df.duplicated(df.columns))"
   ]
  },
  {
   "cell_type": "markdown",
   "metadata": {
    "id": "i0Pzo7VF1neC",
    "pycharm": {
     "name": "#%% md\n"
    }
   },
   "source": [
    "Checking again for non-values, to be sure there are none."
   ]
  },
  {
   "cell_type": "code",
   "execution_count": 245,
   "metadata": {
    "colab": {
     "base_uri": "https://localhost:8080/"
    },
    "id": "GZC0DvI97KTj",
    "outputId": "547df043-9f44-46ca-e069-f7842685aeb6",
    "pycharm": {
     "name": "#%%\n"
    }
   },
   "outputs": [
    {
     "data": {
      "text/plain": [
       "name            0\n",
       "id              0\n",
       "release_date    0\n",
       "artists         0\n",
       "total_tracks    0\n",
       "t_name0         0\n",
       "t_name1         0\n",
       "t_name2         0\n",
       "t_dur0          0\n",
       "t_dur1          0\n",
       "t_dur2          0\n",
       "t_dance0        0\n",
       "t_dance1        0\n",
       "t_dance2        0\n",
       "t_energy0       0\n",
       "t_energy1       0\n",
       "t_energy2       0\n",
       "t_key0          0\n",
       "t_key1          0\n",
       "t_key2          0\n",
       "t_mode0         0\n",
       "t_mode1         0\n",
       "t_mode2         0\n",
       "t_speech0       0\n",
       "t_speech1       0\n",
       "t_speech2       0\n",
       "t_acous0        0\n",
       "t_acous1        0\n",
       "t_acous2        0\n",
       "t_ins0          0\n",
       "t_ins1          0\n",
       "t_ins2          0\n",
       "t_live0         0\n",
       "t_live1         0\n",
       "t_live2         0\n",
       "t_val0          0\n",
       "t_val1          0\n",
       "t_val2          0\n",
       "t_tempo0        0\n",
       "t_tempo1        0\n",
       "t_tempo2        0\n",
       "t_sig0          0\n",
       "t_sig1          0\n",
       "t_sig2          0\n",
       "popularity      0\n",
       "dtype: int64"
      ]
     },
     "execution_count": 245,
     "metadata": {},
     "output_type": "execute_result"
    }
   ],
   "source": [
    "df.isna().sum()"
   ]
  },
  {
   "cell_type": "markdown",
   "metadata": {
    "id": "T8o5j3sZcXEe",
    "pycharm": {
     "name": "#%% md\n"
    }
   },
   "source": [
    "As there are values within \"release_date\" which only contains year of release, we chose to only keep release *year*. Hence we take the 4 first values of df[['release']]"
   ]
  },
  {
   "cell_type": "code",
   "execution_count": 246,
   "metadata": {
    "id": "h7NwMVGacXEf",
    "pycharm": {
     "name": "#%%\n"
    }
   },
   "outputs": [],
   "source": [
    "df['release_date'] = df['release_date'].apply(lambda x : x[:4])"
   ]
  },
  {
   "cell_type": "markdown",
   "metadata": {
    "id": "ANXS50RYcXEf",
    "pycharm": {
     "name": "#%% md\n"
    }
   },
   "source": [
    "Since ID represents the row, and is easier to work with than a text string of the album - we remove df[['name']]. We will also remove track names, as we figured them to be of little importance for predictions."
   ]
  },
  {
   "cell_type": "code",
   "execution_count": 247,
   "metadata": {
    "id": "IGiAhVGHcXEg",
    "pycharm": {
     "name": "#%%\n"
    }
   },
   "outputs": [],
   "source": [
    "df = df.drop([\"name\", \"t_name0\", \"t_name1\", \"t_name2\"], axis=1)"
   ]
  },
  {
   "cell_type": "markdown",
   "metadata": {},
   "source": [
    "df1 will be used in heatmap in section 2.1"
   ]
  },
  {
   "cell_type": "code",
   "execution_count": 248,
   "metadata": {},
   "outputs": [],
   "source": [
    "df1 = df"
   ]
  },
  {
   "cell_type": "markdown",
   "metadata": {},
   "source": [
    "**1.5** Dummy variables of Artists in the dataset\n",
    "\n",
    "Get_dummies is a method to convert categorical features into binary vector arrays. Much the same as OneHotEncoder, but with one column less (k-1) (Chen, 2020). \n",
    "\n",
    "As the dataset is primarily a numeric dataset, we will convert remaining categorical features into numeric ones.\n",
    " \n",
    "We figure artists are important for an albums *popularity*, hence we use pd.get_dummies() to preprocess the categorical feature names: artists in the dataset."
   ]
  },
  {
   "cell_type": "code",
   "execution_count": 249,
   "metadata": {},
   "outputs": [
    {
     "data": {
      "text/html": [
       "<div>\n",
       "<style scoped>\n",
       "    .dataframe tbody tr th:only-of-type {\n",
       "        vertical-align: middle;\n",
       "    }\n",
       "\n",
       "    .dataframe tbody tr th {\n",
       "        vertical-align: top;\n",
       "    }\n",
       "\n",
       "    .dataframe thead th {\n",
       "        text-align: right;\n",
       "    }\n",
       "</style>\n",
       "<table border=\"1\" class=\"dataframe\">\n",
       "  <thead>\n",
       "    <tr style=\"text-align: right;\">\n",
       "      <th></th>\n",
       "      <th>id</th>\n",
       "      <th>release_date</th>\n",
       "      <th>total_tracks</th>\n",
       "      <th>t_dur0</th>\n",
       "      <th>t_dur1</th>\n",
       "      <th>t_dur2</th>\n",
       "      <th>t_dance0</th>\n",
       "      <th>t_dance1</th>\n",
       "      <th>t_dance2</th>\n",
       "      <th>t_energy0</th>\n",
       "      <th>...</th>\n",
       "      <th>artists_夏之禹, FBR,</th>\n",
       "      <th>artists_安溥 anpu,</th>\n",
       "      <th>artists_屁孩 Ryan,</th>\n",
       "      <th>artists_岸県子,</th>\n",
       "      <th>artists_椿鬼奴,</th>\n",
       "      <th>artists_楊秀蘭, 歐陽謙, 史志有,</th>\n",
       "      <th>artists_水中スピカ,</th>\n",
       "      <th>artists_神前 暁,</th>\n",
       "      <th>artists_路嘉欣,</th>\n",
       "      <th>artists_박혜진 Park Hye Jin,</th>\n",
       "    </tr>\n",
       "  </thead>\n",
       "  <tbody>\n",
       "    <tr>\n",
       "      <th>0</th>\n",
       "      <td>22352</td>\n",
       "      <td>2000</td>\n",
       "      <td>4</td>\n",
       "      <td>292720</td>\n",
       "      <td>293760.0</td>\n",
       "      <td>292733.0</td>\n",
       "      <td>0.549</td>\n",
       "      <td>0.623</td>\n",
       "      <td>0.5190</td>\n",
       "      <td>0.559</td>\n",
       "      <td>...</td>\n",
       "      <td>0</td>\n",
       "      <td>0</td>\n",
       "      <td>0</td>\n",
       "      <td>0</td>\n",
       "      <td>0</td>\n",
       "      <td>0</td>\n",
       "      <td>0</td>\n",
       "      <td>0</td>\n",
       "      <td>0</td>\n",
       "      <td>0</td>\n",
       "    </tr>\n",
       "    <tr>\n",
       "      <th>1</th>\n",
       "      <td>106534</td>\n",
       "      <td>2011</td>\n",
       "      <td>12</td>\n",
       "      <td>213760</td>\n",
       "      <td>181000.0</td>\n",
       "      <td>245973.0</td>\n",
       "      <td>0.871</td>\n",
       "      <td>0.702</td>\n",
       "      <td>0.4160</td>\n",
       "      <td>0.854</td>\n",
       "      <td>...</td>\n",
       "      <td>0</td>\n",
       "      <td>0</td>\n",
       "      <td>0</td>\n",
       "      <td>0</td>\n",
       "      <td>0</td>\n",
       "      <td>0</td>\n",
       "      <td>0</td>\n",
       "      <td>0</td>\n",
       "      <td>0</td>\n",
       "      <td>0</td>\n",
       "    </tr>\n",
       "    <tr>\n",
       "      <th>2</th>\n",
       "      <td>23608</td>\n",
       "      <td>2019</td>\n",
       "      <td>59</td>\n",
       "      <td>157124</td>\n",
       "      <td>130446.0</td>\n",
       "      <td>152450.0</td>\n",
       "      <td>0.289</td>\n",
       "      <td>0.328</td>\n",
       "      <td>0.2340</td>\n",
       "      <td>0.936</td>\n",
       "      <td>...</td>\n",
       "      <td>0</td>\n",
       "      <td>0</td>\n",
       "      <td>0</td>\n",
       "      <td>0</td>\n",
       "      <td>0</td>\n",
       "      <td>0</td>\n",
       "      <td>0</td>\n",
       "      <td>0</td>\n",
       "      <td>0</td>\n",
       "      <td>0</td>\n",
       "    </tr>\n",
       "    <tr>\n",
       "      <th>3</th>\n",
       "      <td>8655</td>\n",
       "      <td>2020</td>\n",
       "      <td>8</td>\n",
       "      <td>127896</td>\n",
       "      <td>176351.0</td>\n",
       "      <td>166968.0</td>\n",
       "      <td>0.886</td>\n",
       "      <td>0.947</td>\n",
       "      <td>0.8260</td>\n",
       "      <td>0.818</td>\n",
       "      <td>...</td>\n",
       "      <td>0</td>\n",
       "      <td>0</td>\n",
       "      <td>0</td>\n",
       "      <td>0</td>\n",
       "      <td>0</td>\n",
       "      <td>0</td>\n",
       "      <td>0</td>\n",
       "      <td>0</td>\n",
       "      <td>0</td>\n",
       "      <td>0</td>\n",
       "    </tr>\n",
       "    <tr>\n",
       "      <th>4</th>\n",
       "      <td>49670</td>\n",
       "      <td>2018</td>\n",
       "      <td>17</td>\n",
       "      <td>210320</td>\n",
       "      <td>226253.0</td>\n",
       "      <td>211880.0</td>\n",
       "      <td>0.724</td>\n",
       "      <td>0.791</td>\n",
       "      <td>0.7840</td>\n",
       "      <td>0.827</td>\n",
       "      <td>...</td>\n",
       "      <td>0</td>\n",
       "      <td>0</td>\n",
       "      <td>0</td>\n",
       "      <td>0</td>\n",
       "      <td>0</td>\n",
       "      <td>0</td>\n",
       "      <td>0</td>\n",
       "      <td>0</td>\n",
       "      <td>0</td>\n",
       "      <td>0</td>\n",
       "    </tr>\n",
       "    <tr>\n",
       "      <th>...</th>\n",
       "      <td>...</td>\n",
       "      <td>...</td>\n",
       "      <td>...</td>\n",
       "      <td>...</td>\n",
       "      <td>...</td>\n",
       "      <td>...</td>\n",
       "      <td>...</td>\n",
       "      <td>...</td>\n",
       "      <td>...</td>\n",
       "      <td>...</td>\n",
       "      <td>...</td>\n",
       "      <td>...</td>\n",
       "      <td>...</td>\n",
       "      <td>...</td>\n",
       "      <td>...</td>\n",
       "      <td>...</td>\n",
       "      <td>...</td>\n",
       "      <td>...</td>\n",
       "      <td>...</td>\n",
       "      <td>...</td>\n",
       "      <td>...</td>\n",
       "    </tr>\n",
       "    <tr>\n",
       "      <th>2828</th>\n",
       "      <td>33980</td>\n",
       "      <td>2018</td>\n",
       "      <td>10</td>\n",
       "      <td>70740</td>\n",
       "      <td>262400.0</td>\n",
       "      <td>220680.0</td>\n",
       "      <td>0.224</td>\n",
       "      <td>0.609</td>\n",
       "      <td>0.7110</td>\n",
       "      <td>0.348</td>\n",
       "      <td>...</td>\n",
       "      <td>0</td>\n",
       "      <td>0</td>\n",
       "      <td>0</td>\n",
       "      <td>0</td>\n",
       "      <td>0</td>\n",
       "      <td>0</td>\n",
       "      <td>0</td>\n",
       "      <td>0</td>\n",
       "      <td>0</td>\n",
       "      <td>0</td>\n",
       "    </tr>\n",
       "    <tr>\n",
       "      <th>2829</th>\n",
       "      <td>110832</td>\n",
       "      <td>2010</td>\n",
       "      <td>10</td>\n",
       "      <td>252226</td>\n",
       "      <td>222400.0</td>\n",
       "      <td>214973.0</td>\n",
       "      <td>0.526</td>\n",
       "      <td>0.623</td>\n",
       "      <td>0.4820</td>\n",
       "      <td>0.293</td>\n",
       "      <td>...</td>\n",
       "      <td>0</td>\n",
       "      <td>0</td>\n",
       "      <td>0</td>\n",
       "      <td>0</td>\n",
       "      <td>0</td>\n",
       "      <td>0</td>\n",
       "      <td>0</td>\n",
       "      <td>0</td>\n",
       "      <td>0</td>\n",
       "      <td>0</td>\n",
       "    </tr>\n",
       "    <tr>\n",
       "      <th>2830</th>\n",
       "      <td>14491</td>\n",
       "      <td>2008</td>\n",
       "      <td>11</td>\n",
       "      <td>269146</td>\n",
       "      <td>251560.0</td>\n",
       "      <td>172760.0</td>\n",
       "      <td>0.551</td>\n",
       "      <td>0.756</td>\n",
       "      <td>0.7820</td>\n",
       "      <td>0.901</td>\n",
       "      <td>...</td>\n",
       "      <td>0</td>\n",
       "      <td>0</td>\n",
       "      <td>0</td>\n",
       "      <td>0</td>\n",
       "      <td>0</td>\n",
       "      <td>0</td>\n",
       "      <td>0</td>\n",
       "      <td>0</td>\n",
       "      <td>0</td>\n",
       "      <td>0</td>\n",
       "    </tr>\n",
       "    <tr>\n",
       "      <th>2831</th>\n",
       "      <td>123511</td>\n",
       "      <td>2003</td>\n",
       "      <td>13</td>\n",
       "      <td>344764</td>\n",
       "      <td>425613.0</td>\n",
       "      <td>249652.0</td>\n",
       "      <td>0.473</td>\n",
       "      <td>0.572</td>\n",
       "      <td>0.8230</td>\n",
       "      <td>0.146</td>\n",
       "      <td>...</td>\n",
       "      <td>0</td>\n",
       "      <td>0</td>\n",
       "      <td>0</td>\n",
       "      <td>0</td>\n",
       "      <td>0</td>\n",
       "      <td>0</td>\n",
       "      <td>0</td>\n",
       "      <td>0</td>\n",
       "      <td>0</td>\n",
       "      <td>0</td>\n",
       "    </tr>\n",
       "    <tr>\n",
       "      <th>2832</th>\n",
       "      <td>6207</td>\n",
       "      <td>2018</td>\n",
       "      <td>18</td>\n",
       "      <td>210955</td>\n",
       "      <td>339869.0</td>\n",
       "      <td>304124.0</td>\n",
       "      <td>0.112</td>\n",
       "      <td>0.523</td>\n",
       "      <td>0.0679</td>\n",
       "      <td>0.603</td>\n",
       "      <td>...</td>\n",
       "      <td>0</td>\n",
       "      <td>0</td>\n",
       "      <td>0</td>\n",
       "      <td>0</td>\n",
       "      <td>0</td>\n",
       "      <td>0</td>\n",
       "      <td>0</td>\n",
       "      <td>0</td>\n",
       "      <td>0</td>\n",
       "      <td>0</td>\n",
       "    </tr>\n",
       "  </tbody>\n",
       "</table>\n",
       "<p>2833 rows × 2571 columns</p>\n",
       "</div>"
      ],
      "text/plain": [
       "          id release_date  total_tracks  t_dur0    t_dur1    t_dur2  t_dance0  \\\n",
       "0      22352         2000             4  292720  293760.0  292733.0     0.549   \n",
       "1     106534         2011            12  213760  181000.0  245973.0     0.871   \n",
       "2      23608         2019            59  157124  130446.0  152450.0     0.289   \n",
       "3       8655         2020             8  127896  176351.0  166968.0     0.886   \n",
       "4      49670         2018            17  210320  226253.0  211880.0     0.724   \n",
       "...      ...          ...           ...     ...       ...       ...       ...   \n",
       "2828   33980         2018            10   70740  262400.0  220680.0     0.224   \n",
       "2829  110832         2010            10  252226  222400.0  214973.0     0.526   \n",
       "2830   14491         2008            11  269146  251560.0  172760.0     0.551   \n",
       "2831  123511         2003            13  344764  425613.0  249652.0     0.473   \n",
       "2832    6207         2018            18  210955  339869.0  304124.0     0.112   \n",
       "\n",
       "      t_dance1  t_dance2  t_energy0  ...  artists_夏之禹, FBR,   \\\n",
       "0        0.623    0.5190      0.559  ...                   0   \n",
       "1        0.702    0.4160      0.854  ...                   0   \n",
       "2        0.328    0.2340      0.936  ...                   0   \n",
       "3        0.947    0.8260      0.818  ...                   0   \n",
       "4        0.791    0.7840      0.827  ...                   0   \n",
       "...        ...       ...        ...  ...                 ...   \n",
       "2828     0.609    0.7110      0.348  ...                   0   \n",
       "2829     0.623    0.4820      0.293  ...                   0   \n",
       "2830     0.756    0.7820      0.901  ...                   0   \n",
       "2831     0.572    0.8230      0.146  ...                   0   \n",
       "2832     0.523    0.0679      0.603  ...                   0   \n",
       "\n",
       "      artists_安溥 anpu,   artists_屁孩 Ryan,   artists_岸県子,   artists_椿鬼奴,   \\\n",
       "0                     0                  0              0              0   \n",
       "1                     0                  0              0              0   \n",
       "2                     0                  0              0              0   \n",
       "3                     0                  0              0              0   \n",
       "4                     0                  0              0              0   \n",
       "...                 ...                ...            ...            ...   \n",
       "2828                  0                  0              0              0   \n",
       "2829                  0                  0              0              0   \n",
       "2830                  0                  0              0              0   \n",
       "2831                  0                  0              0              0   \n",
       "2832                  0                  0              0              0   \n",
       "\n",
       "      artists_楊秀蘭, 歐陽謙, 史志有,   artists_水中スピカ,   artists_神前 暁,   artists_路嘉欣,   \\\n",
       "0                           0                0               0              0   \n",
       "1                           0                0               0              0   \n",
       "2                           0                0               0              0   \n",
       "3                           0                0               0              0   \n",
       "4                           0                0               0              0   \n",
       "...                       ...              ...             ...            ...   \n",
       "2828                        0                0               0              0   \n",
       "2829                        0                0               0              0   \n",
       "2830                        0                0               0              0   \n",
       "2831                        0                0               0              0   \n",
       "2832                        0                0               0              0   \n",
       "\n",
       "      artists_박혜진 Park Hye Jin,   \n",
       "0                              0  \n",
       "1                              0  \n",
       "2                              0  \n",
       "3                              0  \n",
       "4                              0  \n",
       "...                          ...  \n",
       "2828                           0  \n",
       "2829                           0  \n",
       "2830                           0  \n",
       "2831                           0  \n",
       "2832                           0  \n",
       "\n",
       "[2833 rows x 2571 columns]"
      ]
     },
     "execution_count": 249,
     "metadata": {},
     "output_type": "execute_result"
    }
   ],
   "source": [
    "df = pd.get_dummies(df, columns=['artists'], drop_first=True)\n",
    "df"
   ]
  },
  {
   "cell_type": "markdown",
   "metadata": {
    "id": "qaDzn8cZcXEg",
    "pycharm": {
     "name": "#%% md\n"
    }
   },
   "source": [
    "As the dataset is quite clean in its original state, there will be little altercations. As aforementioned there are no NaN or duplicates. After dropping \"name\", \"track_name0, 1 and 2\", altering \"release_date\" to release year and calling get_dummies in \"artists\". There are no more categorical features (we will change \"release_date\" to int64 in section 1.6)."
   ]
  },
  {
   "cell_type": "markdown",
   "metadata": {
    "id": "B9C9Vthnzpk-",
    "pycharm": {
     "name": "#%% md\n"
    }
   },
   "source": [
    "**1.6** Handling outliers\n",
    "\n",
    "To protect the integrity of the dataset, when handling outliers, we were careful not to remove too many of them. Because then our modules would not be able to get the more unusual data. However, we still needed to remove some outlier data in order to generalize the data. "
   ]
  },
  {
   "cell_type": "markdown",
   "metadata": {
    "id": "xuPUn-ViX8uM",
    "pycharm": {
     "name": "#%% md\n"
    }
   },
   "source": [
    "Boxplot of Track Duration"
   ]
  },
  {
   "cell_type": "code",
   "execution_count": 251,
   "metadata": {
    "colab": {
     "base_uri": "https://localhost:8080/",
     "height": 403
    },
    "id": "-VTWuNAaVYAN",
    "outputId": "e6eb5873-d2c0-4278-9fbb-3e66dda6a07a",
    "pycharm": {
     "name": "#%%\n"
    }
   },
   "outputs": [
    {
     "data": {
      "image/png": "[encoded data removed]",
      "text/plain": [
       "<Figure size 1080x432 with 1 Axes>"
      ]
     },
     "metadata": {},
     "output_type": "display_data"
    }
   ],
   "source": [
    "#Set the size of the plot\n",
    "plt.figure(figsize=(15,6))\n",
    "\n",
    "# Plot the data and configure the settings\n",
    "sns.boxplot(x='t_dur0', data=df)\n",
    "plt.ticklabel_format(style='plain', axis='x')\n",
    "plt.title(\"1st Boxplot of t_dur0\")\n",
    "plt.show()"
   ]
  },
  {
   "cell_type": "markdown",
   "metadata": {
    "id": "TlnygHHZac9Y",
    "pycharm": {
     "name": "#%% md\n"
    }
   },
   "source": [
    "We removed outliers above 1 000 000  and below 10 000."
   ]
  },
  {
   "cell_type": "code",
   "execution_count": 252,
   "metadata": {
    "id": "SRyzebmuVgI5",
    "pycharm": {
     "name": "#%%\n"
    }
   },
   "outputs": [],
   "source": [
    "df = df[(df['t_dur0'] > 10000) & (df['t_dur0'] < 1000000)]"
   ]
  },
  {
   "cell_type": "markdown",
   "metadata": {
    "id": "t8MRz5oSdKWe",
    "pycharm": {
     "name": "#%% md\n"
    }
   },
   "source": [
    "Making a 2nd boxplot to view the data we have removed.  \n"
   ]
  },
  {
   "cell_type": "code",
   "execution_count": 253,
   "metadata": {
    "colab": {
     "base_uri": "https://localhost:8080/",
     "height": 403
    },
    "id": "BU-pVAakVigT",
    "outputId": "b496bc03-115b-4074-8f46-1474ac7eec00",
    "pycharm": {
     "name": "#%%\n"
    }
   },
   "outputs": [
    {
     "data": {
      "image/png": "[encoded data removed]",
      "text/plain": [
       "<Figure size 1080x432 with 1 Axes>"
      ]
     },
     "metadata": {},
     "output_type": "display_data"
    }
   ],
   "source": [
    "#Set the size of the plot\n",
    "plt.figure(figsize=(15,6))\n",
    "\n",
    "# Plot the data and configure the settings\n",
    "sns.boxplot(x='t_dur0', data=df)\n",
    "plt.ticklabel_format(style='plain', axis='x')\n",
    "plt.title(\"2nd Boxplot of t_dur0\")\n",
    "plt.show()"
   ]
  },
  {
   "cell_type": "code",
   "execution_count": 254,
   "metadata": {
    "colab": {
     "base_uri": "https://localhost:8080/",
     "height": 403
    },
    "id": "E-7DgMXlVkeQ",
    "outputId": "3b6d9989-d9ff-45f1-be19-904611c5e054",
    "pycharm": {
     "name": "#%%\n"
    }
   },
   "outputs": [
    {
     "data": {
      "image/png": "[encoded data removed]",
      "text/plain": [
       "<Figure size 1080x432 with 1 Axes>"
      ]
     },
     "metadata": {},
     "output_type": "display_data"
    }
   ],
   "source": [
    "#Set the size of the plot\n",
    "plt.figure(figsize=(15,6))\n",
    "\n",
    "# Plot the data and configure the settings\n",
    "sns.boxplot(x='t_dur1', data=df)\n",
    "plt.ticklabel_format(style='plain', axis='x')\n",
    "plt.title(\"1st Boxplot of t_dur1\")\n",
    "plt.show()"
   ]
  },
  {
   "cell_type": "markdown",
   "metadata": {
    "id": "UjZStJnidWy4",
    "pycharm": {
     "name": "#%% md\n"
    }
   },
   "source": [
    "Checking if there are any values smaller or the same as 25 000. Reason we where checking for 25 000, was because we tried several numbers and found out that 25 000 was the number that had a few outliers, that we wanted to remove. "
   ]
  },
  {
   "cell_type": "code",
   "execution_count": 255,
   "metadata": {
    "colab": {
     "base_uri": "https://localhost:8080/",
     "height": 478
    },
    "id": "T4I8nBQWVmrG",
    "outputId": "907cdf3f-1e93-4ce9-8603-225f5517da10",
    "pycharm": {
     "name": "#%%\n"
    }
   },
   "outputs": [
    {
     "data": {
      "text/html": [
       "<div>\n",
       "<style scoped>\n",
       "    .dataframe tbody tr th:only-of-type {\n",
       "        vertical-align: middle;\n",
       "    }\n",
       "\n",
       "    .dataframe tbody tr th {\n",
       "        vertical-align: top;\n",
       "    }\n",
       "\n",
       "    .dataframe thead th {\n",
       "        text-align: right;\n",
       "    }\n",
       "</style>\n",
       "<table border=\"1\" class=\"dataframe\">\n",
       "  <thead>\n",
       "    <tr style=\"text-align: right;\">\n",
       "      <th></th>\n",
       "      <th>id</th>\n",
       "      <th>release_date</th>\n",
       "      <th>total_tracks</th>\n",
       "      <th>t_dur0</th>\n",
       "      <th>t_dur1</th>\n",
       "      <th>t_dur2</th>\n",
       "      <th>t_dance0</th>\n",
       "      <th>t_dance1</th>\n",
       "      <th>t_dance2</th>\n",
       "      <th>t_energy0</th>\n",
       "      <th>...</th>\n",
       "      <th>artists_夏之禹, FBR,</th>\n",
       "      <th>artists_安溥 anpu,</th>\n",
       "      <th>artists_屁孩 Ryan,</th>\n",
       "      <th>artists_岸県子,</th>\n",
       "      <th>artists_椿鬼奴,</th>\n",
       "      <th>artists_楊秀蘭, 歐陽謙, 史志有,</th>\n",
       "      <th>artists_水中スピカ,</th>\n",
       "      <th>artists_神前 暁,</th>\n",
       "      <th>artists_路嘉欣,</th>\n",
       "      <th>artists_박혜진 Park Hye Jin,</th>\n",
       "    </tr>\n",
       "  </thead>\n",
       "  <tbody>\n",
       "    <tr>\n",
       "      <th>725</th>\n",
       "      <td>1558</td>\n",
       "      <td>1999</td>\n",
       "      <td>20</td>\n",
       "      <td>35586</td>\n",
       "      <td>23480.0</td>\n",
       "      <td>33346.0</td>\n",
       "      <td>0.255</td>\n",
       "      <td>0.455</td>\n",
       "      <td>0.222</td>\n",
       "      <td>0.993</td>\n",
       "      <td>...</td>\n",
       "      <td>0</td>\n",
       "      <td>0</td>\n",
       "      <td>0</td>\n",
       "      <td>0</td>\n",
       "      <td>0</td>\n",
       "      <td>0</td>\n",
       "      <td>0</td>\n",
       "      <td>0</td>\n",
       "      <td>0</td>\n",
       "      <td>0</td>\n",
       "    </tr>\n",
       "    <tr>\n",
       "      <th>1441</th>\n",
       "      <td>7209</td>\n",
       "      <td>2006</td>\n",
       "      <td>18</td>\n",
       "      <td>59666</td>\n",
       "      <td>22720.0</td>\n",
       "      <td>157573.0</td>\n",
       "      <td>0.640</td>\n",
       "      <td>0.580</td>\n",
       "      <td>0.864</td>\n",
       "      <td>0.568</td>\n",
       "      <td>...</td>\n",
       "      <td>0</td>\n",
       "      <td>0</td>\n",
       "      <td>0</td>\n",
       "      <td>0</td>\n",
       "      <td>0</td>\n",
       "      <td>0</td>\n",
       "      <td>0</td>\n",
       "      <td>0</td>\n",
       "      <td>0</td>\n",
       "      <td>0</td>\n",
       "    </tr>\n",
       "    <tr>\n",
       "      <th>1707</th>\n",
       "      <td>87348</td>\n",
       "      <td>2020</td>\n",
       "      <td>7</td>\n",
       "      <td>88446</td>\n",
       "      <td>5580.0</td>\n",
       "      <td>311281.0</td>\n",
       "      <td>0.701</td>\n",
       "      <td>0.000</td>\n",
       "      <td>0.627</td>\n",
       "      <td>0.560</td>\n",
       "      <td>...</td>\n",
       "      <td>0</td>\n",
       "      <td>0</td>\n",
       "      <td>0</td>\n",
       "      <td>0</td>\n",
       "      <td>0</td>\n",
       "      <td>0</td>\n",
       "      <td>0</td>\n",
       "      <td>0</td>\n",
       "      <td>0</td>\n",
       "      <td>0</td>\n",
       "    </tr>\n",
       "    <tr>\n",
       "      <th>1887</th>\n",
       "      <td>126622</td>\n",
       "      <td>2019</td>\n",
       "      <td>44</td>\n",
       "      <td>47558</td>\n",
       "      <td>10744.0</td>\n",
       "      <td>90675.0</td>\n",
       "      <td>0.629</td>\n",
       "      <td>0.000</td>\n",
       "      <td>0.671</td>\n",
       "      <td>0.294</td>\n",
       "      <td>...</td>\n",
       "      <td>0</td>\n",
       "      <td>0</td>\n",
       "      <td>0</td>\n",
       "      <td>0</td>\n",
       "      <td>0</td>\n",
       "      <td>0</td>\n",
       "      <td>0</td>\n",
       "      <td>0</td>\n",
       "      <td>0</td>\n",
       "      <td>0</td>\n",
       "    </tr>\n",
       "  </tbody>\n",
       "</table>\n",
       "<p>4 rows × 2571 columns</p>\n",
       "</div>"
      ],
      "text/plain": [
       "          id release_date  total_tracks  t_dur0   t_dur1    t_dur2  t_dance0  \\\n",
       "725     1558         1999            20   35586  23480.0   33346.0     0.255   \n",
       "1441    7209         2006            18   59666  22720.0  157573.0     0.640   \n",
       "1707   87348         2020             7   88446   5580.0  311281.0     0.701   \n",
       "1887  126622         2019            44   47558  10744.0   90675.0     0.629   \n",
       "\n",
       "      t_dance1  t_dance2  t_energy0  ...  artists_夏之禹, FBR,   \\\n",
       "725      0.455     0.222      0.993  ...                   0   \n",
       "1441     0.580     0.864      0.568  ...                   0   \n",
       "1707     0.000     0.627      0.560  ...                   0   \n",
       "1887     0.000     0.671      0.294  ...                   0   \n",
       "\n",
       "      artists_安溥 anpu,   artists_屁孩 Ryan,   artists_岸県子,   artists_椿鬼奴,   \\\n",
       "725                   0                  0              0              0   \n",
       "1441                  0                  0              0              0   \n",
       "1707                  0                  0              0              0   \n",
       "1887                  0                  0              0              0   \n",
       "\n",
       "      artists_楊秀蘭, 歐陽謙, 史志有,   artists_水中スピカ,   artists_神前 暁,   artists_路嘉欣,   \\\n",
       "725                         0                0               0              0   \n",
       "1441                        0                0               0              0   \n",
       "1707                        0                0               0              0   \n",
       "1887                        0                0               0              0   \n",
       "\n",
       "      artists_박혜진 Park Hye Jin,   \n",
       "725                            0  \n",
       "1441                           0  \n",
       "1707                           0  \n",
       "1887                           0  \n",
       "\n",
       "[4 rows x 2571 columns]"
      ]
     },
     "execution_count": 255,
     "metadata": {},
     "output_type": "execute_result"
    }
   ],
   "source": [
    "df.loc[df['t_dur1'] <= 25000]"
   ]
  },
  {
   "cell_type": "markdown",
   "metadata": {
    "id": "PgwLU_8GeZMj",
    "pycharm": {
     "name": "#%% md\n"
    }
   },
   "source": [
    "We removed outliers above 750 000 and below 25 000, as we discussed above. "
   ]
  },
  {
   "cell_type": "code",
   "execution_count": 256,
   "metadata": {
    "id": "mP3NSBPFVpAW",
    "pycharm": {
     "name": "#%%\n"
    }
   },
   "outputs": [],
   "source": [
    "df = df[(df['t_dur1'] > 25000) & (df['t_dur1'] < 750000)]"
   ]
  },
  {
   "cell_type": "markdown",
   "metadata": {
    "id": "WIeXQWDZeqEK",
    "pycharm": {
     "name": "#%% md\n"
    }
   },
   "source": [
    "Making a 2nd boxplot to view the data we removed.  "
   ]
  },
  {
   "cell_type": "code",
   "execution_count": 257,
   "metadata": {
    "colab": {
     "base_uri": "https://localhost:8080/",
     "height": 403
    },
    "id": "CNveqMCuVrvm",
    "outputId": "dfa22b17-072a-452d-a5d8-d44d38f1d90f",
    "pycharm": {
     "name": "#%%\n"
    }
   },
   "outputs": [
    {
     "data": {
      "image/png": "[encoded data removed]",
      "text/plain": [
       "<Figure size 1080x432 with 1 Axes>"
      ]
     },
     "metadata": {},
     "output_type": "display_data"
    }
   ],
   "source": [
    "#Set the size of the plot\n",
    "plt.figure(figsize=(15,6))\n",
    "\n",
    "# Plot the data and configure the settings\n",
    "sns.boxplot(x='t_dur1', data=df)\n",
    "plt.ticklabel_format(style='plain', axis='x')\n",
    "plt.title(\"2nd Boxplot of t_dur1\")\n",
    "plt.show()"
   ]
  },
  {
   "cell_type": "code",
   "execution_count": 258,
   "metadata": {
    "colab": {
     "base_uri": "https://localhost:8080/",
     "height": 403
    },
    "id": "O1LKmjgcVthK",
    "outputId": "7554e080-2340-4d4a-89eb-0d965685e50b",
    "pycharm": {
     "name": "#%%\n"
    }
   },
   "outputs": [
    {
     "data": {
      "image/png": "[encoded data removed]",
      "text/plain": [
       "<Figure size 1080x432 with 1 Axes>"
      ]
     },
     "metadata": {},
     "output_type": "display_data"
    }
   ],
   "source": [
    "#Set the size of the plot\n",
    "plt.figure(figsize=(15,6))\n",
    "\n",
    "# Plot the data and configure the settings\n",
    "sns.boxplot(x='t_dur2', data=df)\n",
    "plt.ticklabel_format(style='plain', axis='x')\n",
    "plt.title(\"1st Boxplot of t_dur2\")\n",
    "plt.show()"
   ]
  },
  {
   "cell_type": "markdown",
   "metadata": {
    "id": "_TznZYhee2wb",
    "pycharm": {
     "name": "#%% md\n"
    }
   },
   "source": [
    "We removed outliers above 800 000 and below 20 000, as there seems to be a few values below 30 000 ms."
   ]
  },
  {
   "cell_type": "code",
   "execution_count": 259,
   "metadata": {
    "id": "w4yepfefVyS5",
    "pycharm": {
     "name": "#%%\n"
    }
   },
   "outputs": [],
   "source": [
    "df = df[(df['t_dur2'] > 20000) & (df['t_dur2'] < 800000)]"
   ]
  },
  {
   "cell_type": "markdown",
   "metadata": {
    "id": "RmhysHUze992",
    "pycharm": {
     "name": "#%% md\n"
    }
   },
   "source": [
    "Then we made a 2nd plot to see the changes, after removing outliers."
   ]
  },
  {
   "cell_type": "code",
   "execution_count": 260,
   "metadata": {
    "colab": {
     "base_uri": "https://localhost:8080/",
     "height": 403
    },
    "id": "NAX9-7klVzEI",
    "outputId": "0d2be8ed-a842-4810-c8d6-ab13e3218372",
    "pycharm": {
     "name": "#%%\n"
    }
   },
   "outputs": [
    {
     "data": {
      "image/png": "[encoded data removed]",
      "text/plain": [
       "<Figure size 1080x432 with 1 Axes>"
      ]
     },
     "metadata": {},
     "output_type": "display_data"
    }
   ],
   "source": [
    "#Set the size of the plot\n",
    "plt.figure(figsize=(15,6))\n",
    "\n",
    "# Plot the data and configure the settings\n",
    "sns.boxplot(x='t_dur2', data=df)\n",
    "plt.ticklabel_format(style='plain', axis='x')\n",
    "plt.title(\"2nd Boxplot of t_dur2\")\n",
    "plt.show()"
   ]
  },
  {
   "cell_type": "markdown",
   "metadata": {
    "id": "6GJWetMqYFsB",
    "pycharm": {
     "name": "#%% md\n"
    }
   },
   "source": [
    "Boxplot of Total Tracks"
   ]
  },
  {
   "cell_type": "code",
   "execution_count": 261,
   "metadata": {
    "colab": {
     "base_uri": "https://localhost:8080/",
     "height": 403
    },
    "id": "6BlsE_FLV2ye",
    "outputId": "1ad31ca2-4d05-4f7c-e418-66115c9a7628",
    "pycharm": {
     "name": "#%%\n"
    }
   },
   "outputs": [
    {
     "data": {
      "image/png": "[encoded data removed]",
      "text/plain": [
       "<Figure size 1080x432 with 1 Axes>"
      ]
     },
     "metadata": {},
     "output_type": "display_data"
    }
   ],
   "source": [
    "#Set the size of the plot\n",
    "plt.figure(figsize=(15,6))\n",
    "\n",
    "# Plot the data and configure the settings\n",
    "sns.boxplot(x='total_tracks', data=df)\n",
    "plt.ticklabel_format(style='plain', axis='x')\n",
    "plt.title(\"1st Boxplot of total_tracks\")\n",
    "plt.show()"
   ]
  },
  {
   "cell_type": "markdown",
   "metadata": {
    "id": "yXDLjBuofIDx",
    "pycharm": {
     "name": "#%% md\n"
    }
   },
   "source": [
    "We removed the rows with a total_tracks value over 150 and under 0. "
   ]
  },
  {
   "cell_type": "code",
   "execution_count": 262,
   "metadata": {
    "id": "Y8f4H0kxV4Xt",
    "pycharm": {
     "name": "#%%\n"
    }
   },
   "outputs": [],
   "source": [
    "df = df[(df['total_tracks'] > 0) & (df['total_tracks'] < 150)]"
   ]
  },
  {
   "cell_type": "markdown",
   "metadata": {
    "id": "T6oMtpqkfgbr",
    "pycharm": {
     "name": "#%% md\n"
    }
   },
   "source": [
    "Plotting the 2nd boxplot."
   ]
  },
  {
   "cell_type": "code",
   "execution_count": 263,
   "metadata": {
    "colab": {
     "base_uri": "https://localhost:8080/",
     "height": 403
    },
    "id": "bwmAHVv6V6YH",
    "outputId": "92c0c6f4-f8d4-416c-8835-aaa460a2bd67",
    "pycharm": {
     "name": "#%%\n"
    }
   },
   "outputs": [
    {
     "data": {
      "image/png": "[encoded data removed]",
      "text/plain": [
       "<Figure size 1080x432 with 1 Axes>"
      ]
     },
     "metadata": {},
     "output_type": "display_data"
    }
   ],
   "source": [
    "#Set the size of the plot\n",
    "plt.figure(figsize=(15,6))\n",
    "\n",
    "# Plot the data and configure the settings\n",
    "sns.boxplot(x='total_tracks', data=df)\n",
    "plt.ticklabel_format(style='plain', axis='x')\n",
    "plt.title(\"2nd Boxplot of total_tracks\")\n",
    "plt.show()"
   ]
  },
  {
   "cell_type": "markdown",
   "metadata": {
    "id": "lhQxxp1xYK6T",
    "pycharm": {
     "name": "#%% md\n"
    }
   },
   "source": [
    "Boxplot of Track Tempo"
   ]
  },
  {
   "cell_type": "code",
   "execution_count": 264,
   "metadata": {
    "colab": {
     "base_uri": "https://localhost:8080/",
     "height": 403
    },
    "id": "jK8ZnqQCV8ev",
    "outputId": "6874926d-d391-47e9-c362-c6a30837796f",
    "pycharm": {
     "name": "#%%\n"
    }
   },
   "outputs": [
    {
     "data": {
      "image/png": "[encoded data removed]",
      "text/plain": [
       "<Figure size 1080x432 with 1 Axes>"
      ]
     },
     "metadata": {},
     "output_type": "display_data"
    }
   ],
   "source": [
    "#Set the size of the plot\n",
    "plt.figure(figsize=(15,6))\n",
    "\n",
    "# Plot the data and configure the settings\n",
    "sns.boxplot(x='t_tempo0', data=df)\n",
    "plt.ticklabel_format(style='plain', axis='x')\n",
    "plt.title(\"1st Boxplot of t_tempo0\")\n",
    "plt.show()"
   ]
  },
  {
   "cell_type": "markdown",
   "metadata": {
    "id": "_X9Ry7gtfqyf",
    "pycharm": {
     "name": "#%% md\n"
    }
   },
   "source": [
    "Removing outliers under 0 and over 250. "
   ]
  },
  {
   "cell_type": "code",
   "execution_count": 265,
   "metadata": {
    "id": "LvrDKF7KV_6j",
    "pycharm": {
     "name": "#%%\n"
    }
   },
   "outputs": [],
   "source": [
    "df = df[(df['t_tempo0'] > 0) & (df['t_tempo0'] < 250)]"
   ]
  },
  {
   "cell_type": "markdown",
   "metadata": {
    "id": "SGMZH_emfyJC",
    "pycharm": {
     "name": "#%% md\n"
    }
   },
   "source": [
    "The 2nd Boxplot."
   ]
  },
  {
   "cell_type": "code",
   "execution_count": 266,
   "metadata": {
    "colab": {
     "base_uri": "https://localhost:8080/",
     "height": 403
    },
    "id": "2AMhdpoTWAm2",
    "outputId": "0251f4eb-1f8a-4862-f7b2-164344437f9e",
    "pycharm": {
     "name": "#%%\n"
    }
   },
   "outputs": [
    {
     "data": {
      "image/png": "[encoded data removed]",
      "text/plain": [
       "<Figure size 1080x432 with 1 Axes>"
      ]
     },
     "metadata": {},
     "output_type": "display_data"
    }
   ],
   "source": [
    "#Set the size of the plot\n",
    "plt.figure(figsize=(15,6))\n",
    "\n",
    "# Plot the data and configure the settings\n",
    "sns.boxplot(x='t_tempo0', data=df)\n",
    "plt.ticklabel_format(style='plain', axis='x')\n",
    "plt.title(\"2nd Boxplot of t_tempo0\")\n",
    "plt.show()"
   ]
  },
  {
   "cell_type": "code",
   "execution_count": 267,
   "metadata": {
    "colab": {
     "base_uri": "https://localhost:8080/",
     "height": 403
    },
    "id": "o9mscCa3WCR1",
    "outputId": "bff10b03-4d1b-4f91-aade-88b7f0aa3777",
    "pycharm": {
     "name": "#%%\n"
    }
   },
   "outputs": [
    {
     "data": {
      "image/png": "[encoded data removed]",
      "text/plain": [
       "<Figure size 1080x432 with 1 Axes>"
      ]
     },
     "metadata": {},
     "output_type": "display_data"
    }
   ],
   "source": [
    "#Set the size of the plot\n",
    "plt.figure(figsize=(15,6))\n",
    "\n",
    "# Plot the data and configure the settings\n",
    "sns.boxplot(x='t_tempo1', data=df)\n",
    "plt.ticklabel_format(style='plain', axis='x')\n",
    "plt.title(\"1st Boxplot of t_tempo1\")\n",
    "plt.show()"
   ]
  },
  {
   "cell_type": "markdown",
   "metadata": {
    "id": "RHj5DasYf5A5",
    "pycharm": {
     "name": "#%% md\n"
    }
   },
   "source": [
    "Removing same values as tempo0. Everything under 0 and over 250."
   ]
  },
  {
   "cell_type": "code",
   "execution_count": 268,
   "metadata": {
    "id": "u_Aad0A-WFuN",
    "pycharm": {
     "name": "#%%\n"
    }
   },
   "outputs": [],
   "source": [
    "df = df[(df['t_tempo1'] > 0) & (df['t_tempo1'] < 250)]"
   ]
  },
  {
   "cell_type": "markdown",
   "metadata": {
    "id": "zz0ycft2f_p1",
    "pycharm": {
     "name": "#%% md\n"
    }
   },
   "source": [
    "The 2nd Boxplot"
   ]
  },
  {
   "cell_type": "code",
   "execution_count": 269,
   "metadata": {
    "colab": {
     "base_uri": "https://localhost:8080/",
     "height": 403
    },
    "id": "fggz4OAoWH37",
    "outputId": "53bdfa06-84f2-4de9-e389-2b06cf4d7004",
    "pycharm": {
     "name": "#%%\n"
    }
   },
   "outputs": [
    {
     "data": {
      "image/png": "[encoded data removed]",
      "text/plain": [
       "<Figure size 1080x432 with 1 Axes>"
      ]
     },
     "metadata": {},
     "output_type": "display_data"
    }
   ],
   "source": [
    "#Set the size of the plot\n",
    "plt.figure(figsize=(15,6))\n",
    "\n",
    "# Plot the data and configure the settings\n",
    "sns.boxplot(x='t_tempo1', data=df)\n",
    "plt.ticklabel_format(style='plain', axis='x')\n",
    "plt.title(\"2nd Boxplot of t_tempo1\")\n",
    "plt.show()"
   ]
  },
  {
   "cell_type": "code",
   "execution_count": 270,
   "metadata": {
    "colab": {
     "base_uri": "https://localhost:8080/",
     "height": 403
    },
    "id": "iSKY5M5wWJ7K",
    "outputId": "e56407e1-fe67-48cc-8f48-42edcdbadb93",
    "pycharm": {
     "name": "#%%\n"
    }
   },
   "outputs": [
    {
     "data": {
      "image/png": "[encoded data removed]",
      "text/plain": [
       "<Figure size 1080x432 with 1 Axes>"
      ]
     },
     "metadata": {},
     "output_type": "display_data"
    }
   ],
   "source": [
    "#Set the size of the plot\n",
    "plt.figure(figsize=(15,6))\n",
    "\n",
    "# Plot the data and configure the settings\n",
    "sns.boxplot(x='t_tempo2', data=df)\n",
    "plt.ticklabel_format(style='plain', axis='x')\n",
    "plt.title(\"1st Boxplot of t_tempo2\")\n",
    "plt.show()"
   ]
  },
  {
   "cell_type": "markdown",
   "metadata": {
    "id": "H-xTHtFwgDS-",
    "pycharm": {
     "name": "#%% md\n"
    }
   },
   "source": [
    "We are removing the same values as above, because the values had almost the same layout. And needed to be cleaned. "
   ]
  },
  {
   "cell_type": "code",
   "execution_count": 271,
   "metadata": {
    "id": "9GIoeVSPWMEr",
    "pycharm": {
     "name": "#%%\n"
    }
   },
   "outputs": [],
   "source": [
    "df = df[(df['t_tempo2'] > 0) & (df['t_tempo2'] < 250)]"
   ]
  },
  {
   "cell_type": "markdown",
   "metadata": {
    "id": "G7802MfYgSJc",
    "pycharm": {
     "name": "#%% md\n"
    }
   },
   "source": [
    "Boxplot 2."
   ]
  },
  {
   "cell_type": "code",
   "execution_count": 272,
   "metadata": {
    "colab": {
     "base_uri": "https://localhost:8080/",
     "height": 403
    },
    "id": "Ah9e68W0WOQW",
    "outputId": "d2b30fef-a534-4a65-d783-8fb91426dedc",
    "pycharm": {
     "name": "#%%\n"
    }
   },
   "outputs": [
    {
     "data": {
      "image/png": "[encoded data removed]",
      "text/plain": [
       "<Figure size 1080x432 with 1 Axes>"
      ]
     },
     "metadata": {},
     "output_type": "display_data"
    }
   ],
   "source": [
    "#Set the size of the plot\n",
    "plt.figure(figsize=(15,6))\n",
    "\n",
    "# Plot the data and configure the settings\n",
    "sns.boxplot(x='t_tempo2', data=df)\n",
    "plt.ticklabel_format(style='plain', axis='x')\n",
    "plt.title(\"2nd Boxplot of t_tempo2\")\n",
    "plt.show()"
   ]
  },
  {
   "cell_type": "markdown",
   "metadata": {
    "id": "RCEWrMtMYSN1",
    "pycharm": {
     "name": "#%% md\n"
    }
   },
   "source": [
    "Boxplot of Release Date"
   ]
  },
  {
   "cell_type": "markdown",
   "metadata": {
    "id": "N1F47gIagV1G",
    "pycharm": {
     "name": "#%% md\n"
    }
   },
   "source": [
    "First we had some trouble running the Boxplot of release_date. Therefore, we had to change the type from object to integer because of the Error message: TypeError: Horizontal orientation requires numeric \"x\" variable. "
   ]
  },
  {
   "cell_type": "code",
   "execution_count": 273,
   "metadata": {
    "id": "FvptGQKpWp6j",
    "pycharm": {
     "name": "#%%\n"
    }
   },
   "outputs": [],
   "source": [
    "df['release_date'] = df['release_date'].astype('int64')"
   ]
  },
  {
   "cell_type": "code",
   "execution_count": 274,
   "metadata": {
    "colab": {
     "base_uri": "https://localhost:8080/",
     "height": 403
    },
    "id": "f8LTAkuQWOXB",
    "outputId": "419f8dfe-eff1-4865-871b-64c17710dbf2",
    "pycharm": {
     "name": "#%%\n"
    }
   },
   "outputs": [
    {
     "data": {
      "image/png": "[encoded data removed]",
      "text/plain": [
       "<Figure size 1080x432 with 1 Axes>"
      ]
     },
     "metadata": {},
     "output_type": "display_data"
    }
   ],
   "source": [
    "#Set the size of the plot\n",
    "plt.figure(figsize=(15,6))\n",
    "\n",
    "# Plot the data and configure the settings\n",
    "sns.boxplot(x='release_date', data=df)\n",
    "plt.ticklabel_format(style='plain', axis='x')\n",
    "plt.title(\"1st Boxplot of release_date\")\n",
    "plt.show()"
   ]
  },
  {
   "cell_type": "markdown",
   "metadata": {
    "id": "kcQPYjuEiXRW",
    "pycharm": {
     "name": "#%% md\n"
    }
   },
   "source": [
    "Removing outliers of release date under 1800 and over 2022."
   ]
  },
  {
   "cell_type": "code",
   "execution_count": 275,
   "metadata": {
    "id": "A4_WkVKyWRsT",
    "pycharm": {
     "name": "#%%\n"
    }
   },
   "outputs": [],
   "source": [
    "df = df[(df['release_date'] > 1800) & (df['release_date'] < 2022)]"
   ]
  },
  {
   "cell_type": "markdown",
   "metadata": {
    "id": "G-8BudhdijgF",
    "pycharm": {
     "name": "#%% md\n"
    }
   },
   "source": [
    "2nd Boxplot"
   ]
  },
  {
   "cell_type": "code",
   "execution_count": 276,
   "metadata": {
    "colab": {
     "base_uri": "https://localhost:8080/",
     "height": 403
    },
    "id": "8fotLYHeWVqv",
    "outputId": "73a84ea0-554d-4da8-f7cc-3901723a1d4c",
    "pycharm": {
     "name": "#%%\n"
    }
   },
   "outputs": [
    {
     "data": {
      "image/png": "[encoded data removed]",
      "text/plain": [
       "<Figure size 1080x432 with 1 Axes>"
      ]
     },
     "metadata": {},
     "output_type": "display_data"
    }
   ],
   "source": [
    "#Set the size of the plot\n",
    "plt.figure(figsize=(15,6))\n",
    "\n",
    "# Plot the data and configure the settings\n",
    "sns.boxplot(x='release_date', data=df)\n",
    "plt.ticklabel_format(style='plain', axis='x')\n",
    "plt.title(\"2nd Boxplot of release_date\")\n",
    "plt.show()"
   ]
  },
  {
   "cell_type": "markdown",
   "metadata": {
    "id": "wlybHt-7cXEi",
    "pycharm": {
     "name": "#%% md\n"
    }
   },
   "source": [
    "### **2** Visualizing the data we are working with\n",
    "**2.1** Correlation plot\n",
    "\n",
    "Visualizing the correlation matrix, coloring the background according to the correlation coefficients between variables. The heatmap is showing us how the different features correlate. It helps us to find patterns and gives us a perspective of depth (Pydata, 2022)."
   ]
  },
  {
   "cell_type": "code",
   "execution_count": 277,
   "metadata": {
    "colab": {
     "base_uri": "https://localhost:8080/",
     "height": 1000
    },
    "id": "YwSl929CcXEi",
    "outputId": "fe01979b-2663-4983-8c6e-661f90872936",
    "pycharm": {
     "name": "#%%\n"
    }
   },
   "outputs": [
    {
     "data": {
      "text/html": [
       "<style type=\"text/css\">\n",
       "#T_bb9b6_row0_col0, #T_bb9b6_row1_col1, #T_bb9b6_row2_col2, #T_bb9b6_row3_col3, #T_bb9b6_row4_col4, #T_bb9b6_row5_col5, #T_bb9b6_row6_col6, #T_bb9b6_row7_col7, #T_bb9b6_row8_col8, #T_bb9b6_row9_col9, #T_bb9b6_row10_col10, #T_bb9b6_row11_col11, #T_bb9b6_row12_col12, #T_bb9b6_row13_col13, #T_bb9b6_row14_col14, #T_bb9b6_row15_col15, #T_bb9b6_row16_col16, #T_bb9b6_row17_col17, #T_bb9b6_row18_col18, #T_bb9b6_row19_col19, #T_bb9b6_row20_col20, #T_bb9b6_row21_col21, #T_bb9b6_row22_col22, #T_bb9b6_row23_col23, #T_bb9b6_row24_col24, #T_bb9b6_row25_col25, #T_bb9b6_row26_col26, #T_bb9b6_row27_col27, #T_bb9b6_row28_col28, #T_bb9b6_row29_col29, #T_bb9b6_row30_col30, #T_bb9b6_row31_col31, #T_bb9b6_row32_col32, #T_bb9b6_row33_col33, #T_bb9b6_row34_col34, #T_bb9b6_row35_col35, #T_bb9b6_row36_col36, #T_bb9b6_row37_col37, #T_bb9b6_row38_col38 {\n",
       "  background-color: #b40426;\n",
       "  color: #f1f1f1;\n",
       "}\n",
       "#T_bb9b6_row0_col1, #T_bb9b6_row1_col0, #T_bb9b6_row2_col33, #T_bb9b6_row2_col34, #T_bb9b6_row2_col37, #T_bb9b6_row8_col16, #T_bb9b6_row11_col20, #T_bb9b6_row11_col22, #T_bb9b6_row12_col16, #T_bb9b6_row12_col37, #T_bb9b6_row16_col8, #T_bb9b6_row16_col12, #T_bb9b6_row16_col25, #T_bb9b6_row19_col35, #T_bb9b6_row20_col11, #T_bb9b6_row20_col28, #T_bb9b6_row22_col11, #T_bb9b6_row25_col16, #T_bb9b6_row25_col34, #T_bb9b6_row26_col32, #T_bb9b6_row26_col36, #T_bb9b6_row27_col37, #T_bb9b6_row28_col20, #T_bb9b6_row32_col26, #T_bb9b6_row33_col2, #T_bb9b6_row34_col2, #T_bb9b6_row34_col25, #T_bb9b6_row35_col19, #T_bb9b6_row36_col26, #T_bb9b6_row36_col38, #T_bb9b6_row37_col2, #T_bb9b6_row37_col12, #T_bb9b6_row37_col27, #T_bb9b6_row38_col36 {\n",
       "  background-color: #bad0f8;\n",
       "  color: #000000;\n",
       "}\n",
       "#T_bb9b6_row0_col2, #T_bb9b6_row0_col11, #T_bb9b6_row0_col17, #T_bb9b6_row0_col18, #T_bb9b6_row0_col27, #T_bb9b6_row0_col29, #T_bb9b6_row1_col11, #T_bb9b6_row1_col12, #T_bb9b6_row1_col27, #T_bb9b6_row2_col0, #T_bb9b6_row2_col13, #T_bb9b6_row2_col28, #T_bb9b6_row2_col32, #T_bb9b6_row4_col20, #T_bb9b6_row4_col28, #T_bb9b6_row4_col35, #T_bb9b6_row4_col37, #T_bb9b6_row8_col11, #T_bb9b6_row8_col13, #T_bb9b6_row8_col17, #T_bb9b6_row11_col0, #T_bb9b6_row11_col1, #T_bb9b6_row11_col8, #T_bb9b6_row12_col1, #T_bb9b6_row12_col18, #T_bb9b6_row12_col19, #T_bb9b6_row13_col2, #T_bb9b6_row13_col8, #T_bb9b6_row13_col15, #T_bb9b6_row13_col21, #T_bb9b6_row13_col28, #T_bb9b6_row13_col35, #T_bb9b6_row14_col28, #T_bb9b6_row14_col29, #T_bb9b6_row14_col34, #T_bb9b6_row15_col13, #T_bb9b6_row15_col28, #T_bb9b6_row16_col26, #T_bb9b6_row16_col34, #T_bb9b6_row17_col0, #T_bb9b6_row17_col8, #T_bb9b6_row18_col0, #T_bb9b6_row18_col12, #T_bb9b6_row19_col12, #T_bb9b6_row19_col29, #T_bb9b6_row20_col4, #T_bb9b6_row21_col13, #T_bb9b6_row26_col16, #T_bb9b6_row27_col0, #T_bb9b6_row27_col1, #T_bb9b6_row28_col2, #T_bb9b6_row28_col4, #T_bb9b6_row28_col13, #T_bb9b6_row28_col14, #T_bb9b6_row28_col15, #T_bb9b6_row28_col31, #T_bb9b6_row28_col34, #T_bb9b6_row29_col0, #T_bb9b6_row29_col14, #T_bb9b6_row29_col19, #T_bb9b6_row31_col28, #T_bb9b6_row32_col2, #T_bb9b6_row34_col14, #T_bb9b6_row34_col16, #T_bb9b6_row34_col28, #T_bb9b6_row35_col4, #T_bb9b6_row35_col13, #T_bb9b6_row37_col4 {\n",
       "  background-color: #c1d4f4;\n",
       "  color: #000000;\n",
       "}\n",
       "#T_bb9b6_row0_col3, #T_bb9b6_row0_col31, #T_bb9b6_row2_col12, #T_bb9b6_row3_col0, #T_bb9b6_row3_col12, #T_bb9b6_row3_col20, #T_bb9b6_row4_col21, #T_bb9b6_row10_col12, #T_bb9b6_row10_col13, #T_bb9b6_row11_col12, #T_bb9b6_row11_col35, #T_bb9b6_row12_col2, #T_bb9b6_row12_col3, #T_bb9b6_row12_col10, #T_bb9b6_row12_col11, #T_bb9b6_row13_col10, #T_bb9b6_row13_col37, #T_bb9b6_row15_col21, #T_bb9b6_row15_col26, #T_bb9b6_row15_col33, #T_bb9b6_row17_col30, #T_bb9b6_row20_col3, #T_bb9b6_row21_col4, #T_bb9b6_row21_col15, #T_bb9b6_row26_col15, #T_bb9b6_row29_col34, #T_bb9b6_row30_col17, #T_bb9b6_row30_col35, #T_bb9b6_row31_col0, #T_bb9b6_row33_col15, #T_bb9b6_row34_col29, #T_bb9b6_row34_col35, #T_bb9b6_row35_col11, #T_bb9b6_row35_col30, #T_bb9b6_row35_col34, #T_bb9b6_row37_col13 {\n",
       "  background-color: #c6d6f1;\n",
       "  color: #000000;\n",
       "}\n",
       "#T_bb9b6_row0_col4, #T_bb9b6_row1_col23, #T_bb9b6_row1_col24, #T_bb9b6_row2_col27, #T_bb9b6_row4_col0, #T_bb9b6_row4_col27, #T_bb9b6_row5_col11, #T_bb9b6_row5_col13, #T_bb9b6_row7_col11, #T_bb9b6_row7_col13, #T_bb9b6_row8_col12, #T_bb9b6_row10_col11, #T_bb9b6_row11_col5, #T_bb9b6_row11_col7, #T_bb9b6_row11_col10, #T_bb9b6_row12_col8, #T_bb9b6_row12_col14, #T_bb9b6_row12_col36, #T_bb9b6_row13_col5, #T_bb9b6_row13_col7, #T_bb9b6_row14_col12, #T_bb9b6_row14_col30, #T_bb9b6_row14_col38, #T_bb9b6_row15_col29, #T_bb9b6_row17_col36, #T_bb9b6_row18_col31, #T_bb9b6_row23_col1, #T_bb9b6_row24_col1, #T_bb9b6_row27_col2, #T_bb9b6_row27_col4, #T_bb9b6_row27_col34, #T_bb9b6_row29_col15, #T_bb9b6_row30_col14, #T_bb9b6_row31_col18, #T_bb9b6_row32_col37, #T_bb9b6_row34_col27, #T_bb9b6_row34_col37, #T_bb9b6_row36_col12, #T_bb9b6_row36_col17, #T_bb9b6_row37_col32, #T_bb9b6_row37_col34, #T_bb9b6_row38_col14 {\n",
       "  background-color: #c5d6f2;\n",
       "  color: #000000;\n",
       "}\n",
       "#T_bb9b6_row0_col5, #T_bb9b6_row0_col14, #T_bb9b6_row3_col8, #T_bb9b6_row3_col9, #T_bb9b6_row3_col11, #T_bb9b6_row4_col11, #T_bb9b6_row5_col0, #T_bb9b6_row8_col3, #T_bb9b6_row8_col19, #T_bb9b6_row9_col3, #T_bb9b6_row11_col3, #T_bb9b6_row11_col4, #T_bb9b6_row11_col15, #T_bb9b6_row12_col17, #T_bb9b6_row12_col22, #T_bb9b6_row12_col26, #T_bb9b6_row12_col27, #T_bb9b6_row13_col34, #T_bb9b6_row14_col0, #T_bb9b6_row14_col17, #T_bb9b6_row14_col35, #T_bb9b6_row15_col11, #T_bb9b6_row15_col30, #T_bb9b6_row16_col24, #T_bb9b6_row16_col32, #T_bb9b6_row16_col35, #T_bb9b6_row17_col12, #T_bb9b6_row17_col14, #T_bb9b6_row18_col20, #T_bb9b6_row19_col8, #T_bb9b6_row20_col18, #T_bb9b6_row22_col12, #T_bb9b6_row24_col16, #T_bb9b6_row26_col12, #T_bb9b6_row27_col12, #T_bb9b6_row27_col32, #T_bb9b6_row27_col36, #T_bb9b6_row30_col15, #T_bb9b6_row32_col16, #T_bb9b6_row32_col27, #T_bb9b6_row34_col13, #T_bb9b6_row35_col14, #T_bb9b6_row35_col16, #T_bb9b6_row36_col27 {\n",
       "  background-color: #bbd1f8;\n",
       "  color: #000000;\n",
       "}\n",
       "#T_bb9b6_row0_col6, #T_bb9b6_row0_col9, #T_bb9b6_row0_col10, #T_bb9b6_row0_col13, #T_bb9b6_row0_col32, #T_bb9b6_row0_col36, #T_bb9b6_row1_col15, #T_bb9b6_row2_col8, #T_bb9b6_row2_col15, #T_bb9b6_row3_col16, #T_bb9b6_row4_col16, #T_bb9b6_row4_col32, #T_bb9b6_row5_col38, #T_bb9b6_row6_col0, #T_bb9b6_row6_col11, #T_bb9b6_row8_col2, #T_bb9b6_row8_col18, #T_bb9b6_row9_col0, #T_bb9b6_row9_col13, #T_bb9b6_row10_col0, #T_bb9b6_row11_col6, #T_bb9b6_row11_col18, #T_bb9b6_row11_col36, #T_bb9b6_row12_col21, #T_bb9b6_row12_col25, #T_bb9b6_row13_col0, #T_bb9b6_row13_col9, #T_bb9b6_row13_col14, #T_bb9b6_row13_col24, #T_bb9b6_row13_col36, #T_bb9b6_row14_col13, #T_bb9b6_row14_col19, #T_bb9b6_row14_col25, #T_bb9b6_row15_col1, #T_bb9b6_row15_col2, #T_bb9b6_row15_col32, #T_bb9b6_row16_col3, #T_bb9b6_row16_col4, #T_bb9b6_row17_col20, #T_bb9b6_row17_col32, #T_bb9b6_row17_col35, #T_bb9b6_row18_col8, #T_bb9b6_row18_col11, #T_bb9b6_row18_col34, #T_bb9b6_row19_col14, #T_bb9b6_row20_col17, #T_bb9b6_row21_col12, #T_bb9b6_row24_col13, #T_bb9b6_row25_col12, #T_bb9b6_row25_col14, #T_bb9b6_row26_col29, #T_bb9b6_row27_col31, #T_bb9b6_row27_col38, #T_bb9b6_row28_col38, #T_bb9b6_row29_col26, #T_bb9b6_row31_col27, #T_bb9b6_row32_col0, #T_bb9b6_row32_col4, #T_bb9b6_row32_col15, #T_bb9b6_row32_col17, #T_bb9b6_row34_col18, #T_bb9b6_row35_col17, #T_bb9b6_row35_col38, #T_bb9b6_row36_col0, #T_bb9b6_row36_col11, #T_bb9b6_row36_col13, #T_bb9b6_row38_col5, #T_bb9b6_row38_col27, #T_bb9b6_row38_col28, #T_bb9b6_row38_col35 {\n",
       "  background-color: #bfd3f6;\n",
       "  color: #000000;\n",
       "}\n",
       "#T_bb9b6_row0_col7, #T_bb9b6_row0_col33, #T_bb9b6_row0_col34, #T_bb9b6_row1_col16, #T_bb9b6_row1_col37, #T_bb9b6_row2_col11, #T_bb9b6_row2_col20, #T_bb9b6_row3_col15, #T_bb9b6_row3_col36, #T_bb9b6_row3_col37, #T_bb9b6_row4_col26, #T_bb9b6_row4_col36, #T_bb9b6_row6_col13, #T_bb9b6_row7_col0, #T_bb9b6_row7_col34, #T_bb9b6_row11_col2, #T_bb9b6_row11_col19, #T_bb9b6_row11_col34, #T_bb9b6_row12_col33, #T_bb9b6_row12_col35, #T_bb9b6_row13_col6, #T_bb9b6_row13_col17, #T_bb9b6_row13_col19, #T_bb9b6_row13_col23, #T_bb9b6_row13_col25, #T_bb9b6_row14_col23, #T_bb9b6_row14_col32, #T_bb9b6_row15_col3, #T_bb9b6_row15_col23, #T_bb9b6_row15_col35, #T_bb9b6_row16_col1, #T_bb9b6_row16_col33, #T_bb9b6_row17_col13, #T_bb9b6_row17_col34, #T_bb9b6_row19_col11, #T_bb9b6_row19_col13, #T_bb9b6_row19_col30, #T_bb9b6_row19_col36, #T_bb9b6_row20_col2, #T_bb9b6_row23_col13, #T_bb9b6_row23_col14, #T_bb9b6_row23_col15, #T_bb9b6_row25_col13, #T_bb9b6_row26_col4, #T_bb9b6_row26_col31, #T_bb9b6_row27_col29, #T_bb9b6_row28_col35, #T_bb9b6_row29_col27, #T_bb9b6_row30_col19, #T_bb9b6_row31_col26, #T_bb9b6_row32_col14, #T_bb9b6_row33_col0, #T_bb9b6_row33_col12, #T_bb9b6_row33_col16, #T_bb9b6_row34_col0, #T_bb9b6_row34_col7, #T_bb9b6_row34_col11, #T_bb9b6_row34_col17, #T_bb9b6_row34_col38, #T_bb9b6_row35_col12, #T_bb9b6_row35_col15, #T_bb9b6_row35_col28, #T_bb9b6_row36_col3, #T_bb9b6_row36_col4, #T_bb9b6_row36_col19, #T_bb9b6_row37_col1, #T_bb9b6_row37_col3, #T_bb9b6_row38_col34 {\n",
       "  background-color: #c0d4f5;\n",
       "  color: #000000;\n",
       "}\n",
       "#T_bb9b6_row0_col8, #T_bb9b6_row0_col16, #T_bb9b6_row0_col28, #T_bb9b6_row1_col4, #T_bb9b6_row1_col34, #T_bb9b6_row2_col26, #T_bb9b6_row3_col10, #T_bb9b6_row4_col1, #T_bb9b6_row4_col8, #T_bb9b6_row8_col0, #T_bb9b6_row8_col4, #T_bb9b6_row10_col3, #T_bb9b6_row11_col21, #T_bb9b6_row11_col32, #T_bb9b6_row11_col37, #T_bb9b6_row12_col28, #T_bb9b6_row12_col32, #T_bb9b6_row14_col24, #T_bb9b6_row15_col36, #T_bb9b6_row16_col0, #T_bb9b6_row16_col17, #T_bb9b6_row16_col19, #T_bb9b6_row16_col23, #T_bb9b6_row16_col31, #T_bb9b6_row17_col16, #T_bb9b6_row17_col33, #T_bb9b6_row19_col16, #T_bb9b6_row19_col20, #T_bb9b6_row20_col19, #T_bb9b6_row21_col11, #T_bb9b6_row23_col16, #T_bb9b6_row24_col14, #T_bb9b6_row26_col2, #T_bb9b6_row26_col37, #T_bb9b6_row27_col30, #T_bb9b6_row28_col0, #T_bb9b6_row28_col12, #T_bb9b6_row28_col29, #T_bb9b6_row28_col30, #T_bb9b6_row28_col33, #T_bb9b6_row29_col28, #T_bb9b6_row30_col27, #T_bb9b6_row30_col28, #T_bb9b6_row31_col16, #T_bb9b6_row32_col11, #T_bb9b6_row32_col12, #T_bb9b6_row33_col17, #T_bb9b6_row33_col28, #T_bb9b6_row34_col1, #T_bb9b6_row36_col15, #T_bb9b6_row37_col11, #T_bb9b6_row37_col26 {\n",
       "  background-color: #bcd2f7;\n",
       "  color: #000000;\n",
       "}\n",
       "#T_bb9b6_row0_col12, #T_bb9b6_row0_col30, #T_bb9b6_row0_col37, #T_bb9b6_row1_col13, #T_bb9b6_row1_col25, #T_bb9b6_row1_col30, #T_bb9b6_row1_col32, #T_bb9b6_row3_col26, #T_bb9b6_row7_col12, #T_bb9b6_row9_col12, #T_bb9b6_row11_col28, #T_bb9b6_row11_col33, #T_bb9b6_row11_col38, #T_bb9b6_row12_col0, #T_bb9b6_row12_col7, #T_bb9b6_row12_col9, #T_bb9b6_row12_col29, #T_bb9b6_row13_col1, #T_bb9b6_row13_col22, #T_bb9b6_row13_col31, #T_bb9b6_row13_col38, #T_bb9b6_row14_col26, #T_bb9b6_row14_col27, #T_bb9b6_row14_col31, #T_bb9b6_row16_col27, #T_bb9b6_row16_col29, #T_bb9b6_row16_col38, #T_bb9b6_row18_col29, #T_bb9b6_row18_col33, #T_bb9b6_row18_col36, #T_bb9b6_row22_col13, #T_bb9b6_row25_col1, #T_bb9b6_row26_col3, #T_bb9b6_row26_col14, #T_bb9b6_row26_col34, #T_bb9b6_row27_col14, #T_bb9b6_row27_col16, #T_bb9b6_row28_col11, #T_bb9b6_row29_col12, #T_bb9b6_row29_col16, #T_bb9b6_row29_col18, #T_bb9b6_row29_col38, #T_bb9b6_row30_col0, #T_bb9b6_row30_col1, #T_bb9b6_row30_col34, #T_bb9b6_row31_col13, #T_bb9b6_row31_col14, #T_bb9b6_row32_col1, #T_bb9b6_row32_col38, #T_bb9b6_row33_col11, #T_bb9b6_row33_col18, #T_bb9b6_row34_col26, #T_bb9b6_row34_col30, #T_bb9b6_row36_col18, #T_bb9b6_row37_col0, #T_bb9b6_row38_col11, #T_bb9b6_row38_col13, #T_bb9b6_row38_col16, #T_bb9b6_row38_col29, #T_bb9b6_row38_col32 {\n",
       "  background-color: #c3d5f4;\n",
       "  color: #000000;\n",
       "}\n",
       "#T_bb9b6_row0_col15, #T_bb9b6_row1_col14, #T_bb9b6_row2_col16, #T_bb9b6_row3_col32, #T_bb9b6_row3_col33, #T_bb9b6_row4_col9, #T_bb9b6_row4_col10, #T_bb9b6_row4_col15, #T_bb9b6_row4_col33, #T_bb9b6_row5_col12, #T_bb9b6_row6_col33, #T_bb9b6_row9_col4, #T_bb9b6_row10_col4, #T_bb9b6_row12_col5, #T_bb9b6_row12_col20, #T_bb9b6_row12_col23, #T_bb9b6_row12_col24, #T_bb9b6_row12_col34, #T_bb9b6_row13_col18, #T_bb9b6_row13_col26, #T_bb9b6_row13_col32, #T_bb9b6_row13_col33, #T_bb9b6_row14_col1, #T_bb9b6_row14_col18, #T_bb9b6_row14_col37, #T_bb9b6_row15_col0, #T_bb9b6_row15_col4, #T_bb9b6_row15_col24, #T_bb9b6_row15_col25, #T_bb9b6_row15_col31, #T_bb9b6_row16_col2, #T_bb9b6_row18_col13, #T_bb9b6_row18_col14, #T_bb9b6_row20_col12, #T_bb9b6_row23_col12, #T_bb9b6_row24_col12, #T_bb9b6_row24_col15, #T_bb9b6_row25_col15, #T_bb9b6_row26_col13, #T_bb9b6_row26_col30, #T_bb9b6_row26_col33, #T_bb9b6_row26_col38, #T_bb9b6_row27_col35, #T_bb9b6_row30_col26, #T_bb9b6_row31_col15, #T_bb9b6_row32_col3, #T_bb9b6_row32_col13, #T_bb9b6_row33_col3, #T_bb9b6_row33_col4, #T_bb9b6_row33_col6, #T_bb9b6_row33_col13, #T_bb9b6_row33_col26, #T_bb9b6_row33_col38, #T_bb9b6_row34_col12, #T_bb9b6_row35_col27, #T_bb9b6_row37_col14, #T_bb9b6_row37_col38, #T_bb9b6_row38_col26, #T_bb9b6_row38_col33, #T_bb9b6_row38_col37 {\n",
       "  background-color: #bed2f6;\n",
       "  color: #000000;\n",
       "}\n",
       "#T_bb9b6_row0_col19, #T_bb9b6_row0_col21, #T_bb9b6_row0_col26, #T_bb9b6_row1_col3, #T_bb9b6_row1_col29, #T_bb9b6_row1_col31, #T_bb9b6_row3_col1, #T_bb9b6_row3_col13, #T_bb9b6_row3_col27, #T_bb9b6_row3_col28, #T_bb9b6_row3_col35, #T_bb9b6_row4_col12, #T_bb9b6_row4_col13, #T_bb9b6_row4_col22, #T_bb9b6_row6_col12, #T_bb9b6_row6_col38, #T_bb9b6_row12_col4, #T_bb9b6_row12_col6, #T_bb9b6_row13_col3, #T_bb9b6_row13_col4, #T_bb9b6_row13_col20, #T_bb9b6_row13_col29, #T_bb9b6_row13_col30, #T_bb9b6_row15_col20, #T_bb9b6_row15_col27, #T_bb9b6_row15_col34, #T_bb9b6_row16_col28, #T_bb9b6_row16_col30, #T_bb9b6_row19_col0, #T_bb9b6_row20_col13, #T_bb9b6_row20_col15, #T_bb9b6_row21_col0, #T_bb9b6_row22_col4, #T_bb9b6_row26_col0, #T_bb9b6_row27_col3, #T_bb9b6_row27_col15, #T_bb9b6_row27_col33, #T_bb9b6_row28_col3, #T_bb9b6_row28_col16, #T_bb9b6_row29_col1, #T_bb9b6_row29_col13, #T_bb9b6_row30_col13, #T_bb9b6_row30_col16, #T_bb9b6_row31_col1, #T_bb9b6_row33_col27, #T_bb9b6_row34_col15, #T_bb9b6_row35_col3, #T_bb9b6_row38_col6 {\n",
       "  background-color: #c4d5f3;\n",
       "  color: #000000;\n",
       "}\n",
       "#T_bb9b6_row0_col20, #T_bb9b6_row0_col24, #T_bb9b6_row3_col22, #T_bb9b6_row4_col23, #T_bb9b6_row5_col34, #T_bb9b6_row6_col32, #T_bb9b6_row7_col33, #T_bb9b6_row16_col22, #T_bb9b6_row20_col0, #T_bb9b6_row22_col3, #T_bb9b6_row22_col16, #T_bb9b6_row23_col4, #T_bb9b6_row24_col0, #T_bb9b6_row31_col32, #T_bb9b6_row31_col33, #T_bb9b6_row32_col6, #T_bb9b6_row32_col31, #T_bb9b6_row32_col36, #T_bb9b6_row33_col7, #T_bb9b6_row33_col31, #T_bb9b6_row34_col5, #T_bb9b6_row36_col32 {\n",
       "  background-color: #cbd8ee;\n",
       "  color: #000000;\n",
       "}\n",
       "#T_bb9b6_row0_col22, #T_bb9b6_row1_col26, #T_bb9b6_row2_col23, #T_bb9b6_row2_col35, #T_bb9b6_row5_col33, #T_bb9b6_row7_col38, #T_bb9b6_row10_col19, #T_bb9b6_row11_col17, #T_bb9b6_row15_col22, #T_bb9b6_row16_col20, #T_bb9b6_row16_col21, #T_bb9b6_row17_col11, #T_bb9b6_row17_col37, #T_bb9b6_row19_col10, #T_bb9b6_row19_col31, #T_bb9b6_row19_col34, #T_bb9b6_row20_col16, #T_bb9b6_row21_col16, #T_bb9b6_row22_col0, #T_bb9b6_row22_col15, #T_bb9b6_row23_col2, #T_bb9b6_row26_col1, #T_bb9b6_row29_col33, #T_bb9b6_row30_col32, #T_bb9b6_row31_col19, #T_bb9b6_row32_col30, #T_bb9b6_row33_col5, #T_bb9b6_row33_col29, #T_bb9b6_row33_col37, #T_bb9b6_row34_col19, #T_bb9b6_row35_col2, #T_bb9b6_row37_col17, #T_bb9b6_row37_col33, #T_bb9b6_row38_col7 {\n",
       "  background-color: #c9d7f0;\n",
       "  color: #000000;\n",
       "}\n",
       "#T_bb9b6_row0_col23, #T_bb9b6_row0_col25, #T_bb9b6_row1_col38, #T_bb9b6_row3_col21, #T_bb9b6_row3_col24, #T_bb9b6_row9_col17, #T_bb9b6_row9_col18, #T_bb9b6_row10_col18, #T_bb9b6_row14_col20, #T_bb9b6_row15_col38, #T_bb9b6_row17_col9, #T_bb9b6_row17_col31, #T_bb9b6_row18_col9, #T_bb9b6_row18_col10, #T_bb9b6_row19_col37, #T_bb9b6_row20_col14, #T_bb9b6_row21_col3, #T_bb9b6_row23_col0, #T_bb9b6_row24_col3, #T_bb9b6_row25_col0, #T_bb9b6_row29_col36, #T_bb9b6_row29_col37, #T_bb9b6_row30_col38, #T_bb9b6_row31_col17, #T_bb9b6_row31_col36, #T_bb9b6_row36_col29, #T_bb9b6_row36_col31, #T_bb9b6_row37_col19, #T_bb9b6_row37_col29, #T_bb9b6_row38_col1, #T_bb9b6_row38_col15, #T_bb9b6_row38_col30 {\n",
       "  background-color: #cad8ef;\n",
       "  color: #000000;\n",
       "}\n",
       "#T_bb9b6_row0_col35, #T_bb9b6_row3_col14, #T_bb9b6_row3_col38, #T_bb9b6_row4_col14, #T_bb9b6_row5_col15, #T_bb9b6_row8_col15, #T_bb9b6_row11_col16, #T_bb9b6_row12_col38, #T_bb9b6_row14_col3, #T_bb9b6_row14_col4, #T_bb9b6_row14_col36, #T_bb9b6_row15_col5, #T_bb9b6_row15_col8, #T_bb9b6_row15_col18, #T_bb9b6_row16_col11, #T_bb9b6_row18_col15, #T_bb9b6_row18_col35, #T_bb9b6_row22_col27, #T_bb9b6_row25_col32, #T_bb9b6_row27_col22, #T_bb9b6_row32_col25, #T_bb9b6_row35_col0, #T_bb9b6_row35_col18, #T_bb9b6_row36_col14, #T_bb9b6_row38_col3, #T_bb9b6_row38_col12 {\n",
       "  background-color: #b7cff9;\n",
       "  color: #000000;\n",
       "}\n",
       "#T_bb9b6_row0_col38, #T_bb9b6_row5_col20, #T_bb9b6_row20_col5, #T_bb9b6_row38_col0 {\n",
       "  background-color: #8caffe;\n",
       "  color: #000000;\n",
       "}\n",
       "#T_bb9b6_row1_col2, #T_bb9b6_row1_col5, #T_bb9b6_row1_col6, #T_bb9b6_row1_col9, #T_bb9b6_row1_col35, #T_bb9b6_row2_col1, #T_bb9b6_row2_col10, #T_bb9b6_row3_col31, #T_bb9b6_row5_col1, #T_bb9b6_row5_col16, #T_bb9b6_row6_col1, #T_bb9b6_row9_col1, #T_bb9b6_row9_col15, #T_bb9b6_row10_col2, #T_bb9b6_row11_col25, #T_bb9b6_row15_col9, #T_bb9b6_row16_col5, #T_bb9b6_row18_col32, #T_bb9b6_row21_col27, #T_bb9b6_row22_col26, #T_bb9b6_row23_col33, #T_bb9b6_row25_col11, #T_bb9b6_row25_col35, #T_bb9b6_row26_col22, #T_bb9b6_row27_col21, #T_bb9b6_row31_col3, #T_bb9b6_row32_col18, #T_bb9b6_row33_col23, #T_bb9b6_row35_col1, #T_bb9b6_row35_col25 {\n",
       "  background-color: #b3cdfb;\n",
       "  color: #000000;\n",
       "}\n",
       "#T_bb9b6_row1_col7, #T_bb9b6_row1_col36, #T_bb9b6_row2_col38, #T_bb9b6_row4_col29, #T_bb9b6_row4_col38, #T_bb9b6_row7_col1, #T_bb9b6_row9_col14, #T_bb9b6_row10_col14, #T_bb9b6_row10_col15, #T_bb9b6_row11_col23, #T_bb9b6_row14_col9, #T_bb9b6_row14_col10, #T_bb9b6_row15_col10, #T_bb9b6_row16_col37, #T_bb9b6_row19_col32, #T_bb9b6_row20_col26, #T_bb9b6_row21_col38, #T_bb9b6_row23_col11, #T_bb9b6_row23_col35, #T_bb9b6_row24_col32, #T_bb9b6_row24_col34, #T_bb9b6_row25_col37, #T_bb9b6_row26_col20, #T_bb9b6_row26_col35, #T_bb9b6_row29_col4, #T_bb9b6_row32_col19, #T_bb9b6_row32_col24, #T_bb9b6_row34_col24, #T_bb9b6_row35_col23, #T_bb9b6_row35_col26, #T_bb9b6_row36_col1, #T_bb9b6_row37_col16, #T_bb9b6_row37_col25, #T_bb9b6_row38_col2, #T_bb9b6_row38_col4, #T_bb9b6_row38_col21 {\n",
       "  background-color: #b5cdfa;\n",
       "  color: #000000;\n",
       "}\n",
       "#T_bb9b6_row1_col8, #T_bb9b6_row3_col17, #T_bb9b6_row3_col18, #T_bb9b6_row3_col19, #T_bb9b6_row8_col1, #T_bb9b6_row17_col3, #T_bb9b6_row17_col22, #T_bb9b6_row18_col3, #T_bb9b6_row19_col3, #T_bb9b6_row19_col21, #T_bb9b6_row21_col19, #T_bb9b6_row21_col26, #T_bb9b6_row22_col17, #T_bb9b6_row23_col27, #T_bb9b6_row24_col28, #T_bb9b6_row26_col21, #T_bb9b6_row27_col23, #T_bb9b6_row28_col24 {\n",
       "  background-color: #b1cbfc;\n",
       "  color: #000000;\n",
       "}\n",
       "#T_bb9b6_row1_col10, #T_bb9b6_row2_col9, #T_bb9b6_row4_col30, #T_bb9b6_row6_col15, #T_bb9b6_row7_col15, #T_bb9b6_row9_col2, #T_bb9b6_row10_col1, #T_bb9b6_row11_col24, #T_bb9b6_row15_col6, #T_bb9b6_row15_col7, #T_bb9b6_row18_col21, #T_bb9b6_row21_col18, #T_bb9b6_row22_col38, #T_bb9b6_row24_col11, #T_bb9b6_row24_col33, #T_bb9b6_row24_col35, #T_bb9b6_row25_col33, #T_bb9b6_row25_col36, #T_bb9b6_row30_col4, #T_bb9b6_row33_col24, #T_bb9b6_row33_col25, #T_bb9b6_row35_col24, #T_bb9b6_row36_col25, #T_bb9b6_row38_col22 {\n",
       "  background-color: #b2ccfb;\n",
       "  color: #000000;\n",
       "}\n",
       "#T_bb9b6_row1_col17, #T_bb9b6_row8_col36, #T_bb9b6_row9_col37, #T_bb9b6_row17_col1, #T_bb9b6_row19_col28, #T_bb9b6_row28_col19, #T_bb9b6_row29_col35, #T_bb9b6_row35_col29, #T_bb9b6_row36_col8, #T_bb9b6_row37_col9 {\n",
       "  background-color: #d4dbe6;\n",
       "  color: #000000;\n",
       "}\n",
       "#T_bb9b6_row1_col18, #T_bb9b6_row18_col1, #T_bb9b6_row29_col32, #T_bb9b6_row32_col29, #T_bb9b6_row32_col33, #T_bb9b6_row33_col32, #T_bb9b6_row35_col37, #T_bb9b6_row37_col35 {\n",
       "  background-color: #d5dbe5;\n",
       "  color: #000000;\n",
       "}\n",
       "#T_bb9b6_row1_col19, #T_bb9b6_row6_col10, #T_bb9b6_row7_col8, #T_bb9b6_row7_col36, #T_bb9b6_row8_col7, #T_bb9b6_row8_col33, #T_bb9b6_row9_col34, #T_bb9b6_row10_col6, #T_bb9b6_row10_col27, #T_bb9b6_row10_col37, #T_bb9b6_row14_col15, #T_bb9b6_row15_col14, #T_bb9b6_row19_col1, #T_bb9b6_row27_col10, #T_bb9b6_row33_col8, #T_bb9b6_row34_col9, #T_bb9b6_row36_col7, #T_bb9b6_row36_col37, #T_bb9b6_row37_col10, #T_bb9b6_row37_col36 {\n",
       "  background-color: #d8dce2;\n",
       "  color: #000000;\n",
       "}\n",
       "#T_bb9b6_row1_col20, #T_bb9b6_row1_col21, #T_bb9b6_row2_col24, #T_bb9b6_row4_col24, #T_bb9b6_row5_col32, #T_bb9b6_row12_col30, #T_bb9b6_row14_col22, #T_bb9b6_row18_col26, #T_bb9b6_row20_col1, #T_bb9b6_row21_col1, #T_bb9b6_row22_col14, #T_bb9b6_row24_col2, #T_bb9b6_row24_col4, #T_bb9b6_row26_col18, #T_bb9b6_row30_col12, #T_bb9b6_row30_col37, #T_bb9b6_row32_col5, #T_bb9b6_row37_col30 {\n",
       "  background-color: #cedaeb;\n",
       "  color: #000000;\n",
       "}\n",
       "#T_bb9b6_row1_col22, #T_bb9b6_row2_col25, #T_bb9b6_row11_col29, #T_bb9b6_row14_col21, #T_bb9b6_row17_col28, #T_bb9b6_row18_col37, #T_bb9b6_row19_col27, #T_bb9b6_row21_col14, #T_bb9b6_row22_col1, #T_bb9b6_row25_col2, #T_bb9b6_row27_col19, #T_bb9b6_row28_col17, #T_bb9b6_row29_col11, #T_bb9b6_row37_col18 {\n",
       "  background-color: #cdd9ec;\n",
       "  color: #000000;\n",
       "}\n",
       "#T_bb9b6_row1_col28, #T_bb9b6_row3_col23, #T_bb9b6_row3_col25, #T_bb9b6_row6_col34, #T_bb9b6_row9_col11, #T_bb9b6_row9_col19, #T_bb9b6_row10_col17, #T_bb9b6_row11_col9, #T_bb9b6_row11_col13, #T_bb9b6_row11_col26, #T_bb9b6_row11_col27, #T_bb9b6_row11_col31, #T_bb9b6_row12_col13, #T_bb9b6_row12_col31, #T_bb9b6_row13_col11, #T_bb9b6_row13_col12, #T_bb9b6_row17_col10, #T_bb9b6_row18_col30, #T_bb9b6_row19_col9, #T_bb9b6_row23_col3, #T_bb9b6_row25_col3, #T_bb9b6_row26_col11, #T_bb9b6_row27_col11, #T_bb9b6_row28_col1, #T_bb9b6_row30_col18, #T_bb9b6_row31_col11, #T_bb9b6_row31_col12, #T_bb9b6_row31_col35, #T_bb9b6_row33_col35, #T_bb9b6_row34_col6, #T_bb9b6_row34_col36, #T_bb9b6_row35_col31, #T_bb9b6_row35_col33, #T_bb9b6_row36_col34 {\n",
       "  background-color: #c7d7f0;\n",
       "  color: #000000;\n",
       "}\n",
       "#T_bb9b6_row1_col33, #T_bb9b6_row3_col29, #T_bb9b6_row5_col14, #T_bb9b6_row6_col16, #T_bb9b6_row8_col14, #T_bb9b6_row10_col16, #T_bb9b6_row14_col5, #T_bb9b6_row14_col8, #T_bb9b6_row15_col19, #T_bb9b6_row16_col6, #T_bb9b6_row16_col10, #T_bb9b6_row19_col15, #T_bb9b6_row19_col33, #T_bb9b6_row20_col27, #T_bb9b6_row20_col38, #T_bb9b6_row22_col28, #T_bb9b6_row23_col28, #T_bb9b6_row23_col32, #T_bb9b6_row27_col20, #T_bb9b6_row28_col22, #T_bb9b6_row28_col23, #T_bb9b6_row28_col32, #T_bb9b6_row28_col36, #T_bb9b6_row29_col3, #T_bb9b6_row32_col23, #T_bb9b6_row32_col28, #T_bb9b6_row33_col1, #T_bb9b6_row33_col19, #T_bb9b6_row36_col28, #T_bb9b6_row38_col20 {\n",
       "  background-color: #b6cefa;\n",
       "  color: #000000;\n",
       "}\n",
       "#T_bb9b6_row2_col3, #T_bb9b6_row3_col2, #T_bb9b6_row30_col31, #T_bb9b6_row31_col30 {\n",
       "  background-color: #f7af91;\n",
       "  color: #000000;\n",
       "}\n",
       "#T_bb9b6_row2_col4, #T_bb9b6_row4_col2 {\n",
       "  background-color: #f7b497;\n",
       "  color: #000000;\n",
       "}\n",
       "#T_bb9b6_row2_col5, #T_bb9b6_row3_col6, #T_bb9b6_row3_col7, #T_bb9b6_row5_col2, #T_bb9b6_row6_col3, #T_bb9b6_row6_col28, #T_bb9b6_row7_col3, #T_bb9b6_row20_col33, #T_bb9b6_row20_col34, #T_bb9b6_row28_col6, #T_bb9b6_row33_col20, #T_bb9b6_row34_col20 {\n",
       "  background-color: #a7c5fe;\n",
       "  color: #000000;\n",
       "}\n",
       "#T_bb9b6_row2_col6, #T_bb9b6_row6_col2, #T_bb9b6_row17_col24, #T_bb9b6_row19_col23, #T_bb9b6_row21_col30, #T_bb9b6_row23_col19, #T_bb9b6_row24_col17, #T_bb9b6_row30_col21 {\n",
       "  background-color: #9dbdff;\n",
       "  color: #000000;\n",
       "}\n",
       "#T_bb9b6_row2_col7, #T_bb9b6_row7_col2, #T_bb9b6_row7_col20, #T_bb9b6_row17_col25, #T_bb9b6_row18_col23, #T_bb9b6_row20_col7, #T_bb9b6_row22_col31, #T_bb9b6_row23_col18, #T_bb9b6_row24_col38, #T_bb9b6_row25_col17, #T_bb9b6_row31_col22, #T_bb9b6_row38_col24 {\n",
       "  background-color: #9abbff;\n",
       "  color: #000000;\n",
       "}\n",
       "#T_bb9b6_row2_col14, #T_bb9b6_row2_col36, #T_bb9b6_row3_col34, #T_bb9b6_row4_col34, #T_bb9b6_row6_col14, #T_bb9b6_row7_col14, #T_bb9b6_row9_col16, #T_bb9b6_row13_col27, #T_bb9b6_row14_col2, #T_bb9b6_row14_col6, #T_bb9b6_row14_col7, #T_bb9b6_row15_col17, #T_bb9b6_row15_col37, #T_bb9b6_row16_col9, #T_bb9b6_row16_col18, #T_bb9b6_row16_col36, #T_bb9b6_row17_col15, #T_bb9b6_row18_col16, #T_bb9b6_row21_col28, #T_bb9b6_row23_col34, #T_bb9b6_row27_col13, #T_bb9b6_row28_col21, #T_bb9b6_row28_col37, #T_bb9b6_row34_col3, #T_bb9b6_row34_col4, #T_bb9b6_row34_col23, #T_bb9b6_row36_col2, #T_bb9b6_row36_col16, #T_bb9b6_row37_col15, #T_bb9b6_row37_col28 {\n",
       "  background-color: #b9d0f9;\n",
       "  color: #000000;\n",
       "}\n",
       "#T_bb9b6_row2_col17, #T_bb9b6_row4_col6, #T_bb9b6_row6_col4, #T_bb9b6_row17_col2, #T_bb9b6_row18_col38, #T_bb9b6_row20_col30, #T_bb9b6_row21_col34, #T_bb9b6_row30_col20, #T_bb9b6_row34_col21, #T_bb9b6_row38_col18 {\n",
       "  background-color: #a6c4fe;\n",
       "  color: #000000;\n",
       "}\n",
       "#T_bb9b6_row2_col18, #T_bb9b6_row2_col19, #T_bb9b6_row3_col30, #T_bb9b6_row7_col16, #T_bb9b6_row7_col26, #T_bb9b6_row16_col7, #T_bb9b6_row17_col38, #T_bb9b6_row18_col2, #T_bb9b6_row19_col2, #T_bb9b6_row19_col22, #T_bb9b6_row20_col37, #T_bb9b6_row22_col19, #T_bb9b6_row23_col37, #T_bb9b6_row24_col36, #T_bb9b6_row24_col37, #T_bb9b6_row26_col7, #T_bb9b6_row30_col3, #T_bb9b6_row36_col24, #T_bb9b6_row37_col20, #T_bb9b6_row37_col23, #T_bb9b6_row37_col24, #T_bb9b6_row38_col17 {\n",
       "  background-color: #afcafc;\n",
       "  color: #000000;\n",
       "}\n",
       "#T_bb9b6_row2_col21, #T_bb9b6_row2_col22, #T_bb9b6_row8_col28, #T_bb9b6_row10_col35, #T_bb9b6_row18_col27, #T_bb9b6_row21_col2, #T_bb9b6_row22_col2, #T_bb9b6_row27_col18, #T_bb9b6_row28_col8, #T_bb9b6_row31_col37, #T_bb9b6_row35_col10, #T_bb9b6_row37_col31 {\n",
       "  background-color: #d2dbe8;\n",
       "  color: #000000;\n",
       "}\n",
       "#T_bb9b6_row2_col29, #T_bb9b6_row4_col17, #T_bb9b6_row4_col18, #T_bb9b6_row7_col27, #T_bb9b6_row17_col4, #T_bb9b6_row17_col21, #T_bb9b6_row18_col4, #T_bb9b6_row21_col17, #T_bb9b6_row23_col36, #T_bb9b6_row24_col26, #T_bb9b6_row25_col28, #T_bb9b6_row26_col24, #T_bb9b6_row27_col7, #T_bb9b6_row28_col25, #T_bb9b6_row29_col2, #T_bb9b6_row36_col23 {\n",
       "  background-color: #aec9fc;\n",
       "  color: #000000;\n",
       "}\n",
       "#T_bb9b6_row2_col30, #T_bb9b6_row2_col31, #T_bb9b6_row3_col5, #T_bb9b6_row4_col5, #T_bb9b6_row5_col3, #T_bb9b6_row5_col4, #T_bb9b6_row5_col27, #T_bb9b6_row19_col38, #T_bb9b6_row21_col37, #T_bb9b6_row27_col5, #T_bb9b6_row30_col2, #T_bb9b6_row31_col2, #T_bb9b6_row37_col21, #T_bb9b6_row38_col19 {\n",
       "  background-color: #aac7fd;\n",
       "  color: #000000;\n",
       "}\n",
       "#T_bb9b6_row3_col4, #T_bb9b6_row4_col3 {\n",
       "  background-color: #e57058;\n",
       "  color: #f1f1f1;\n",
       "}\n",
       "#T_bb9b6_row4_col7, #T_bb9b6_row7_col4, #T_bb9b6_row20_col35, #T_bb9b6_row23_col38, #T_bb9b6_row35_col20, #T_bb9b6_row38_col23 {\n",
       "  background-color: #a1c0ff;\n",
       "  color: #000000;\n",
       "}\n",
       "#T_bb9b6_row4_col19, #T_bb9b6_row7_col28, #T_bb9b6_row19_col4, #T_bb9b6_row20_col31, #T_bb9b6_row21_col32, #T_bb9b6_row22_col33, #T_bb9b6_row22_col36, #T_bb9b6_row22_col37, #T_bb9b6_row28_col7, #T_bb9b6_row31_col20, #T_bb9b6_row32_col21, #T_bb9b6_row33_col22, #T_bb9b6_row36_col22, #T_bb9b6_row37_col22 {\n",
       "  background-color: #a5c3fe;\n",
       "  color: #000000;\n",
       "}\n",
       "#T_bb9b6_row4_col25, #T_bb9b6_row7_col32, #T_bb9b6_row7_col35, #T_bb9b6_row8_col38, #T_bb9b6_row11_col30, #T_bb9b6_row14_col33, #T_bb9b6_row17_col29, #T_bb9b6_row25_col4, #T_bb9b6_row29_col17, #T_bb9b6_row30_col11, #T_bb9b6_row32_col7, #T_bb9b6_row33_col14, #T_bb9b6_row33_col36, #T_bb9b6_row35_col7, #T_bb9b6_row36_col33, #T_bb9b6_row38_col8 {\n",
       "  background-color: #ccd9ed;\n",
       "  color: #000000;\n",
       "}\n",
       "#T_bb9b6_row4_col31, #T_bb9b6_row5_col28, #T_bb9b6_row22_col30, #T_bb9b6_row28_col5, #T_bb9b6_row30_col22, #T_bb9b6_row31_col4 {\n",
       "  background-color: #a9c6fd;\n",
       "  color: #000000;\n",
       "}\n",
       "#T_bb9b6_row5_col6, #T_bb9b6_row6_col5 {\n",
       "  background-color: #f18d6f;\n",
       "  color: #f1f1f1;\n",
       "}\n",
       "#T_bb9b6_row5_col7, #T_bb9b6_row7_col5 {\n",
       "  background-color: #f39475;\n",
       "  color: #000000;\n",
       "}\n",
       "#T_bb9b6_row5_col8, #T_bb9b6_row6_col9, #T_bb9b6_row6_col37, #T_bb9b6_row8_col5, #T_bb9b6_row9_col6, #T_bb9b6_row9_col27, #T_bb9b6_row27_col9, #T_bb9b6_row37_col6 {\n",
       "  background-color: #dedcdb;\n",
       "  color: #000000;\n",
       "}\n",
       "#T_bb9b6_row5_col9, #T_bb9b6_row5_col36, #T_bb9b6_row5_col37, #T_bb9b6_row8_col27, #T_bb9b6_row9_col5, #T_bb9b6_row9_col32, #T_bb9b6_row17_col26, #T_bb9b6_row26_col17, #T_bb9b6_row27_col8, #T_bb9b6_row32_col9, #T_bb9b6_row36_col5, #T_bb9b6_row37_col5 {\n",
       "  background-color: #d7dce3;\n",
       "  color: #000000;\n",
       "}\n",
       "#T_bb9b6_row5_col10, #T_bb9b6_row6_col8, #T_bb9b6_row8_col6, #T_bb9b6_row9_col28, #T_bb9b6_row10_col5, #T_bb9b6_row28_col9, #T_bb9b6_row30_col33, #T_bb9b6_row33_col30 {\n",
       "  background-color: #d6dce4;\n",
       "  color: #000000;\n",
       "}\n",
       "#T_bb9b6_row5_col17, #T_bb9b6_row6_col36, #T_bb9b6_row9_col29, #T_bb9b6_row9_col33, #T_bb9b6_row17_col5, #T_bb9b6_row21_col23, #T_bb9b6_row21_col25, #T_bb9b6_row22_col25, #T_bb9b6_row23_col21, #T_bb9b6_row25_col21, #T_bb9b6_row25_col22, #T_bb9b6_row29_col9, #T_bb9b6_row33_col9, #T_bb9b6_row36_col6 {\n",
       "  background-color: #e3d9d3;\n",
       "  color: #000000;\n",
       "}\n",
       "#T_bb9b6_row5_col18, #T_bb9b6_row6_col19, #T_bb9b6_row18_col5, #T_bb9b6_row19_col6 {\n",
       "  background-color: #e0dbd8;\n",
       "  color: #000000;\n",
       "}\n",
       "#T_bb9b6_row5_col19, #T_bb9b6_row9_col36, #T_bb9b6_row10_col28, #T_bb9b6_row19_col5, #T_bb9b6_row20_col25, #T_bb9b6_row25_col20, #T_bb9b6_row28_col10, #T_bb9b6_row36_col9 {\n",
       "  background-color: #dcdddd;\n",
       "  color: #000000;\n",
       "}\n",
       "#T_bb9b6_row5_col21, #T_bb9b6_row19_col25, #T_bb9b6_row21_col5, #T_bb9b6_row25_col19 {\n",
       "  background-color: #97b8ff;\n",
       "  color: #000000;\n",
       "}\n",
       "#T_bb9b6_row5_col22, #T_bb9b6_row18_col25, #T_bb9b6_row22_col5, #T_bb9b6_row25_col18 {\n",
       "  background-color: #96b7ff;\n",
       "  color: #000000;\n",
       "}\n",
       "#T_bb9b6_row5_col23, #T_bb9b6_row7_col22, #T_bb9b6_row22_col7, #T_bb9b6_row23_col5 {\n",
       "  background-color: #89acfd;\n",
       "  color: #000000;\n",
       "}\n",
       "#T_bb9b6_row5_col24, #T_bb9b6_row7_col21, #T_bb9b6_row21_col7, #T_bb9b6_row24_col5 {\n",
       "  background-color: #92b4fe;\n",
       "  color: #000000;\n",
       "}\n",
       "#T_bb9b6_row5_col25, #T_bb9b6_row6_col22, #T_bb9b6_row22_col6, #T_bb9b6_row25_col5 {\n",
       "  background-color: #93b5fe;\n",
       "  color: #000000;\n",
       "}\n",
       "#T_bb9b6_row5_col26, #T_bb9b6_row21_col33, #T_bb9b6_row26_col5, #T_bb9b6_row33_col21 {\n",
       "  background-color: #9fbfff;\n",
       "  color: #000000;\n",
       "}\n",
       "#T_bb9b6_row5_col29, #T_bb9b6_row7_col31, #T_bb9b6_row29_col5, #T_bb9b6_row31_col7 {\n",
       "  background-color: #f7b093;\n",
       "  color: #000000;\n",
       "}\n",
       "#T_bb9b6_row5_col30, #T_bb9b6_row30_col5 {\n",
       "  background-color: #f1ccb8;\n",
       "  color: #000000;\n",
       "}\n",
       "#T_bb9b6_row5_col31, #T_bb9b6_row6_col29, #T_bb9b6_row29_col6, #T_bb9b6_row31_col5 {\n",
       "  background-color: #f0cdbb;\n",
       "  color: #000000;\n",
       "}\n",
       "#T_bb9b6_row5_col35, #T_bb9b6_row7_col17, #T_bb9b6_row7_col18, #T_bb9b6_row17_col7, #T_bb9b6_row18_col7, #T_bb9b6_row22_col24, #T_bb9b6_row24_col22, #T_bb9b6_row35_col5 {\n",
       "  background-color: #e6d7cf;\n",
       "  color: #000000;\n",
       "}\n",
       "#T_bb9b6_row6_col7, #T_bb9b6_row7_col6 {\n",
       "  background-color: #ef886b;\n",
       "  color: #f1f1f1;\n",
       "}\n",
       "#T_bb9b6_row6_col17, #T_bb9b6_row7_col19, #T_bb9b6_row7_col37, #T_bb9b6_row17_col6, #T_bb9b6_row19_col7, #T_bb9b6_row21_col24, #T_bb9b6_row24_col21, #T_bb9b6_row37_col7 {\n",
       "  background-color: #e5d8d1;\n",
       "  color: #000000;\n",
       "}\n",
       "#T_bb9b6_row6_col18, #T_bb9b6_row18_col6, #T_bb9b6_row20_col23, #T_bb9b6_row22_col23, #T_bb9b6_row23_col20, #T_bb9b6_row23_col22 {\n",
       "  background-color: #e4d9d2;\n",
       "  color: #000000;\n",
       "}\n",
       "#T_bb9b6_row6_col20, #T_bb9b6_row20_col6, #T_bb9b6_row20_col32, #T_bb9b6_row32_col20 {\n",
       "  background-color: #9bbcff;\n",
       "  color: #000000;\n",
       "}\n",
       "#T_bb9b6_row6_col21, #T_bb9b6_row21_col6 {\n",
       "  background-color: #8db0fe;\n",
       "  color: #000000;\n",
       "}\n",
       "#T_bb9b6_row6_col23, #T_bb9b6_row7_col24, #T_bb9b6_row23_col6, #T_bb9b6_row24_col7 {\n",
       "  background-color: #88abfd;\n",
       "  color: #000000;\n",
       "}\n",
       "#T_bb9b6_row6_col24, #T_bb9b6_row6_col25, #T_bb9b6_row24_col6, #T_bb9b6_row24_col29, #T_bb9b6_row25_col6, #T_bb9b6_row25_col29, #T_bb9b6_row29_col24, #T_bb9b6_row29_col25 {\n",
       "  background-color: #8badfd;\n",
       "  color: #000000;\n",
       "}\n",
       "#T_bb9b6_row6_col26, #T_bb9b6_row21_col29, #T_bb9b6_row22_col32, #T_bb9b6_row26_col6, #T_bb9b6_row29_col21, #T_bb9b6_row32_col22 {\n",
       "  background-color: #abc8fd;\n",
       "  color: #000000;\n",
       "}\n",
       "#T_bb9b6_row6_col27, #T_bb9b6_row13_col16, #T_bb9b6_row16_col13, #T_bb9b6_row27_col6 {\n",
       "  background-color: #a2c1ff;\n",
       "  color: #000000;\n",
       "}\n",
       "#T_bb9b6_row6_col30, #T_bb9b6_row30_col6 {\n",
       "  background-color: #f7b599;\n",
       "  color: #000000;\n",
       "}\n",
       "#T_bb9b6_row6_col31, #T_bb9b6_row7_col29, #T_bb9b6_row29_col7, #T_bb9b6_row31_col6 {\n",
       "  background-color: #efcebd;\n",
       "  color: #000000;\n",
       "}\n",
       "#T_bb9b6_row6_col35, #T_bb9b6_row9_col35, #T_bb9b6_row17_col27, #T_bb9b6_row18_col28, #T_bb9b6_row27_col17, #T_bb9b6_row28_col18, #T_bb9b6_row35_col6, #T_bb9b6_row35_col9 {\n",
       "  background-color: #cfdaea;\n",
       "  color: #000000;\n",
       "}\n",
       "#T_bb9b6_row7_col9, #T_bb9b6_row8_col35, #T_bb9b6_row9_col7, #T_bb9b6_row35_col8 {\n",
       "  background-color: #dddcdc;\n",
       "  color: #000000;\n",
       "}\n",
       "#T_bb9b6_row7_col10, #T_bb9b6_row8_col32, #T_bb9b6_row10_col7, #T_bb9b6_row10_col34, #T_bb9b6_row32_col8, #T_bb9b6_row34_col10 {\n",
       "  background-color: #e2dad5;\n",
       "  color: #000000;\n",
       "}\n",
       "#T_bb9b6_row7_col23, #T_bb9b6_row8_col24, #T_bb9b6_row10_col23, #T_bb9b6_row10_col25, #T_bb9b6_row23_col7, #T_bb9b6_row23_col10, #T_bb9b6_row24_col8, #T_bb9b6_row24_col30, #T_bb9b6_row25_col10, #T_bb9b6_row30_col24 {\n",
       "  background-color: #86a9fc;\n",
       "  color: #f1f1f1;\n",
       "}\n",
       "#T_bb9b6_row7_col25, #T_bb9b6_row23_col30, #T_bb9b6_row25_col7, #T_bb9b6_row25_col30, #T_bb9b6_row30_col23, #T_bb9b6_row30_col25 {\n",
       "  background-color: #85a8fc;\n",
       "  color: #f1f1f1;\n",
       "}\n",
       "#T_bb9b6_row7_col30, #T_bb9b6_row8_col29, #T_bb9b6_row29_col8, #T_bb9b6_row30_col7 {\n",
       "  background-color: #f2cbb7;\n",
       "  color: #000000;\n",
       "}\n",
       "#T_bb9b6_row8_col9, #T_bb9b6_row9_col8 {\n",
       "  background-color: #ea7b60;\n",
       "  color: #f1f1f1;\n",
       "}\n",
       "#T_bb9b6_row8_col10, #T_bb9b6_row10_col8 {\n",
       "  background-color: #ed8366;\n",
       "  color: #f1f1f1;\n",
       "}\n",
       "#T_bb9b6_row8_col20, #T_bb9b6_row9_col21, #T_bb9b6_row10_col22, #T_bb9b6_row20_col8, #T_bb9b6_row21_col9, #T_bb9b6_row22_col10 {\n",
       "  background-color: #3b4cc0;\n",
       "  color: #f1f1f1;\n",
       "}\n",
       "#T_bb9b6_row8_col21, #T_bb9b6_row21_col8 {\n",
       "  background-color: #516ddb;\n",
       "  color: #f1f1f1;\n",
       "}\n",
       "#T_bb9b6_row8_col22, #T_bb9b6_row22_col8 {\n",
       "  background-color: #5a78e4;\n",
       "  color: #f1f1f1;\n",
       "}\n",
       "#T_bb9b6_row8_col23, #T_bb9b6_row9_col23, #T_bb9b6_row23_col8, #T_bb9b6_row23_col9, #T_bb9b6_row24_col31, #T_bb9b6_row31_col24 {\n",
       "  background-color: #84a7fc;\n",
       "  color: #f1f1f1;\n",
       "}\n",
       "#T_bb9b6_row8_col25, #T_bb9b6_row25_col8 {\n",
       "  background-color: #90b2fe;\n",
       "  color: #000000;\n",
       "}\n",
       "#T_bb9b6_row8_col26, #T_bb9b6_row8_col34, #T_bb9b6_row9_col26, #T_bb9b6_row10_col33, #T_bb9b6_row26_col8, #T_bb9b6_row26_col9, #T_bb9b6_row32_col35, #T_bb9b6_row33_col10, #T_bb9b6_row34_col8, #T_bb9b6_row35_col32 {\n",
       "  background-color: #dadce0;\n",
       "  color: #000000;\n",
       "}\n",
       "#T_bb9b6_row8_col30, #T_bb9b6_row9_col31, #T_bb9b6_row30_col8, #T_bb9b6_row31_col9 {\n",
       "  background-color: #e7d7ce;\n",
       "  color: #000000;\n",
       "}\n",
       "#T_bb9b6_row8_col31, #T_bb9b6_row31_col8 {\n",
       "  background-color: #ead5c9;\n",
       "  color: #000000;\n",
       "}\n",
       "#T_bb9b6_row8_col37, #T_bb9b6_row10_col38, #T_bb9b6_row31_col34, #T_bb9b6_row31_col38, #T_bb9b6_row34_col31, #T_bb9b6_row37_col8, #T_bb9b6_row38_col10, #T_bb9b6_row38_col31 {\n",
       "  background-color: #d1dae9;\n",
       "  color: #000000;\n",
       "}\n",
       "#T_bb9b6_row9_col10, #T_bb9b6_row10_col9 {\n",
       "  background-color: #e9785d;\n",
       "  color: #f1f1f1;\n",
       "}\n",
       "#T_bb9b6_row9_col20, #T_bb9b6_row10_col20, #T_bb9b6_row20_col9, #T_bb9b6_row20_col10 {\n",
       "  background-color: #5572df;\n",
       "  color: #f1f1f1;\n",
       "}\n",
       "#T_bb9b6_row9_col22, #T_bb9b6_row22_col9 {\n",
       "  background-color: #5470de;\n",
       "  color: #f1f1f1;\n",
       "}\n",
       "#T_bb9b6_row9_col24, #T_bb9b6_row10_col24, #T_bb9b6_row23_col29, #T_bb9b6_row24_col9, #T_bb9b6_row24_col10, #T_bb9b6_row25_col31, #T_bb9b6_row29_col23, #T_bb9b6_row31_col25 {\n",
       "  background-color: #80a3fa;\n",
       "  color: #f1f1f1;\n",
       "}\n",
       "#T_bb9b6_row9_col25, #T_bb9b6_row25_col9 {\n",
       "  background-color: #81a4fb;\n",
       "  color: #f1f1f1;\n",
       "}\n",
       "#T_bb9b6_row9_col30, #T_bb9b6_row30_col9 {\n",
       "  background-color: #f2cab5;\n",
       "  color: #000000;\n",
       "}\n",
       "#T_bb9b6_row9_col38, #T_bb9b6_row10_col32, #T_bb9b6_row10_col36, #T_bb9b6_row19_col26, #T_bb9b6_row26_col19, #T_bb9b6_row30_col36, #T_bb9b6_row32_col10, #T_bb9b6_row36_col10, #T_bb9b6_row36_col30, #T_bb9b6_row38_col9 {\n",
       "  background-color: #d3dbe7;\n",
       "  color: #000000;\n",
       "}\n",
       "#T_bb9b6_row10_col21, #T_bb9b6_row21_col10 {\n",
       "  background-color: #4e68d8;\n",
       "  color: #f1f1f1;\n",
       "}\n",
       "#T_bb9b6_row10_col26, #T_bb9b6_row15_col16, #T_bb9b6_row16_col15, #T_bb9b6_row26_col10, #T_bb9b6_row32_col34, #T_bb9b6_row33_col34, #T_bb9b6_row34_col32, #T_bb9b6_row34_col33, #T_bb9b6_row35_col36, #T_bb9b6_row36_col35 {\n",
       "  background-color: #dbdcde;\n",
       "  color: #000000;\n",
       "}\n",
       "#T_bb9b6_row10_col29, #T_bb9b6_row10_col30, #T_bb9b6_row29_col10, #T_bb9b6_row30_col10 {\n",
       "  background-color: #e1dad6;\n",
       "  color: #000000;\n",
       "}\n",
       "#T_bb9b6_row10_col31, #T_bb9b6_row31_col10 {\n",
       "  background-color: #f4c6af;\n",
       "  color: #000000;\n",
       "}\n",
       "#T_bb9b6_row11_col14, #T_bb9b6_row14_col11, #T_bb9b6_row19_col24, #T_bb9b6_row20_col29, #T_bb9b6_row21_col36, #T_bb9b6_row22_col34, #T_bb9b6_row24_col19, #T_bb9b6_row25_col38, #T_bb9b6_row29_col20, #T_bb9b6_row34_col22, #T_bb9b6_row36_col21, #T_bb9b6_row38_col25 {\n",
       "  background-color: #9ebeff;\n",
       "  color: #000000;\n",
       "}\n",
       "#T_bb9b6_row12_col15, #T_bb9b6_row15_col12 {\n",
       "  background-color: #98b9ff;\n",
       "  color: #000000;\n",
       "}\n",
       "#T_bb9b6_row14_col16, #T_bb9b6_row16_col14 {\n",
       "  background-color: #d9dce1;\n",
       "  color: #000000;\n",
       "}\n",
       "#T_bb9b6_row17_col18, #T_bb9b6_row17_col19, #T_bb9b6_row18_col17, #T_bb9b6_row19_col17 {\n",
       "  background-color: #f59c7d;\n",
       "  color: #000000;\n",
       "}\n",
       "#T_bb9b6_row17_col23, #T_bb9b6_row18_col24, #T_bb9b6_row23_col17, #T_bb9b6_row24_col18 {\n",
       "  background-color: #94b6ff;\n",
       "  color: #000000;\n",
       "}\n",
       "#T_bb9b6_row18_col19, #T_bb9b6_row19_col18 {\n",
       "  background-color: #f29072;\n",
       "  color: #f1f1f1;\n",
       "}\n",
       "#T_bb9b6_row18_col22, #T_bb9b6_row20_col36, #T_bb9b6_row21_col35, #T_bb9b6_row22_col18, #T_bb9b6_row22_col29, #T_bb9b6_row22_col35, #T_bb9b6_row23_col26, #T_bb9b6_row24_col27, #T_bb9b6_row25_col26, #T_bb9b6_row25_col27, #T_bb9b6_row26_col23, #T_bb9b6_row26_col25, #T_bb9b6_row27_col24, #T_bb9b6_row27_col25, #T_bb9b6_row29_col22, #T_bb9b6_row35_col21, #T_bb9b6_row35_col22, #T_bb9b6_row36_col20 {\n",
       "  background-color: #adc9fd;\n",
       "  color: #000000;\n",
       "}\n",
       "#T_bb9b6_row20_col21, #T_bb9b6_row21_col20 {\n",
       "  background-color: #ee8669;\n",
       "  color: #f1f1f1;\n",
       "}\n",
       "#T_bb9b6_row20_col22, #T_bb9b6_row22_col20 {\n",
       "  background-color: #f08a6c;\n",
       "  color: #f1f1f1;\n",
       "}\n",
       "#T_bb9b6_row20_col24, #T_bb9b6_row24_col20 {\n",
       "  background-color: #dfdbd9;\n",
       "  color: #000000;\n",
       "}\n",
       "#T_bb9b6_row21_col22, #T_bb9b6_row22_col21 {\n",
       "  background-color: #ec7f63;\n",
       "  color: #f1f1f1;\n",
       "}\n",
       "#T_bb9b6_row21_col31, #T_bb9b6_row31_col21 {\n",
       "  background-color: #a3c2fe;\n",
       "  color: #000000;\n",
       "}\n",
       "#T_bb9b6_row23_col24, #T_bb9b6_row23_col25, #T_bb9b6_row24_col23, #T_bb9b6_row25_col23 {\n",
       "  background-color: #e8765c;\n",
       "  color: #f1f1f1;\n",
       "}\n",
       "#T_bb9b6_row23_col31, #T_bb9b6_row31_col23 {\n",
       "  background-color: #82a6fb;\n",
       "  color: #f1f1f1;\n",
       "}\n",
       "#T_bb9b6_row24_col25, #T_bb9b6_row25_col24 {\n",
       "  background-color: #e26952;\n",
       "  color: #f1f1f1;\n",
       "}\n",
       "#T_bb9b6_row26_col27, #T_bb9b6_row27_col26 {\n",
       "  background-color: #f5c0a7;\n",
       "  color: #000000;\n",
       "}\n",
       "#T_bb9b6_row26_col28, #T_bb9b6_row28_col26 {\n",
       "  background-color: #f5c2aa;\n",
       "  color: #000000;\n",
       "}\n",
       "#T_bb9b6_row27_col28, #T_bb9b6_row28_col27 {\n",
       "  background-color: #f5c4ac;\n",
       "  color: #000000;\n",
       "}\n",
       "#T_bb9b6_row29_col30, #T_bb9b6_row30_col29 {\n",
       "  background-color: #f7a688;\n",
       "  color: #000000;\n",
       "}\n",
       "#T_bb9b6_row29_col31, #T_bb9b6_row31_col29 {\n",
       "  background-color: #f7aa8c;\n",
       "  color: #000000;\n",
       "}\n",
       "</style>\n",
       "<table id=\"T_bb9b6_\">\n",
       "  <thead>\n",
       "    <tr>\n",
       "      <th class=\"blank level0\" >&nbsp;</th>\n",
       "      <th class=\"col_heading level0 col0\" >id</th>\n",
       "      <th class=\"col_heading level0 col1\" >total_tracks</th>\n",
       "      <th class=\"col_heading level0 col2\" >t_dur0</th>\n",
       "      <th class=\"col_heading level0 col3\" >t_dur1</th>\n",
       "      <th class=\"col_heading level0 col4\" >t_dur2</th>\n",
       "      <th class=\"col_heading level0 col5\" >t_dance0</th>\n",
       "      <th class=\"col_heading level0 col6\" >t_dance1</th>\n",
       "      <th class=\"col_heading level0 col7\" >t_dance2</th>\n",
       "      <th class=\"col_heading level0 col8\" >t_energy0</th>\n",
       "      <th class=\"col_heading level0 col9\" >t_energy1</th>\n",
       "      <th class=\"col_heading level0 col10\" >t_energy2</th>\n",
       "      <th class=\"col_heading level0 col11\" >t_key0</th>\n",
       "      <th class=\"col_heading level0 col12\" >t_key1</th>\n",
       "      <th class=\"col_heading level0 col13\" >t_key2</th>\n",
       "      <th class=\"col_heading level0 col14\" >t_mode0</th>\n",
       "      <th class=\"col_heading level0 col15\" >t_mode1</th>\n",
       "      <th class=\"col_heading level0 col16\" >t_mode2</th>\n",
       "      <th class=\"col_heading level0 col17\" >t_speech0</th>\n",
       "      <th class=\"col_heading level0 col18\" >t_speech1</th>\n",
       "      <th class=\"col_heading level0 col19\" >t_speech2</th>\n",
       "      <th class=\"col_heading level0 col20\" >t_acous0</th>\n",
       "      <th class=\"col_heading level0 col21\" >t_acous1</th>\n",
       "      <th class=\"col_heading level0 col22\" >t_acous2</th>\n",
       "      <th class=\"col_heading level0 col23\" >t_ins0</th>\n",
       "      <th class=\"col_heading level0 col24\" >t_ins1</th>\n",
       "      <th class=\"col_heading level0 col25\" >t_ins2</th>\n",
       "      <th class=\"col_heading level0 col26\" >t_live0</th>\n",
       "      <th class=\"col_heading level0 col27\" >t_live1</th>\n",
       "      <th class=\"col_heading level0 col28\" >t_live2</th>\n",
       "      <th class=\"col_heading level0 col29\" >t_val0</th>\n",
       "      <th class=\"col_heading level0 col30\" >t_val1</th>\n",
       "      <th class=\"col_heading level0 col31\" >t_val2</th>\n",
       "      <th class=\"col_heading level0 col32\" >t_tempo0</th>\n",
       "      <th class=\"col_heading level0 col33\" >t_tempo1</th>\n",
       "      <th class=\"col_heading level0 col34\" >t_tempo2</th>\n",
       "      <th class=\"col_heading level0 col35\" >t_sig0</th>\n",
       "      <th class=\"col_heading level0 col36\" >t_sig1</th>\n",
       "      <th class=\"col_heading level0 col37\" >t_sig2</th>\n",
       "      <th class=\"col_heading level0 col38\" >popularity</th>\n",
       "    </tr>\n",
       "  </thead>\n",
       "  <tbody>\n",
       "    <tr>\n",
       "      <th id=\"T_bb9b6_level0_row0\" class=\"row_heading level0 row0\" >id</th>\n",
       "      <td id=\"T_bb9b6_row0_col0\" class=\"data row0 col0\" >1.000000</td>\n",
       "      <td id=\"T_bb9b6_row0_col1\" class=\"data row0 col1\" >-0.027754</td>\n",
       "      <td id=\"T_bb9b6_row0_col2\" class=\"data row0 col2\" >0.008656</td>\n",
       "      <td id=\"T_bb9b6_row0_col3\" class=\"data row0 col3\" >0.036968</td>\n",
       "      <td id=\"T_bb9b6_row0_col4\" class=\"data row0 col4\" >0.031504</td>\n",
       "      <td id=\"T_bb9b6_row0_col5\" class=\"data row0 col5\" >-0.026355</td>\n",
       "      <td id=\"T_bb9b6_row0_col6\" class=\"data row0 col6\" >-0.001789</td>\n",
       "      <td id=\"T_bb9b6_row0_col7\" class=\"data row0 col7\" >0.000681</td>\n",
       "      <td id=\"T_bb9b6_row0_col8\" class=\"data row0 col8\" >-0.019916</td>\n",
       "      <td id=\"T_bb9b6_row0_col9\" class=\"data row0 col9\" >-0.004064</td>\n",
       "      <td id=\"T_bb9b6_row0_col10\" class=\"data row0 col10\" >-0.005775</td>\n",
       "      <td id=\"T_bb9b6_row0_col11\" class=\"data row0 col11\" >0.008882</td>\n",
       "      <td id=\"T_bb9b6_row0_col12\" class=\"data row0 col12\" >0.015964</td>\n",
       "      <td id=\"T_bb9b6_row0_col13\" class=\"data row0 col13\" >-0.002450</td>\n",
       "      <td id=\"T_bb9b6_row0_col14\" class=\"data row0 col14\" >-0.020906</td>\n",
       "      <td id=\"T_bb9b6_row0_col15\" class=\"data row0 col15\" >-0.013424</td>\n",
       "      <td id=\"T_bb9b6_row0_col16\" class=\"data row0 col16\" >-0.017096</td>\n",
       "      <td id=\"T_bb9b6_row0_col17\" class=\"data row0 col17\" >0.006743</td>\n",
       "      <td id=\"T_bb9b6_row0_col18\" class=\"data row0 col18\" >0.009544</td>\n",
       "      <td id=\"T_bb9b6_row0_col19\" class=\"data row0 col19\" >0.018900</td>\n",
       "      <td id=\"T_bb9b6_row0_col20\" class=\"data row0 col20\" >0.059529</td>\n",
       "      <td id=\"T_bb9b6_row0_col21\" class=\"data row0 col21\" >0.022297</td>\n",
       "      <td id=\"T_bb9b6_row0_col22\" class=\"data row0 col22\" >0.047911</td>\n",
       "      <td id=\"T_bb9b6_row0_col23\" class=\"data row0 col23\" >0.057373</td>\n",
       "      <td id=\"T_bb9b6_row0_col24\" class=\"data row0 col24\" >0.063844</td>\n",
       "      <td id=\"T_bb9b6_row0_col25\" class=\"data row0 col25\" >0.056743</td>\n",
       "      <td id=\"T_bb9b6_row0_col26\" class=\"data row0 col26\" >0.019339</td>\n",
       "      <td id=\"T_bb9b6_row0_col27\" class=\"data row0 col27\" >0.011344</td>\n",
       "      <td id=\"T_bb9b6_row0_col28\" class=\"data row0 col28\" >-0.014316</td>\n",
       "      <td id=\"T_bb9b6_row0_col29\" class=\"data row0 col29\" >0.008431</td>\n",
       "      <td id=\"T_bb9b6_row0_col30\" class=\"data row0 col30\" >0.015156</td>\n",
       "      <td id=\"T_bb9b6_row0_col31\" class=\"data row0 col31\" >0.032852</td>\n",
       "      <td id=\"T_bb9b6_row0_col32\" class=\"data row0 col32\" >-0.001297</td>\n",
       "      <td id=\"T_bb9b6_row0_col33\" class=\"data row0 col33\" >0.000617</td>\n",
       "      <td id=\"T_bb9b6_row0_col34\" class=\"data row0 col34\" >0.002262</td>\n",
       "      <td id=\"T_bb9b6_row0_col35\" class=\"data row0 col35\" >-0.041879</td>\n",
       "      <td id=\"T_bb9b6_row0_col36\" class=\"data row0 col36\" >-0.003614</td>\n",
       "      <td id=\"T_bb9b6_row0_col37\" class=\"data row0 col37\" >0.017398</td>\n",
       "      <td id=\"T_bb9b6_row0_col38\" class=\"data row0 col38\" >-0.253561</td>\n",
       "    </tr>\n",
       "    <tr>\n",
       "      <th id=\"T_bb9b6_level0_row1\" class=\"row_heading level0 row1\" >total_tracks</th>\n",
       "      <td id=\"T_bb9b6_row1_col0\" class=\"data row1 col0\" >-0.027754</td>\n",
       "      <td id=\"T_bb9b6_row1_col1\" class=\"data row1 col1\" >1.000000</td>\n",
       "      <td id=\"T_bb9b6_row1_col2\" class=\"data row1 col2\" >-0.062516</td>\n",
       "      <td id=\"T_bb9b6_row1_col3\" class=\"data row1 col3\" >0.019867</td>\n",
       "      <td id=\"T_bb9b6_row1_col4\" class=\"data row1 col4\" >-0.015322</td>\n",
       "      <td id=\"T_bb9b6_row1_col5\" class=\"data row1 col5\" >-0.059260</td>\n",
       "      <td id=\"T_bb9b6_row1_col6\" class=\"data row1 col6\" >-0.059348</td>\n",
       "      <td id=\"T_bb9b6_row1_col7\" class=\"data row1 col7\" >-0.054281</td>\n",
       "      <td id=\"T_bb9b6_row1_col8\" class=\"data row1 col8\" >-0.075200</td>\n",
       "      <td id=\"T_bb9b6_row1_col9\" class=\"data row1 col9\" >-0.061076</td>\n",
       "      <td id=\"T_bb9b6_row1_col10\" class=\"data row1 col10\" >-0.067875</td>\n",
       "      <td id=\"T_bb9b6_row1_col11\" class=\"data row1 col11\" >0.008447</td>\n",
       "      <td id=\"T_bb9b6_row1_col12\" class=\"data row1 col12\" >0.010330</td>\n",
       "      <td id=\"T_bb9b6_row1_col13\" class=\"data row1 col13\" >0.013653</td>\n",
       "      <td id=\"T_bb9b6_row1_col14\" class=\"data row1 col14\" >-0.007838</td>\n",
       "      <td id=\"T_bb9b6_row1_col15\" class=\"data row1 col15\" >-0.002657</td>\n",
       "      <td id=\"T_bb9b6_row1_col16\" class=\"data row1 col16\" >0.004940</td>\n",
       "      <td id=\"T_bb9b6_row1_col17\" class=\"data row1 col17\" >0.115617</td>\n",
       "      <td id=\"T_bb9b6_row1_col18\" class=\"data row1 col18\" >0.117793</td>\n",
       "      <td id=\"T_bb9b6_row1_col19\" class=\"data row1 col19\" >0.136216</td>\n",
       "      <td id=\"T_bb9b6_row1_col20\" class=\"data row1 col20\" >0.082319</td>\n",
       "      <td id=\"T_bb9b6_row1_col21\" class=\"data row1 col21\" >0.080573</td>\n",
       "      <td id=\"T_bb9b6_row1_col22\" class=\"data row1 col22\" >0.075009</td>\n",
       "      <td id=\"T_bb9b6_row1_col23\" class=\"data row1 col23\" >0.026069</td>\n",
       "      <td id=\"T_bb9b6_row1_col24\" class=\"data row1 col24\" >0.025562</td>\n",
       "      <td id=\"T_bb9b6_row1_col25\" class=\"data row1 col25\" >0.017757</td>\n",
       "      <td id=\"T_bb9b6_row1_col26\" class=\"data row1 col26\" >0.046025</td>\n",
       "      <td id=\"T_bb9b6_row1_col27\" class=\"data row1 col27\" >0.009020</td>\n",
       "      <td id=\"T_bb9b6_row1_col28\" class=\"data row1 col28\" >0.039200</td>\n",
       "      <td id=\"T_bb9b6_row1_col29\" class=\"data row1 col29\" >0.023836</td>\n",
       "      <td id=\"T_bb9b6_row1_col30\" class=\"data row1 col30\" >0.015051</td>\n",
       "      <td id=\"T_bb9b6_row1_col31\" class=\"data row1 col31\" >0.024551</td>\n",
       "      <td id=\"T_bb9b6_row1_col32\" class=\"data row1 col32\" >0.016933</td>\n",
       "      <td id=\"T_bb9b6_row1_col33\" class=\"data row1 col33\" >-0.048845</td>\n",
       "      <td id=\"T_bb9b6_row1_col34\" class=\"data row1 col34\" >-0.019779</td>\n",
       "      <td id=\"T_bb9b6_row1_col35\" class=\"data row1 col35\" >-0.063627</td>\n",
       "      <td id=\"T_bb9b6_row1_col36\" class=\"data row1 col36\" >-0.058912</td>\n",
       "      <td id=\"T_bb9b6_row1_col37\" class=\"data row1 col37\" >0.004617</td>\n",
       "      <td id=\"T_bb9b6_row1_col38\" class=\"data row1 col38\" >0.055853</td>\n",
       "    </tr>\n",
       "    <tr>\n",
       "      <th id=\"T_bb9b6_level0_row2\" class=\"row_heading level0 row2\" >t_dur0</th>\n",
       "      <td id=\"T_bb9b6_row2_col0\" class=\"data row2 col0\" >0.008656</td>\n",
       "      <td id=\"T_bb9b6_row2_col1\" class=\"data row2 col1\" >-0.062516</td>\n",
       "      <td id=\"T_bb9b6_row2_col2\" class=\"data row2 col2\" >1.000000</td>\n",
       "      <td id=\"T_bb9b6_row2_col3\" class=\"data row2 col3\" >0.488271</td>\n",
       "      <td id=\"T_bb9b6_row2_col4\" class=\"data row2 col4\" >0.466070</td>\n",
       "      <td id=\"T_bb9b6_row2_col5\" class=\"data row2 col5\" >-0.122604</td>\n",
       "      <td id=\"T_bb9b6_row2_col6\" class=\"data row2 col6\" >-0.171823</td>\n",
       "      <td id=\"T_bb9b6_row2_col7\" class=\"data row2 col7\" >-0.185570</td>\n",
       "      <td id=\"T_bb9b6_row2_col8\" class=\"data row2 col8\" >-0.001110</td>\n",
       "      <td id=\"T_bb9b6_row2_col9\" class=\"data row2 col9\" >-0.070526</td>\n",
       "      <td id=\"T_bb9b6_row2_col10\" class=\"data row2 col10\" >-0.065408</td>\n",
       "      <td id=\"T_bb9b6_row2_col11\" class=\"data row2 col11\" >-0.000223</td>\n",
       "      <td id=\"T_bb9b6_row2_col12\" class=\"data row2 col12\" >0.031814</td>\n",
       "      <td id=\"T_bb9b6_row2_col13\" class=\"data row2 col13\" >0.007819</td>\n",
       "      <td id=\"T_bb9b6_row2_col14\" class=\"data row2 col14\" >-0.034515</td>\n",
       "      <td id=\"T_bb9b6_row2_col15\" class=\"data row2 col15\" >-0.000891</td>\n",
       "      <td id=\"T_bb9b6_row2_col16\" class=\"data row2 col16\" >-0.011621</td>\n",
       "      <td id=\"T_bb9b6_row2_col17\" class=\"data row2 col17\" >-0.124429</td>\n",
       "      <td id=\"T_bb9b6_row2_col18\" class=\"data row2 col18\" >-0.080407</td>\n",
       "      <td id=\"T_bb9b6_row2_col19\" class=\"data row2 col19\" >-0.084466</td>\n",
       "      <td id=\"T_bb9b6_row2_col20\" class=\"data row2 col20\" >0.002626</td>\n",
       "      <td id=\"T_bb9b6_row2_col21\" class=\"data row2 col21\" >0.101183</td>\n",
       "      <td id=\"T_bb9b6_row2_col22\" class=\"data row2 col22\" >0.096922</td>\n",
       "      <td id=\"T_bb9b6_row2_col23\" class=\"data row2 col23\" >0.050895</td>\n",
       "      <td id=\"T_bb9b6_row2_col24\" class=\"data row2 col24\" >0.083471</td>\n",
       "      <td id=\"T_bb9b6_row2_col25\" class=\"data row2 col25\" >0.073200</td>\n",
       "      <td id=\"T_bb9b6_row2_col26\" class=\"data row2 col26\" >-0.015607</td>\n",
       "      <td id=\"T_bb9b6_row2_col27\" class=\"data row2 col27\" >0.027745</td>\n",
       "      <td id=\"T_bb9b6_row2_col28\" class=\"data row2 col28\" >0.009643</td>\n",
       "      <td id=\"T_bb9b6_row2_col29\" class=\"data row2 col29\" >-0.086551</td>\n",
       "      <td id=\"T_bb9b6_row2_col30\" class=\"data row2 col30\" >-0.107600</td>\n",
       "      <td id=\"T_bb9b6_row2_col31\" class=\"data row2 col31\" >-0.106250</td>\n",
       "      <td id=\"T_bb9b6_row2_col32\" class=\"data row2 col32\" >0.007964</td>\n",
       "      <td id=\"T_bb9b6_row2_col33\" class=\"data row2 col33\" >-0.032638</td>\n",
       "      <td id=\"T_bb9b6_row2_col34\" class=\"data row2 col34\" >-0.029588</td>\n",
       "      <td id=\"T_bb9b6_row2_col35\" class=\"data row2 col35\" >0.050840</td>\n",
       "      <td id=\"T_bb9b6_row2_col36\" class=\"data row2 col36\" >-0.037578</td>\n",
       "      <td id=\"T_bb9b6_row2_col37\" class=\"data row2 col37\" >-0.029837</td>\n",
       "      <td id=\"T_bb9b6_row2_col38\" class=\"data row2 col38\" >-0.052885</td>\n",
       "    </tr>\n",
       "    <tr>\n",
       "      <th id=\"T_bb9b6_level0_row3\" class=\"row_heading level0 row3\" >t_dur1</th>\n",
       "      <td id=\"T_bb9b6_row3_col0\" class=\"data row3 col0\" >0.036968</td>\n",
       "      <td id=\"T_bb9b6_row3_col1\" class=\"data row3 col1\" >0.019867</td>\n",
       "      <td id=\"T_bb9b6_row3_col2\" class=\"data row3 col2\" >0.488271</td>\n",
       "      <td id=\"T_bb9b6_row3_col3\" class=\"data row3 col3\" >1.000000</td>\n",
       "      <td id=\"T_bb9b6_row3_col4\" class=\"data row3 col4\" >0.733632</td>\n",
       "      <td id=\"T_bb9b6_row3_col5\" class=\"data row3 col5\" >-0.105042</td>\n",
       "      <td id=\"T_bb9b6_row3_col6\" class=\"data row3 col6\" >-0.123532</td>\n",
       "      <td id=\"T_bb9b6_row3_col7\" class=\"data row3 col7\" >-0.118182</td>\n",
       "      <td id=\"T_bb9b6_row3_col8\" class=\"data row3 col8\" >-0.020909</td>\n",
       "      <td id=\"T_bb9b6_row3_col9\" class=\"data row3 col9\" >-0.020909</td>\n",
       "      <td id=\"T_bb9b6_row3_col10\" class=\"data row3 col10\" >-0.019729</td>\n",
       "      <td id=\"T_bb9b6_row3_col11\" class=\"data row3 col11\" >-0.020565</td>\n",
       "      <td id=\"T_bb9b6_row3_col12\" class=\"data row3 col12\" >0.037907</td>\n",
       "      <td id=\"T_bb9b6_row3_col13\" class=\"data row3 col13\" >0.018884</td>\n",
       "      <td id=\"T_bb9b6_row3_col14\" class=\"data row3 col14\" >-0.039974</td>\n",
       "      <td id=\"T_bb9b6_row3_col15\" class=\"data row3 col15\" >0.004917</td>\n",
       "      <td id=\"T_bb9b6_row3_col16\" class=\"data row3 col16\" >-0.007190</td>\n",
       "      <td id=\"T_bb9b6_row3_col17\" class=\"data row3 col17\" >-0.076915</td>\n",
       "      <td id=\"T_bb9b6_row3_col18\" class=\"data row3 col18\" >-0.077097</td>\n",
       "      <td id=\"T_bb9b6_row3_col19\" class=\"data row3 col19\" >-0.077504</td>\n",
       "      <td id=\"T_bb9b6_row3_col20\" class=\"data row3 col20\" >0.036478</td>\n",
       "      <td id=\"T_bb9b6_row3_col21\" class=\"data row3 col21\" >0.052498</td>\n",
       "      <td id=\"T_bb9b6_row3_col22\" class=\"data row3 col22\" >0.060266</td>\n",
       "      <td id=\"T_bb9b6_row3_col23\" class=\"data row3 col23\" >0.043019</td>\n",
       "      <td id=\"T_bb9b6_row3_col24\" class=\"data row3 col24\" >0.054749</td>\n",
       "      <td id=\"T_bb9b6_row3_col25\" class=\"data row3 col25\" >0.044116</td>\n",
       "      <td id=\"T_bb9b6_row3_col26\" class=\"data row3 col26\" >0.016670</td>\n",
       "      <td id=\"T_bb9b6_row3_col27\" class=\"data row3 col27\" >0.022773</td>\n",
       "      <td id=\"T_bb9b6_row3_col28\" class=\"data row3 col28\" >0.020477</td>\n",
       "      <td id=\"T_bb9b6_row3_col29\" class=\"data row3 col29\" >-0.049024</td>\n",
       "      <td id=\"T_bb9b6_row3_col30\" class=\"data row3 col30\" >-0.084869</td>\n",
       "      <td id=\"T_bb9b6_row3_col31\" class=\"data row3 col31\" >-0.064974</td>\n",
       "      <td id=\"T_bb9b6_row3_col32\" class=\"data row3 col32\" >-0.011106</td>\n",
       "      <td id=\"T_bb9b6_row3_col33\" class=\"data row3 col33\" >-0.013197</td>\n",
       "      <td id=\"T_bb9b6_row3_col34\" class=\"data row3 col34\" >-0.039309</td>\n",
       "      <td id=\"T_bb9b6_row3_col35\" class=\"data row3 col35\" >0.021285</td>\n",
       "      <td id=\"T_bb9b6_row3_col36\" class=\"data row3 col36\" >0.005725</td>\n",
       "      <td id=\"T_bb9b6_row3_col37\" class=\"data row3 col37\" >0.000070</td>\n",
       "      <td id=\"T_bb9b6_row3_col38\" class=\"data row3 col38\" >-0.046058</td>\n",
       "    </tr>\n",
       "    <tr>\n",
       "      <th id=\"T_bb9b6_level0_row4\" class=\"row_heading level0 row4\" >t_dur2</th>\n",
       "      <td id=\"T_bb9b6_row4_col0\" class=\"data row4 col0\" >0.031504</td>\n",
       "      <td id=\"T_bb9b6_row4_col1\" class=\"data row4 col1\" >-0.015322</td>\n",
       "      <td id=\"T_bb9b6_row4_col2\" class=\"data row4 col2\" >0.466070</td>\n",
       "      <td id=\"T_bb9b6_row4_col3\" class=\"data row4 col3\" >0.733632</td>\n",
       "      <td id=\"T_bb9b6_row4_col4\" class=\"data row4 col4\" >1.000000</td>\n",
       "      <td id=\"T_bb9b6_row4_col5\" class=\"data row4 col5\" >-0.109994</td>\n",
       "      <td id=\"T_bb9b6_row4_col6\" class=\"data row4 col6\" >-0.129735</td>\n",
       "      <td id=\"T_bb9b6_row4_col7\" class=\"data row4 col7\" >-0.155260</td>\n",
       "      <td id=\"T_bb9b6_row4_col8\" class=\"data row4 col8\" >-0.017992</td>\n",
       "      <td id=\"T_bb9b6_row4_col9\" class=\"data row4 col9\" >-0.013709</td>\n",
       "      <td id=\"T_bb9b6_row4_col10\" class=\"data row4 col10\" >-0.012496</td>\n",
       "      <td id=\"T_bb9b6_row4_col11\" class=\"data row4 col11\" >-0.020899</td>\n",
       "      <td id=\"T_bb9b6_row4_col12\" class=\"data row4 col12\" >0.023454</td>\n",
       "      <td id=\"T_bb9b6_row4_col13\" class=\"data row4 col13\" >0.023935</td>\n",
       "      <td id=\"T_bb9b6_row4_col14\" class=\"data row4 col14\" >-0.040471</td>\n",
       "      <td id=\"T_bb9b6_row4_col15\" class=\"data row4 col15\" >-0.011107</td>\n",
       "      <td id=\"T_bb9b6_row4_col16\" class=\"data row4 col16\" >-0.006295</td>\n",
       "      <td id=\"T_bb9b6_row4_col17\" class=\"data row4 col17\" >-0.088213</td>\n",
       "      <td id=\"T_bb9b6_row4_col18\" class=\"data row4 col18\" >-0.086134</td>\n",
       "      <td id=\"T_bb9b6_row4_col19\" class=\"data row4 col19\" >-0.136652</td>\n",
       "      <td id=\"T_bb9b6_row4_col20\" class=\"data row4 col20\" >0.011486</td>\n",
       "      <td id=\"T_bb9b6_row4_col21\" class=\"data row4 col21\" >0.037938</td>\n",
       "      <td id=\"T_bb9b6_row4_col22\" class=\"data row4 col22\" >0.020221</td>\n",
       "      <td id=\"T_bb9b6_row4_col23\" class=\"data row4 col23\" >0.063619</td>\n",
       "      <td id=\"T_bb9b6_row4_col24\" class=\"data row4 col24\" >0.078292</td>\n",
       "      <td id=\"T_bb9b6_row4_col25\" class=\"data row4 col25\" >0.067123</td>\n",
       "      <td id=\"T_bb9b6_row4_col26\" class=\"data row4 col26\" >0.000256</td>\n",
       "      <td id=\"T_bb9b6_row4_col27\" class=\"data row4 col27\" >0.029398</td>\n",
       "      <td id=\"T_bb9b6_row4_col28\" class=\"data row4 col28\" >0.009819</td>\n",
       "      <td id=\"T_bb9b6_row4_col29\" class=\"data row4 col29\" >-0.057442</td>\n",
       "      <td id=\"T_bb9b6_row4_col30\" class=\"data row4 col30\" >-0.069139</td>\n",
       "      <td id=\"T_bb9b6_row4_col31\" class=\"data row4 col31\" >-0.115064</td>\n",
       "      <td id=\"T_bb9b6_row4_col32\" class=\"data row4 col32\" >-0.004348</td>\n",
       "      <td id=\"T_bb9b6_row4_col33\" class=\"data row4 col33\" >-0.012784</td>\n",
       "      <td id=\"T_bb9b6_row4_col34\" class=\"data row4 col34\" >-0.039324</td>\n",
       "      <td id=\"T_bb9b6_row4_col35\" class=\"data row4 col35\" >0.012222</td>\n",
       "      <td id=\"T_bb9b6_row4_col36\" class=\"data row4 col36\" >0.001833</td>\n",
       "      <td id=\"T_bb9b6_row4_col37\" class=\"data row4 col37\" >0.006489</td>\n",
       "      <td id=\"T_bb9b6_row4_col38\" class=\"data row4 col38\" >-0.056048</td>\n",
       "    </tr>\n",
       "    <tr>\n",
       "      <th id=\"T_bb9b6_level0_row5\" class=\"row_heading level0 row5\" >t_dance0</th>\n",
       "      <td id=\"T_bb9b6_row5_col0\" class=\"data row5 col0\" >-0.026355</td>\n",
       "      <td id=\"T_bb9b6_row5_col1\" class=\"data row5 col1\" >-0.059260</td>\n",
       "      <td id=\"T_bb9b6_row5_col2\" class=\"data row5 col2\" >-0.122604</td>\n",
       "      <td id=\"T_bb9b6_row5_col3\" class=\"data row5 col3\" >-0.105042</td>\n",
       "      <td id=\"T_bb9b6_row5_col4\" class=\"data row5 col4\" >-0.109994</td>\n",
       "      <td id=\"T_bb9b6_row5_col5\" class=\"data row5 col5\" >1.000000</td>\n",
       "      <td id=\"T_bb9b6_row5_col6\" class=\"data row5 col6\" >0.631541</td>\n",
       "      <td id=\"T_bb9b6_row5_col7\" class=\"data row5 col7\" >0.605970</td>\n",
       "      <td id=\"T_bb9b6_row5_col8\" class=\"data row5 col8\" >0.177335</td>\n",
       "      <td id=\"T_bb9b6_row5_col9\" class=\"data row5 col9\" >0.131038</td>\n",
       "      <td id=\"T_bb9b6_row5_col10\" class=\"data row5 col10\" >0.128307</td>\n",
       "      <td id=\"T_bb9b6_row5_col11\" class=\"data row5 col11\" >0.031269</td>\n",
       "      <td id=\"T_bb9b6_row5_col12\" class=\"data row5 col12\" >-0.008146</td>\n",
       "      <td id=\"T_bb9b6_row5_col13\" class=\"data row5 col13\" >0.031513</td>\n",
       "      <td id=\"T_bb9b6_row5_col14\" class=\"data row5 col14\" >-0.048495</td>\n",
       "      <td id=\"T_bb9b6_row5_col15\" class=\"data row5 col15\" >-0.046118</td>\n",
       "      <td id=\"T_bb9b6_row5_col16\" class=\"data row5 col16\" >-0.062179</td>\n",
       "      <td id=\"T_bb9b6_row5_col17\" class=\"data row5 col17\" >0.211470</td>\n",
       "      <td id=\"T_bb9b6_row5_col18\" class=\"data row5 col18\" >0.188501</td>\n",
       "      <td id=\"T_bb9b6_row5_col19\" class=\"data row5 col19\" >0.163185</td>\n",
       "      <td id=\"T_bb9b6_row5_col20\" class=\"data row5 col20\" >-0.253235</td>\n",
       "      <td id=\"T_bb9b6_row5_col21\" class=\"data row5 col21\" >-0.197331</td>\n",
       "      <td id=\"T_bb9b6_row5_col22\" class=\"data row5 col22\" >-0.203174</td>\n",
       "      <td id=\"T_bb9b6_row5_col23\" class=\"data row5 col23\" >-0.266484</td>\n",
       "      <td id=\"T_bb9b6_row5_col24\" class=\"data row5 col24\" >-0.222790</td>\n",
       "      <td id=\"T_bb9b6_row5_col25\" class=\"data row5 col25\" >-0.216136</td>\n",
       "      <td id=\"T_bb9b6_row5_col26\" class=\"data row5 col26\" >-0.161330</td>\n",
       "      <td id=\"T_bb9b6_row5_col27\" class=\"data row5 col27\" >-0.110871</td>\n",
       "      <td id=\"T_bb9b6_row5_col28\" class=\"data row5 col28\" >-0.114729</td>\n",
       "      <td id=\"T_bb9b6_row5_col29\" class=\"data row5 col29\" >0.480693</td>\n",
       "      <td id=\"T_bb9b6_row5_col30\" class=\"data row5 col30\" >0.326735</td>\n",
       "      <td id=\"T_bb9b6_row5_col31\" class=\"data row5 col31\" >0.312633</td>\n",
       "      <td id=\"T_bb9b6_row5_col32\" class=\"data row5 col32\" >0.080757</td>\n",
       "      <td id=\"T_bb9b6_row5_col33\" class=\"data row5 col33\" >0.050089</td>\n",
       "      <td id=\"T_bb9b6_row5_col34\" class=\"data row5 col34\" >0.063301</td>\n",
       "      <td id=\"T_bb9b6_row5_col35\" class=\"data row5 col35\" >0.229628</td>\n",
       "      <td id=\"T_bb9b6_row5_col36\" class=\"data row5 col36\" >0.131708</td>\n",
       "      <td id=\"T_bb9b6_row5_col37\" class=\"data row5 col37\" >0.132268</td>\n",
       "      <td id=\"T_bb9b6_row5_col38\" class=\"data row5 col38\" >-0.006613</td>\n",
       "    </tr>\n",
       "    <tr>\n",
       "      <th id=\"T_bb9b6_level0_row6\" class=\"row_heading level0 row6\" >t_dance1</th>\n",
       "      <td id=\"T_bb9b6_row6_col0\" class=\"data row6 col0\" >-0.001789</td>\n",
       "      <td id=\"T_bb9b6_row6_col1\" class=\"data row6 col1\" >-0.059348</td>\n",
       "      <td id=\"T_bb9b6_row6_col2\" class=\"data row6 col2\" >-0.171823</td>\n",
       "      <td id=\"T_bb9b6_row6_col3\" class=\"data row6 col3\" >-0.123532</td>\n",
       "      <td id=\"T_bb9b6_row6_col4\" class=\"data row6 col4\" >-0.129735</td>\n",
       "      <td id=\"T_bb9b6_row6_col5\" class=\"data row6 col5\" >0.631541</td>\n",
       "      <td id=\"T_bb9b6_row6_col6\" class=\"data row6 col6\" >1.000000</td>\n",
       "      <td id=\"T_bb9b6_row6_col7\" class=\"data row6 col7\" >0.649472</td>\n",
       "      <td id=\"T_bb9b6_row6_col8\" class=\"data row6 col8\" >0.128732</td>\n",
       "      <td id=\"T_bb9b6_row6_col9\" class=\"data row6 col9\" >0.178725</td>\n",
       "      <td id=\"T_bb9b6_row6_col10\" class=\"data row6 col10\" >0.141807</td>\n",
       "      <td id=\"T_bb9b6_row6_col11\" class=\"data row6 col11\" >-0.006270</td>\n",
       "      <td id=\"T_bb9b6_row6_col12\" class=\"data row6 col12\" >0.021058</td>\n",
       "      <td id=\"T_bb9b6_row6_col13\" class=\"data row6 col13\" >0.003994</td>\n",
       "      <td id=\"T_bb9b6_row6_col14\" class=\"data row6 col14\" >-0.034978</td>\n",
       "      <td id=\"T_bb9b6_row6_col15\" class=\"data row6 col15\" >-0.068349</td>\n",
       "      <td id=\"T_bb9b6_row6_col16\" class=\"data row6 col16\" >-0.050152</td>\n",
       "      <td id=\"T_bb9b6_row6_col17\" class=\"data row6 col17\" >0.222326</td>\n",
       "      <td id=\"T_bb9b6_row6_col18\" class=\"data row6 col18\" >0.220044</td>\n",
       "      <td id=\"T_bb9b6_row6_col19\" class=\"data row6 col19\" >0.190729</td>\n",
       "      <td id=\"T_bb9b6_row6_col20\" class=\"data row6 col20\" >-0.178815</td>\n",
       "      <td id=\"T_bb9b6_row6_col21\" class=\"data row6 col21\" >-0.243411</td>\n",
       "      <td id=\"T_bb9b6_row6_col22\" class=\"data row6 col22\" >-0.220432</td>\n",
       "      <td id=\"T_bb9b6_row6_col23\" class=\"data row6 col23\" >-0.268307</td>\n",
       "      <td id=\"T_bb9b6_row6_col24\" class=\"data row6 col24\" >-0.259359</td>\n",
       "      <td id=\"T_bb9b6_row6_col25\" class=\"data row6 col25\" >-0.258962</td>\n",
       "      <td id=\"T_bb9b6_row6_col26\" class=\"data row6 col26\" >-0.103836</td>\n",
       "      <td id=\"T_bb9b6_row6_col27\" class=\"data row6 col27\" >-0.144144</td>\n",
       "      <td id=\"T_bb9b6_row6_col28\" class=\"data row6 col28\" >-0.124050</td>\n",
       "      <td id=\"T_bb9b6_row6_col29\" class=\"data row6 col29\" >0.313391</td>\n",
       "      <td id=\"T_bb9b6_row6_col30\" class=\"data row6 col30\" >0.458649</td>\n",
       "      <td id=\"T_bb9b6_row6_col31\" class=\"data row6 col31\" >0.305252</td>\n",
       "      <td id=\"T_bb9b6_row6_col32\" class=\"data row6 col32\" >0.063958</td>\n",
       "      <td id=\"T_bb9b6_row6_col33\" class=\"data row6 col33\" >-0.012048</td>\n",
       "      <td id=\"T_bb9b6_row6_col34\" class=\"data row6 col34\" >0.040317</td>\n",
       "      <td id=\"T_bb9b6_row6_col35\" class=\"data row6 col35\" >0.084748</td>\n",
       "      <td id=\"T_bb9b6_row6_col36\" class=\"data row6 col36\" >0.210627</td>\n",
       "      <td id=\"T_bb9b6_row6_col37\" class=\"data row6 col37\" >0.179532</td>\n",
       "      <td id=\"T_bb9b6_row6_col38\" class=\"data row6 col38\" >0.021690</td>\n",
       "    </tr>\n",
       "    <tr>\n",
       "      <th id=\"T_bb9b6_level0_row7\" class=\"row_heading level0 row7\" >t_dance2</th>\n",
       "      <td id=\"T_bb9b6_row7_col0\" class=\"data row7 col0\" >0.000681</td>\n",
       "      <td id=\"T_bb9b6_row7_col1\" class=\"data row7 col1\" >-0.054281</td>\n",
       "      <td id=\"T_bb9b6_row7_col2\" class=\"data row7 col2\" >-0.185570</td>\n",
       "      <td id=\"T_bb9b6_row7_col3\" class=\"data row7 col3\" >-0.118182</td>\n",
       "      <td id=\"T_bb9b6_row7_col4\" class=\"data row7 col4\" >-0.155260</td>\n",
       "      <td id=\"T_bb9b6_row7_col5\" class=\"data row7 col5\" >0.605970</td>\n",
       "      <td id=\"T_bb9b6_row7_col6\" class=\"data row7 col6\" >0.649472</td>\n",
       "      <td id=\"T_bb9b6_row7_col7\" class=\"data row7 col7\" >1.000000</td>\n",
       "      <td id=\"T_bb9b6_row7_col8\" class=\"data row7 col8\" >0.138564</td>\n",
       "      <td id=\"T_bb9b6_row7_col9\" class=\"data row7 col9\" >0.173243</td>\n",
       "      <td id=\"T_bb9b6_row7_col10\" class=\"data row7 col10\" >0.205005</td>\n",
       "      <td id=\"T_bb9b6_row7_col11\" class=\"data row7 col11\" >0.027378</td>\n",
       "      <td id=\"T_bb9b6_row7_col12\" class=\"data row7 col12\" >0.018022</td>\n",
       "      <td id=\"T_bb9b6_row7_col13\" class=\"data row7 col13\" >0.028007</td>\n",
       "      <td id=\"T_bb9b6_row7_col14\" class=\"data row7 col14\" >-0.037998</td>\n",
       "      <td id=\"T_bb9b6_row7_col15\" class=\"data row7 col15\" >-0.066579</td>\n",
       "      <td id=\"T_bb9b6_row7_col16\" class=\"data row7 col16\" >-0.083720</td>\n",
       "      <td id=\"T_bb9b6_row7_col17\" class=\"data row7 col17\" >0.227547</td>\n",
       "      <td id=\"T_bb9b6_row7_col18\" class=\"data row7 col18\" >0.230955</td>\n",
       "      <td id=\"T_bb9b6_row7_col19\" class=\"data row7 col19\" >0.221250</td>\n",
       "      <td id=\"T_bb9b6_row7_col20\" class=\"data row7 col20\" >-0.184349</td>\n",
       "      <td id=\"T_bb9b6_row7_col21\" class=\"data row7 col21\" >-0.226366</td>\n",
       "      <td id=\"T_bb9b6_row7_col22\" class=\"data row7 col22\" >-0.265433</td>\n",
       "      <td id=\"T_bb9b6_row7_col23\" class=\"data row7 col23\" >-0.279984</td>\n",
       "      <td id=\"T_bb9b6_row7_col24\" class=\"data row7 col24\" >-0.271639</td>\n",
       "      <td id=\"T_bb9b6_row7_col25\" class=\"data row7 col25\" >-0.282799</td>\n",
       "      <td id=\"T_bb9b6_row7_col26\" class=\"data row7 col26\" >-0.081138</td>\n",
       "      <td id=\"T_bb9b6_row7_col27\" class=\"data row7 col27\" >-0.087104</td>\n",
       "      <td id=\"T_bb9b6_row7_col28\" class=\"data row7 col28\" >-0.133064</td>\n",
       "      <td id=\"T_bb9b6_row7_col29\" class=\"data row7 col29\" >0.308151</td>\n",
       "      <td id=\"T_bb9b6_row7_col30\" class=\"data row7 col30\" >0.330936</td>\n",
       "      <td id=\"T_bb9b6_row7_col31\" class=\"data row7 col31\" >0.480709</td>\n",
       "      <td id=\"T_bb9b6_row7_col32\" class=\"data row7 col32\" >0.065594</td>\n",
       "      <td id=\"T_bb9b6_row7_col33\" class=\"data row7 col33\" >0.063653</td>\n",
       "      <td id=\"T_bb9b6_row7_col34\" class=\"data row7 col34\" >-0.000050</td>\n",
       "      <td id=\"T_bb9b6_row7_col35\" class=\"data row7 col35\" >0.064625</td>\n",
       "      <td id=\"T_bb9b6_row7_col36\" class=\"data row7 col36\" >0.138909</td>\n",
       "      <td id=\"T_bb9b6_row7_col37\" class=\"data row7 col37\" >0.221097</td>\n",
       "      <td id=\"T_bb9b6_row7_col38\" class=\"data row7 col38\" >0.050331</td>\n",
       "    </tr>\n",
       "    <tr>\n",
       "      <th id=\"T_bb9b6_level0_row8\" class=\"row_heading level0 row8\" >t_energy0</th>\n",
       "      <td id=\"T_bb9b6_row8_col0\" class=\"data row8 col0\" >-0.019916</td>\n",
       "      <td id=\"T_bb9b6_row8_col1\" class=\"data row8 col1\" >-0.075200</td>\n",
       "      <td id=\"T_bb9b6_row8_col2\" class=\"data row8 col2\" >-0.001110</td>\n",
       "      <td id=\"T_bb9b6_row8_col3\" class=\"data row8 col3\" >-0.020909</td>\n",
       "      <td id=\"T_bb9b6_row8_col4\" class=\"data row8 col4\" >-0.017992</td>\n",
       "      <td id=\"T_bb9b6_row8_col5\" class=\"data row8 col5\" >0.177335</td>\n",
       "      <td id=\"T_bb9b6_row8_col6\" class=\"data row8 col6\" >0.128732</td>\n",
       "      <td id=\"T_bb9b6_row8_col7\" class=\"data row8 col7\" >0.138564</td>\n",
       "      <td id=\"T_bb9b6_row8_col8\" class=\"data row8 col8\" >1.000000</td>\n",
       "      <td id=\"T_bb9b6_row8_col9\" class=\"data row8 col9\" >0.697616</td>\n",
       "      <td id=\"T_bb9b6_row8_col10\" class=\"data row8 col10\" >0.671110</td>\n",
       "      <td id=\"T_bb9b6_row8_col11\" class=\"data row8 col11\" >0.011031</td>\n",
       "      <td id=\"T_bb9b6_row8_col12\" class=\"data row8 col12\" >0.031106</td>\n",
       "      <td id=\"T_bb9b6_row8_col13\" class=\"data row8 col13\" >0.009031</td>\n",
       "      <td id=\"T_bb9b6_row8_col14\" class=\"data row8 col14\" >-0.049784</td>\n",
       "      <td id=\"T_bb9b6_row8_col15\" class=\"data row8 col15\" >-0.044425</td>\n",
       "      <td id=\"T_bb9b6_row8_col16\" class=\"data row8 col16\" >-0.029386</td>\n",
       "      <td id=\"T_bb9b6_row8_col17\" class=\"data row8 col17\" >0.007443</td>\n",
       "      <td id=\"T_bb9b6_row8_col18\" class=\"data row8 col18\" >-0.006649</td>\n",
       "      <td id=\"T_bb9b6_row8_col19\" class=\"data row8 col19\" >-0.021448</td>\n",
       "      <td id=\"T_bb9b6_row8_col20\" class=\"data row8 col20\" >-0.658399</td>\n",
       "      <td id=\"T_bb9b6_row8_col21\" class=\"data row8 col21\" >-0.535453</td>\n",
       "      <td id=\"T_bb9b6_row8_col22\" class=\"data row8 col22\" >-0.492847</td>\n",
       "      <td id=\"T_bb9b6_row8_col23\" class=\"data row8 col23\" >-0.287067</td>\n",
       "      <td id=\"T_bb9b6_row8_col24\" class=\"data row8 col24\" >-0.274864</td>\n",
       "      <td id=\"T_bb9b6_row8_col25\" class=\"data row8 col25\" >-0.230657</td>\n",
       "      <td id=\"T_bb9b6_row8_col26\" class=\"data row8 col26\" >0.151989</td>\n",
       "      <td id=\"T_bb9b6_row8_col27\" class=\"data row8 col27\" >0.130868</td>\n",
       "      <td id=\"T_bb9b6_row8_col28\" class=\"data row8 col28\" >0.098530</td>\n",
       "      <td id=\"T_bb9b6_row8_col29\" class=\"data row8 col29\" >0.334330</td>\n",
       "      <td id=\"T_bb9b6_row8_col30\" class=\"data row8 col30\" >0.237767</td>\n",
       "      <td id=\"T_bb9b6_row8_col31\" class=\"data row8 col31\" >0.254437</td>\n",
       "      <td id=\"T_bb9b6_row8_col32\" class=\"data row8 col32\" >0.205279</td>\n",
       "      <td id=\"T_bb9b6_row8_col33\" class=\"data row8 col33\" >0.141527</td>\n",
       "      <td id=\"T_bb9b6_row8_col34\" class=\"data row8 col34\" >0.148943</td>\n",
       "      <td id=\"T_bb9b6_row8_col35\" class=\"data row8 col35\" >0.168552</td>\n",
       "      <td id=\"T_bb9b6_row8_col36\" class=\"data row8 col36\" >0.115615</td>\n",
       "      <td id=\"T_bb9b6_row8_col37\" class=\"data row8 col37\" >0.091517</td>\n",
       "      <td id=\"T_bb9b6_row8_col38\" class=\"data row8 col38\" >0.066504</td>\n",
       "    </tr>\n",
       "    <tr>\n",
       "      <th id=\"T_bb9b6_level0_row9\" class=\"row_heading level0 row9\" >t_energy1</th>\n",
       "      <td id=\"T_bb9b6_row9_col0\" class=\"data row9 col0\" >-0.004064</td>\n",
       "      <td id=\"T_bb9b6_row9_col1\" class=\"data row9 col1\" >-0.061076</td>\n",
       "      <td id=\"T_bb9b6_row9_col2\" class=\"data row9 col2\" >-0.070526</td>\n",
       "      <td id=\"T_bb9b6_row9_col3\" class=\"data row9 col3\" >-0.020909</td>\n",
       "      <td id=\"T_bb9b6_row9_col4\" class=\"data row9 col4\" >-0.013709</td>\n",
       "      <td id=\"T_bb9b6_row9_col5\" class=\"data row9 col5\" >0.131038</td>\n",
       "      <td id=\"T_bb9b6_row9_col6\" class=\"data row9 col6\" >0.178725</td>\n",
       "      <td id=\"T_bb9b6_row9_col7\" class=\"data row9 col7\" >0.173243</td>\n",
       "      <td id=\"T_bb9b6_row9_col8\" class=\"data row9 col8\" >0.697616</td>\n",
       "      <td id=\"T_bb9b6_row9_col9\" class=\"data row9 col9\" >1.000000</td>\n",
       "      <td id=\"T_bb9b6_row9_col10\" class=\"data row9 col10\" >0.711301</td>\n",
       "      <td id=\"T_bb9b6_row9_col11\" class=\"data row9 col11\" >0.039065</td>\n",
       "      <td id=\"T_bb9b6_row9_col12\" class=\"data row9 col12\" >0.016477</td>\n",
       "      <td id=\"T_bb9b6_row9_col13\" class=\"data row9 col13\" >-0.006676</td>\n",
       "      <td id=\"T_bb9b6_row9_col14\" class=\"data row9 col14\" >-0.054011</td>\n",
       "      <td id=\"T_bb9b6_row9_col15\" class=\"data row9 col15\" >-0.061080</td>\n",
       "      <td id=\"T_bb9b6_row9_col16\" class=\"data row9 col16\" >-0.037359</td>\n",
       "      <td id=\"T_bb9b6_row9_col17\" class=\"data row9 col17\" >0.055180</td>\n",
       "      <td id=\"T_bb9b6_row9_col18\" class=\"data row9 col18\" >0.055172</td>\n",
       "      <td id=\"T_bb9b6_row9_col19\" class=\"data row9 col19\" >0.041286</td>\n",
       "      <td id=\"T_bb9b6_row9_col20\" class=\"data row9 col20\" >-0.519451</td>\n",
       "      <td id=\"T_bb9b6_row9_col21\" class=\"data row9 col21\" >-0.663565</td>\n",
       "      <td id=\"T_bb9b6_row9_col22\" class=\"data row9 col22\" >-0.526710</td>\n",
       "      <td id=\"T_bb9b6_row9_col23\" class=\"data row9 col23\" >-0.289707</td>\n",
       "      <td id=\"T_bb9b6_row9_col24\" class=\"data row9 col24\" >-0.311633</td>\n",
       "      <td id=\"T_bb9b6_row9_col25\" class=\"data row9 col25\" >-0.303215</td>\n",
       "      <td id=\"T_bb9b6_row9_col26\" class=\"data row9 col26\" >0.154356</td>\n",
       "      <td id=\"T_bb9b6_row9_col27\" class=\"data row9 col27\" >0.179993</td>\n",
       "      <td id=\"T_bb9b6_row9_col28\" class=\"data row9 col28\" >0.126992</td>\n",
       "      <td id=\"T_bb9b6_row9_col29\" class=\"data row9 col29\" >0.210205</td>\n",
       "      <td id=\"T_bb9b6_row9_col30\" class=\"data row9 col30\" >0.343170</td>\n",
       "      <td id=\"T_bb9b6_row9_col31\" class=\"data row9 col31\" >0.237026</td>\n",
       "      <td id=\"T_bb9b6_row9_col32\" class=\"data row9 col32\" >0.131163</td>\n",
       "      <td id=\"T_bb9b6_row9_col33\" class=\"data row9 col33\" >0.211754</td>\n",
       "      <td id=\"T_bb9b6_row9_col34\" class=\"data row9 col34\" >0.141669</td>\n",
       "      <td id=\"T_bb9b6_row9_col35\" class=\"data row9 col35\" >0.085729</td>\n",
       "      <td id=\"T_bb9b6_row9_col36\" class=\"data row9 col36\" >0.164737</td>\n",
       "      <td id=\"T_bb9b6_row9_col37\" class=\"data row9 col37\" >0.110830</td>\n",
       "      <td id=\"T_bb9b6_row9_col38\" class=\"data row9 col38\" >0.107671</td>\n",
       "    </tr>\n",
       "    <tr>\n",
       "      <th id=\"T_bb9b6_level0_row10\" class=\"row_heading level0 row10\" >t_energy2</th>\n",
       "      <td id=\"T_bb9b6_row10_col0\" class=\"data row10 col0\" >-0.005775</td>\n",
       "      <td id=\"T_bb9b6_row10_col1\" class=\"data row10 col1\" >-0.067875</td>\n",
       "      <td id=\"T_bb9b6_row10_col2\" class=\"data row10 col2\" >-0.065408</td>\n",
       "      <td id=\"T_bb9b6_row10_col3\" class=\"data row10 col3\" >-0.019729</td>\n",
       "      <td id=\"T_bb9b6_row10_col4\" class=\"data row10 col4\" >-0.012496</td>\n",
       "      <td id=\"T_bb9b6_row10_col5\" class=\"data row10 col5\" >0.128307</td>\n",
       "      <td id=\"T_bb9b6_row10_col6\" class=\"data row10 col6\" >0.141807</td>\n",
       "      <td id=\"T_bb9b6_row10_col7\" class=\"data row10 col7\" >0.205005</td>\n",
       "      <td id=\"T_bb9b6_row10_col8\" class=\"data row10 col8\" >0.671110</td>\n",
       "      <td id=\"T_bb9b6_row10_col9\" class=\"data row10 col9\" >0.711301</td>\n",
       "      <td id=\"T_bb9b6_row10_col10\" class=\"data row10 col10\" >1.000000</td>\n",
       "      <td id=\"T_bb9b6_row10_col11\" class=\"data row10 col11\" >0.029450</td>\n",
       "      <td id=\"T_bb9b6_row10_col12\" class=\"data row10 col12\" >0.033168</td>\n",
       "      <td id=\"T_bb9b6_row10_col13\" class=\"data row10 col13\" >0.032571</td>\n",
       "      <td id=\"T_bb9b6_row10_col14\" class=\"data row10 col14\" >-0.056091</td>\n",
       "      <td id=\"T_bb9b6_row10_col15\" class=\"data row10 col15\" >-0.057089</td>\n",
       "      <td id=\"T_bb9b6_row10_col16\" class=\"data row10 col16\" >-0.048966</td>\n",
       "      <td id=\"T_bb9b6_row10_col17\" class=\"data row10 col17\" >0.039784</td>\n",
       "      <td id=\"T_bb9b6_row10_col18\" class=\"data row10 col18\" >0.052014</td>\n",
       "      <td id=\"T_bb9b6_row10_col19\" class=\"data row10 col19\" >0.049288</td>\n",
       "      <td id=\"T_bb9b6_row10_col20\" class=\"data row10 col20\" >-0.516864</td>\n",
       "      <td id=\"T_bb9b6_row10_col21\" class=\"data row10 col21\" >-0.554192</td>\n",
       "      <td id=\"T_bb9b6_row10_col22\" class=\"data row10 col22\" >-0.659510</td>\n",
       "      <td id=\"T_bb9b6_row10_col23\" class=\"data row10 col23\" >-0.274035</td>\n",
       "      <td id=\"T_bb9b6_row10_col24\" class=\"data row10 col24\" >-0.307663</td>\n",
       "      <td id=\"T_bb9b6_row10_col25\" class=\"data row10 col25\" >-0.278349</td>\n",
       "      <td id=\"T_bb9b6_row10_col26\" class=\"data row10 col26\" >0.156637</td>\n",
       "      <td id=\"T_bb9b6_row10_col27\" class=\"data row10 col27\" >0.139579</td>\n",
       "      <td id=\"T_bb9b6_row10_col28\" class=\"data row10 col28\" >0.166134</td>\n",
       "      <td id=\"T_bb9b6_row10_col29\" class=\"data row10 col29\" >0.198248</td>\n",
       "      <td id=\"T_bb9b6_row10_col30\" class=\"data row10 col30\" >0.198646</td>\n",
       "      <td id=\"T_bb9b6_row10_col31\" class=\"data row10 col31\" >0.368321</td>\n",
       "      <td id=\"T_bb9b6_row10_col32\" class=\"data row10 col32\" >0.104095</td>\n",
       "      <td id=\"T_bb9b6_row10_col33\" class=\"data row10 col33\" >0.152541</td>\n",
       "      <td id=\"T_bb9b6_row10_col34\" class=\"data row10 col34\" >0.203086</td>\n",
       "      <td id=\"T_bb9b6_row10_col35\" class=\"data row10 col35\" >0.098141</td>\n",
       "      <td id=\"T_bb9b6_row10_col36\" class=\"data row10 col36\" >0.104579</td>\n",
       "      <td id=\"T_bb9b6_row10_col37\" class=\"data row10 col37\" >0.141164</td>\n",
       "      <td id=\"T_bb9b6_row10_col38\" class=\"data row10 col38\" >0.093372</td>\n",
       "    </tr>\n",
       "    <tr>\n",
       "      <th id=\"T_bb9b6_level0_row11\" class=\"row_heading level0 row11\" >t_key0</th>\n",
       "      <td id=\"T_bb9b6_row11_col0\" class=\"data row11 col0\" >0.008882</td>\n",
       "      <td id=\"T_bb9b6_row11_col1\" class=\"data row11 col1\" >0.008447</td>\n",
       "      <td id=\"T_bb9b6_row11_col2\" class=\"data row11 col2\" >-0.000223</td>\n",
       "      <td id=\"T_bb9b6_row11_col3\" class=\"data row11 col3\" >-0.020565</td>\n",
       "      <td id=\"T_bb9b6_row11_col4\" class=\"data row11 col4\" >-0.020899</td>\n",
       "      <td id=\"T_bb9b6_row11_col5\" class=\"data row11 col5\" >0.031269</td>\n",
       "      <td id=\"T_bb9b6_row11_col6\" class=\"data row11 col6\" >-0.006270</td>\n",
       "      <td id=\"T_bb9b6_row11_col7\" class=\"data row11 col7\" >0.027378</td>\n",
       "      <td id=\"T_bb9b6_row11_col8\" class=\"data row11 col8\" >0.011031</td>\n",
       "      <td id=\"T_bb9b6_row11_col9\" class=\"data row11 col9\" >0.039065</td>\n",
       "      <td id=\"T_bb9b6_row11_col10\" class=\"data row11 col10\" >0.029450</td>\n",
       "      <td id=\"T_bb9b6_row11_col11\" class=\"data row11 col11\" >1.000000</td>\n",
       "      <td id=\"T_bb9b6_row11_col12\" class=\"data row11 col12\" >0.031894</td>\n",
       "      <td id=\"T_bb9b6_row11_col13\" class=\"data row11 col13\" >0.039931</td>\n",
       "      <td id=\"T_bb9b6_row11_col14\" class=\"data row11 col14\" >-0.165279</td>\n",
       "      <td id=\"T_bb9b6_row11_col15\" class=\"data row11 col15\" >-0.022747</td>\n",
       "      <td id=\"T_bb9b6_row11_col16\" class=\"data row11 col16\" >-0.043591</td>\n",
       "      <td id=\"T_bb9b6_row11_col17\" class=\"data row11 col17\" >0.046732</td>\n",
       "      <td id=\"T_bb9b6_row11_col18\" class=\"data row11 col18\" >-0.004736</td>\n",
       "      <td id=\"T_bb9b6_row11_col19\" class=\"data row11 col19\" >0.000062</td>\n",
       "      <td id=\"T_bb9b6_row11_col20\" class=\"data row11 col20\" >-0.027058</td>\n",
       "      <td id=\"T_bb9b6_row11_col21\" class=\"data row11 col21\" >-0.014425</td>\n",
       "      <td id=\"T_bb9b6_row11_col22\" class=\"data row11 col22\" >-0.031331</td>\n",
       "      <td id=\"T_bb9b6_row11_col23\" class=\"data row11 col23\" >-0.057538</td>\n",
       "      <td id=\"T_bb9b6_row11_col24\" class=\"data row11 col24\" >-0.068391</td>\n",
       "      <td id=\"T_bb9b6_row11_col25\" class=\"data row11 col25\" >-0.062616</td>\n",
       "      <td id=\"T_bb9b6_row11_col26\" class=\"data row11 col26\" >0.042570</td>\n",
       "      <td id=\"T_bb9b6_row11_col27\" class=\"data row11 col27\" >0.042946</td>\n",
       "      <td id=\"T_bb9b6_row11_col28\" class=\"data row11 col28\" >0.017818</td>\n",
       "      <td id=\"T_bb9b6_row11_col29\" class=\"data row11 col29\" >0.074493</td>\n",
       "      <td id=\"T_bb9b6_row11_col30\" class=\"data row11 col30\" >0.066491</td>\n",
       "      <td id=\"T_bb9b6_row11_col31\" class=\"data row11 col31\" >0.041011</td>\n",
       "      <td id=\"T_bb9b6_row11_col32\" class=\"data row11 col32\" >-0.019461</td>\n",
       "      <td id=\"T_bb9b6_row11_col33\" class=\"data row11 col33\" >0.018508</td>\n",
       "      <td id=\"T_bb9b6_row11_col34\" class=\"data row11 col34\" >0.003660</td>\n",
       "      <td id=\"T_bb9b6_row11_col35\" class=\"data row11 col35\" >0.036774</td>\n",
       "      <td id=\"T_bb9b6_row11_col36\" class=\"data row11 col36\" >-0.002984</td>\n",
       "      <td id=\"T_bb9b6_row11_col37\" class=\"data row11 col37\" >-0.014191</td>\n",
       "      <td id=\"T_bb9b6_row11_col38\" class=\"data row11 col38\" >0.016224</td>\n",
       "    </tr>\n",
       "    <tr>\n",
       "      <th id=\"T_bb9b6_level0_row12\" class=\"row_heading level0 row12\" >t_key1</th>\n",
       "      <td id=\"T_bb9b6_row12_col0\" class=\"data row12 col0\" >0.015964</td>\n",
       "      <td id=\"T_bb9b6_row12_col1\" class=\"data row12 col1\" >0.010330</td>\n",
       "      <td id=\"T_bb9b6_row12_col2\" class=\"data row12 col2\" >0.031814</td>\n",
       "      <td id=\"T_bb9b6_row12_col3\" class=\"data row12 col3\" >0.037907</td>\n",
       "      <td id=\"T_bb9b6_row12_col4\" class=\"data row12 col4\" >0.023454</td>\n",
       "      <td id=\"T_bb9b6_row12_col5\" class=\"data row12 col5\" >-0.008146</td>\n",
       "      <td id=\"T_bb9b6_row12_col6\" class=\"data row12 col6\" >0.021058</td>\n",
       "      <td id=\"T_bb9b6_row12_col7\" class=\"data row12 col7\" >0.018022</td>\n",
       "      <td id=\"T_bb9b6_row12_col8\" class=\"data row12 col8\" >0.031106</td>\n",
       "      <td id=\"T_bb9b6_row12_col9\" class=\"data row12 col9\" >0.016477</td>\n",
       "      <td id=\"T_bb9b6_row12_col10\" class=\"data row12 col10\" >0.033168</td>\n",
       "      <td id=\"T_bb9b6_row12_col11\" class=\"data row12 col11\" >0.031894</td>\n",
       "      <td id=\"T_bb9b6_row12_col12\" class=\"data row12 col12\" >1.000000</td>\n",
       "      <td id=\"T_bb9b6_row12_col13\" class=\"data row12 col13\" >0.038698</td>\n",
       "      <td id=\"T_bb9b6_row12_col14\" class=\"data row12 col14\" >0.028465</td>\n",
       "      <td id=\"T_bb9b6_row12_col15\" class=\"data row12 col15\" >-0.191389</td>\n",
       "      <td id=\"T_bb9b6_row12_col16\" class=\"data row12 col16\" >-0.028220</td>\n",
       "      <td id=\"T_bb9b6_row12_col17\" class=\"data row12 col17\" >-0.024075</td>\n",
       "      <td id=\"T_bb9b6_row12_col18\" class=\"data row12 col18\" >0.010371</td>\n",
       "      <td id=\"T_bb9b6_row12_col19\" class=\"data row12 col19\" >0.011965</td>\n",
       "      <td id=\"T_bb9b6_row12_col20\" class=\"data row12 col20\" >-0.010454</td>\n",
       "      <td id=\"T_bb9b6_row12_col21\" class=\"data row12 col21\" >-0.005136</td>\n",
       "      <td id=\"T_bb9b6_row12_col22\" class=\"data row12 col22\" >-0.022638</td>\n",
       "      <td id=\"T_bb9b6_row12_col23\" class=\"data row12 col23\" >-0.013646</td>\n",
       "      <td id=\"T_bb9b6_row12_col24\" class=\"data row12 col24\" >-0.011315</td>\n",
       "      <td id=\"T_bb9b6_row12_col25\" class=\"data row12 col25\" >-0.004894</td>\n",
       "      <td id=\"T_bb9b6_row12_col26\" class=\"data row12 col26\" >-0.020467</td>\n",
       "      <td id=\"T_bb9b6_row12_col27\" class=\"data row12 col27\" >-0.023176</td>\n",
       "      <td id=\"T_bb9b6_row12_col28\" class=\"data row12 col28\" >-0.015909</td>\n",
       "      <td id=\"T_bb9b6_row12_col29\" class=\"data row12 col29\" >0.016597</td>\n",
       "      <td id=\"T_bb9b6_row12_col30\" class=\"data row12 col30\" >0.078613</td>\n",
       "      <td id=\"T_bb9b6_row12_col31\" class=\"data row12 col31\" >0.039942</td>\n",
       "      <td id=\"T_bb9b6_row12_col32\" class=\"data row12 col32\" >-0.018198</td>\n",
       "      <td id=\"T_bb9b6_row12_col33\" class=\"data row12 col33\" >0.003388</td>\n",
       "      <td id=\"T_bb9b6_row12_col34\" class=\"data row12 col34\" >-0.013157</td>\n",
       "      <td id=\"T_bb9b6_row12_col35\" class=\"data row12 col35\" >-0.000513</td>\n",
       "      <td id=\"T_bb9b6_row12_col36\" class=\"data row12 col36\" >0.026408</td>\n",
       "      <td id=\"T_bb9b6_row12_col37\" class=\"data row12 col37\" >-0.030821</td>\n",
       "      <td id=\"T_bb9b6_row12_col38\" class=\"data row12 col38\" >-0.044422</td>\n",
       "    </tr>\n",
       "    <tr>\n",
       "      <th id=\"T_bb9b6_level0_row13\" class=\"row_heading level0 row13\" >t_key2</th>\n",
       "      <td id=\"T_bb9b6_row13_col0\" class=\"data row13 col0\" >-0.002450</td>\n",
       "      <td id=\"T_bb9b6_row13_col1\" class=\"data row13 col1\" >0.013653</td>\n",
       "      <td id=\"T_bb9b6_row13_col2\" class=\"data row13 col2\" >0.007819</td>\n",
       "      <td id=\"T_bb9b6_row13_col3\" class=\"data row13 col3\" >0.018884</td>\n",
       "      <td id=\"T_bb9b6_row13_col4\" class=\"data row13 col4\" >0.023935</td>\n",
       "      <td id=\"T_bb9b6_row13_col5\" class=\"data row13 col5\" >0.031513</td>\n",
       "      <td id=\"T_bb9b6_row13_col6\" class=\"data row13 col6\" >0.003994</td>\n",
       "      <td id=\"T_bb9b6_row13_col7\" class=\"data row13 col7\" >0.028007</td>\n",
       "      <td id=\"T_bb9b6_row13_col8\" class=\"data row13 col8\" >0.009031</td>\n",
       "      <td id=\"T_bb9b6_row13_col9\" class=\"data row13 col9\" >-0.006676</td>\n",
       "      <td id=\"T_bb9b6_row13_col10\" class=\"data row13 col10\" >0.032571</td>\n",
       "      <td id=\"T_bb9b6_row13_col11\" class=\"data row13 col11\" >0.039931</td>\n",
       "      <td id=\"T_bb9b6_row13_col12\" class=\"data row13 col12\" >0.038698</td>\n",
       "      <td id=\"T_bb9b6_row13_col13\" class=\"data row13 col13\" >1.000000</td>\n",
       "      <td id=\"T_bb9b6_row13_col14\" class=\"data row13 col14\" >-0.006951</td>\n",
       "      <td id=\"T_bb9b6_row13_col15\" class=\"data row13 col15\" >0.012080</td>\n",
       "      <td id=\"T_bb9b6_row13_col16\" class=\"data row13 col16\" >-0.145005</td>\n",
       "      <td id=\"T_bb9b6_row13_col17\" class=\"data row13 col17\" >-0.000094</td>\n",
       "      <td id=\"T_bb9b6_row13_col18\" class=\"data row13 col18\" >-0.013584</td>\n",
       "      <td id=\"T_bb9b6_row13_col19\" class=\"data row13 col19\" >0.004715</td>\n",
       "      <td id=\"T_bb9b6_row13_col20\" class=\"data row13 col20\" >0.019901</td>\n",
       "      <td id=\"T_bb9b6_row13_col21\" class=\"data row13 col21\" >0.005810</td>\n",
       "      <td id=\"T_bb9b6_row13_col22\" class=\"data row13 col22\" >0.016851</td>\n",
       "      <td id=\"T_bb9b6_row13_col23\" class=\"data row13 col23\" >-0.000077</td>\n",
       "      <td id=\"T_bb9b6_row13_col24\" class=\"data row13 col24\" >-0.001274</td>\n",
       "      <td id=\"T_bb9b6_row13_col25\" class=\"data row13 col25\" >-0.000332</td>\n",
       "      <td id=\"T_bb9b6_row13_col26\" class=\"data row13 col26\" >-0.011247</td>\n",
       "      <td id=\"T_bb9b6_row13_col27\" class=\"data row13 col27\" >-0.037109</td>\n",
       "      <td id=\"T_bb9b6_row13_col28\" class=\"data row13 col28\" >0.011334</td>\n",
       "      <td id=\"T_bb9b6_row13_col29\" class=\"data row13 col29\" >0.024119</td>\n",
       "      <td id=\"T_bb9b6_row13_col30\" class=\"data row13 col30\" >0.021805</td>\n",
       "      <td id=\"T_bb9b6_row13_col31\" class=\"data row13 col31\" >0.018454</td>\n",
       "      <td id=\"T_bb9b6_row13_col32\" class=\"data row13 col32\" >-0.013218</td>\n",
       "      <td id=\"T_bb9b6_row13_col33\" class=\"data row13 col33\" >-0.009461</td>\n",
       "      <td id=\"T_bb9b6_row13_col34\" class=\"data row13 col34\" >-0.023738</td>\n",
       "      <td id=\"T_bb9b6_row13_col35\" class=\"data row13 col35\" >0.006391</td>\n",
       "      <td id=\"T_bb9b6_row13_col36\" class=\"data row13 col36\" >-0.002641</td>\n",
       "      <td id=\"T_bb9b6_row13_col37\" class=\"data row13 col37\" >0.037053</td>\n",
       "      <td id=\"T_bb9b6_row13_col38\" class=\"data row13 col38\" >0.013449</td>\n",
       "    </tr>\n",
       "    <tr>\n",
       "      <th id=\"T_bb9b6_level0_row14\" class=\"row_heading level0 row14\" >t_mode0</th>\n",
       "      <td id=\"T_bb9b6_row14_col0\" class=\"data row14 col0\" >-0.020906</td>\n",
       "      <td id=\"T_bb9b6_row14_col1\" class=\"data row14 col1\" >-0.007838</td>\n",
       "      <td id=\"T_bb9b6_row14_col2\" class=\"data row14 col2\" >-0.034515</td>\n",
       "      <td id=\"T_bb9b6_row14_col3\" class=\"data row14 col3\" >-0.039974</td>\n",
       "      <td id=\"T_bb9b6_row14_col4\" class=\"data row14 col4\" >-0.040471</td>\n",
       "      <td id=\"T_bb9b6_row14_col5\" class=\"data row14 col5\" >-0.048495</td>\n",
       "      <td id=\"T_bb9b6_row14_col6\" class=\"data row14 col6\" >-0.034978</td>\n",
       "      <td id=\"T_bb9b6_row14_col7\" class=\"data row14 col7\" >-0.037998</td>\n",
       "      <td id=\"T_bb9b6_row14_col8\" class=\"data row14 col8\" >-0.049784</td>\n",
       "      <td id=\"T_bb9b6_row14_col9\" class=\"data row14 col9\" >-0.054011</td>\n",
       "      <td id=\"T_bb9b6_row14_col10\" class=\"data row14 col10\" >-0.056091</td>\n",
       "      <td id=\"T_bb9b6_row14_col11\" class=\"data row14 col11\" >-0.165279</td>\n",
       "      <td id=\"T_bb9b6_row14_col12\" class=\"data row14 col12\" >0.028465</td>\n",
       "      <td id=\"T_bb9b6_row14_col13\" class=\"data row14 col13\" >-0.006951</td>\n",
       "      <td id=\"T_bb9b6_row14_col14\" class=\"data row14 col14\" >1.000000</td>\n",
       "      <td id=\"T_bb9b6_row14_col15\" class=\"data row14 col15\" >0.139327</td>\n",
       "      <td id=\"T_bb9b6_row14_col16\" class=\"data row14 col16\" >0.144984</td>\n",
       "      <td id=\"T_bb9b6_row14_col17\" class=\"data row14 col17\" >-0.025116</td>\n",
       "      <td id=\"T_bb9b6_row14_col18\" class=\"data row14 col18\" >-0.010823</td>\n",
       "      <td id=\"T_bb9b6_row14_col19\" class=\"data row14 col19\" >-0.007228</td>\n",
       "      <td id=\"T_bb9b6_row14_col20\" class=\"data row14 col20\" >0.053353</td>\n",
       "      <td id=\"T_bb9b6_row14_col21\" class=\"data row14 col21\" >0.071680</td>\n",
       "      <td id=\"T_bb9b6_row14_col22\" class=\"data row14 col22\" >0.077316</td>\n",
       "      <td id=\"T_bb9b6_row14_col23\" class=\"data row14 col23\" >0.003114</td>\n",
       "      <td id=\"T_bb9b6_row14_col24\" class=\"data row14 col24\" >-0.017527</td>\n",
       "      <td id=\"T_bb9b6_row14_col25\" class=\"data row14 col25\" >-0.002720</td>\n",
       "      <td id=\"T_bb9b6_row14_col26\" class=\"data row14 col26\" >0.015274</td>\n",
       "      <td id=\"T_bb9b6_row14_col27\" class=\"data row14 col27\" >0.018618</td>\n",
       "      <td id=\"T_bb9b6_row14_col28\" class=\"data row14 col28\" >0.006121</td>\n",
       "      <td id=\"T_bb9b6_row14_col29\" class=\"data row14 col29\" >0.008798</td>\n",
       "      <td id=\"T_bb9b6_row14_col30\" class=\"data row14 col30\" >0.026503</td>\n",
       "      <td id=\"T_bb9b6_row14_col31\" class=\"data row14 col31\" >0.013715</td>\n",
       "      <td id=\"T_bb9b6_row14_col32\" class=\"data row14 col32\" >0.000351</td>\n",
       "      <td id=\"T_bb9b6_row14_col33\" class=\"data row14 col33\" >0.065083</td>\n",
       "      <td id=\"T_bb9b6_row14_col34\" class=\"data row14 col34\" >0.008132</td>\n",
       "      <td id=\"T_bb9b6_row14_col35\" class=\"data row14 col35\" >-0.023677</td>\n",
       "      <td id=\"T_bb9b6_row14_col36\" class=\"data row14 col36\" >-0.043934</td>\n",
       "      <td id=\"T_bb9b6_row14_col37\" class=\"data row14 col37\" >-0.010100</td>\n",
       "      <td id=\"T_bb9b6_row14_col38\" class=\"data row14 col38\" >0.028030</td>\n",
       "    </tr>\n",
       "    <tr>\n",
       "      <th id=\"T_bb9b6_level0_row15\" class=\"row_heading level0 row15\" >t_mode1</th>\n",
       "      <td id=\"T_bb9b6_row15_col0\" class=\"data row15 col0\" >-0.013424</td>\n",
       "      <td id=\"T_bb9b6_row15_col1\" class=\"data row15 col1\" >-0.002657</td>\n",
       "      <td id=\"T_bb9b6_row15_col2\" class=\"data row15 col2\" >-0.000891</td>\n",
       "      <td id=\"T_bb9b6_row15_col3\" class=\"data row15 col3\" >0.004917</td>\n",
       "      <td id=\"T_bb9b6_row15_col4\" class=\"data row15 col4\" >-0.011107</td>\n",
       "      <td id=\"T_bb9b6_row15_col5\" class=\"data row15 col5\" >-0.046118</td>\n",
       "      <td id=\"T_bb9b6_row15_col6\" class=\"data row15 col6\" >-0.068349</td>\n",
       "      <td id=\"T_bb9b6_row15_col7\" class=\"data row15 col7\" >-0.066579</td>\n",
       "      <td id=\"T_bb9b6_row15_col8\" class=\"data row15 col8\" >-0.044425</td>\n",
       "      <td id=\"T_bb9b6_row15_col9\" class=\"data row15 col9\" >-0.061080</td>\n",
       "      <td id=\"T_bb9b6_row15_col10\" class=\"data row15 col10\" >-0.057089</td>\n",
       "      <td id=\"T_bb9b6_row15_col11\" class=\"data row15 col11\" >-0.022747</td>\n",
       "      <td id=\"T_bb9b6_row15_col12\" class=\"data row15 col12\" >-0.191389</td>\n",
       "      <td id=\"T_bb9b6_row15_col13\" class=\"data row15 col13\" >0.012080</td>\n",
       "      <td id=\"T_bb9b6_row15_col14\" class=\"data row15 col14\" >0.139327</td>\n",
       "      <td id=\"T_bb9b6_row15_col15\" class=\"data row15 col15\" >1.000000</td>\n",
       "      <td id=\"T_bb9b6_row15_col16\" class=\"data row15 col16\" >0.159542</td>\n",
       "      <td id=\"T_bb9b6_row15_col17\" class=\"data row15 col17\" >-0.038714</td>\n",
       "      <td id=\"T_bb9b6_row15_col18\" class=\"data row15 col18\" >-0.046196</td>\n",
       "      <td id=\"T_bb9b6_row15_col19\" class=\"data row15 col19\" >-0.050032</td>\n",
       "      <td id=\"T_bb9b6_row15_col20\" class=\"data row15 col20\" >0.022069</td>\n",
       "      <td id=\"T_bb9b6_row15_col21\" class=\"data row15 col21\" >0.037119</td>\n",
       "      <td id=\"T_bb9b6_row15_col22\" class=\"data row15 col22\" >0.044842</td>\n",
       "      <td id=\"T_bb9b6_row15_col23\" class=\"data row15 col23\" >0.003637</td>\n",
       "      <td id=\"T_bb9b6_row15_col24\" class=\"data row15 col24\" >-0.010790</td>\n",
       "      <td id=\"T_bb9b6_row15_col25\" class=\"data row15 col25\" >-0.013653</td>\n",
       "      <td id=\"T_bb9b6_row15_col26\" class=\"data row15 col26\" >0.032275</td>\n",
       "      <td id=\"T_bb9b6_row15_col27\" class=\"data row15 col27\" >0.019877</td>\n",
       "      <td id=\"T_bb9b6_row15_col28\" class=\"data row15 col28\" >0.008021</td>\n",
       "      <td id=\"T_bb9b6_row15_col29\" class=\"data row15 col29\" >0.029859</td>\n",
       "      <td id=\"T_bb9b6_row15_col30\" class=\"data row15 col30\" >-0.021082</td>\n",
       "      <td id=\"T_bb9b6_row15_col31\" class=\"data row15 col31\" >-0.011257</td>\n",
       "      <td id=\"T_bb9b6_row15_col32\" class=\"data row15 col32\" >-0.003785</td>\n",
       "      <td id=\"T_bb9b6_row15_col33\" class=\"data row15 col33\" >0.034270</td>\n",
       "      <td id=\"T_bb9b6_row15_col34\" class=\"data row15 col34\" >0.019162</td>\n",
       "      <td id=\"T_bb9b6_row15_col35\" class=\"data row15 col35\" >0.002605</td>\n",
       "      <td id=\"T_bb9b6_row15_col36\" class=\"data row15 col36\" >-0.019285</td>\n",
       "      <td id=\"T_bb9b6_row15_col37\" class=\"data row15 col37\" >-0.037892</td>\n",
       "      <td id=\"T_bb9b6_row15_col38\" class=\"data row15 col38\" >0.054649</td>\n",
       "    </tr>\n",
       "    <tr>\n",
       "      <th id=\"T_bb9b6_level0_row16\" class=\"row_heading level0 row16\" >t_mode2</th>\n",
       "      <td id=\"T_bb9b6_row16_col0\" class=\"data row16 col0\" >-0.017096</td>\n",
       "      <td id=\"T_bb9b6_row16_col1\" class=\"data row16 col1\" >0.004940</td>\n",
       "      <td id=\"T_bb9b6_row16_col2\" class=\"data row16 col2\" >-0.011621</td>\n",
       "      <td id=\"T_bb9b6_row16_col3\" class=\"data row16 col3\" >-0.007190</td>\n",
       "      <td id=\"T_bb9b6_row16_col4\" class=\"data row16 col4\" >-0.006295</td>\n",
       "      <td id=\"T_bb9b6_row16_col5\" class=\"data row16 col5\" >-0.062179</td>\n",
       "      <td id=\"T_bb9b6_row16_col6\" class=\"data row16 col6\" >-0.050152</td>\n",
       "      <td id=\"T_bb9b6_row16_col7\" class=\"data row16 col7\" >-0.083720</td>\n",
       "      <td id=\"T_bb9b6_row16_col8\" class=\"data row16 col8\" >-0.029386</td>\n",
       "      <td id=\"T_bb9b6_row16_col9\" class=\"data row16 col9\" >-0.037359</td>\n",
       "      <td id=\"T_bb9b6_row16_col10\" class=\"data row16 col10\" >-0.048966</td>\n",
       "      <td id=\"T_bb9b6_row16_col11\" class=\"data row16 col11\" >-0.043591</td>\n",
       "      <td id=\"T_bb9b6_row16_col12\" class=\"data row16 col12\" >-0.028220</td>\n",
       "      <td id=\"T_bb9b6_row16_col13\" class=\"data row16 col13\" >-0.145005</td>\n",
       "      <td id=\"T_bb9b6_row16_col14\" class=\"data row16 col14\" >0.144984</td>\n",
       "      <td id=\"T_bb9b6_row16_col15\" class=\"data row16 col15\" >0.159542</td>\n",
       "      <td id=\"T_bb9b6_row16_col16\" class=\"data row16 col16\" >1.000000</td>\n",
       "      <td id=\"T_bb9b6_row16_col17\" class=\"data row16 col17\" >-0.018974</td>\n",
       "      <td id=\"T_bb9b6_row16_col18\" class=\"data row16 col18\" >-0.038829</td>\n",
       "      <td id=\"T_bb9b6_row16_col19\" class=\"data row16 col19\" >-0.019519</td>\n",
       "      <td id=\"T_bb9b6_row16_col20\" class=\"data row16 col20\" >0.046439</td>\n",
       "      <td id=\"T_bb9b6_row16_col21\" class=\"data row16 col21\" >0.049619</td>\n",
       "      <td id=\"T_bb9b6_row16_col22\" class=\"data row16 col22\" >0.058157</td>\n",
       "      <td id=\"T_bb9b6_row16_col23\" class=\"data row16 col23\" >-0.013846</td>\n",
       "      <td id=\"T_bb9b6_row16_col24\" class=\"data row16 col24\" >-0.021301</td>\n",
       "      <td id=\"T_bb9b6_row16_col25\" class=\"data row16 col25\" >-0.029703</td>\n",
       "      <td id=\"T_bb9b6_row16_col26\" class=\"data row16 col26\" >0.007872</td>\n",
       "      <td id=\"T_bb9b6_row16_col27\" class=\"data row16 col27\" >0.014554</td>\n",
       "      <td id=\"T_bb9b6_row16_col28\" class=\"data row16 col28\" >0.024914</td>\n",
       "      <td id=\"T_bb9b6_row16_col29\" class=\"data row16 col29\" >0.017874</td>\n",
       "      <td id=\"T_bb9b6_row16_col30\" class=\"data row16 col30\" >0.024241</td>\n",
       "      <td id=\"T_bb9b6_row16_col31\" class=\"data row16 col31\" >-0.015861</td>\n",
       "      <td id=\"T_bb9b6_row16_col32\" class=\"data row16 col32\" >-0.021162</td>\n",
       "      <td id=\"T_bb9b6_row16_col33\" class=\"data row16 col33\" >0.005231</td>\n",
       "      <td id=\"T_bb9b6_row16_col34\" class=\"data row16 col34\" >0.006481</td>\n",
       "      <td id=\"T_bb9b6_row16_col35\" class=\"data row16 col35\" >-0.023418</td>\n",
       "      <td id=\"T_bb9b6_row16_col36\" class=\"data row16 col36\" >-0.035448</td>\n",
       "      <td id=\"T_bb9b6_row16_col37\" class=\"data row16 col37\" >-0.056496</td>\n",
       "      <td id=\"T_bb9b6_row16_col38\" class=\"data row16 col38\" >0.013059</td>\n",
       "    </tr>\n",
       "    <tr>\n",
       "      <th id=\"T_bb9b6_level0_row17\" class=\"row_heading level0 row17\" >t_speech0</th>\n",
       "      <td id=\"T_bb9b6_row17_col0\" class=\"data row17 col0\" >0.006743</td>\n",
       "      <td id=\"T_bb9b6_row17_col1\" class=\"data row17 col1\" >0.115617</td>\n",
       "      <td id=\"T_bb9b6_row17_col2\" class=\"data row17 col2\" >-0.124429</td>\n",
       "      <td id=\"T_bb9b6_row17_col3\" class=\"data row17 col3\" >-0.076915</td>\n",
       "      <td id=\"T_bb9b6_row17_col4\" class=\"data row17 col4\" >-0.088213</td>\n",
       "      <td id=\"T_bb9b6_row17_col5\" class=\"data row17 col5\" >0.211470</td>\n",
       "      <td id=\"T_bb9b6_row17_col6\" class=\"data row17 col6\" >0.222326</td>\n",
       "      <td id=\"T_bb9b6_row17_col7\" class=\"data row17 col7\" >0.227547</td>\n",
       "      <td id=\"T_bb9b6_row17_col8\" class=\"data row17 col8\" >0.007443</td>\n",
       "      <td id=\"T_bb9b6_row17_col9\" class=\"data row17 col9\" >0.055180</td>\n",
       "      <td id=\"T_bb9b6_row17_col10\" class=\"data row17 col10\" >0.039784</td>\n",
       "      <td id=\"T_bb9b6_row17_col11\" class=\"data row17 col11\" >0.046732</td>\n",
       "      <td id=\"T_bb9b6_row17_col12\" class=\"data row17 col12\" >-0.024075</td>\n",
       "      <td id=\"T_bb9b6_row17_col13\" class=\"data row17 col13\" >-0.000094</td>\n",
       "      <td id=\"T_bb9b6_row17_col14\" class=\"data row17 col14\" >-0.025116</td>\n",
       "      <td id=\"T_bb9b6_row17_col15\" class=\"data row17 col15\" >-0.038714</td>\n",
       "      <td id=\"T_bb9b6_row17_col16\" class=\"data row17 col16\" >-0.018974</td>\n",
       "      <td id=\"T_bb9b6_row17_col17\" class=\"data row17 col17\" >1.000000</td>\n",
       "      <td id=\"T_bb9b6_row17_col18\" class=\"data row17 col18\" >0.571352</td>\n",
       "      <td id=\"T_bb9b6_row17_col19\" class=\"data row17 col19\" >0.576138</td>\n",
       "      <td id=\"T_bb9b6_row17_col20\" class=\"data row17 col20\" >-0.002834</td>\n",
       "      <td id=\"T_bb9b6_row17_col21\" class=\"data row17 col21\" >-0.088233</td>\n",
       "      <td id=\"T_bb9b6_row17_col22\" class=\"data row17 col22\" >-0.075919</td>\n",
       "      <td id=\"T_bb9b6_row17_col23\" class=\"data row17 col23\" >-0.214328</td>\n",
       "      <td id=\"T_bb9b6_row17_col24\" class=\"data row17 col24\" >-0.173029</td>\n",
       "      <td id=\"T_bb9b6_row17_col25\" class=\"data row17 col25\" >-0.187194</td>\n",
       "      <td id=\"T_bb9b6_row17_col26\" class=\"data row17 col26\" >0.135107</td>\n",
       "      <td id=\"T_bb9b6_row17_col27\" class=\"data row17 col27\" >0.084539</td>\n",
       "      <td id=\"T_bb9b6_row17_col28\" class=\"data row17 col28\" >0.075098</td>\n",
       "      <td id=\"T_bb9b6_row17_col29\" class=\"data row17 col29\" >0.070045</td>\n",
       "      <td id=\"T_bb9b6_row17_col30\" class=\"data row17 col30\" >0.032928</td>\n",
       "      <td id=\"T_bb9b6_row17_col31\" class=\"data row17 col31\" >0.051861</td>\n",
       "      <td id=\"T_bb9b6_row17_col32\" class=\"data row17 col32\" >-0.000772</td>\n",
       "      <td id=\"T_bb9b6_row17_col33\" class=\"data row17 col33\" >-0.017360</td>\n",
       "      <td id=\"T_bb9b6_row17_col34\" class=\"data row17 col34\" >0.002596</td>\n",
       "      <td id=\"T_bb9b6_row17_col35\" class=\"data row17 col35\" >-0.000936</td>\n",
       "      <td id=\"T_bb9b6_row17_col36\" class=\"data row17 col36\" >0.030646</td>\n",
       "      <td id=\"T_bb9b6_row17_col37\" class=\"data row17 col37\" >0.045064</td>\n",
       "      <td id=\"T_bb9b6_row17_col38\" class=\"data row17 col38\" >-0.080305</td>\n",
       "    </tr>\n",
       "    <tr>\n",
       "      <th id=\"T_bb9b6_level0_row18\" class=\"row_heading level0 row18\" >t_speech1</th>\n",
       "      <td id=\"T_bb9b6_row18_col0\" class=\"data row18 col0\" >0.009544</td>\n",
       "      <td id=\"T_bb9b6_row18_col1\" class=\"data row18 col1\" >0.117793</td>\n",
       "      <td id=\"T_bb9b6_row18_col2\" class=\"data row18 col2\" >-0.080407</td>\n",
       "      <td id=\"T_bb9b6_row18_col3\" class=\"data row18 col3\" >-0.077097</td>\n",
       "      <td id=\"T_bb9b6_row18_col4\" class=\"data row18 col4\" >-0.086134</td>\n",
       "      <td id=\"T_bb9b6_row18_col5\" class=\"data row18 col5\" >0.188501</td>\n",
       "      <td id=\"T_bb9b6_row18_col6\" class=\"data row18 col6\" >0.220044</td>\n",
       "      <td id=\"T_bb9b6_row18_col7\" class=\"data row18 col7\" >0.230955</td>\n",
       "      <td id=\"T_bb9b6_row18_col8\" class=\"data row18 col8\" >-0.006649</td>\n",
       "      <td id=\"T_bb9b6_row18_col9\" class=\"data row18 col9\" >0.055172</td>\n",
       "      <td id=\"T_bb9b6_row18_col10\" class=\"data row18 col10\" >0.052014</td>\n",
       "      <td id=\"T_bb9b6_row18_col11\" class=\"data row18 col11\" >-0.004736</td>\n",
       "      <td id=\"T_bb9b6_row18_col12\" class=\"data row18 col12\" >0.010371</td>\n",
       "      <td id=\"T_bb9b6_row18_col13\" class=\"data row18 col13\" >-0.013584</td>\n",
       "      <td id=\"T_bb9b6_row18_col14\" class=\"data row18 col14\" >-0.010823</td>\n",
       "      <td id=\"T_bb9b6_row18_col15\" class=\"data row18 col15\" >-0.046196</td>\n",
       "      <td id=\"T_bb9b6_row18_col16\" class=\"data row18 col16\" >-0.038829</td>\n",
       "      <td id=\"T_bb9b6_row18_col17\" class=\"data row18 col17\" >0.571352</td>\n",
       "      <td id=\"T_bb9b6_row18_col18\" class=\"data row18 col18\" >1.000000</td>\n",
       "      <td id=\"T_bb9b6_row18_col19\" class=\"data row18 col19\" >0.619552</td>\n",
       "      <td id=\"T_bb9b6_row18_col20\" class=\"data row18 col20\" >-0.025724</td>\n",
       "      <td id=\"T_bb9b6_row18_col21\" class=\"data row18 col21\" >-0.071048</td>\n",
       "      <td id=\"T_bb9b6_row18_col22\" class=\"data row18 col22\" >-0.097424</td>\n",
       "      <td id=\"T_bb9b6_row18_col23\" class=\"data row18 col23\" >-0.188407</td>\n",
       "      <td id=\"T_bb9b6_row18_col24\" class=\"data row18 col24\" >-0.211257</td>\n",
       "      <td id=\"T_bb9b6_row18_col25\" class=\"data row18 col25\" >-0.203311</td>\n",
       "      <td id=\"T_bb9b6_row18_col26\" class=\"data row18 col26\" >0.081532</td>\n",
       "      <td id=\"T_bb9b6_row18_col27\" class=\"data row18 col27\" >0.101552</td>\n",
       "      <td id=\"T_bb9b6_row18_col28\" class=\"data row18 col28\" >0.086864</td>\n",
       "      <td id=\"T_bb9b6_row18_col29\" class=\"data row18 col29\" >0.014714</td>\n",
       "      <td id=\"T_bb9b6_row18_col30\" class=\"data row18 col30\" >0.038481</td>\n",
       "      <td id=\"T_bb9b6_row18_col31\" class=\"data row18 col31\" >0.025981</td>\n",
       "      <td id=\"T_bb9b6_row18_col32\" class=\"data row18 col32\" >-0.061001</td>\n",
       "      <td id=\"T_bb9b6_row18_col33\" class=\"data row18 col33\" >0.018588</td>\n",
       "      <td id=\"T_bb9b6_row18_col34\" class=\"data row18 col34\" >-0.002677</td>\n",
       "      <td id=\"T_bb9b6_row18_col35\" class=\"data row18 col35\" >-0.043806</td>\n",
       "      <td id=\"T_bb9b6_row18_col36\" class=\"data row18 col36\" >0.018614</td>\n",
       "      <td id=\"T_bb9b6_row18_col37\" class=\"data row18 col37\" >0.071016</td>\n",
       "      <td id=\"T_bb9b6_row18_col38\" class=\"data row18 col38\" >-0.126392</td>\n",
       "    </tr>\n",
       "    <tr>\n",
       "      <th id=\"T_bb9b6_level0_row19\" class=\"row_heading level0 row19\" >t_speech2</th>\n",
       "      <td id=\"T_bb9b6_row19_col0\" class=\"data row19 col0\" >0.018900</td>\n",
       "      <td id=\"T_bb9b6_row19_col1\" class=\"data row19 col1\" >0.136216</td>\n",
       "      <td id=\"T_bb9b6_row19_col2\" class=\"data row19 col2\" >-0.084466</td>\n",
       "      <td id=\"T_bb9b6_row19_col3\" class=\"data row19 col3\" >-0.077504</td>\n",
       "      <td id=\"T_bb9b6_row19_col4\" class=\"data row19 col4\" >-0.136652</td>\n",
       "      <td id=\"T_bb9b6_row19_col5\" class=\"data row19 col5\" >0.163185</td>\n",
       "      <td id=\"T_bb9b6_row19_col6\" class=\"data row19 col6\" >0.190729</td>\n",
       "      <td id=\"T_bb9b6_row19_col7\" class=\"data row19 col7\" >0.221250</td>\n",
       "      <td id=\"T_bb9b6_row19_col8\" class=\"data row19 col8\" >-0.021448</td>\n",
       "      <td id=\"T_bb9b6_row19_col9\" class=\"data row19 col9\" >0.041286</td>\n",
       "      <td id=\"T_bb9b6_row19_col10\" class=\"data row19 col10\" >0.049288</td>\n",
       "      <td id=\"T_bb9b6_row19_col11\" class=\"data row19 col11\" >0.000062</td>\n",
       "      <td id=\"T_bb9b6_row19_col12\" class=\"data row19 col12\" >0.011965</td>\n",
       "      <td id=\"T_bb9b6_row19_col13\" class=\"data row19 col13\" >0.004715</td>\n",
       "      <td id=\"T_bb9b6_row19_col14\" class=\"data row19 col14\" >-0.007228</td>\n",
       "      <td id=\"T_bb9b6_row19_col15\" class=\"data row19 col15\" >-0.050032</td>\n",
       "      <td id=\"T_bb9b6_row19_col16\" class=\"data row19 col16\" >-0.019519</td>\n",
       "      <td id=\"T_bb9b6_row19_col17\" class=\"data row19 col17\" >0.576138</td>\n",
       "      <td id=\"T_bb9b6_row19_col18\" class=\"data row19 col18\" >0.619552</td>\n",
       "      <td id=\"T_bb9b6_row19_col19\" class=\"data row19 col19\" >1.000000</td>\n",
       "      <td id=\"T_bb9b6_row19_col20\" class=\"data row19 col20\" >-0.020105</td>\n",
       "      <td id=\"T_bb9b6_row19_col21\" class=\"data row19 col21\" >-0.076278</td>\n",
       "      <td id=\"T_bb9b6_row19_col22\" class=\"data row19 col22\" >-0.079193</td>\n",
       "      <td id=\"T_bb9b6_row19_col23\" class=\"data row19 col23\" >-0.171336</td>\n",
       "      <td id=\"T_bb9b6_row19_col24\" class=\"data row19 col24\" >-0.168087</td>\n",
       "      <td id=\"T_bb9b6_row19_col25\" class=\"data row19 col25\" >-0.200141</td>\n",
       "      <td id=\"T_bb9b6_row19_col26\" class=\"data row19 col26\" >0.104031</td>\n",
       "      <td id=\"T_bb9b6_row19_col27\" class=\"data row19 col27\" >0.072680</td>\n",
       "      <td id=\"T_bb9b6_row19_col28\" class=\"data row19 col28\" >0.114208</td>\n",
       "      <td id=\"T_bb9b6_row19_col29\" class=\"data row19 col29\" >0.010999</td>\n",
       "      <td id=\"T_bb9b6_row19_col30\" class=\"data row19 col30\" >0.000122</td>\n",
       "      <td id=\"T_bb9b6_row19_col31\" class=\"data row19 col31\" >0.049534</td>\n",
       "      <td id=\"T_bb9b6_row19_col32\" class=\"data row19 col32\" >-0.056397</td>\n",
       "      <td id=\"T_bb9b6_row19_col33\" class=\"data row19 col33\" >-0.048801</td>\n",
       "      <td id=\"T_bb9b6_row19_col34\" class=\"data row19 col34\" >0.049976</td>\n",
       "      <td id=\"T_bb9b6_row19_col35\" class=\"data row19 col35\" >-0.028677</td>\n",
       "      <td id=\"T_bb9b6_row19_col36\" class=\"data row19 col36\" >0.000274</td>\n",
       "      <td id=\"T_bb9b6_row19_col37\" class=\"data row19 col37\" >0.051900</td>\n",
       "      <td id=\"T_bb9b6_row19_col38\" class=\"data row19 col38\" >-0.105396</td>\n",
       "    </tr>\n",
       "    <tr>\n",
       "      <th id=\"T_bb9b6_level0_row20\" class=\"row_heading level0 row20\" >t_acous0</th>\n",
       "      <td id=\"T_bb9b6_row20_col0\" class=\"data row20 col0\" >0.059529</td>\n",
       "      <td id=\"T_bb9b6_row20_col1\" class=\"data row20 col1\" >0.082319</td>\n",
       "      <td id=\"T_bb9b6_row20_col2\" class=\"data row20 col2\" >0.002626</td>\n",
       "      <td id=\"T_bb9b6_row20_col3\" class=\"data row20 col3\" >0.036478</td>\n",
       "      <td id=\"T_bb9b6_row20_col4\" class=\"data row20 col4\" >0.011486</td>\n",
       "      <td id=\"T_bb9b6_row20_col5\" class=\"data row20 col5\" >-0.253235</td>\n",
       "      <td id=\"T_bb9b6_row20_col6\" class=\"data row20 col6\" >-0.178815</td>\n",
       "      <td id=\"T_bb9b6_row20_col7\" class=\"data row20 col7\" >-0.184349</td>\n",
       "      <td id=\"T_bb9b6_row20_col8\" class=\"data row20 col8\" >-0.658399</td>\n",
       "      <td id=\"T_bb9b6_row20_col9\" class=\"data row20 col9\" >-0.519451</td>\n",
       "      <td id=\"T_bb9b6_row20_col10\" class=\"data row20 col10\" >-0.516864</td>\n",
       "      <td id=\"T_bb9b6_row20_col11\" class=\"data row20 col11\" >-0.027058</td>\n",
       "      <td id=\"T_bb9b6_row20_col12\" class=\"data row20 col12\" >-0.010454</td>\n",
       "      <td id=\"T_bb9b6_row20_col13\" class=\"data row20 col13\" >0.019901</td>\n",
       "      <td id=\"T_bb9b6_row20_col14\" class=\"data row20 col14\" >0.053353</td>\n",
       "      <td id=\"T_bb9b6_row20_col15\" class=\"data row20 col15\" >0.022069</td>\n",
       "      <td id=\"T_bb9b6_row20_col16\" class=\"data row20 col16\" >0.046439</td>\n",
       "      <td id=\"T_bb9b6_row20_col17\" class=\"data row20 col17\" >-0.002834</td>\n",
       "      <td id=\"T_bb9b6_row20_col18\" class=\"data row20 col18\" >-0.025724</td>\n",
       "      <td id=\"T_bb9b6_row20_col19\" class=\"data row20 col19\" >-0.020105</td>\n",
       "      <td id=\"T_bb9b6_row20_col20\" class=\"data row20 col20\" >1.000000</td>\n",
       "      <td id=\"T_bb9b6_row20_col21\" class=\"data row20 col21\" >0.660263</td>\n",
       "      <td id=\"T_bb9b6_row20_col22\" class=\"data row20 col22\" >0.645745</td>\n",
       "      <td id=\"T_bb9b6_row20_col23\" class=\"data row20 col23\" >0.214991</td>\n",
       "      <td id=\"T_bb9b6_row20_col24\" class=\"data row20 col24\" >0.183637</td>\n",
       "      <td id=\"T_bb9b6_row20_col25\" class=\"data row20 col25\" >0.166050</td>\n",
       "      <td id=\"T_bb9b6_row20_col26\" class=\"data row20 col26\" >-0.053313</td>\n",
       "      <td id=\"T_bb9b6_row20_col27\" class=\"data row20 col27\" >-0.052404</td>\n",
       "      <td id=\"T_bb9b6_row20_col28\" class=\"data row20 col28\" >-0.030780</td>\n",
       "      <td id=\"T_bb9b6_row20_col29\" class=\"data row20 col29\" >-0.166828</td>\n",
       "      <td id=\"T_bb9b6_row20_col30\" class=\"data row20 col30\" >-0.130316</td>\n",
       "      <td id=\"T_bb9b6_row20_col31\" class=\"data row20 col31\" >-0.130818</td>\n",
       "      <td id=\"T_bb9b6_row20_col32\" class=\"data row20 col32\" >-0.176477</td>\n",
       "      <td id=\"T_bb9b6_row20_col33\" class=\"data row20 col33\" >-0.120213</td>\n",
       "      <td id=\"T_bb9b6_row20_col34\" class=\"data row20 col34\" >-0.120984</td>\n",
       "      <td id=\"T_bb9b6_row20_col35\" class=\"data row20 col35\" >-0.155613</td>\n",
       "      <td id=\"T_bb9b6_row20_col36\" class=\"data row20 col36\" >-0.092511</td>\n",
       "      <td id=\"T_bb9b6_row20_col37\" class=\"data row20 col37\" >-0.083162</td>\n",
       "      <td id=\"T_bb9b6_row20_col38\" class=\"data row20 col38\" >-0.048651</td>\n",
       "    </tr>\n",
       "    <tr>\n",
       "      <th id=\"T_bb9b6_level0_row21\" class=\"row_heading level0 row21\" >t_acous1</th>\n",
       "      <td id=\"T_bb9b6_row21_col0\" class=\"data row21 col0\" >0.022297</td>\n",
       "      <td id=\"T_bb9b6_row21_col1\" class=\"data row21 col1\" >0.080573</td>\n",
       "      <td id=\"T_bb9b6_row21_col2\" class=\"data row21 col2\" >0.101183</td>\n",
       "      <td id=\"T_bb9b6_row21_col3\" class=\"data row21 col3\" >0.052498</td>\n",
       "      <td id=\"T_bb9b6_row21_col4\" class=\"data row21 col4\" >0.037938</td>\n",
       "      <td id=\"T_bb9b6_row21_col5\" class=\"data row21 col5\" >-0.197331</td>\n",
       "      <td id=\"T_bb9b6_row21_col6\" class=\"data row21 col6\" >-0.243411</td>\n",
       "      <td id=\"T_bb9b6_row21_col7\" class=\"data row21 col7\" >-0.226366</td>\n",
       "      <td id=\"T_bb9b6_row21_col8\" class=\"data row21 col8\" >-0.535453</td>\n",
       "      <td id=\"T_bb9b6_row21_col9\" class=\"data row21 col9\" >-0.663565</td>\n",
       "      <td id=\"T_bb9b6_row21_col10\" class=\"data row21 col10\" >-0.554192</td>\n",
       "      <td id=\"T_bb9b6_row21_col11\" class=\"data row21 col11\" >-0.014425</td>\n",
       "      <td id=\"T_bb9b6_row21_col12\" class=\"data row21 col12\" >-0.005136</td>\n",
       "      <td id=\"T_bb9b6_row21_col13\" class=\"data row21 col13\" >0.005810</td>\n",
       "      <td id=\"T_bb9b6_row21_col14\" class=\"data row21 col14\" >0.071680</td>\n",
       "      <td id=\"T_bb9b6_row21_col15\" class=\"data row21 col15\" >0.037119</td>\n",
       "      <td id=\"T_bb9b6_row21_col16\" class=\"data row21 col16\" >0.049619</td>\n",
       "      <td id=\"T_bb9b6_row21_col17\" class=\"data row21 col17\" >-0.088233</td>\n",
       "      <td id=\"T_bb9b6_row21_col18\" class=\"data row21 col18\" >-0.071048</td>\n",
       "      <td id=\"T_bb9b6_row21_col19\" class=\"data row21 col19\" >-0.076278</td>\n",
       "      <td id=\"T_bb9b6_row21_col20\" class=\"data row21 col20\" >0.660263</td>\n",
       "      <td id=\"T_bb9b6_row21_col21\" class=\"data row21 col21\" >1.000000</td>\n",
       "      <td id=\"T_bb9b6_row21_col22\" class=\"data row21 col22\" >0.682302</td>\n",
       "      <td id=\"T_bb9b6_row21_col23\" class=\"data row21 col23\" >0.213319</td>\n",
       "      <td id=\"T_bb9b6_row21_col24\" class=\"data row21 col24\" >0.225549</td>\n",
       "      <td id=\"T_bb9b6_row21_col25\" class=\"data row21 col25\" >0.213355</td>\n",
       "      <td id=\"T_bb9b6_row21_col26\" class=\"data row21 col26\" >-0.072614</td>\n",
       "      <td id=\"T_bb9b6_row21_col27\" class=\"data row21 col27\" >-0.061032</td>\n",
       "      <td id=\"T_bb9b6_row21_col28\" class=\"data row21 col28\" >-0.035727</td>\n",
       "      <td id=\"T_bb9b6_row21_col29\" class=\"data row21 col29\" >-0.102562</td>\n",
       "      <td id=\"T_bb9b6_row21_col30\" class=\"data row21 col30\" >-0.171582</td>\n",
       "      <td id=\"T_bb9b6_row21_col31\" class=\"data row21 col31\" >-0.137691</td>\n",
       "      <td id=\"T_bb9b6_row21_col32\" class=\"data row21 col32\" >-0.136059</td>\n",
       "      <td id=\"T_bb9b6_row21_col33\" class=\"data row21 col33\" >-0.158270</td>\n",
       "      <td id=\"T_bb9b6_row21_col34\" class=\"data row21 col34\" >-0.127455</td>\n",
       "      <td id=\"T_bb9b6_row21_col35\" class=\"data row21 col35\" >-0.094888</td>\n",
       "      <td id=\"T_bb9b6_row21_col36\" class=\"data row21 col36\" >-0.169178</td>\n",
       "      <td id=\"T_bb9b6_row21_col37\" class=\"data row21 col37\" >-0.108209</td>\n",
       "      <td id=\"T_bb9b6_row21_col38\" class=\"data row21 col38\" >-0.059171</td>\n",
       "    </tr>\n",
       "    <tr>\n",
       "      <th id=\"T_bb9b6_level0_row22\" class=\"row_heading level0 row22\" >t_acous2</th>\n",
       "      <td id=\"T_bb9b6_row22_col0\" class=\"data row22 col0\" >0.047911</td>\n",
       "      <td id=\"T_bb9b6_row22_col1\" class=\"data row22 col1\" >0.075009</td>\n",
       "      <td id=\"T_bb9b6_row22_col2\" class=\"data row22 col2\" >0.096922</td>\n",
       "      <td id=\"T_bb9b6_row22_col3\" class=\"data row22 col3\" >0.060266</td>\n",
       "      <td id=\"T_bb9b6_row22_col4\" class=\"data row22 col4\" >0.020221</td>\n",
       "      <td id=\"T_bb9b6_row22_col5\" class=\"data row22 col5\" >-0.203174</td>\n",
       "      <td id=\"T_bb9b6_row22_col6\" class=\"data row22 col6\" >-0.220432</td>\n",
       "      <td id=\"T_bb9b6_row22_col7\" class=\"data row22 col7\" >-0.265433</td>\n",
       "      <td id=\"T_bb9b6_row22_col8\" class=\"data row22 col8\" >-0.492847</td>\n",
       "      <td id=\"T_bb9b6_row22_col9\" class=\"data row22 col9\" >-0.526710</td>\n",
       "      <td id=\"T_bb9b6_row22_col10\" class=\"data row22 col10\" >-0.659510</td>\n",
       "      <td id=\"T_bb9b6_row22_col11\" class=\"data row22 col11\" >-0.031331</td>\n",
       "      <td id=\"T_bb9b6_row22_col12\" class=\"data row22 col12\" >-0.022638</td>\n",
       "      <td id=\"T_bb9b6_row22_col13\" class=\"data row22 col13\" >0.016851</td>\n",
       "      <td id=\"T_bb9b6_row22_col14\" class=\"data row22 col14\" >0.077316</td>\n",
       "      <td id=\"T_bb9b6_row22_col15\" class=\"data row22 col15\" >0.044842</td>\n",
       "      <td id=\"T_bb9b6_row22_col16\" class=\"data row22 col16\" >0.058157</td>\n",
       "      <td id=\"T_bb9b6_row22_col17\" class=\"data row22 col17\" >-0.075919</td>\n",
       "      <td id=\"T_bb9b6_row22_col18\" class=\"data row22 col18\" >-0.097424</td>\n",
       "      <td id=\"T_bb9b6_row22_col19\" class=\"data row22 col19\" >-0.079193</td>\n",
       "      <td id=\"T_bb9b6_row22_col20\" class=\"data row22 col20\" >0.645745</td>\n",
       "      <td id=\"T_bb9b6_row22_col21\" class=\"data row22 col21\" >0.682302</td>\n",
       "      <td id=\"T_bb9b6_row22_col22\" class=\"data row22 col22\" >1.000000</td>\n",
       "      <td id=\"T_bb9b6_row22_col23\" class=\"data row22 col23\" >0.216373</td>\n",
       "      <td id=\"T_bb9b6_row22_col24\" class=\"data row22 col24\" >0.229350</td>\n",
       "      <td id=\"T_bb9b6_row22_col25\" class=\"data row22 col25\" >0.211175</td>\n",
       "      <td id=\"T_bb9b6_row22_col26\" class=\"data row22 col26\" >-0.062471</td>\n",
       "      <td id=\"T_bb9b6_row22_col27\" class=\"data row22 col27\" >-0.044702</td>\n",
       "      <td id=\"T_bb9b6_row22_col28\" class=\"data row22 col28\" >-0.050230</td>\n",
       "      <td id=\"T_bb9b6_row22_col29\" class=\"data row22 col29\" >-0.096198</td>\n",
       "      <td id=\"T_bb9b6_row22_col30\" class=\"data row22 col30\" >-0.116876</td>\n",
       "      <td id=\"T_bb9b6_row22_col31\" class=\"data row22 col31\" >-0.185639</td>\n",
       "      <td id=\"T_bb9b6_row22_col32\" class=\"data row22 col32\" >-0.102025</td>\n",
       "      <td id=\"T_bb9b6_row22_col33\" class=\"data row22 col33\" >-0.133889</td>\n",
       "      <td id=\"T_bb9b6_row22_col34\" class=\"data row22 col34\" >-0.164164</td>\n",
       "      <td id=\"T_bb9b6_row22_col35\" class=\"data row22 col35\" >-0.097268</td>\n",
       "      <td id=\"T_bb9b6_row22_col36\" class=\"data row22 col36\" >-0.135130</td>\n",
       "      <td id=\"T_bb9b6_row22_col37\" class=\"data row22 col37\" >-0.132691</td>\n",
       "      <td id=\"T_bb9b6_row22_col38\" class=\"data row22 col38\" >-0.069969</td>\n",
       "    </tr>\n",
       "    <tr>\n",
       "      <th id=\"T_bb9b6_level0_row23\" class=\"row_heading level0 row23\" >t_ins0</th>\n",
       "      <td id=\"T_bb9b6_row23_col0\" class=\"data row23 col0\" >0.057373</td>\n",
       "      <td id=\"T_bb9b6_row23_col1\" class=\"data row23 col1\" >0.026069</td>\n",
       "      <td id=\"T_bb9b6_row23_col2\" class=\"data row23 col2\" >0.050895</td>\n",
       "      <td id=\"T_bb9b6_row23_col3\" class=\"data row23 col3\" >0.043019</td>\n",
       "      <td id=\"T_bb9b6_row23_col4\" class=\"data row23 col4\" >0.063619</td>\n",
       "      <td id=\"T_bb9b6_row23_col5\" class=\"data row23 col5\" >-0.266484</td>\n",
       "      <td id=\"T_bb9b6_row23_col6\" class=\"data row23 col6\" >-0.268307</td>\n",
       "      <td id=\"T_bb9b6_row23_col7\" class=\"data row23 col7\" >-0.279984</td>\n",
       "      <td id=\"T_bb9b6_row23_col8\" class=\"data row23 col8\" >-0.287067</td>\n",
       "      <td id=\"T_bb9b6_row23_col9\" class=\"data row23 col9\" >-0.289707</td>\n",
       "      <td id=\"T_bb9b6_row23_col10\" class=\"data row23 col10\" >-0.274035</td>\n",
       "      <td id=\"T_bb9b6_row23_col11\" class=\"data row23 col11\" >-0.057538</td>\n",
       "      <td id=\"T_bb9b6_row23_col12\" class=\"data row23 col12\" >-0.013646</td>\n",
       "      <td id=\"T_bb9b6_row23_col13\" class=\"data row23 col13\" >-0.000077</td>\n",
       "      <td id=\"T_bb9b6_row23_col14\" class=\"data row23 col14\" >0.003114</td>\n",
       "      <td id=\"T_bb9b6_row23_col15\" class=\"data row23 col15\" >0.003637</td>\n",
       "      <td id=\"T_bb9b6_row23_col16\" class=\"data row23 col16\" >-0.013846</td>\n",
       "      <td id=\"T_bb9b6_row23_col17\" class=\"data row23 col17\" >-0.214328</td>\n",
       "      <td id=\"T_bb9b6_row23_col18\" class=\"data row23 col18\" >-0.188407</td>\n",
       "      <td id=\"T_bb9b6_row23_col19\" class=\"data row23 col19\" >-0.171336</td>\n",
       "      <td id=\"T_bb9b6_row23_col20\" class=\"data row23 col20\" >0.214991</td>\n",
       "      <td id=\"T_bb9b6_row23_col21\" class=\"data row23 col21\" >0.213319</td>\n",
       "      <td id=\"T_bb9b6_row23_col22\" class=\"data row23 col22\" >0.216373</td>\n",
       "      <td id=\"T_bb9b6_row23_col23\" class=\"data row23 col23\" >1.000000</td>\n",
       "      <td id=\"T_bb9b6_row23_col24\" class=\"data row23 col24\" >0.716309</td>\n",
       "      <td id=\"T_bb9b6_row23_col25\" class=\"data row23 col25\" >0.715784</td>\n",
       "      <td id=\"T_bb9b6_row23_col26\" class=\"data row23 col26\" >-0.092763</td>\n",
       "      <td id=\"T_bb9b6_row23_col27\" class=\"data row23 col27\" >-0.075099</td>\n",
       "      <td id=\"T_bb9b6_row23_col28\" class=\"data row23 col28\" >-0.051450</td>\n",
       "      <td id=\"T_bb9b6_row23_col29\" class=\"data row23 col29\" >-0.307174</td>\n",
       "      <td id=\"T_bb9b6_row23_col30\" class=\"data row23 col30\" >-0.281333</td>\n",
       "      <td id=\"T_bb9b6_row23_col31\" class=\"data row23 col31\" >-0.293833</td>\n",
       "      <td id=\"T_bb9b6_row23_col32\" class=\"data row23 col32\" >-0.048332</td>\n",
       "      <td id=\"T_bb9b6_row23_col33\" class=\"data row23 col33\" >-0.062695</td>\n",
       "      <td id=\"T_bb9b6_row23_col34\" class=\"data row23 col34\" >-0.035208</td>\n",
       "      <td id=\"T_bb9b6_row23_col35\" class=\"data row23 col35\" >-0.055283</td>\n",
       "      <td id=\"T_bb9b6_row23_col36\" class=\"data row23 col36\" >-0.087470</td>\n",
       "      <td id=\"T_bb9b6_row23_col37\" class=\"data row23 col37\" >-0.084304</td>\n",
       "      <td id=\"T_bb9b6_row23_col38\" class=\"data row23 col38\" >-0.151640</td>\n",
       "    </tr>\n",
       "    <tr>\n",
       "      <th id=\"T_bb9b6_level0_row24\" class=\"row_heading level0 row24\" >t_ins1</th>\n",
       "      <td id=\"T_bb9b6_row24_col0\" class=\"data row24 col0\" >0.063844</td>\n",
       "      <td id=\"T_bb9b6_row24_col1\" class=\"data row24 col1\" >0.025562</td>\n",
       "      <td id=\"T_bb9b6_row24_col2\" class=\"data row24 col2\" >0.083471</td>\n",
       "      <td id=\"T_bb9b6_row24_col3\" class=\"data row24 col3\" >0.054749</td>\n",
       "      <td id=\"T_bb9b6_row24_col4\" class=\"data row24 col4\" >0.078292</td>\n",
       "      <td id=\"T_bb9b6_row24_col5\" class=\"data row24 col5\" >-0.222790</td>\n",
       "      <td id=\"T_bb9b6_row24_col6\" class=\"data row24 col6\" >-0.259359</td>\n",
       "      <td id=\"T_bb9b6_row24_col7\" class=\"data row24 col7\" >-0.271639</td>\n",
       "      <td id=\"T_bb9b6_row24_col8\" class=\"data row24 col8\" >-0.274864</td>\n",
       "      <td id=\"T_bb9b6_row24_col9\" class=\"data row24 col9\" >-0.311633</td>\n",
       "      <td id=\"T_bb9b6_row24_col10\" class=\"data row24 col10\" >-0.307663</td>\n",
       "      <td id=\"T_bb9b6_row24_col11\" class=\"data row24 col11\" >-0.068391</td>\n",
       "      <td id=\"T_bb9b6_row24_col12\" class=\"data row24 col12\" >-0.011315</td>\n",
       "      <td id=\"T_bb9b6_row24_col13\" class=\"data row24 col13\" >-0.001274</td>\n",
       "      <td id=\"T_bb9b6_row24_col14\" class=\"data row24 col14\" >-0.017527</td>\n",
       "      <td id=\"T_bb9b6_row24_col15\" class=\"data row24 col15\" >-0.010790</td>\n",
       "      <td id=\"T_bb9b6_row24_col16\" class=\"data row24 col16\" >-0.021301</td>\n",
       "      <td id=\"T_bb9b6_row24_col17\" class=\"data row24 col17\" >-0.173029</td>\n",
       "      <td id=\"T_bb9b6_row24_col18\" class=\"data row24 col18\" >-0.211257</td>\n",
       "      <td id=\"T_bb9b6_row24_col19\" class=\"data row24 col19\" >-0.168087</td>\n",
       "      <td id=\"T_bb9b6_row24_col20\" class=\"data row24 col20\" >0.183637</td>\n",
       "      <td id=\"T_bb9b6_row24_col21\" class=\"data row24 col21\" >0.225549</td>\n",
       "      <td id=\"T_bb9b6_row24_col22\" class=\"data row24 col22\" >0.229350</td>\n",
       "      <td id=\"T_bb9b6_row24_col23\" class=\"data row24 col23\" >0.716309</td>\n",
       "      <td id=\"T_bb9b6_row24_col24\" class=\"data row24 col24\" >1.000000</td>\n",
       "      <td id=\"T_bb9b6_row24_col25\" class=\"data row24 col25\" >0.762840</td>\n",
       "      <td id=\"T_bb9b6_row24_col26\" class=\"data row24 col26\" >-0.086583</td>\n",
       "      <td id=\"T_bb9b6_row24_col27\" class=\"data row24 col27\" >-0.095803</td>\n",
       "      <td id=\"T_bb9b6_row24_col28\" class=\"data row24 col28\" >-0.076443</td>\n",
       "      <td id=\"T_bb9b6_row24_col29\" class=\"data row24 col29\" >-0.260439</td>\n",
       "      <td id=\"T_bb9b6_row24_col30\" class=\"data row24 col30\" >-0.277956</td>\n",
       "      <td id=\"T_bb9b6_row24_col31\" class=\"data row24 col31\" >-0.288993</td>\n",
       "      <td id=\"T_bb9b6_row24_col32\" class=\"data row24 col32\" >-0.058214</td>\n",
       "      <td id=\"T_bb9b6_row24_col33\" class=\"data row24 col33\" >-0.068699</td>\n",
       "      <td id=\"T_bb9b6_row24_col34\" class=\"data row24 col34\" >-0.056013</td>\n",
       "      <td id=\"T_bb9b6_row24_col35\" class=\"data row24 col35\" >-0.071227</td>\n",
       "      <td id=\"T_bb9b6_row24_col36\" class=\"data row24 col36\" >-0.085161</td>\n",
       "      <td id=\"T_bb9b6_row24_col37\" class=\"data row24 col37\" >-0.082490</td>\n",
       "      <td id=\"T_bb9b6_row24_col38\" class=\"data row24 col38\" >-0.186636</td>\n",
       "    </tr>\n",
       "    <tr>\n",
       "      <th id=\"T_bb9b6_level0_row25\" class=\"row_heading level0 row25\" >t_ins2</th>\n",
       "      <td id=\"T_bb9b6_row25_col0\" class=\"data row25 col0\" >0.056743</td>\n",
       "      <td id=\"T_bb9b6_row25_col1\" class=\"data row25 col1\" >0.017757</td>\n",
       "      <td id=\"T_bb9b6_row25_col2\" class=\"data row25 col2\" >0.073200</td>\n",
       "      <td id=\"T_bb9b6_row25_col3\" class=\"data row25 col3\" >0.044116</td>\n",
       "      <td id=\"T_bb9b6_row25_col4\" class=\"data row25 col4\" >0.067123</td>\n",
       "      <td id=\"T_bb9b6_row25_col5\" class=\"data row25 col5\" >-0.216136</td>\n",
       "      <td id=\"T_bb9b6_row25_col6\" class=\"data row25 col6\" >-0.258962</td>\n",
       "      <td id=\"T_bb9b6_row25_col7\" class=\"data row25 col7\" >-0.282799</td>\n",
       "      <td id=\"T_bb9b6_row25_col8\" class=\"data row25 col8\" >-0.230657</td>\n",
       "      <td id=\"T_bb9b6_row25_col9\" class=\"data row25 col9\" >-0.303215</td>\n",
       "      <td id=\"T_bb9b6_row25_col10\" class=\"data row25 col10\" >-0.278349</td>\n",
       "      <td id=\"T_bb9b6_row25_col11\" class=\"data row25 col11\" >-0.062616</td>\n",
       "      <td id=\"T_bb9b6_row25_col12\" class=\"data row25 col12\" >-0.004894</td>\n",
       "      <td id=\"T_bb9b6_row25_col13\" class=\"data row25 col13\" >-0.000332</td>\n",
       "      <td id=\"T_bb9b6_row25_col14\" class=\"data row25 col14\" >-0.002720</td>\n",
       "      <td id=\"T_bb9b6_row25_col15\" class=\"data row25 col15\" >-0.013653</td>\n",
       "      <td id=\"T_bb9b6_row25_col16\" class=\"data row25 col16\" >-0.029703</td>\n",
       "      <td id=\"T_bb9b6_row25_col17\" class=\"data row25 col17\" >-0.187194</td>\n",
       "      <td id=\"T_bb9b6_row25_col18\" class=\"data row25 col18\" >-0.203311</td>\n",
       "      <td id=\"T_bb9b6_row25_col19\" class=\"data row25 col19\" >-0.200141</td>\n",
       "      <td id=\"T_bb9b6_row25_col20\" class=\"data row25 col20\" >0.166050</td>\n",
       "      <td id=\"T_bb9b6_row25_col21\" class=\"data row25 col21\" >0.213355</td>\n",
       "      <td id=\"T_bb9b6_row25_col22\" class=\"data row25 col22\" >0.211175</td>\n",
       "      <td id=\"T_bb9b6_row25_col23\" class=\"data row25 col23\" >0.715784</td>\n",
       "      <td id=\"T_bb9b6_row25_col24\" class=\"data row25 col24\" >0.762840</td>\n",
       "      <td id=\"T_bb9b6_row25_col25\" class=\"data row25 col25\" >1.000000</td>\n",
       "      <td id=\"T_bb9b6_row25_col26\" class=\"data row25 col26\" >-0.094930</td>\n",
       "      <td id=\"T_bb9b6_row25_col27\" class=\"data row25 col27\" >-0.097386</td>\n",
       "      <td id=\"T_bb9b6_row25_col28\" class=\"data row25 col28\" >-0.091513</td>\n",
       "      <td id=\"T_bb9b6_row25_col29\" class=\"data row25 col29\" >-0.255181</td>\n",
       "      <td id=\"T_bb9b6_row25_col30\" class=\"data row25 col30\" >-0.284384</td>\n",
       "      <td id=\"T_bb9b6_row25_col31\" class=\"data row25 col31\" >-0.308335</td>\n",
       "      <td id=\"T_bb9b6_row25_col32\" class=\"data row25 col32\" >-0.045825</td>\n",
       "      <td id=\"T_bb9b6_row25_col33\" class=\"data row25 col33\" >-0.068340</td>\n",
       "      <td id=\"T_bb9b6_row25_col34\" class=\"data row25 col34\" >-0.032385</td>\n",
       "      <td id=\"T_bb9b6_row25_col35\" class=\"data row25 col35\" >-0.064737</td>\n",
       "      <td id=\"T_bb9b6_row25_col36\" class=\"data row25 col36\" >-0.067539</td>\n",
       "      <td id=\"T_bb9b6_row25_col37\" class=\"data row25 col37\" >-0.052889</td>\n",
       "      <td id=\"T_bb9b6_row25_col38\" class=\"data row25 col38\" >-0.166684</td>\n",
       "    </tr>\n",
       "    <tr>\n",
       "      <th id=\"T_bb9b6_level0_row26\" class=\"row_heading level0 row26\" >t_live0</th>\n",
       "      <td id=\"T_bb9b6_row26_col0\" class=\"data row26 col0\" >0.019339</td>\n",
       "      <td id=\"T_bb9b6_row26_col1\" class=\"data row26 col1\" >0.046025</td>\n",
       "      <td id=\"T_bb9b6_row26_col2\" class=\"data row26 col2\" >-0.015607</td>\n",
       "      <td id=\"T_bb9b6_row26_col3\" class=\"data row26 col3\" >0.016670</td>\n",
       "      <td id=\"T_bb9b6_row26_col4\" class=\"data row26 col4\" >0.000256</td>\n",
       "      <td id=\"T_bb9b6_row26_col5\" class=\"data row26 col5\" >-0.161330</td>\n",
       "      <td id=\"T_bb9b6_row26_col6\" class=\"data row26 col6\" >-0.103836</td>\n",
       "      <td id=\"T_bb9b6_row26_col7\" class=\"data row26 col7\" >-0.081138</td>\n",
       "      <td id=\"T_bb9b6_row26_col8\" class=\"data row26 col8\" >0.151989</td>\n",
       "      <td id=\"T_bb9b6_row26_col9\" class=\"data row26 col9\" >0.154356</td>\n",
       "      <td id=\"T_bb9b6_row26_col10\" class=\"data row26 col10\" >0.156637</td>\n",
       "      <td id=\"T_bb9b6_row26_col11\" class=\"data row26 col11\" >0.042570</td>\n",
       "      <td id=\"T_bb9b6_row26_col12\" class=\"data row26 col12\" >-0.020467</td>\n",
       "      <td id=\"T_bb9b6_row26_col13\" class=\"data row26 col13\" >-0.011247</td>\n",
       "      <td id=\"T_bb9b6_row26_col14\" class=\"data row26 col14\" >0.015274</td>\n",
       "      <td id=\"T_bb9b6_row26_col15\" class=\"data row26 col15\" >0.032275</td>\n",
       "      <td id=\"T_bb9b6_row26_col16\" class=\"data row26 col16\" >0.007872</td>\n",
       "      <td id=\"T_bb9b6_row26_col17\" class=\"data row26 col17\" >0.135107</td>\n",
       "      <td id=\"T_bb9b6_row26_col18\" class=\"data row26 col18\" >0.081532</td>\n",
       "      <td id=\"T_bb9b6_row26_col19\" class=\"data row26 col19\" >0.104031</td>\n",
       "      <td id=\"T_bb9b6_row26_col20\" class=\"data row26 col20\" >-0.053313</td>\n",
       "      <td id=\"T_bb9b6_row26_col21\" class=\"data row26 col21\" >-0.072614</td>\n",
       "      <td id=\"T_bb9b6_row26_col22\" class=\"data row26 col22\" >-0.062471</td>\n",
       "      <td id=\"T_bb9b6_row26_col23\" class=\"data row26 col23\" >-0.092763</td>\n",
       "      <td id=\"T_bb9b6_row26_col24\" class=\"data row26 col24\" >-0.086583</td>\n",
       "      <td id=\"T_bb9b6_row26_col25\" class=\"data row26 col25\" >-0.094930</td>\n",
       "      <td id=\"T_bb9b6_row26_col26\" class=\"data row26 col26\" >1.000000</td>\n",
       "      <td id=\"T_bb9b6_row26_col27\" class=\"data row26 col27\" >0.399973</td>\n",
       "      <td id=\"T_bb9b6_row26_col28\" class=\"data row26 col28\" >0.387901</td>\n",
       "      <td id=\"T_bb9b6_row26_col29\" class=\"data row26 col29\" >-0.002112</td>\n",
       "      <td id=\"T_bb9b6_row26_col30\" class=\"data row26 col30\" >-0.007637</td>\n",
       "      <td id=\"T_bb9b6_row26_col31\" class=\"data row26 col31\" >0.003455</td>\n",
       "      <td id=\"T_bb9b6_row26_col32\" class=\"data row26 col32\" >-0.029164</td>\n",
       "      <td id=\"T_bb9b6_row26_col33\" class=\"data row26 col33\" >-0.011681</td>\n",
       "      <td id=\"T_bb9b6_row26_col34\" class=\"data row26 col34\" >0.017103</td>\n",
       "      <td id=\"T_bb9b6_row26_col35\" class=\"data row26 col35\" >-0.056589</td>\n",
       "      <td id=\"T_bb9b6_row26_col36\" class=\"data row26 col36\" >-0.028854</td>\n",
       "      <td id=\"T_bb9b6_row26_col37\" class=\"data row26 col37\" >-0.017873</td>\n",
       "      <td id=\"T_bb9b6_row26_col38\" class=\"data row26 col38\" >-0.008555</td>\n",
       "    </tr>\n",
       "    <tr>\n",
       "      <th id=\"T_bb9b6_level0_row27\" class=\"row_heading level0 row27\" >t_live1</th>\n",
       "      <td id=\"T_bb9b6_row27_col0\" class=\"data row27 col0\" >0.011344</td>\n",
       "      <td id=\"T_bb9b6_row27_col1\" class=\"data row27 col1\" >0.009020</td>\n",
       "      <td id=\"T_bb9b6_row27_col2\" class=\"data row27 col2\" >0.027745</td>\n",
       "      <td id=\"T_bb9b6_row27_col3\" class=\"data row27 col3\" >0.022773</td>\n",
       "      <td id=\"T_bb9b6_row27_col4\" class=\"data row27 col4\" >0.029398</td>\n",
       "      <td id=\"T_bb9b6_row27_col5\" class=\"data row27 col5\" >-0.110871</td>\n",
       "      <td id=\"T_bb9b6_row27_col6\" class=\"data row27 col6\" >-0.144144</td>\n",
       "      <td id=\"T_bb9b6_row27_col7\" class=\"data row27 col7\" >-0.087104</td>\n",
       "      <td id=\"T_bb9b6_row27_col8\" class=\"data row27 col8\" >0.130868</td>\n",
       "      <td id=\"T_bb9b6_row27_col9\" class=\"data row27 col9\" >0.179993</td>\n",
       "      <td id=\"T_bb9b6_row27_col10\" class=\"data row27 col10\" >0.139579</td>\n",
       "      <td id=\"T_bb9b6_row27_col11\" class=\"data row27 col11\" >0.042946</td>\n",
       "      <td id=\"T_bb9b6_row27_col12\" class=\"data row27 col12\" >-0.023176</td>\n",
       "      <td id=\"T_bb9b6_row27_col13\" class=\"data row27 col13\" >-0.037109</td>\n",
       "      <td id=\"T_bb9b6_row27_col14\" class=\"data row27 col14\" >0.018618</td>\n",
       "      <td id=\"T_bb9b6_row27_col15\" class=\"data row27 col15\" >0.019877</td>\n",
       "      <td id=\"T_bb9b6_row27_col16\" class=\"data row27 col16\" >0.014554</td>\n",
       "      <td id=\"T_bb9b6_row27_col17\" class=\"data row27 col17\" >0.084539</td>\n",
       "      <td id=\"T_bb9b6_row27_col18\" class=\"data row27 col18\" >0.101552</td>\n",
       "      <td id=\"T_bb9b6_row27_col19\" class=\"data row27 col19\" >0.072680</td>\n",
       "      <td id=\"T_bb9b6_row27_col20\" class=\"data row27 col20\" >-0.052404</td>\n",
       "      <td id=\"T_bb9b6_row27_col21\" class=\"data row27 col21\" >-0.061032</td>\n",
       "      <td id=\"T_bb9b6_row27_col22\" class=\"data row27 col22\" >-0.044702</td>\n",
       "      <td id=\"T_bb9b6_row27_col23\" class=\"data row27 col23\" >-0.075099</td>\n",
       "      <td id=\"T_bb9b6_row27_col24\" class=\"data row27 col24\" >-0.095803</td>\n",
       "      <td id=\"T_bb9b6_row27_col25\" class=\"data row27 col25\" >-0.097386</td>\n",
       "      <td id=\"T_bb9b6_row27_col26\" class=\"data row27 col26\" >0.399973</td>\n",
       "      <td id=\"T_bb9b6_row27_col27\" class=\"data row27 col27\" >1.000000</td>\n",
       "      <td id=\"T_bb9b6_row27_col28\" class=\"data row27 col28\" >0.377563</td>\n",
       "      <td id=\"T_bb9b6_row27_col29\" class=\"data row27 col29\" >0.000864</td>\n",
       "      <td id=\"T_bb9b6_row27_col30\" class=\"data row27 col30\" >-0.018212</td>\n",
       "      <td id=\"T_bb9b6_row27_col31\" class=\"data row27 col31\" >-0.001971</td>\n",
       "      <td id=\"T_bb9b6_row27_col32\" class=\"data row27 col32\" >-0.024245</td>\n",
       "      <td id=\"T_bb9b6_row27_col33\" class=\"data row27 col33\" >0.021277</td>\n",
       "      <td id=\"T_bb9b6_row27_col34\" class=\"data row27 col34\" >0.030659</td>\n",
       "      <td id=\"T_bb9b6_row27_col35\" class=\"data row27 col35\" >-0.011839</td>\n",
       "      <td id=\"T_bb9b6_row27_col36\" class=\"data row27 col36\" >-0.023631</td>\n",
       "      <td id=\"T_bb9b6_row27_col37\" class=\"data row27 col37\" >-0.028591</td>\n",
       "      <td id=\"T_bb9b6_row27_col38\" class=\"data row27 col38\" >-0.003397</td>\n",
       "    </tr>\n",
       "    <tr>\n",
       "      <th id=\"T_bb9b6_level0_row28\" class=\"row_heading level0 row28\" >t_live2</th>\n",
       "      <td id=\"T_bb9b6_row28_col0\" class=\"data row28 col0\" >-0.014316</td>\n",
       "      <td id=\"T_bb9b6_row28_col1\" class=\"data row28 col1\" >0.039200</td>\n",
       "      <td id=\"T_bb9b6_row28_col2\" class=\"data row28 col2\" >0.009643</td>\n",
       "      <td id=\"T_bb9b6_row28_col3\" class=\"data row28 col3\" >0.020477</td>\n",
       "      <td id=\"T_bb9b6_row28_col4\" class=\"data row28 col4\" >0.009819</td>\n",
       "      <td id=\"T_bb9b6_row28_col5\" class=\"data row28 col5\" >-0.114729</td>\n",
       "      <td id=\"T_bb9b6_row28_col6\" class=\"data row28 col6\" >-0.124050</td>\n",
       "      <td id=\"T_bb9b6_row28_col7\" class=\"data row28 col7\" >-0.133064</td>\n",
       "      <td id=\"T_bb9b6_row28_col8\" class=\"data row28 col8\" >0.098530</td>\n",
       "      <td id=\"T_bb9b6_row28_col9\" class=\"data row28 col9\" >0.126992</td>\n",
       "      <td id=\"T_bb9b6_row28_col10\" class=\"data row28 col10\" >0.166134</td>\n",
       "      <td id=\"T_bb9b6_row28_col11\" class=\"data row28 col11\" >0.017818</td>\n",
       "      <td id=\"T_bb9b6_row28_col12\" class=\"data row28 col12\" >-0.015909</td>\n",
       "      <td id=\"T_bb9b6_row28_col13\" class=\"data row28 col13\" >0.011334</td>\n",
       "      <td id=\"T_bb9b6_row28_col14\" class=\"data row28 col14\" >0.006121</td>\n",
       "      <td id=\"T_bb9b6_row28_col15\" class=\"data row28 col15\" >0.008021</td>\n",
       "      <td id=\"T_bb9b6_row28_col16\" class=\"data row28 col16\" >0.024914</td>\n",
       "      <td id=\"T_bb9b6_row28_col17\" class=\"data row28 col17\" >0.075098</td>\n",
       "      <td id=\"T_bb9b6_row28_col18\" class=\"data row28 col18\" >0.086864</td>\n",
       "      <td id=\"T_bb9b6_row28_col19\" class=\"data row28 col19\" >0.114208</td>\n",
       "      <td id=\"T_bb9b6_row28_col20\" class=\"data row28 col20\" >-0.030780</td>\n",
       "      <td id=\"T_bb9b6_row28_col21\" class=\"data row28 col21\" >-0.035727</td>\n",
       "      <td id=\"T_bb9b6_row28_col22\" class=\"data row28 col22\" >-0.050230</td>\n",
       "      <td id=\"T_bb9b6_row28_col23\" class=\"data row28 col23\" >-0.051450</td>\n",
       "      <td id=\"T_bb9b6_row28_col24\" class=\"data row28 col24\" >-0.076443</td>\n",
       "      <td id=\"T_bb9b6_row28_col25\" class=\"data row28 col25\" >-0.091513</td>\n",
       "      <td id=\"T_bb9b6_row28_col26\" class=\"data row28 col26\" >0.387901</td>\n",
       "      <td id=\"T_bb9b6_row28_col27\" class=\"data row28 col27\" >0.377563</td>\n",
       "      <td id=\"T_bb9b6_row28_col28\" class=\"data row28 col28\" >1.000000</td>\n",
       "      <td id=\"T_bb9b6_row28_col29\" class=\"data row28 col29\" >-0.015719</td>\n",
       "      <td id=\"T_bb9b6_row28_col30\" class=\"data row28 col30\" >-0.016832</td>\n",
       "      <td id=\"T_bb9b6_row28_col31\" class=\"data row28 col31\" >0.007169</td>\n",
       "      <td id=\"T_bb9b6_row28_col32\" class=\"data row28 col32\" >-0.048545</td>\n",
       "      <td id=\"T_bb9b6_row28_col33\" class=\"data row28 col33\" >-0.015080</td>\n",
       "      <td id=\"T_bb9b6_row28_col34\" class=\"data row28 col34\" >0.009493</td>\n",
       "      <td id=\"T_bb9b6_row28_col35\" class=\"data row28 col35\" >0.000505</td>\n",
       "      <td id=\"T_bb9b6_row28_col36\" class=\"data row28 col36\" >-0.049491</td>\n",
       "      <td id=\"T_bb9b6_row28_col37\" class=\"data row28 col37\" >-0.035314</td>\n",
       "      <td id=\"T_bb9b6_row28_col38\" class=\"data row28 col38\" >-0.004939</td>\n",
       "    </tr>\n",
       "    <tr>\n",
       "      <th id=\"T_bb9b6_level0_row29\" class=\"row_heading level0 row29\" >t_val0</th>\n",
       "      <td id=\"T_bb9b6_row29_col0\" class=\"data row29 col0\" >0.008431</td>\n",
       "      <td id=\"T_bb9b6_row29_col1\" class=\"data row29 col1\" >0.023836</td>\n",
       "      <td id=\"T_bb9b6_row29_col2\" class=\"data row29 col2\" >-0.086551</td>\n",
       "      <td id=\"T_bb9b6_row29_col3\" class=\"data row29 col3\" >-0.049024</td>\n",
       "      <td id=\"T_bb9b6_row29_col4\" class=\"data row29 col4\" >-0.057442</td>\n",
       "      <td id=\"T_bb9b6_row29_col5\" class=\"data row29 col5\" >0.480693</td>\n",
       "      <td id=\"T_bb9b6_row29_col6\" class=\"data row29 col6\" >0.313391</td>\n",
       "      <td id=\"T_bb9b6_row29_col7\" class=\"data row29 col7\" >0.308151</td>\n",
       "      <td id=\"T_bb9b6_row29_col8\" class=\"data row29 col8\" >0.334330</td>\n",
       "      <td id=\"T_bb9b6_row29_col9\" class=\"data row29 col9\" >0.210205</td>\n",
       "      <td id=\"T_bb9b6_row29_col10\" class=\"data row29 col10\" >0.198248</td>\n",
       "      <td id=\"T_bb9b6_row29_col11\" class=\"data row29 col11\" >0.074493</td>\n",
       "      <td id=\"T_bb9b6_row29_col12\" class=\"data row29 col12\" >0.016597</td>\n",
       "      <td id=\"T_bb9b6_row29_col13\" class=\"data row29 col13\" >0.024119</td>\n",
       "      <td id=\"T_bb9b6_row29_col14\" class=\"data row29 col14\" >0.008798</td>\n",
       "      <td id=\"T_bb9b6_row29_col15\" class=\"data row29 col15\" >0.029859</td>\n",
       "      <td id=\"T_bb9b6_row29_col16\" class=\"data row29 col16\" >0.017874</td>\n",
       "      <td id=\"T_bb9b6_row29_col17\" class=\"data row29 col17\" >0.070045</td>\n",
       "      <td id=\"T_bb9b6_row29_col18\" class=\"data row29 col18\" >0.014714</td>\n",
       "      <td id=\"T_bb9b6_row29_col19\" class=\"data row29 col19\" >0.010999</td>\n",
       "      <td id=\"T_bb9b6_row29_col20\" class=\"data row29 col20\" >-0.166828</td>\n",
       "      <td id=\"T_bb9b6_row29_col21\" class=\"data row29 col21\" >-0.102562</td>\n",
       "      <td id=\"T_bb9b6_row29_col22\" class=\"data row29 col22\" >-0.096198</td>\n",
       "      <td id=\"T_bb9b6_row29_col23\" class=\"data row29 col23\" >-0.307174</td>\n",
       "      <td id=\"T_bb9b6_row29_col24\" class=\"data row29 col24\" >-0.260439</td>\n",
       "      <td id=\"T_bb9b6_row29_col25\" class=\"data row29 col25\" >-0.255181</td>\n",
       "      <td id=\"T_bb9b6_row29_col26\" class=\"data row29 col26\" >-0.002112</td>\n",
       "      <td id=\"T_bb9b6_row29_col27\" class=\"data row29 col27\" >0.000864</td>\n",
       "      <td id=\"T_bb9b6_row29_col28\" class=\"data row29 col28\" >-0.015719</td>\n",
       "      <td id=\"T_bb9b6_row29_col29\" class=\"data row29 col29\" >1.000000</td>\n",
       "      <td id=\"T_bb9b6_row29_col30\" class=\"data row29 col30\" >0.528432</td>\n",
       "      <td id=\"T_bb9b6_row29_col31\" class=\"data row29 col31\" >0.507412</td>\n",
       "      <td id=\"T_bb9b6_row29_col32\" class=\"data row29 col32\" >0.118455</td>\n",
       "      <td id=\"T_bb9b6_row29_col33\" class=\"data row29 col33\" >0.045431</td>\n",
       "      <td id=\"T_bb9b6_row29_col34\" class=\"data row29 col34\" >0.037085</td>\n",
       "      <td id=\"T_bb9b6_row29_col35\" class=\"data row29 col35\" >0.114688</td>\n",
       "      <td id=\"T_bb9b6_row29_col36\" class=\"data row29 col36\" >0.056437</td>\n",
       "      <td id=\"T_bb9b6_row29_col37\" class=\"data row29 col37\" >0.053050</td>\n",
       "      <td id=\"T_bb9b6_row29_col38\" class=\"data row29 col38\" >0.017540</td>\n",
       "    </tr>\n",
       "    <tr>\n",
       "      <th id=\"T_bb9b6_level0_row30\" class=\"row_heading level0 row30\" >t_val1</th>\n",
       "      <td id=\"T_bb9b6_row30_col0\" class=\"data row30 col0\" >0.015156</td>\n",
       "      <td id=\"T_bb9b6_row30_col1\" class=\"data row30 col1\" >0.015051</td>\n",
       "      <td id=\"T_bb9b6_row30_col2\" class=\"data row30 col2\" >-0.107600</td>\n",
       "      <td id=\"T_bb9b6_row30_col3\" class=\"data row30 col3\" >-0.084869</td>\n",
       "      <td id=\"T_bb9b6_row30_col4\" class=\"data row30 col4\" >-0.069139</td>\n",
       "      <td id=\"T_bb9b6_row30_col5\" class=\"data row30 col5\" >0.326735</td>\n",
       "      <td id=\"T_bb9b6_row30_col6\" class=\"data row30 col6\" >0.458649</td>\n",
       "      <td id=\"T_bb9b6_row30_col7\" class=\"data row30 col7\" >0.330936</td>\n",
       "      <td id=\"T_bb9b6_row30_col8\" class=\"data row30 col8\" >0.237767</td>\n",
       "      <td id=\"T_bb9b6_row30_col9\" class=\"data row30 col9\" >0.343170</td>\n",
       "      <td id=\"T_bb9b6_row30_col10\" class=\"data row30 col10\" >0.198646</td>\n",
       "      <td id=\"T_bb9b6_row30_col11\" class=\"data row30 col11\" >0.066491</td>\n",
       "      <td id=\"T_bb9b6_row30_col12\" class=\"data row30 col12\" >0.078613</td>\n",
       "      <td id=\"T_bb9b6_row30_col13\" class=\"data row30 col13\" >0.021805</td>\n",
       "      <td id=\"T_bb9b6_row30_col14\" class=\"data row30 col14\" >0.026503</td>\n",
       "      <td id=\"T_bb9b6_row30_col15\" class=\"data row30 col15\" >-0.021082</td>\n",
       "      <td id=\"T_bb9b6_row30_col16\" class=\"data row30 col16\" >0.024241</td>\n",
       "      <td id=\"T_bb9b6_row30_col17\" class=\"data row30 col17\" >0.032928</td>\n",
       "      <td id=\"T_bb9b6_row30_col18\" class=\"data row30 col18\" >0.038481</td>\n",
       "      <td id=\"T_bb9b6_row30_col19\" class=\"data row30 col19\" >0.000122</td>\n",
       "      <td id=\"T_bb9b6_row30_col20\" class=\"data row30 col20\" >-0.130316</td>\n",
       "      <td id=\"T_bb9b6_row30_col21\" class=\"data row30 col21\" >-0.171582</td>\n",
       "      <td id=\"T_bb9b6_row30_col22\" class=\"data row30 col22\" >-0.116876</td>\n",
       "      <td id=\"T_bb9b6_row30_col23\" class=\"data row30 col23\" >-0.281333</td>\n",
       "      <td id=\"T_bb9b6_row30_col24\" class=\"data row30 col24\" >-0.277956</td>\n",
       "      <td id=\"T_bb9b6_row30_col25\" class=\"data row30 col25\" >-0.284384</td>\n",
       "      <td id=\"T_bb9b6_row30_col26\" class=\"data row30 col26\" >-0.007637</td>\n",
       "      <td id=\"T_bb9b6_row30_col27\" class=\"data row30 col27\" >-0.018212</td>\n",
       "      <td id=\"T_bb9b6_row30_col28\" class=\"data row30 col28\" >-0.016832</td>\n",
       "      <td id=\"T_bb9b6_row30_col29\" class=\"data row30 col29\" >0.528432</td>\n",
       "      <td id=\"T_bb9b6_row30_col30\" class=\"data row30 col30\" >1.000000</td>\n",
       "      <td id=\"T_bb9b6_row30_col31\" class=\"data row30 col31\" >0.493090</td>\n",
       "      <td id=\"T_bb9b6_row30_col32\" class=\"data row30 col32\" >0.047214</td>\n",
       "      <td id=\"T_bb9b6_row30_col33\" class=\"data row30 col33\" >0.124605</td>\n",
       "      <td id=\"T_bb9b6_row30_col34\" class=\"data row30 col34\" >0.014671</td>\n",
       "      <td id=\"T_bb9b6_row30_col35\" class=\"data row30 col35\" >0.037904</td>\n",
       "      <td id=\"T_bb9b6_row30_col36\" class=\"data row30 col36\" >0.107084</td>\n",
       "      <td id=\"T_bb9b6_row30_col37\" class=\"data row30 col37\" >0.077747</td>\n",
       "      <td id=\"T_bb9b6_row30_col38\" class=\"data row30 col38\" >0.057493</td>\n",
       "    </tr>\n",
       "    <tr>\n",
       "      <th id=\"T_bb9b6_level0_row31\" class=\"row_heading level0 row31\" >t_val2</th>\n",
       "      <td id=\"T_bb9b6_row31_col0\" class=\"data row31 col0\" >0.032852</td>\n",
       "      <td id=\"T_bb9b6_row31_col1\" class=\"data row31 col1\" >0.024551</td>\n",
       "      <td id=\"T_bb9b6_row31_col2\" class=\"data row31 col2\" >-0.106250</td>\n",
       "      <td id=\"T_bb9b6_row31_col3\" class=\"data row31 col3\" >-0.064974</td>\n",
       "      <td id=\"T_bb9b6_row31_col4\" class=\"data row31 col4\" >-0.115064</td>\n",
       "      <td id=\"T_bb9b6_row31_col5\" class=\"data row31 col5\" >0.312633</td>\n",
       "      <td id=\"T_bb9b6_row31_col6\" class=\"data row31 col6\" >0.305252</td>\n",
       "      <td id=\"T_bb9b6_row31_col7\" class=\"data row31 col7\" >0.480709</td>\n",
       "      <td id=\"T_bb9b6_row31_col8\" class=\"data row31 col8\" >0.254437</td>\n",
       "      <td id=\"T_bb9b6_row31_col9\" class=\"data row31 col9\" >0.237026</td>\n",
       "      <td id=\"T_bb9b6_row31_col10\" class=\"data row31 col10\" >0.368321</td>\n",
       "      <td id=\"T_bb9b6_row31_col11\" class=\"data row31 col11\" >0.041011</td>\n",
       "      <td id=\"T_bb9b6_row31_col12\" class=\"data row31 col12\" >0.039942</td>\n",
       "      <td id=\"T_bb9b6_row31_col13\" class=\"data row31 col13\" >0.018454</td>\n",
       "      <td id=\"T_bb9b6_row31_col14\" class=\"data row31 col14\" >0.013715</td>\n",
       "      <td id=\"T_bb9b6_row31_col15\" class=\"data row31 col15\" >-0.011257</td>\n",
       "      <td id=\"T_bb9b6_row31_col16\" class=\"data row31 col16\" >-0.015861</td>\n",
       "      <td id=\"T_bb9b6_row31_col17\" class=\"data row31 col17\" >0.051861</td>\n",
       "      <td id=\"T_bb9b6_row31_col18\" class=\"data row31 col18\" >0.025981</td>\n",
       "      <td id=\"T_bb9b6_row31_col19\" class=\"data row31 col19\" >0.049534</td>\n",
       "      <td id=\"T_bb9b6_row31_col20\" class=\"data row31 col20\" >-0.130818</td>\n",
       "      <td id=\"T_bb9b6_row31_col21\" class=\"data row31 col21\" >-0.137691</td>\n",
       "      <td id=\"T_bb9b6_row31_col22\" class=\"data row31 col22\" >-0.185639</td>\n",
       "      <td id=\"T_bb9b6_row31_col23\" class=\"data row31 col23\" >-0.293833</td>\n",
       "      <td id=\"T_bb9b6_row31_col24\" class=\"data row31 col24\" >-0.288993</td>\n",
       "      <td id=\"T_bb9b6_row31_col25\" class=\"data row31 col25\" >-0.308335</td>\n",
       "      <td id=\"T_bb9b6_row31_col26\" class=\"data row31 col26\" >0.003455</td>\n",
       "      <td id=\"T_bb9b6_row31_col27\" class=\"data row31 col27\" >-0.001971</td>\n",
       "      <td id=\"T_bb9b6_row31_col28\" class=\"data row31 col28\" >0.007169</td>\n",
       "      <td id=\"T_bb9b6_row31_col29\" class=\"data row31 col29\" >0.507412</td>\n",
       "      <td id=\"T_bb9b6_row31_col30\" class=\"data row31 col30\" >0.493090</td>\n",
       "      <td id=\"T_bb9b6_row31_col31\" class=\"data row31 col31\" >1.000000</td>\n",
       "      <td id=\"T_bb9b6_row31_col32\" class=\"data row31 col32\" >0.061390</td>\n",
       "      <td id=\"T_bb9b6_row31_col33\" class=\"data row31 col33\" >0.062620</td>\n",
       "      <td id=\"T_bb9b6_row31_col34\" class=\"data row31 col34\" >0.096186</td>\n",
       "      <td id=\"T_bb9b6_row31_col35\" class=\"data row31 col35\" >0.041287</td>\n",
       "      <td id=\"T_bb9b6_row31_col36\" class=\"data row31 col36\" >0.052842</td>\n",
       "      <td id=\"T_bb9b6_row31_col37\" class=\"data row31 col37\" >0.102021</td>\n",
       "      <td id=\"T_bb9b6_row31_col38\" class=\"data row31 col38\" >0.090917</td>\n",
       "    </tr>\n",
       "    <tr>\n",
       "      <th id=\"T_bb9b6_level0_row32\" class=\"row_heading level0 row32\" >t_tempo0</th>\n",
       "      <td id=\"T_bb9b6_row32_col0\" class=\"data row32 col0\" >-0.001297</td>\n",
       "      <td id=\"T_bb9b6_row32_col1\" class=\"data row32 col1\" >0.016933</td>\n",
       "      <td id=\"T_bb9b6_row32_col2\" class=\"data row32 col2\" >0.007964</td>\n",
       "      <td id=\"T_bb9b6_row32_col3\" class=\"data row32 col3\" >-0.011106</td>\n",
       "      <td id=\"T_bb9b6_row32_col4\" class=\"data row32 col4\" >-0.004348</td>\n",
       "      <td id=\"T_bb9b6_row32_col5\" class=\"data row32 col5\" >0.080757</td>\n",
       "      <td id=\"T_bb9b6_row32_col6\" class=\"data row32 col6\" >0.063958</td>\n",
       "      <td id=\"T_bb9b6_row32_col7\" class=\"data row32 col7\" >0.065594</td>\n",
       "      <td id=\"T_bb9b6_row32_col8\" class=\"data row32 col8\" >0.205279</td>\n",
       "      <td id=\"T_bb9b6_row32_col9\" class=\"data row32 col9\" >0.131163</td>\n",
       "      <td id=\"T_bb9b6_row32_col10\" class=\"data row32 col10\" >0.104095</td>\n",
       "      <td id=\"T_bb9b6_row32_col11\" class=\"data row32 col11\" >-0.019461</td>\n",
       "      <td id=\"T_bb9b6_row32_col12\" class=\"data row32 col12\" >-0.018198</td>\n",
       "      <td id=\"T_bb9b6_row32_col13\" class=\"data row32 col13\" >-0.013218</td>\n",
       "      <td id=\"T_bb9b6_row32_col14\" class=\"data row32 col14\" >0.000351</td>\n",
       "      <td id=\"T_bb9b6_row32_col15\" class=\"data row32 col15\" >-0.003785</td>\n",
       "      <td id=\"T_bb9b6_row32_col16\" class=\"data row32 col16\" >-0.021162</td>\n",
       "      <td id=\"T_bb9b6_row32_col17\" class=\"data row32 col17\" >-0.000772</td>\n",
       "      <td id=\"T_bb9b6_row32_col18\" class=\"data row32 col18\" >-0.061001</td>\n",
       "      <td id=\"T_bb9b6_row32_col19\" class=\"data row32 col19\" >-0.056397</td>\n",
       "      <td id=\"T_bb9b6_row32_col20\" class=\"data row32 col20\" >-0.176477</td>\n",
       "      <td id=\"T_bb9b6_row32_col21\" class=\"data row32 col21\" >-0.136059</td>\n",
       "      <td id=\"T_bb9b6_row32_col22\" class=\"data row32 col22\" >-0.102025</td>\n",
       "      <td id=\"T_bb9b6_row32_col23\" class=\"data row32 col23\" >-0.048332</td>\n",
       "      <td id=\"T_bb9b6_row32_col24\" class=\"data row32 col24\" >-0.058214</td>\n",
       "      <td id=\"T_bb9b6_row32_col25\" class=\"data row32 col25\" >-0.045825</td>\n",
       "      <td id=\"T_bb9b6_row32_col26\" class=\"data row32 col26\" >-0.029164</td>\n",
       "      <td id=\"T_bb9b6_row32_col27\" class=\"data row32 col27\" >-0.024245</td>\n",
       "      <td id=\"T_bb9b6_row32_col28\" class=\"data row32 col28\" >-0.048545</td>\n",
       "      <td id=\"T_bb9b6_row32_col29\" class=\"data row32 col29\" >0.118455</td>\n",
       "      <td id=\"T_bb9b6_row32_col30\" class=\"data row32 col30\" >0.047214</td>\n",
       "      <td id=\"T_bb9b6_row32_col31\" class=\"data row32 col31\" >0.061390</td>\n",
       "      <td id=\"T_bb9b6_row32_col32\" class=\"data row32 col32\" >1.000000</td>\n",
       "      <td id=\"T_bb9b6_row32_col33\" class=\"data row32 col33\" >0.118798</td>\n",
       "      <td id=\"T_bb9b6_row32_col34\" class=\"data row32 col34\" >0.158603</td>\n",
       "      <td id=\"T_bb9b6_row32_col35\" class=\"data row32 col35\" >0.149617</td>\n",
       "      <td id=\"T_bb9b6_row32_col36\" class=\"data row32 col36\" >0.059835</td>\n",
       "      <td id=\"T_bb9b6_row32_col37\" class=\"data row32 col37\" >0.030747</td>\n",
       "      <td id=\"T_bb9b6_row32_col38\" class=\"data row32 col38\" >0.015832</td>\n",
       "    </tr>\n",
       "    <tr>\n",
       "      <th id=\"T_bb9b6_level0_row33\" class=\"row_heading level0 row33\" >t_tempo1</th>\n",
       "      <td id=\"T_bb9b6_row33_col0\" class=\"data row33 col0\" >0.000617</td>\n",
       "      <td id=\"T_bb9b6_row33_col1\" class=\"data row33 col1\" >-0.048845</td>\n",
       "      <td id=\"T_bb9b6_row33_col2\" class=\"data row33 col2\" >-0.032638</td>\n",
       "      <td id=\"T_bb9b6_row33_col3\" class=\"data row33 col3\" >-0.013197</td>\n",
       "      <td id=\"T_bb9b6_row33_col4\" class=\"data row33 col4\" >-0.012784</td>\n",
       "      <td id=\"T_bb9b6_row33_col5\" class=\"data row33 col5\" >0.050089</td>\n",
       "      <td id=\"T_bb9b6_row33_col6\" class=\"data row33 col6\" >-0.012048</td>\n",
       "      <td id=\"T_bb9b6_row33_col7\" class=\"data row33 col7\" >0.063653</td>\n",
       "      <td id=\"T_bb9b6_row33_col8\" class=\"data row33 col8\" >0.141527</td>\n",
       "      <td id=\"T_bb9b6_row33_col9\" class=\"data row33 col9\" >0.211754</td>\n",
       "      <td id=\"T_bb9b6_row33_col10\" class=\"data row33 col10\" >0.152541</td>\n",
       "      <td id=\"T_bb9b6_row33_col11\" class=\"data row33 col11\" >0.018508</td>\n",
       "      <td id=\"T_bb9b6_row33_col12\" class=\"data row33 col12\" >0.003388</td>\n",
       "      <td id=\"T_bb9b6_row33_col13\" class=\"data row33 col13\" >-0.009461</td>\n",
       "      <td id=\"T_bb9b6_row33_col14\" class=\"data row33 col14\" >0.065083</td>\n",
       "      <td id=\"T_bb9b6_row33_col15\" class=\"data row33 col15\" >0.034270</td>\n",
       "      <td id=\"T_bb9b6_row33_col16\" class=\"data row33 col16\" >0.005231</td>\n",
       "      <td id=\"T_bb9b6_row33_col17\" class=\"data row33 col17\" >-0.017360</td>\n",
       "      <td id=\"T_bb9b6_row33_col18\" class=\"data row33 col18\" >0.018588</td>\n",
       "      <td id=\"T_bb9b6_row33_col19\" class=\"data row33 col19\" >-0.048801</td>\n",
       "      <td id=\"T_bb9b6_row33_col20\" class=\"data row33 col20\" >-0.120213</td>\n",
       "      <td id=\"T_bb9b6_row33_col21\" class=\"data row33 col21\" >-0.158270</td>\n",
       "      <td id=\"T_bb9b6_row33_col22\" class=\"data row33 col22\" >-0.133889</td>\n",
       "      <td id=\"T_bb9b6_row33_col23\" class=\"data row33 col23\" >-0.062695</td>\n",
       "      <td id=\"T_bb9b6_row33_col24\" class=\"data row33 col24\" >-0.068699</td>\n",
       "      <td id=\"T_bb9b6_row33_col25\" class=\"data row33 col25\" >-0.068340</td>\n",
       "      <td id=\"T_bb9b6_row33_col26\" class=\"data row33 col26\" >-0.011681</td>\n",
       "      <td id=\"T_bb9b6_row33_col27\" class=\"data row33 col27\" >0.021277</td>\n",
       "      <td id=\"T_bb9b6_row33_col28\" class=\"data row33 col28\" >-0.015080</td>\n",
       "      <td id=\"T_bb9b6_row33_col29\" class=\"data row33 col29\" >0.045431</td>\n",
       "      <td id=\"T_bb9b6_row33_col30\" class=\"data row33 col30\" >0.124605</td>\n",
       "      <td id=\"T_bb9b6_row33_col31\" class=\"data row33 col31\" >0.062620</td>\n",
       "      <td id=\"T_bb9b6_row33_col32\" class=\"data row33 col32\" >0.118798</td>\n",
       "      <td id=\"T_bb9b6_row33_col33\" class=\"data row33 col33\" >1.000000</td>\n",
       "      <td id=\"T_bb9b6_row33_col34\" class=\"data row33 col34\" >0.159612</td>\n",
       "      <td id=\"T_bb9b6_row33_col35\" class=\"data row33 col35\" >0.039920</td>\n",
       "      <td id=\"T_bb9b6_row33_col36\" class=\"data row33 col36\" >0.070538</td>\n",
       "      <td id=\"T_bb9b6_row33_col37\" class=\"data row33 col37\" >0.049273</td>\n",
       "      <td id=\"T_bb9b6_row33_col38\" class=\"data row33 col38\" >-0.008395</td>\n",
       "    </tr>\n",
       "    <tr>\n",
       "      <th id=\"T_bb9b6_level0_row34\" class=\"row_heading level0 row34\" >t_tempo2</th>\n",
       "      <td id=\"T_bb9b6_row34_col0\" class=\"data row34 col0\" >0.002262</td>\n",
       "      <td id=\"T_bb9b6_row34_col1\" class=\"data row34 col1\" >-0.019779</td>\n",
       "      <td id=\"T_bb9b6_row34_col2\" class=\"data row34 col2\" >-0.029588</td>\n",
       "      <td id=\"T_bb9b6_row34_col3\" class=\"data row34 col3\" >-0.039309</td>\n",
       "      <td id=\"T_bb9b6_row34_col4\" class=\"data row34 col4\" >-0.039324</td>\n",
       "      <td id=\"T_bb9b6_row34_col5\" class=\"data row34 col5\" >0.063301</td>\n",
       "      <td id=\"T_bb9b6_row34_col6\" class=\"data row34 col6\" >0.040317</td>\n",
       "      <td id=\"T_bb9b6_row34_col7\" class=\"data row34 col7\" >-0.000050</td>\n",
       "      <td id=\"T_bb9b6_row34_col8\" class=\"data row34 col8\" >0.148943</td>\n",
       "      <td id=\"T_bb9b6_row34_col9\" class=\"data row34 col9\" >0.141669</td>\n",
       "      <td id=\"T_bb9b6_row34_col10\" class=\"data row34 col10\" >0.203086</td>\n",
       "      <td id=\"T_bb9b6_row34_col11\" class=\"data row34 col11\" >0.003660</td>\n",
       "      <td id=\"T_bb9b6_row34_col12\" class=\"data row34 col12\" >-0.013157</td>\n",
       "      <td id=\"T_bb9b6_row34_col13\" class=\"data row34 col13\" >-0.023738</td>\n",
       "      <td id=\"T_bb9b6_row34_col14\" class=\"data row34 col14\" >0.008132</td>\n",
       "      <td id=\"T_bb9b6_row34_col15\" class=\"data row34 col15\" >0.019162</td>\n",
       "      <td id=\"T_bb9b6_row34_col16\" class=\"data row34 col16\" >0.006481</td>\n",
       "      <td id=\"T_bb9b6_row34_col17\" class=\"data row34 col17\" >0.002596</td>\n",
       "      <td id=\"T_bb9b6_row34_col18\" class=\"data row34 col18\" >-0.002677</td>\n",
       "      <td id=\"T_bb9b6_row34_col19\" class=\"data row34 col19\" >0.049976</td>\n",
       "      <td id=\"T_bb9b6_row34_col20\" class=\"data row34 col20\" >-0.120984</td>\n",
       "      <td id=\"T_bb9b6_row34_col21\" class=\"data row34 col21\" >-0.127455</td>\n",
       "      <td id=\"T_bb9b6_row34_col22\" class=\"data row34 col22\" >-0.164164</td>\n",
       "      <td id=\"T_bb9b6_row34_col23\" class=\"data row34 col23\" >-0.035208</td>\n",
       "      <td id=\"T_bb9b6_row34_col24\" class=\"data row34 col24\" >-0.056013</td>\n",
       "      <td id=\"T_bb9b6_row34_col25\" class=\"data row34 col25\" >-0.032385</td>\n",
       "      <td id=\"T_bb9b6_row34_col26\" class=\"data row34 col26\" >0.017103</td>\n",
       "      <td id=\"T_bb9b6_row34_col27\" class=\"data row34 col27\" >0.030659</td>\n",
       "      <td id=\"T_bb9b6_row34_col28\" class=\"data row34 col28\" >0.009493</td>\n",
       "      <td id=\"T_bb9b6_row34_col29\" class=\"data row34 col29\" >0.037085</td>\n",
       "      <td id=\"T_bb9b6_row34_col30\" class=\"data row34 col30\" >0.014671</td>\n",
       "      <td id=\"T_bb9b6_row34_col31\" class=\"data row34 col31\" >0.096186</td>\n",
       "      <td id=\"T_bb9b6_row34_col32\" class=\"data row34 col32\" >0.158603</td>\n",
       "      <td id=\"T_bb9b6_row34_col33\" class=\"data row34 col33\" >0.159612</td>\n",
       "      <td id=\"T_bb9b6_row34_col34\" class=\"data row34 col34\" >1.000000</td>\n",
       "      <td id=\"T_bb9b6_row34_col35\" class=\"data row34 col35\" >0.035779</td>\n",
       "      <td id=\"T_bb9b6_row34_col36\" class=\"data row34 col36\" >0.040982</td>\n",
       "      <td id=\"T_bb9b6_row34_col37\" class=\"data row34 col37\" >0.027944</td>\n",
       "      <td id=\"T_bb9b6_row34_col38\" class=\"data row34 col38\" >0.003591</td>\n",
       "    </tr>\n",
       "    <tr>\n",
       "      <th id=\"T_bb9b6_level0_row35\" class=\"row_heading level0 row35\" >t_sig0</th>\n",
       "      <td id=\"T_bb9b6_row35_col0\" class=\"data row35 col0\" >-0.041879</td>\n",
       "      <td id=\"T_bb9b6_row35_col1\" class=\"data row35 col1\" >-0.063627</td>\n",
       "      <td id=\"T_bb9b6_row35_col2\" class=\"data row35 col2\" >0.050840</td>\n",
       "      <td id=\"T_bb9b6_row35_col3\" class=\"data row35 col3\" >0.021285</td>\n",
       "      <td id=\"T_bb9b6_row35_col4\" class=\"data row35 col4\" >0.012222</td>\n",
       "      <td id=\"T_bb9b6_row35_col5\" class=\"data row35 col5\" >0.229628</td>\n",
       "      <td id=\"T_bb9b6_row35_col6\" class=\"data row35 col6\" >0.084748</td>\n",
       "      <td id=\"T_bb9b6_row35_col7\" class=\"data row35 col7\" >0.064625</td>\n",
       "      <td id=\"T_bb9b6_row35_col8\" class=\"data row35 col8\" >0.168552</td>\n",
       "      <td id=\"T_bb9b6_row35_col9\" class=\"data row35 col9\" >0.085729</td>\n",
       "      <td id=\"T_bb9b6_row35_col10\" class=\"data row35 col10\" >0.098141</td>\n",
       "      <td id=\"T_bb9b6_row35_col11\" class=\"data row35 col11\" >0.036774</td>\n",
       "      <td id=\"T_bb9b6_row35_col12\" class=\"data row35 col12\" >-0.000513</td>\n",
       "      <td id=\"T_bb9b6_row35_col13\" class=\"data row35 col13\" >0.006391</td>\n",
       "      <td id=\"T_bb9b6_row35_col14\" class=\"data row35 col14\" >-0.023677</td>\n",
       "      <td id=\"T_bb9b6_row35_col15\" class=\"data row35 col15\" >0.002605</td>\n",
       "      <td id=\"T_bb9b6_row35_col16\" class=\"data row35 col16\" >-0.023418</td>\n",
       "      <td id=\"T_bb9b6_row35_col17\" class=\"data row35 col17\" >-0.000936</td>\n",
       "      <td id=\"T_bb9b6_row35_col18\" class=\"data row35 col18\" >-0.043806</td>\n",
       "      <td id=\"T_bb9b6_row35_col19\" class=\"data row35 col19\" >-0.028677</td>\n",
       "      <td id=\"T_bb9b6_row35_col20\" class=\"data row35 col20\" >-0.155613</td>\n",
       "      <td id=\"T_bb9b6_row35_col21\" class=\"data row35 col21\" >-0.094888</td>\n",
       "      <td id=\"T_bb9b6_row35_col22\" class=\"data row35 col22\" >-0.097268</td>\n",
       "      <td id=\"T_bb9b6_row35_col23\" class=\"data row35 col23\" >-0.055283</td>\n",
       "      <td id=\"T_bb9b6_row35_col24\" class=\"data row35 col24\" >-0.071227</td>\n",
       "      <td id=\"T_bb9b6_row35_col25\" class=\"data row35 col25\" >-0.064737</td>\n",
       "      <td id=\"T_bb9b6_row35_col26\" class=\"data row35 col26\" >-0.056589</td>\n",
       "      <td id=\"T_bb9b6_row35_col27\" class=\"data row35 col27\" >-0.011839</td>\n",
       "      <td id=\"T_bb9b6_row35_col28\" class=\"data row35 col28\" >0.000505</td>\n",
       "      <td id=\"T_bb9b6_row35_col29\" class=\"data row35 col29\" >0.114688</td>\n",
       "      <td id=\"T_bb9b6_row35_col30\" class=\"data row35 col30\" >0.037904</td>\n",
       "      <td id=\"T_bb9b6_row35_col31\" class=\"data row35 col31\" >0.041287</td>\n",
       "      <td id=\"T_bb9b6_row35_col32\" class=\"data row35 col32\" >0.149617</td>\n",
       "      <td id=\"T_bb9b6_row35_col33\" class=\"data row35 col33\" >0.039920</td>\n",
       "      <td id=\"T_bb9b6_row35_col34\" class=\"data row35 col34\" >0.035779</td>\n",
       "      <td id=\"T_bb9b6_row35_col35\" class=\"data row35 col35\" >1.000000</td>\n",
       "      <td id=\"T_bb9b6_row35_col36\" class=\"data row35 col36\" >0.158996</td>\n",
       "      <td id=\"T_bb9b6_row35_col37\" class=\"data row35 col37\" >0.117083</td>\n",
       "      <td id=\"T_bb9b6_row35_col38\" class=\"data row35 col38\" >-0.002679</td>\n",
       "    </tr>\n",
       "    <tr>\n",
       "      <th id=\"T_bb9b6_level0_row36\" class=\"row_heading level0 row36\" >t_sig1</th>\n",
       "      <td id=\"T_bb9b6_row36_col0\" class=\"data row36 col0\" >-0.003614</td>\n",
       "      <td id=\"T_bb9b6_row36_col1\" class=\"data row36 col1\" >-0.058912</td>\n",
       "      <td id=\"T_bb9b6_row36_col2\" class=\"data row36 col2\" >-0.037578</td>\n",
       "      <td id=\"T_bb9b6_row36_col3\" class=\"data row36 col3\" >0.005725</td>\n",
       "      <td id=\"T_bb9b6_row36_col4\" class=\"data row36 col4\" >0.001833</td>\n",
       "      <td id=\"T_bb9b6_row36_col5\" class=\"data row36 col5\" >0.131708</td>\n",
       "      <td id=\"T_bb9b6_row36_col6\" class=\"data row36 col6\" >0.210627</td>\n",
       "      <td id=\"T_bb9b6_row36_col7\" class=\"data row36 col7\" >0.138909</td>\n",
       "      <td id=\"T_bb9b6_row36_col8\" class=\"data row36 col8\" >0.115615</td>\n",
       "      <td id=\"T_bb9b6_row36_col9\" class=\"data row36 col9\" >0.164737</td>\n",
       "      <td id=\"T_bb9b6_row36_col10\" class=\"data row36 col10\" >0.104579</td>\n",
       "      <td id=\"T_bb9b6_row36_col11\" class=\"data row36 col11\" >-0.002984</td>\n",
       "      <td id=\"T_bb9b6_row36_col12\" class=\"data row36 col12\" >0.026408</td>\n",
       "      <td id=\"T_bb9b6_row36_col13\" class=\"data row36 col13\" >-0.002641</td>\n",
       "      <td id=\"T_bb9b6_row36_col14\" class=\"data row36 col14\" >-0.043934</td>\n",
       "      <td id=\"T_bb9b6_row36_col15\" class=\"data row36 col15\" >-0.019285</td>\n",
       "      <td id=\"T_bb9b6_row36_col16\" class=\"data row36 col16\" >-0.035448</td>\n",
       "      <td id=\"T_bb9b6_row36_col17\" class=\"data row36 col17\" >0.030646</td>\n",
       "      <td id=\"T_bb9b6_row36_col18\" class=\"data row36 col18\" >0.018614</td>\n",
       "      <td id=\"T_bb9b6_row36_col19\" class=\"data row36 col19\" >0.000274</td>\n",
       "      <td id=\"T_bb9b6_row36_col20\" class=\"data row36 col20\" >-0.092511</td>\n",
       "      <td id=\"T_bb9b6_row36_col21\" class=\"data row36 col21\" >-0.169178</td>\n",
       "      <td id=\"T_bb9b6_row36_col22\" class=\"data row36 col22\" >-0.135130</td>\n",
       "      <td id=\"T_bb9b6_row36_col23\" class=\"data row36 col23\" >-0.087470</td>\n",
       "      <td id=\"T_bb9b6_row36_col24\" class=\"data row36 col24\" >-0.085161</td>\n",
       "      <td id=\"T_bb9b6_row36_col25\" class=\"data row36 col25\" >-0.067539</td>\n",
       "      <td id=\"T_bb9b6_row36_col26\" class=\"data row36 col26\" >-0.028854</td>\n",
       "      <td id=\"T_bb9b6_row36_col27\" class=\"data row36 col27\" >-0.023631</td>\n",
       "      <td id=\"T_bb9b6_row36_col28\" class=\"data row36 col28\" >-0.049491</td>\n",
       "      <td id=\"T_bb9b6_row36_col29\" class=\"data row36 col29\" >0.056437</td>\n",
       "      <td id=\"T_bb9b6_row36_col30\" class=\"data row36 col30\" >0.107084</td>\n",
       "      <td id=\"T_bb9b6_row36_col31\" class=\"data row36 col31\" >0.052842</td>\n",
       "      <td id=\"T_bb9b6_row36_col32\" class=\"data row36 col32\" >0.059835</td>\n",
       "      <td id=\"T_bb9b6_row36_col33\" class=\"data row36 col33\" >0.070538</td>\n",
       "      <td id=\"T_bb9b6_row36_col34\" class=\"data row36 col34\" >0.040982</td>\n",
       "      <td id=\"T_bb9b6_row36_col35\" class=\"data row36 col35\" >0.158996</td>\n",
       "      <td id=\"T_bb9b6_row36_col36\" class=\"data row36 col36\" >1.000000</td>\n",
       "      <td id=\"T_bb9b6_row36_col37\" class=\"data row36 col37\" >0.139105</td>\n",
       "      <td id=\"T_bb9b6_row36_col38\" class=\"data row36 col38\" >-0.030158</td>\n",
       "    </tr>\n",
       "    <tr>\n",
       "      <th id=\"T_bb9b6_level0_row37\" class=\"row_heading level0 row37\" >t_sig2</th>\n",
       "      <td id=\"T_bb9b6_row37_col0\" class=\"data row37 col0\" >0.017398</td>\n",
       "      <td id=\"T_bb9b6_row37_col1\" class=\"data row37 col1\" >0.004617</td>\n",
       "      <td id=\"T_bb9b6_row37_col2\" class=\"data row37 col2\" >-0.029837</td>\n",
       "      <td id=\"T_bb9b6_row37_col3\" class=\"data row37 col3\" >0.000070</td>\n",
       "      <td id=\"T_bb9b6_row37_col4\" class=\"data row37 col4\" >0.006489</td>\n",
       "      <td id=\"T_bb9b6_row37_col5\" class=\"data row37 col5\" >0.132268</td>\n",
       "      <td id=\"T_bb9b6_row37_col6\" class=\"data row37 col6\" >0.179532</td>\n",
       "      <td id=\"T_bb9b6_row37_col7\" class=\"data row37 col7\" >0.221097</td>\n",
       "      <td id=\"T_bb9b6_row37_col8\" class=\"data row37 col8\" >0.091517</td>\n",
       "      <td id=\"T_bb9b6_row37_col9\" class=\"data row37 col9\" >0.110830</td>\n",
       "      <td id=\"T_bb9b6_row37_col10\" class=\"data row37 col10\" >0.141164</td>\n",
       "      <td id=\"T_bb9b6_row37_col11\" class=\"data row37 col11\" >-0.014191</td>\n",
       "      <td id=\"T_bb9b6_row37_col12\" class=\"data row37 col12\" >-0.030821</td>\n",
       "      <td id=\"T_bb9b6_row37_col13\" class=\"data row37 col13\" >0.037053</td>\n",
       "      <td id=\"T_bb9b6_row37_col14\" class=\"data row37 col14\" >-0.010100</td>\n",
       "      <td id=\"T_bb9b6_row37_col15\" class=\"data row37 col15\" >-0.037892</td>\n",
       "      <td id=\"T_bb9b6_row37_col16\" class=\"data row37 col16\" >-0.056496</td>\n",
       "      <td id=\"T_bb9b6_row37_col17\" class=\"data row37 col17\" >0.045064</td>\n",
       "      <td id=\"T_bb9b6_row37_col18\" class=\"data row37 col18\" >0.071016</td>\n",
       "      <td id=\"T_bb9b6_row37_col19\" class=\"data row37 col19\" >0.051900</td>\n",
       "      <td id=\"T_bb9b6_row37_col20\" class=\"data row37 col20\" >-0.083162</td>\n",
       "      <td id=\"T_bb9b6_row37_col21\" class=\"data row37 col21\" >-0.108209</td>\n",
       "      <td id=\"T_bb9b6_row37_col22\" class=\"data row37 col22\" >-0.132691</td>\n",
       "      <td id=\"T_bb9b6_row37_col23\" class=\"data row37 col23\" >-0.084304</td>\n",
       "      <td id=\"T_bb9b6_row37_col24\" class=\"data row37 col24\" >-0.082490</td>\n",
       "      <td id=\"T_bb9b6_row37_col25\" class=\"data row37 col25\" >-0.052889</td>\n",
       "      <td id=\"T_bb9b6_row37_col26\" class=\"data row37 col26\" >-0.017873</td>\n",
       "      <td id=\"T_bb9b6_row37_col27\" class=\"data row37 col27\" >-0.028591</td>\n",
       "      <td id=\"T_bb9b6_row37_col28\" class=\"data row37 col28\" >-0.035314</td>\n",
       "      <td id=\"T_bb9b6_row37_col29\" class=\"data row37 col29\" >0.053050</td>\n",
       "      <td id=\"T_bb9b6_row37_col30\" class=\"data row37 col30\" >0.077747</td>\n",
       "      <td id=\"T_bb9b6_row37_col31\" class=\"data row37 col31\" >0.102021</td>\n",
       "      <td id=\"T_bb9b6_row37_col32\" class=\"data row37 col32\" >0.030747</td>\n",
       "      <td id=\"T_bb9b6_row37_col33\" class=\"data row37 col33\" >0.049273</td>\n",
       "      <td id=\"T_bb9b6_row37_col34\" class=\"data row37 col34\" >0.027944</td>\n",
       "      <td id=\"T_bb9b6_row37_col35\" class=\"data row37 col35\" >0.117083</td>\n",
       "      <td id=\"T_bb9b6_row37_col36\" class=\"data row37 col36\" >0.139105</td>\n",
       "      <td id=\"T_bb9b6_row37_col37\" class=\"data row37 col37\" >1.000000</td>\n",
       "      <td id=\"T_bb9b6_row37_col38\" class=\"data row37 col38\" >-0.013513</td>\n",
       "    </tr>\n",
       "    <tr>\n",
       "      <th id=\"T_bb9b6_level0_row38\" class=\"row_heading level0 row38\" >popularity</th>\n",
       "      <td id=\"T_bb9b6_row38_col0\" class=\"data row38 col0\" >-0.253561</td>\n",
       "      <td id=\"T_bb9b6_row38_col1\" class=\"data row38 col1\" >0.055853</td>\n",
       "      <td id=\"T_bb9b6_row38_col2\" class=\"data row38 col2\" >-0.052885</td>\n",
       "      <td id=\"T_bb9b6_row38_col3\" class=\"data row38 col3\" >-0.046058</td>\n",
       "      <td id=\"T_bb9b6_row38_col4\" class=\"data row38 col4\" >-0.056048</td>\n",
       "      <td id=\"T_bb9b6_row38_col5\" class=\"data row38 col5\" >-0.006613</td>\n",
       "      <td id=\"T_bb9b6_row38_col6\" class=\"data row38 col6\" >0.021690</td>\n",
       "      <td id=\"T_bb9b6_row38_col7\" class=\"data row38 col7\" >0.050331</td>\n",
       "      <td id=\"T_bb9b6_row38_col8\" class=\"data row38 col8\" >0.066504</td>\n",
       "      <td id=\"T_bb9b6_row38_col9\" class=\"data row38 col9\" >0.107671</td>\n",
       "      <td id=\"T_bb9b6_row38_col10\" class=\"data row38 col10\" >0.093372</td>\n",
       "      <td id=\"T_bb9b6_row38_col11\" class=\"data row38 col11\" >0.016224</td>\n",
       "      <td id=\"T_bb9b6_row38_col12\" class=\"data row38 col12\" >-0.044422</td>\n",
       "      <td id=\"T_bb9b6_row38_col13\" class=\"data row38 col13\" >0.013449</td>\n",
       "      <td id=\"T_bb9b6_row38_col14\" class=\"data row38 col14\" >0.028030</td>\n",
       "      <td id=\"T_bb9b6_row38_col15\" class=\"data row38 col15\" >0.054649</td>\n",
       "      <td id=\"T_bb9b6_row38_col16\" class=\"data row38 col16\" >0.013059</td>\n",
       "      <td id=\"T_bb9b6_row38_col17\" class=\"data row38 col17\" >-0.080305</td>\n",
       "      <td id=\"T_bb9b6_row38_col18\" class=\"data row38 col18\" >-0.126392</td>\n",
       "      <td id=\"T_bb9b6_row38_col19\" class=\"data row38 col19\" >-0.105396</td>\n",
       "      <td id=\"T_bb9b6_row38_col20\" class=\"data row38 col20\" >-0.048651</td>\n",
       "      <td id=\"T_bb9b6_row38_col21\" class=\"data row38 col21\" >-0.059171</td>\n",
       "      <td id=\"T_bb9b6_row38_col22\" class=\"data row38 col22\" >-0.069969</td>\n",
       "      <td id=\"T_bb9b6_row38_col23\" class=\"data row38 col23\" >-0.151640</td>\n",
       "      <td id=\"T_bb9b6_row38_col24\" class=\"data row38 col24\" >-0.186636</td>\n",
       "      <td id=\"T_bb9b6_row38_col25\" class=\"data row38 col25\" >-0.166684</td>\n",
       "      <td id=\"T_bb9b6_row38_col26\" class=\"data row38 col26\" >-0.008555</td>\n",
       "      <td id=\"T_bb9b6_row38_col27\" class=\"data row38 col27\" >-0.003397</td>\n",
       "      <td id=\"T_bb9b6_row38_col28\" class=\"data row38 col28\" >-0.004939</td>\n",
       "      <td id=\"T_bb9b6_row38_col29\" class=\"data row38 col29\" >0.017540</td>\n",
       "      <td id=\"T_bb9b6_row38_col30\" class=\"data row38 col30\" >0.057493</td>\n",
       "      <td id=\"T_bb9b6_row38_col31\" class=\"data row38 col31\" >0.090917</td>\n",
       "      <td id=\"T_bb9b6_row38_col32\" class=\"data row38 col32\" >0.015832</td>\n",
       "      <td id=\"T_bb9b6_row38_col33\" class=\"data row38 col33\" >-0.008395</td>\n",
       "      <td id=\"T_bb9b6_row38_col34\" class=\"data row38 col34\" >0.003591</td>\n",
       "      <td id=\"T_bb9b6_row38_col35\" class=\"data row38 col35\" >-0.002679</td>\n",
       "      <td id=\"T_bb9b6_row38_col36\" class=\"data row38 col36\" >-0.030158</td>\n",
       "      <td id=\"T_bb9b6_row38_col37\" class=\"data row38 col37\" >-0.013513</td>\n",
       "      <td id=\"T_bb9b6_row38_col38\" class=\"data row38 col38\" >1.000000</td>\n",
       "    </tr>\n",
       "  </tbody>\n",
       "</table>\n"
      ],
      "text/plain": [
       "<pandas.io.formats.style.Styler at 0x2501f8f19a0>"
      ]
     },
     "execution_count": 277,
     "metadata": {},
     "output_type": "execute_result"
    }
   ],
   "source": [
    "data = df1\n",
    "\n",
    "correlation_plot = data.corr() # Compute pairwise correlation of columns from the df.\n",
    "correlation_plot.style.background_gradient(cmap='coolwarm', axis=None) # Plot the data and setting the colour of the correlation matrix."
   ]
  },
  {
   "cell_type": "markdown",
   "metadata": {
    "id": "eV4MVbzXj2te",
    "pycharm": {
     "name": "#%% md\n"
    }
   },
   "source": [
    "As the heatmap shows us, there is little to no correletion between most features (features to features and features to target). therefore, we have chosen to keep almost every feature except from \"track_names\" and \"name\"."
   ]
  },
  {
   "cell_type": "markdown",
   "metadata": {
    "id": "tvxytSjaaxSE",
    "pycharm": {
     "name": "#%% md\n"
    }
   },
   "source": [
    "**2.2** Distribution of popularity\n",
    "\n",
    "Visualizing the distribution of the popularity column in a histogram, since it is the prediction target. The histogram shows the frequency of values in the popularity column, by grouping the data into equal-sized intervals. It gives us an idea of the distribution of the data. \n",
    "It is not normally distributed, it is significally right skewed (Rovnik, 2019)  "
   ]
  },
  {
   "cell_type": "code",
   "execution_count": 278,
   "metadata": {
    "colab": {
     "base_uri": "https://localhost:8080/",
     "height": 364
    },
    "id": "pl_iY1HNYBGo",
    "outputId": "c2bf9148-28e7-48f0-bf74-7871259ae02a",
    "pycharm": {
     "name": "#%%\n"
    }
   },
   "outputs": [
    {
     "data": {
      "text/plain": [
       "<AxesSubplot:>"
      ]
     },
     "execution_count": 278,
     "metadata": {},
     "output_type": "execute_result"
    },
    {
     "data": {
      "image/png": "[encoded data removed]",
      "text/plain": [
       "<Figure size 576x396 with 1 Axes>"
      ]
     },
     "metadata": {},
     "output_type": "display_data"
    }
   ],
   "source": [
    "df['popularity'].hist()"
   ]
  },
  {
   "cell_type": "code",
   "execution_count": 279,
   "metadata": {},
   "outputs": [
    {
     "data": {
      "text/plain": [
       "34.88916876574307"
      ]
     },
     "execution_count": 279,
     "metadata": {},
     "output_type": "execute_result"
    }
   ],
   "source": [
    "df['popularity'].mean()"
   ]
  },
  {
   "cell_type": "markdown",
   "metadata": {
    "id": "JH1sBZ-zcXEi",
    "pycharm": {
     "name": "#%% md\n"
    }
   },
   "source": [
    "### **3** Testing models\n",
    "**3.1** Train test split\n",
    "\n",
    "\"Train-Test-split is a technique to evaluate the performance of your machine learning model — classification or regression alike. You take a given dataset and divide it into three subsets.\" (Agrawal, 2021).\n",
    "\n",
    "Splitting the dataset into training and testing set.\n",
    "\n",
    "We will try different scalers to the modules to see which scaler performce best to the given model. We will also try without scalers."
   ]
  },
  {
   "cell_type": "code",
   "execution_count": 280,
   "metadata": {
    "id": "6K1xupcQcXEj",
    "pycharm": {
     "name": "#%%\n"
    }
   },
   "outputs": [],
   "source": [
    "from sklearn.model_selection import train_test_split\n",
    "from sklearn.preprocessing import RobustScaler\n",
    "from sklearn.preprocessing import StandardScaler\n",
    "from sklearn.preprocessing import MinMaxScaler\n",
    "from sklearn.preprocessing import MaxAbsScaler\n",
    "\n",
    "y = df[\"popularity\"]\n",
    "X = df.drop([\"popularity\"], axis = 1)\n",
    "\n",
    "X_train, X_test, y_train, y_test = train_test_split(X, y, train_size=0.75, random_state=42)"
   ]
  },
  {
   "cell_type": "code",
   "execution_count": 281,
   "metadata": {
    "colab": {
     "base_uri": "https://localhost:8080/"
    },
    "id": "M7BDhKAwRtED",
    "outputId": "d2f62b19-6ec4-4289-a3c7-692ce479e7e2",
    "pycharm": {
     "name": "#%%\n"
    }
   },
   "outputs": [
    {
     "name": "stdout",
     "output_type": "stream",
     "text": [
      "(2084, 2570) (2084,)\n",
      "(695, 2570) (695,)\n"
     ]
    }
   ],
   "source": [
    "print(X_train.shape , y_train.shape)\n",
    "print(X_test.shape , y_test.shape)"
   ]
  },
  {
   "cell_type": "markdown",
   "metadata": {
    "id": "jPlysN0ccXEk",
    "pycharm": {
     "name": "#%% md\n"
    }
   },
   "source": [
    "**3.2** Lasso Regression\n",
    "\n",
    "Lasso regression is a type of linear regression that uses shrinkage. Shrinkage is where the data values are shrunk towards a central point - the average of the data values. Lasso is usually used with data sets that encourages simple and sparse models, for example our data set (Glen, 2015). Lasso is generally used when there are a lot of features, as well. As mentioned in Bjørnar Tessem´s powerpoint: \"When there are a lot of features, and you expect some of them are not needed, then Lasso is a better choice\" (Tessem p.21, 2022)."
   ]
  },
  {
   "cell_type": "code",
   "execution_count": 282,
   "metadata": {
    "id": "MZr_6rZtRxfC",
    "pycharm": {
     "name": "#%%\n"
    }
   },
   "outputs": [],
   "source": [
    "X_train_scaled = RobustScaler().fit_transform(X_train)\n",
    "X_test_scaled = RobustScaler().fit_transform(X_test)"
   ]
  },
  {
   "cell_type": "markdown",
   "metadata": {
    "id": "eNgWsoYXhASs",
    "pycharm": {
     "name": "#%% md\n"
    }
   },
   "source": [
    "Standardscaler and Robustscaler works best and gets approximately same output for Lasso."
   ]
  },
  {
   "cell_type": "code",
   "execution_count": 283,
   "metadata": {
    "colab": {
     "base_uri": "https://localhost:8080/"
    },
    "id": "PtvEdGItaNIC",
    "outputId": "22b8d017-19ac-4d56-b0e6-a30a6c21453a",
    "pycharm": {
     "name": "#%%\n"
    }
   },
   "outputs": [
    {
     "name": "stdout",
     "output_type": "stream",
     "text": [
      "Training set score: 0.15\n",
      "Test set score: 0.13\n",
      "MSE: 306.78\n",
      "RMSE: 17.52\n",
      "------------------------------------------------\n",
      "Model execution time:  0.17 Seconds\n"
     ]
    }
   ],
   "source": [
    "start = timeit.default_timer()\n",
    "lasso = Lasso().fit(X_train_scaled, y_train)\n",
    "stop = timeit.default_timer()\n",
    "\n",
    "test_prediction = lasso.predict(X_test_scaled)\n",
    "\n",
    "print(\"Training set score: {:.2f}\".format(lasso.score(X_train_scaled,y_train)))\n",
    "print(\"Test set score: {:.2f}\".format(lasso.score(X_test_scaled,y_test)))\n",
    "print(\"MSE: {:.2f}\".format(mean_squared_error(y_test, test_prediction)))\n",
    "print(\"RMSE: {:.2f}\".format(mean_squared_error(y_test, test_prediction, squared=False)))\n",
    "print(\"------------------------------------------------\")\n",
    "print('Model execution time: ', round(stop - start, 2), 'Seconds')"
   ]
  },
  {
   "cell_type": "markdown",
   "metadata": {
    "id": "lEa9nZuUMsTA",
    "pycharm": {
     "name": "#%% md\n"
    }
   },
   "source": [
    "**Visualizing the lasso regressor data**\n",
    "\n",
    "The graph underneath is a visualization the results from the Lasso regressor. The reason for this, is so that we can compare the predicitions to the \"true values\", and also see how well our model is perfoming. \n",
    "\n",
    "The second graph shows how the popularity is predicted for the Lasso regressor. It is quite interesting that it predicts in the middle almost every single time. Generally, the results are good, but the graph will sometimes \"drop\" substantially, thus giving a worse result. Subsequentially underfitting."
   ]
  },
  {
   "cell_type": "code",
   "execution_count": 284,
   "metadata": {
    "colab": {
     "base_uri": "https://localhost:8080/",
     "height": 395
    },
    "id": "RJpE_1cF2mIF",
    "outputId": "dae8271b-bd4c-4dc8-f630-96593bfe31f2",
    "pycharm": {
     "name": "#%%\n"
    }
   },
   "outputs": [
    {
     "data": {
      "image/png": "[encoded data removed]",
      "text/plain": [
       "<Figure size 576x396 with 1 Axes>"
      ]
     },
     "metadata": {},
     "output_type": "display_data"
    },
    {
     "data": {
      "text/plain": [
       "<AxesSubplot:title={'center':'Prediction Error for Lasso'}, xlabel='$y$', ylabel='$\\\\hat{y}$'>"
      ]
     },
     "execution_count": 284,
     "metadata": {},
     "output_type": "execute_result"
    }
   ],
   "source": [
    "# https://towardsdatascience.com/visualizing-linear-ridge-and-lasso-regression-performance-6dda7affa251\n",
    "# the target variable (y) and the predicted value (ŷ)\n",
    "from yellowbrick.regressor import PredictionError, ResidualsPlot\n",
    "#model1 = Lasso()\n",
    "visualizer = PredictionError(lasso)\n",
    "visualizer.fit(X_train_scaled, y_train)  \n",
    "visualizer.score(X_test_scaled, y_test)  \n",
    "visualizer.poof()"
   ]
  },
  {
   "cell_type": "code",
   "execution_count": 285,
   "metadata": {
    "colab": {
     "base_uri": "https://localhost:8080/",
     "height": 364
    },
    "id": "FWEZf54eLDqF",
    "outputId": "52cc39b6-2eb2-421d-caf3-e4f7374d87e5",
    "pycharm": {
     "name": "#%%\n"
    }
   },
   "outputs": [
    {
     "data": {
      "image/png": "[encoded data removed]",
      "text/plain": [
       "<Figure size 576x396 with 1 Axes>"
      ]
     },
     "metadata": {},
     "output_type": "display_data"
    }
   ],
   "source": [
    "plt.plot(lasso.predict(X_test_scaled))\n",
    "plt.xlabel('data_samples')\n",
    "plt.ylabel('popularity')\n",
    "plt.show()"
   ]
  },
  {
   "cell_type": "code",
   "execution_count": 286,
   "metadata": {
    "id": "UzLKWazvT5SW",
    "pycharm": {
     "name": "#%%\n"
    }
   },
   "outputs": [],
   "source": [
    "kfold = KFold(n_splits=5, shuffle=True, random_state=0)"
   ]
  },
  {
   "cell_type": "code",
   "execution_count": 287,
   "metadata": {
    "colab": {
     "base_uri": "https://localhost:8080/"
    },
    "id": "qvJFsa9ZcXEk",
    "outputId": "07d2be17-29a5-4de4-c7a1-9509ad93ddd1",
    "pycharm": {
     "name": "#%%\n"
    }
   },
   "outputs": [
    {
     "name": "stdout",
     "output_type": "stream",
     "text": [
      "Training set score: 0.71\n",
      "Test set score: 0.14\n",
      "MSE: 304.79\n",
      "RMSE: 17.46\n",
      "Best parameters: {'alpha': 0.005736152510448681, 'selection': 'random'}\n",
      "Best cross-validation score: 0.19\n",
      "------------------------------------------------\n",
      "Model execution time:  183.41 Seconds\n"
     ]
    }
   ],
   "source": [
    "alphas = np.logspace(-5, 5, 30)\n",
    "tuned_parameters = [{\"alpha\": alphas,\n",
    "                     \"selection\" : [\"cyclic\", \"random\"]}]\n",
    "\n",
    "grid_lasso = GridSearchCV(lasso, tuned_parameters, cv=kfold, refit=True, n_jobs=-1)\n",
    "\n",
    "start = timeit.default_timer()\n",
    "grid_lasso.fit(X_train_scaled, y_train)\n",
    "stop = timeit.default_timer()\n",
    "\n",
    "test_prediction = grid_lasso.predict(X_test_scaled)\n",
    "\n",
    "print(\"Training set score: {:.2f}\".format(grid_lasso.score(X_train_scaled,y_train)))\n",
    "print(\"Test set score: {:.2f}\".format(grid_lasso.score(X_test_scaled,y_test)))\n",
    "print(\"MSE: {:.2f}\".format(mean_squared_error(y_test, test_prediction)))\n",
    "print(\"RMSE: {:.2f}\".format(mean_squared_error(y_test, test_prediction, squared=False)))\n",
    "\n",
    "print(\"Best parameters: {}\".format(grid_lasso.best_params_))\n",
    "print(\"Best cross-validation score: {:.2f}\".format(grid_lasso.best_score_))\n",
    "print(\"------------------------------------------------\")\n",
    "print('Model execution time: ', round(stop - start, 2), 'Seconds')"
   ]
  },
  {
   "cell_type": "markdown",
   "metadata": {
    "id": "rTQeXmm3cXEk",
    "pycharm": {
     "name": "#%% md\n"
    }
   },
   "source": [
    "**3.3** Random Forest Regressor\n",
    "\n",
    "Random forest regressor is in short a collection of decision trees where each tree is different from on another. Quoted from SciKit: \"A random forest is a meta estimator that fits a number of classifying decision trees on various sub-samples of the dataset and uses averaging to improve the predictive accuracy and control over-fitting\" (SciKit, 2022). The main reason for using RFR is because it provides higher accuracy through cross validation (Anurag, 2018). RFR will keep the missing values and maintain the accuracy of a large proportion of data.\n"
   ]
  },
  {
   "cell_type": "code",
   "execution_count": 288,
   "metadata": {},
   "outputs": [],
   "source": [
    "X_train_scaled = RobustScaler().fit_transform(X_train)\n",
    "X_test_scaled = RobustScaler().fit_transform(X_test)"
   ]
  },
  {
   "cell_type": "markdown",
   "metadata": {
    "id": "0cso1Q8SkwfJ",
    "pycharm": {
     "name": "#%% md\n"
    }
   },
   "source": [
    "StandardScaler, RobustScaler and without scaler gives approximately same results for RandomForestRegressor"
   ]
  },
  {
   "cell_type": "code",
   "execution_count": 289,
   "metadata": {
    "colab": {
     "base_uri": "https://localhost:8080/"
    },
    "id": "dQXr-C6xab5d",
    "outputId": "bcad3a30-fad3-45b9-88c9-afb06375d769",
    "pycharm": {
     "name": "#%%\n"
    }
   },
   "outputs": [
    {
     "name": "stdout",
     "output_type": "stream",
     "text": [
      "Training set score: 0.22\n",
      "Test set score: 0.17\n",
      "MSE: 355.82\n",
      "RMSE: 18.86\n",
      "------------------------------------------------\n",
      "Model execution time:  1.6 Seconds\n"
     ]
    }
   ],
   "source": [
    "forest = RandomForestRegressor(n_estimators=100, n_jobs=-1, max_depth=3)\n",
    "\n",
    "start = timeit.default_timer()\n",
    "forest.fit(X_train_scaled, y_train)\n",
    "stop = timeit.default_timer()\n",
    "\n",
    "test_prediction = forest.predict(X_test)\n",
    "\n",
    "print(\"Training set score: {:.2f}\".format(forest.score(X_train_scaled,y_train)))\n",
    "print(\"Test set score: {:.2f}\".format(forest.score(X_test_scaled,y_test)))\n",
    "print(\"MSE: {:.2f}\".format(mean_squared_error(y_test, test_prediction)))\n",
    "print(\"RMSE: {:.2f}\".format(mean_squared_error(y_test, test_prediction, squared=False)))\n",
    "print(\"------------------------------------------------\")\n",
    "print('Model execution time: ', round(stop - start, 2), 'Seconds') "
   ]
  },
  {
   "cell_type": "markdown",
   "metadata": {
    "id": "J8xviO7hlELx",
    "pycharm": {
     "name": "#%% md\n"
    }
   },
   "source": [
    "**Visualizing the forest regressor data**\n",
    "\n",
    "This graph visualizes forest regressor data. This graph shows the popularity compared to the amount of data samples. Forest regressor gave us the highest score. However, it seems as the model predicts mostly around the mean of popularity (which is 34.89). Therefore, one can discuss whether or not it is the best model. "
   ]
  },
  {
   "cell_type": "code",
   "execution_count": 290,
   "metadata": {
    "colab": {
     "base_uri": "https://localhost:8080/",
     "height": 361
    },
    "id": "JVezfxsrkNUR",
    "outputId": "c48a3a59-1c24-4a64-cab2-114547cc512e",
    "pycharm": {
     "name": "#%%\n"
    }
   },
   "outputs": [
    {
     "data": {
      "image/png": "[encoded data removed]",
      "text/plain": [
       "<Figure size 576x396 with 1 Axes>"
      ]
     },
     "metadata": {},
     "output_type": "display_data"
    }
   ],
   "source": [
    "plt.plot(forest.predict(X_test))\n",
    "plt.xlabel('data_samples')\n",
    "plt.ylabel('popularity')\n",
    "plt.draw()"
   ]
  },
  {
   "cell_type": "code",
   "execution_count": 291,
   "metadata": {
    "id": "18_LL3KYcXEk",
    "pycharm": {
     "name": "#%%\n"
    }
   },
   "outputs": [
    {
     "name": "stdout",
     "output_type": "stream",
     "text": [
      "Training set score: 0.62\n",
      "Test set score: 0.22\n",
      "MSE: 274.48\n",
      "RMSE: 16.57\n",
      "Best parameters: {'max_depth': 8, 'max_features': 'auto', 'n_estimators': 100}\n",
      "Best cross-validation score: 0.22\n",
      "------------------------------------------------\n",
      "Model execution time:  73.74 Seconds\n"
     ]
    }
   ],
   "source": [
    "param_grid = { \n",
    "    'n_estimators': [1, 10, 100], # 1000, 10 000\n",
    "    'max_features': ['auto', 'sqrt', 'log2'],\n",
    "    'max_depth' : ['None',3,4,5,6,7,8],\n",
    "}\n",
    "grid_forest = GridSearchCV(estimator = forest, param_grid = param_grid, cv = kfold, n_jobs=-1)\n",
    "\n",
    "start = timeit.default_timer()\n",
    "grid_forest.fit(X_train, y_train)\n",
    "stop = timeit.default_timer()\n",
    "\n",
    "test_prediction = grid_forest.predict(X_test)\n",
    "\n",
    "print(\"Training set score: {:.2f}\".format(grid_forest.score(X_train,y_train)))\n",
    "print(\"Test set score: {:.2f}\".format(grid_forest.score(X_test,y_test)))\n",
    "print(\"MSE: {:.2f}\".format(mean_squared_error(y_test, test_prediction)))\n",
    "print(\"RMSE: {:.2f}\".format(mean_squared_error(y_test, test_prediction, squared=False)))\n",
    "\n",
    "print(\"Best parameters: {}\".format(grid_forest.best_params_))\n",
    "print(\"Best cross-validation score: {:.2f}\".format(grid_forest.best_score_))\n",
    "print(\"------------------------------------------------\")\n",
    "print('Model execution time: ', round(stop - start, 2), 'Seconds')"
   ]
  },
  {
   "cell_type": "markdown",
   "metadata": {
    "id": "EOZ45y4EcXEl",
    "pycharm": {
     "name": "#%% md\n"
    }
   },
   "source": [
    "**3.4** KNN Regressor\n",
    "\n",
    "K-Nearest Neighbor, also known as KNN, is a very simple machine learning algorithm. In short, KNN calculates the distance of a data point to all the other data training points. It is mainly used for calculating continious variables. According to Statistics Canada, \"a variable is said to be continuous if it can assume an infinite number of real values within a given interval (Statistics Canada, 2021)\". The distance can be Euclidian, for example. A euclidian distance, referenced in Bilal Hamada´s article, is \"a euclidian distance will represent how similar two data points are - assuming some clustering based on other data has already been performed.\"(Hamada, 2021). After this, the algorithm will select the K, which will be any integer. Ultimately, according to Bilal Hamad´s article, the algorithm assigns the data point to the class which the majority of K data points will be found (Hamada, 2021). "
   ]
  },
  {
   "cell_type": "code",
   "execution_count": 292,
   "metadata": {
    "id": "AFPbOXbuVTU-",
    "pycharm": {
     "name": "#%%\n"
    }
   },
   "outputs": [],
   "source": [
    "X_train_scaled = RobustScaler().fit_transform(X_train)\n",
    "X_test_scaled = RobustScaler().fit_transform(X_test)"
   ]
  },
  {
   "cell_type": "markdown",
   "metadata": {
    "id": "mPbpIF9Uk9iv",
    "pycharm": {
     "name": "#%% md\n"
    }
   },
   "source": [
    "KNN Regressor seems to work best with robustScaler"
   ]
  },
  {
   "cell_type": "code",
   "execution_count": 293,
   "metadata": {
    "id": "famRNsSmagY6",
    "pycharm": {
     "name": "#%%\n"
    }
   },
   "outputs": [
    {
     "name": "stdout",
     "output_type": "stream",
     "text": [
      "Training set score: 0.15\n",
      "Test set score: 0.14\n",
      "MSE: 303.97\n",
      "RMSE: 17.43\n",
      "------------------------------------------------\n",
      "Model execution time:  0.01 Seconds\n"
     ]
    }
   ],
   "source": [
    "neigh = KNeighborsRegressor(n_neighbors = 100)\n",
    "\n",
    "start = timeit.default_timer()\n",
    "neigh.fit(X_train_scaled, y_train)\n",
    "stop = timeit.default_timer()\n",
    "\n",
    "test_prediction = neigh.predict(X_test_scaled)\n",
    "\n",
    "print(\"Training set score: {:.2f}\".format(neigh.score(X_train_scaled,y_train)))\n",
    "print(\"Test set score: {:.2f}\".format(neigh.score(X_test_scaled,y_test)))\n",
    "print(\"MSE: {:.2f}\".format(mean_squared_error(y_test, test_prediction)))\n",
    "print(\"RMSE: {:.2f}\".format(mean_squared_error(y_test, test_prediction, squared=False)))\n",
    "print(\"------------------------------------------------\")\n",
    "print('Model execution time: ', round(stop - start, 2), 'Seconds')"
   ]
  },
  {
   "cell_type": "markdown",
   "metadata": {
    "id": "SQ7Ex_fS5NP2",
    "pycharm": {
     "name": "#%% md\n"
    }
   },
   "source": [
    "**Visualizing the KNN regressor data**\n",
    "\n",
    "This plot map shows the same as the other ones above. Compared to the others, it is still predicting in the middle of the graph and is generally over 20 points on \"popularity\". However, KNN is not giving the best results, simultaneously underfitting as one can see in the results above. It consequently \"drops\", hence giving us a worse result compared to the other regressors."
   ]
  },
  {
   "cell_type": "code",
   "execution_count": 294,
   "metadata": {
    "id": "ITrUGuDX4Wkk",
    "pycharm": {
     "name": "#%%\n"
    }
   },
   "outputs": [
    {
     "data": {
      "image/png": "[encoded data removed]",
      "text/plain": [
       "<Figure size 576x396 with 1 Axes>"
      ]
     },
     "metadata": {},
     "output_type": "display_data"
    }
   ],
   "source": [
    "plt.plot(neigh.predict(X_test_scaled))\n",
    "plt.xlabel('data_samples')\n",
    "plt.ylabel('popularity')\n",
    "plt.draw()"
   ]
  },
  {
   "cell_type": "code",
   "execution_count": 295,
   "metadata": {
    "id": "35XIhu7mcXEl",
    "pycharm": {
     "name": "#%%\n"
    }
   },
   "outputs": [
    {
     "name": "stdout",
     "output_type": "stream",
     "text": [
      "Training set score: 0.15\n",
      "Test set score: 0.14\n",
      "MSE: 303.97\n",
      "RMSE: 17.43\n",
      "Best parameters: {'algorithm': 'auto', 'n_neighbors': 100, 'weights': 'uniform'}\n",
      "Best cross-validation score: 0.13\n",
      "------------------------------------------------\n",
      "Model execution time:  36.89 Seconds\n"
     ]
    }
   ],
   "source": [
    "param_grid = [{'n_neighbors': [1,10,100], \n",
    "               'weights': ['uniform'], # removed \"distance\" as it resulted in 1.0 in training score\n",
    "               'algorithm': ['auto', 'ball_tree', 'kd_tree', 'brute']}]\n",
    "\n",
    "grid_neigh = GridSearchCV(estimator=neigh, param_grid=param_grid, cv=kfold, scoring='r2', n_jobs=-1)\n",
    "\n",
    "start = timeit.default_timer()\n",
    "grid_neigh.fit(X_train_scaled, y_train)\n",
    "stop = timeit.default_timer()\n",
    "\n",
    "test_prediction = grid_neigh.predict(X_test_scaled)\n",
    "\n",
    "print(\"Training set score: {:.2f}\".format(grid_neigh.score(X_train_scaled,y_train)))\n",
    "print(\"Test set score: {:.2f}\".format(grid_neigh.score(X_test_scaled,y_test)))\n",
    "print(\"MSE: {:.2f}\".format(mean_squared_error(y_test, test_prediction)))\n",
    "print(\"RMSE: {:.2f}\".format(mean_squared_error(y_test, test_prediction, squared=False)))\n",
    "\n",
    "print(\"Best parameters: {}\".format(grid_neigh.best_params_))\n",
    "print(\"Best cross-validation score: {:.2f}\".format(grid_neigh.best_score_))\n",
    "print(\"------------------------------------------------\")\n",
    "print('Model execution time: ', round(stop - start, 2), 'Seconds')"
   ]
  },
  {
   "cell_type": "markdown",
   "metadata": {
    "id": "UdP9edLRcXEl",
    "pycharm": {
     "name": "#%% md\n"
    }
   },
   "source": [
    "**3.5** **SVM Regression**\n",
    "\n",
    "SVM Regression is explained in Ashwin Raj´s article: \"Support vector regression is a supervized learning algorithm that is used to predict descrete values\"(Raj, 2020). Another name for SVM Regression is simply SVR (Support Vector Regression). \n",
    "\n",
    "Visualize a hyperplane. The part of the hyperplane that has the most dots, or the most number of points, is the best fit \"line\". The main idea of SVR is to simplify this data, and find the best fit \"line\" in a hyperplane. This line is found within a threshold value, unlike other regression models that try to minimize the errors between the real and predicted values. As mentioned in Raj´s article, \"the threshold value is the distance between the hyperplane and the boundary line\" (Raj, 2020). The boundary line is, in short, the outline or the outer edges of a shape or area. \n",
    "\n",
    "Some problems with SVR is that the functions´ fit time complexity is more quadratic which will, in simple terms, not allow the regressor to run optimally if the data set has samples over approximately 10 000."
   ]
  },
  {
   "cell_type": "code",
   "execution_count": 296,
   "metadata": {
    "id": "bLwzyqD9WB9q",
    "pycharm": {
     "name": "#%%\n"
    }
   },
   "outputs": [],
   "source": [
    "X_train_scaled = RobustScaler().fit_transform(X_train)\n",
    "X_test_scaled = RobustScaler().fit_transform(X_test)"
   ]
  },
  {
   "cell_type": "markdown",
   "metadata": {
    "id": "O3YfWit3lEj3",
    "pycharm": {
     "name": "#%% md\n"
    }
   },
   "source": [
    "SVR seem to work best with RobustScaler."
   ]
  },
  {
   "cell_type": "code",
   "execution_count": 297,
   "metadata": {
    "id": "-O0K3KBAamL2",
    "pycharm": {
     "name": "#%%\n"
    }
   },
   "outputs": [
    {
     "name": "stdout",
     "output_type": "stream",
     "text": [
      "Training set score: 0.21\n",
      "Test set score: 0.16\n",
      "MSE: 297.40\n",
      "RMSE: 17.25\n",
      "------------------------------------------------\n",
      "Model execution time:  7.75 Seconds\n"
     ]
    }
   ],
   "source": [
    "svmreg = svm.SVR()\n",
    "\n",
    "start = timeit.default_timer()\n",
    "svmreg.fit(X_train_scaled, y_train)\n",
    "stop = timeit.default_timer()\n",
    "\n",
    "test_prediction = svmreg.predict(X_test_scaled)\n",
    "\n",
    "print(\"Training set score: {:.2f}\".format(svmreg.score(X_train_scaled,y_train)))\n",
    "print(\"Test set score: {:.2f}\".format(svmreg.score(X_test_scaled,y_test)))\n",
    "print(\"MSE: {:.2f}\".format(mean_squared_error(y_test, test_prediction)))\n",
    "print(\"RMSE: {:.2f}\".format(mean_squared_error(y_test, test_prediction, squared=False)))\n",
    "print(\"------------------------------------------------\")\n",
    "print('Model execution time: ', round(stop - start, 2), 'Seconds') "
   ]
  },
  {
   "cell_type": "markdown",
   "metadata": {
    "id": "o1vA33lc9rKy",
    "pycharm": {
     "name": "#%% md\n"
    }
   },
   "source": [
    "**Visualizing the SVR data**\n",
    "\n",
    "This regressor gave us the best results. As one can see, it gives us a consecutive result throughout with little \"dropping\". It goes below 20 points on \"popularity\" three times, which is less than any other regressor earlier. The same goes for \"increases\". The graph stays consecutive and is within a certain point range throughout. The SVR regressor generally predicts in the middle of the graph, as well. All of these factors will, in turn, give us a better result. "
   ]
  },
  {
   "cell_type": "code",
   "execution_count": 298,
   "metadata": {
    "id": "4uqvvkJB7vwQ",
    "pycharm": {
     "name": "#%%\n"
    }
   },
   "outputs": [
    {
     "data": {
      "image/png": "[encoded data removed]",
      "text/plain": [
       "<Figure size 576x396 with 1 Axes>"
      ]
     },
     "metadata": {},
     "output_type": "display_data"
    }
   ],
   "source": [
    "plt.plot(svmreg.predict(X_test_scaled))\n",
    "plt.xlabel('data_samples')\n",
    "plt.ylabel('popularity')\n",
    "plt.draw()"
   ]
  },
  {
   "cell_type": "code",
   "execution_count": 299,
   "metadata": {
    "id": "TmCc24o4cXEm",
    "pycharm": {
     "name": "#%%\n"
    }
   },
   "outputs": [
    {
     "name": "stdout",
     "output_type": "stream",
     "text": [
      "Training set score: 0.66\n",
      "Test set score: 0.17\n",
      "MSE: 293.85\n",
      "RMSE: 17.14\n",
      "Best parameters: {'C': 10, 'gamma': 0.1, 'kernel': 'rbf'}\n",
      "Best cross-validation score: 0.17\n",
      "------------------------------------------------\n",
      "Model execution time:  222.13 Seconds\n"
     ]
    }
   ],
   "source": [
    "# Excluded kernels because too long running time\n",
    "parameters = [{'kernel': ['rbf'], # , 'linear' 'poly', 'sigmoid', 'precomputed'\n",
    "               'C': [0.1, 1, 10],\n",
    "               'gamma': [0.1, 1, 10]}]\n",
    "\n",
    "\n",
    "grid_svr = GridSearchCV(svmreg, parameters, cv = kfold, return_train_score=False, n_jobs=-1)\n",
    "\n",
    "start = timeit.default_timer()\n",
    "grid_svr.fit(X_train_scaled, y_train)\n",
    "stop = timeit.default_timer()\n",
    "\n",
    "test_prediction = grid_svr.predict(X_test_scaled)\n",
    "\n",
    "print(\"Training set score: {:.2f}\".format(grid_svr.score(X_train_scaled, y_train)))\n",
    "print(\"Test set score: {:.2f}\".format(grid_svr.score(X_test_scaled, y_test)))\n",
    "print(\"MSE: {:.2f}\".format(mean_squared_error(y_test, test_prediction)))\n",
    "print(\"RMSE: {:.2f}\".format(mean_squared_error(y_test, test_prediction, squared=False)))\n",
    "\n",
    "print(\"Best parameters: {}\".format(grid_svr.best_params_))\n",
    "print(\"Best cross-validation score: {:.2f}\".format(grid_svr.best_score_))\n",
    "print(\"------------------------------------------------\")\n",
    "print('Model execution time: ', round(stop - start, 2), 'Seconds') "
   ]
  },
  {
   "cell_type": "markdown",
   "metadata": {
    "id": "K1KecKqWcXEm",
    "pycharm": {
     "name": "#%% md\n"
    }
   },
   "source": [
    "## **B)**  Convolutional Neural Network\n",
    "\n",
    "For this part of the assignment, we will be using another dataset. This contains images of albums from spotify.\n",
    "\n",
    "Features for prediction: Release Date, Average Tempo, Average Energy and Popularity\n",
    "\n",
    "Convolutional Neural Network is, in short, a deep learning algorithm that can take in different inputs. For example an image or images and assign importance to various objects or aspects in the image. This will grant the modules the ability to differentiate from one another. According to Sumit Saha´s article, the pre-processing in a ConvNet (Convolutional Network) is much lower compared to other classification methods. Quoted from Sumit Saha´s article: \"While in primitive methods filters are hand-engineered, with enough training, ConvNets have the ability to learn these filters/characteristics.\" (Saha, 2018). Shortly explained, ConvNets are much more advanced algorithms and have a great ability to learn and differentiate between different aspects.\n",
    "\n",
    "## **1**\n",
    "**1.1** Loading and Visualizing the dataset\n",
    "\n",
    "The primary task is to load the images into a list of PIL files for use in torch."
   ]
  },
  {
   "cell_type": "code",
   "execution_count": 300,
   "metadata": {
    "id": "FPUaIK6-cXEm",
    "pycharm": {
     "name": "#%%\n"
    }
   },
   "outputs": [],
   "source": [
    "import os\n",
    "\n",
    "images = []\n",
    "from PIL import Image\n",
    "os.getcwd()\n",
    "for album_id in os.listdir('./images/'):\n",
    "    path = './images/'+album_id\n",
    "    pil_img = Image.open(path)\n",
    "    images.append([pil_img, int(album_id[:-4])])\n",
    "\n",
    "covers_df = pd.DataFrame(images, columns=['Image', 'id'])"
   ]
  },
  {
   "cell_type": "markdown",
   "metadata": {
    "id": "Kv5aZf8VcXEn",
    "pycharm": {
     "name": "#%% md\n"
    }
   },
   "source": [
    "We then have to merge the images with the correct variables from the dataframe, and so we create the auxiliary dataframe and select the values we want to predict. We then merge the dataframe with the images to create a dataset with both images and variables.\n",
    "\n",
    "Finally we split the data 70/30 for training and testing"
   ]
  },
  {
   "cell_type": "code",
   "execution_count": 301,
   "metadata": {
    "id": "3K8R_HhTcXEn",
    "pycharm": {
     "name": "#%%\n"
    }
   },
   "outputs": [],
   "source": [
    "aux_tabular_df = df[['id', 'release_date', 't_tempo0','t_tempo1','t_tempo2','t_energy0','t_energy1','t_energy2','popularity']]\n",
    "\n",
    "aux_tabular_df['avg_tempo'] = aux_tabular_df[['t_tempo0','t_tempo1','t_tempo2']].mean(axis=1)\n",
    "aux_tabular_df = aux_tabular_df.drop(['t_tempo0','t_tempo1','t_tempo2'], axis=1)\n",
    "\n",
    "aux_tabular_df['avg_energy'] = aux_tabular_df[['t_energy0','t_energy1','t_energy2']].mean(axis=1)\n",
    "aux_tabular_df = aux_tabular_df.drop(['t_energy0','t_energy1','t_energy2'], axis=1)\n",
    "\n",
    "aux_tabular_df['id'] = aux_tabular_df['id'].astype(int)\n",
    "aux_tabular_df['release_date'] = aux_tabular_df['release_date'].astype(int)\n",
    "\n",
    "data = pd.merge(covers_df, aux_tabular_df, on='id')\n",
    "\n",
    "\n",
    "#data=data[:30]\n",
    "split = int(0.7*len(data))\n",
    "train = data[:split]\n",
    "test = data[split:]"
   ]
  },
  {
   "cell_type": "markdown",
   "metadata": {
    "id": "FUua4WLXcXEn",
    "pycharm": {
     "name": "#%% md\n"
    }
   },
   "source": [
    "### **2** Home-Made Convolutional Neural Network\n",
    "\n",
    "**2.1** Network class\n",
    "\n",
    "Torch is a package that provides two main functions: tensor computation and deep neural networks built on a tape-based autograd (pypi, 2022). Torch is generally better to use when it comes to Deep Neural Networks. It provides a faster computation than what NumPy would do, and Torch is also a replacement for NumPy to use power from the GPUs instead."
   ]
  },
  {
   "cell_type": "code",
   "execution_count": 302,
   "metadata": {
    "id": "cL1ER1I0cXEn",
    "pycharm": {
     "name": "#%%\n"
    }
   },
   "outputs": [],
   "source": [
    "# %pip install torch\n",
    "\n",
    "import torch\n",
    "import torch.nn as nn\n",
    "import torch.nn.functional as F\n",
    "# !pip install torchvision\n",
    "from torchvision import transforms"
   ]
  },
  {
   "cell_type": "markdown",
   "metadata": {
    "id": "1J5uFtLocXEn",
    "pycharm": {
     "name": "#%% md\n"
    }
   },
   "source": [
    "Creating our data set."
   ]
  },
  {
   "cell_type": "code",
   "execution_count": 303,
   "metadata": {
    "id": "2PepHSxxcXEn",
    "pycharm": {
     "name": "#%%\n"
    }
   },
   "outputs": [],
   "source": [
    "from torch.utils.data import Dataset, DataLoader\n",
    "\n",
    "class AlbumCoverDataset(Dataset):\n",
    "    def __init__(self, data, transform=None, target_transform=None):\n",
    "        self.len = len(data)\n",
    "        self.images = np.array(data['Image'].values)\n",
    "        self.labels = data[['release_date','avg_energy', 'avg_tempo', 'popularity']].values\n",
    "        self.ids = data['id'].values\n",
    "\n",
    "        self.transform=transform\n",
    "        self.target_transform = target_transform\n",
    "\n",
    "    def __len__(self):\n",
    "        return self.len-1\n",
    "    \n",
    "    def __getitem__(self, idx):\n",
    "        image = torch.from_numpy(np.array(self.images[idx])).float()\n",
    "        labels = torch.from_numpy(np.array(self.labels[idx])).float()\n",
    "        id = self.ids[idx]\n",
    "        if self.transform:\n",
    "            image = self.transform(image)\n",
    "            \n",
    "        return image, labels, id"
   ]
  },
  {
   "cell_type": "code",
   "execution_count": 304,
   "metadata": {
    "id": "3xWOpMkgcXEo",
    "pycharm": {
     "name": "#%%\n"
    }
   },
   "outputs": [],
   "source": [
    "trans = transforms.Compose([\n",
    "            transforms.Resize((240,240)),\n",
    "            transforms.RandomHorizontalFlip(0.3),\n",
    "        ])\n",
    "\n",
    "train_dataset = AlbumCoverDataset(train)#, transform=trans, target_transform=trans)\n",
    "test_dataset = AlbumCoverDataset(test)#, transform=trans, target_transform=trans)\n",
    "\n",
    "train_loader = torch.utils.data.DataLoader(train_dataset, batch_size=1, shuffle=False)\n",
    "test_loader = torch.utils.data.DataLoader(test_dataset,batch_size=1, shuffle=False)\n"
   ]
  },
  {
   "cell_type": "markdown",
   "metadata": {
    "id": "-0NIBqgocXEo",
    "pycharm": {
     "name": "#%% md\n"
    }
   },
   "source": [
    "Creating our data network."
   ]
  },
  {
   "cell_type": "code",
   "execution_count": 305,
   "metadata": {
    "id": "OfUxVgokcXEo",
    "pycharm": {
     "name": "#%%\n"
    }
   },
   "outputs": [],
   "source": [
    "class AlbumCoverCnn(nn.Module):\n",
    "    def __init__(self):\n",
    "        super(AlbumCoverCnn,self).__init__()\n",
    "        self.relu = nn.ReLU()\n",
    "        self.leak = nn.LeakyReLU()\n",
    "        self.pool = nn.MaxPool2d(4)\n",
    "        self.adapt = nn.AdaptiveAvgPool2d((5,5))\n",
    "\n",
    "        self.conv1 = nn.Conv2d(3, 16, (3,3)) # 3 -> RGB pixel values\n",
    "        self.conv2 = nn.Conv2d(16, 64, (3,3))\n",
    "        self.fc1 = nn.Linear(1600, 69)\n",
    "        self.out_layer = nn.Linear(69, 4)\n",
    "\n",
    "    def forward(self, x):\n",
    "        #print(x.shape)\n",
    "        b = x.shape[0]\n",
    "        x = x.permute(0,3,1,2)\n",
    "        out = self.leak(self.pool(self.conv1(x)))\n",
    "        \n",
    "        out = self.leak(self.adapt(self.conv2(out)))\n",
    "        out = out.view(b, -1)\n",
    "        out = self.relu(self.fc1(out))\n",
    "        out = self.out_layer(out)\n",
    "        return out"
   ]
  },
  {
   "cell_type": "markdown",
   "metadata": {
    "id": "RYeaDNqucXEo",
    "pycharm": {
     "name": "#%% md\n"
    }
   },
   "source": [
    "MSE and RMSE\n",
    "\n",
    "In this part of the code, we are training the network. We are also implementing a MSE score and RMSE score. MSE means \"mean squared error\", which in short means how many errors our module has. It assesses the average squared difference between the observed and predicted values (Frost, 2022). RMSE does almost the same thing as MSE. RMSE means \"root mean squared error\", and it measures how spread out the residuals in the data are. Residuals are, according to Glen Stephanie´s article, \"a measure of how far from the regression line data points are\" (Glen, 2022). In short, it shows you how concentrated the data is around the best fit result line."
   ]
  },
  {
   "cell_type": "code",
   "execution_count": 306,
   "metadata": {
    "id": "eMjdKf-6cXEo",
    "pycharm": {
     "name": "#%%\n"
    }
   },
   "outputs": [],
   "source": [
    "from tqdm import tqdm\n",
    "model = AlbumCoverCnn()\n",
    "optimizer = torch.optim.Adam(model.parameters(), lr=1e-2)\n",
    "mse_loss = nn.MSELoss()\n",
    "\n",
    "def train_model(n_epochs, optimizer, model, loss, train_loader):\n",
    "    print(\"\\nSTARTING TRAINING LOOP - EPOCHS: \"+str(n_epochs))\n",
    "    losses = []\n",
    "    loss_train = 0\n",
    "    rmse_loss_train = 0\n",
    "    len_losses = 0\n",
    "    for epoch in range(1, n_epochs+1):\n",
    "        for image, labels, id in tqdm(train_loader, leave=True, colour='green', desc=f'Batch'):\n",
    "            # PREDICTION\n",
    "            output = model(image)\n",
    "            ## LOSS\n",
    "            loss = mse_loss(output, labels)\n",
    "            rmse_loss = torch.sqrt(mse_loss(output, labels))\n",
    "\n",
    "            ## BACKPROP\n",
    "            optimizer.zero_grad() \n",
    "            loss.backward(retain_graph=True)\n",
    "            optimizer.step()\n",
    "\n",
    "            loss_train = loss_train*0.9+loss.item()*0.1\n",
    "            rmse_loss_train = loss_train*0.9+rmse_loss.item()*0.1\n",
    "        #running_mse.append(loss_train)\n",
    "        len_losses += 1\n",
    "        print('EPOCH:', epoch,'MSE:', loss_train/len_losses,'RMSE:', rmse_loss_train/len_losses)\n",
    "        len_losses += 1\n",
    "    print(id, output)\n",
    "    return model\n",
    "\n",
    "def test_model(model, loss, test_loader):\n",
    "    print(\"\\nSTARTING TESTING LOOP\")\n",
    "    predictions = []\n",
    "    loss_train = 0\n",
    "    len_losses = 0\n",
    "    with torch.no_grad():\n",
    "        for image, labels, id in test_loader:\n",
    "            # PREDICTION\n",
    "            output = model(image)\n",
    "            predictions.append([id, output])\n",
    "            \n",
    "            ## LOSS\n",
    "            loss = mse_loss(output, labels)\n",
    "\n",
    "            loss_train = loss_train*0.9+loss.item()*0.1\n",
    "    print(loss_train)\n",
    "    return predictions"
   ]
  },
  {
   "cell_type": "code",
   "execution_count": 307,
   "metadata": {
    "id": "V2XY2M0rcXEp",
    "pycharm": {
     "name": "#%%\n"
    }
   },
   "outputs": [
    {
     "name": "stdout",
     "output_type": "stream",
     "text": [
      "\n",
      "STARTING TRAINING LOOP - EPOCHS: 5\n"
     ]
    },
    {
     "name": "stderr",
     "output_type": "stream",
     "text": [
      "Batch: 100%|\u001b[32m██████████\u001b[0m| 1944/1944 [04:24<00:00,  7.35it/s]\n"
     ]
    },
    {
     "name": "stdout",
     "output_type": "stream",
     "text": [
      "EPOCH: 1 MSE: 175923.72571061846 RMSE: 158337.99676824926\n"
     ]
    },
    {
     "name": "stderr",
     "output_type": "stream",
     "text": [
      "Batch: 100%|\u001b[32m██████████\u001b[0m| 1944/1944 [03:41<00:00,  8.76it/s]\n"
     ]
    },
    {
     "name": "stdout",
     "output_type": "stream",
     "text": [
      "EPOCH: 2 MSE: 57019.56065255822 RMSE: 51319.3915845253\n"
     ]
    },
    {
     "name": "stderr",
     "output_type": "stream",
     "text": [
      "Batch: 100%|\u001b[32m██████████\u001b[0m| 1944/1944 [03:30<00:00,  9.22it/s]\n"
     ]
    },
    {
     "name": "stdout",
     "output_type": "stream",
     "text": [
      "EPOCH: 3 MSE: 36456.802188468624 RMSE: 32813.395107439144\n"
     ]
    },
    {
     "name": "stderr",
     "output_type": "stream",
     "text": [
      "Batch: 100%|\u001b[32m██████████\u001b[0m| 1944/1944 [03:33<00:00,  9.10it/s]\n"
     ]
    },
    {
     "name": "stdout",
     "output_type": "stream",
     "text": [
      "EPOCH: 4 MSE: 26327.87807802346 RMSE: 23696.147187575152\n"
     ]
    },
    {
     "name": "stderr",
     "output_type": "stream",
     "text": [
      "Batch: 100%|\u001b[32m██████████\u001b[0m| 1944/1944 [03:27<00:00,  9.36it/s]\n"
     ]
    },
    {
     "name": "stdout",
     "output_type": "stream",
     "text": [
      "EPOCH: 5 MSE: 108327.30767301573 RMSE: 97505.38787305358\n",
      "tensor([56017]) tensor([[ 3.6440e+01, -6.4643e-04,  1.3675e+01,  5.1972e+00]],\n",
      "       grad_fn=<AddmmBackward0>)\n",
      "\n",
      "STARTING TESTING LOOP\n",
      "979564.7681002237\n"
     ]
    }
   ],
   "source": [
    "model = train_model(5, optimizer, model, mse_loss, train_loader)\n",
    "predictions = test_model(model, mse_loss, test_loader)"
   ]
  },
  {
   "cell_type": "code",
   "execution_count": 308,
   "metadata": {
    "id": "tAbIZgkDcXEp",
    "pycharm": {
     "name": "#%%\n"
    }
   },
   "outputs": [],
   "source": [
    "#[[id],[release_date, avg_energy, avg_tempo, popularity]]\n",
    "#print(predictions)"
   ]
  },
  {
   "cell_type": "code",
   "execution_count": 309,
   "metadata": {
    "id": "Yv5WxDM1X_On",
    "pycharm": {
     "name": "#%%\n"
    }
   },
   "outputs": [
    {
     "data": {
      "text/html": [
       "<div>\n",
       "<style scoped>\n",
       "    .dataframe tbody tr th:only-of-type {\n",
       "        vertical-align: middle;\n",
       "    }\n",
       "\n",
       "    .dataframe tbody tr th {\n",
       "        vertical-align: top;\n",
       "    }\n",
       "\n",
       "    .dataframe thead th {\n",
       "        text-align: right;\n",
       "    }\n",
       "</style>\n",
       "<table border=\"1\" class=\"dataframe\">\n",
       "  <thead>\n",
       "    <tr style=\"text-align: right;\">\n",
       "      <th></th>\n",
       "      <th>id</th>\n",
       "      <th>predictions</th>\n",
       "    </tr>\n",
       "  </thead>\n",
       "  <tbody>\n",
       "    <tr>\n",
       "      <th>0</th>\n",
       "      <td>[tensor(56064)]</td>\n",
       "      <td>[[tensor(36.4500), tensor(-0.0006), tensor(13....</td>\n",
       "    </tr>\n",
       "    <tr>\n",
       "      <th>1</th>\n",
       "      <td>[tensor(56095)]</td>\n",
       "      <td>[[tensor(36.4500), tensor(-0.0006), tensor(13....</td>\n",
       "    </tr>\n",
       "    <tr>\n",
       "      <th>2</th>\n",
       "      <td>[tensor(56134)]</td>\n",
       "      <td>[[tensor(36.4500), tensor(-0.0006), tensor(13....</td>\n",
       "    </tr>\n",
       "    <tr>\n",
       "      <th>3</th>\n",
       "      <td>[tensor(56146)]</td>\n",
       "      <td>[[tensor(36.4500), tensor(-0.0006), tensor(13....</td>\n",
       "    </tr>\n",
       "    <tr>\n",
       "      <th>4</th>\n",
       "      <td>[tensor(56152)]</td>\n",
       "      <td>[[tensor(36.4500), tensor(-0.0006), tensor(13....</td>\n",
       "    </tr>\n",
       "    <tr>\n",
       "      <th>...</th>\n",
       "      <td>...</td>\n",
       "      <td>...</td>\n",
       "    </tr>\n",
       "    <tr>\n",
       "      <th>828</th>\n",
       "      <td>[tensor(99740)]</td>\n",
       "      <td>[[tensor(36.4500), tensor(-0.0006), tensor(13....</td>\n",
       "    </tr>\n",
       "    <tr>\n",
       "      <th>829</th>\n",
       "      <td>[tensor(99745)]</td>\n",
       "      <td>[[tensor(36.4500), tensor(-0.0006), tensor(13....</td>\n",
       "    </tr>\n",
       "    <tr>\n",
       "      <th>830</th>\n",
       "      <td>[tensor(99763)]</td>\n",
       "      <td>[[tensor(36.4500), tensor(-0.0006), tensor(13....</td>\n",
       "    </tr>\n",
       "    <tr>\n",
       "      <th>831</th>\n",
       "      <td>[tensor(99873)]</td>\n",
       "      <td>[[tensor(36.4500), tensor(-0.0006), tensor(13....</td>\n",
       "    </tr>\n",
       "    <tr>\n",
       "      <th>832</th>\n",
       "      <td>[tensor(99946)]</td>\n",
       "      <td>[[tensor(36.4500), tensor(-0.0006), tensor(13....</td>\n",
       "    </tr>\n",
       "  </tbody>\n",
       "</table>\n",
       "<p>833 rows × 2 columns</p>\n",
       "</div>"
      ],
      "text/plain": [
       "                  id                                        predictions\n",
       "0    [tensor(56064)]  [[tensor(36.4500), tensor(-0.0006), tensor(13....\n",
       "1    [tensor(56095)]  [[tensor(36.4500), tensor(-0.0006), tensor(13....\n",
       "2    [tensor(56134)]  [[tensor(36.4500), tensor(-0.0006), tensor(13....\n",
       "3    [tensor(56146)]  [[tensor(36.4500), tensor(-0.0006), tensor(13....\n",
       "4    [tensor(56152)]  [[tensor(36.4500), tensor(-0.0006), tensor(13....\n",
       "..               ...                                                ...\n",
       "828  [tensor(99740)]  [[tensor(36.4500), tensor(-0.0006), tensor(13....\n",
       "829  [tensor(99745)]  [[tensor(36.4500), tensor(-0.0006), tensor(13....\n",
       "830  [tensor(99763)]  [[tensor(36.4500), tensor(-0.0006), tensor(13....\n",
       "831  [tensor(99873)]  [[tensor(36.4500), tensor(-0.0006), tensor(13....\n",
       "832  [tensor(99946)]  [[tensor(36.4500), tensor(-0.0006), tensor(13....\n",
       "\n",
       "[833 rows x 2 columns]"
      ]
     },
     "execution_count": 309,
     "metadata": {},
     "output_type": "execute_result"
    }
   ],
   "source": [
    "predictions_df = pd.DataFrame(predictions, columns=['id', 'predictions'])\n",
    "predictions_df\n"
   ]
  },
  {
   "cell_type": "code",
   "execution_count": 310,
   "metadata": {
    "id": "pnO4nR7FcXEq",
    "pycharm": {
     "name": "#%%\n"
    }
   },
   "outputs": [
    {
     "data": {
      "text/html": [
       "<div>\n",
       "<style scoped>\n",
       "    .dataframe tbody tr th:only-of-type {\n",
       "        vertical-align: middle;\n",
       "    }\n",
       "\n",
       "    .dataframe tbody tr th {\n",
       "        vertical-align: top;\n",
       "    }\n",
       "\n",
       "    .dataframe thead th {\n",
       "        text-align: right;\n",
       "    }\n",
       "</style>\n",
       "<table border=\"1\" class=\"dataframe\">\n",
       "  <thead>\n",
       "    <tr style=\"text-align: right;\">\n",
       "      <th></th>\n",
       "      <th>id</th>\n",
       "      <th>release_date</th>\n",
       "      <th>popularity</th>\n",
       "      <th>avg_tempo</th>\n",
       "      <th>avg_energy</th>\n",
       "    </tr>\n",
       "  </thead>\n",
       "  <tbody>\n",
       "    <tr>\n",
       "      <th>1610</th>\n",
       "      <td>56064</td>\n",
       "      <td>2021</td>\n",
       "      <td>46</td>\n",
       "      <td>159.959667</td>\n",
       "      <td>0.741333</td>\n",
       "    </tr>\n",
       "  </tbody>\n",
       "</table>\n",
       "</div>"
      ],
      "text/plain": [
       "         id  release_date  popularity   avg_tempo  avg_energy\n",
       "1610  56064          2021          46  159.959667    0.741333"
      ]
     },
     "execution_count": 310,
     "metadata": {},
     "output_type": "execute_result"
    }
   ],
   "source": [
    "#[[id],[release_date, avg_energy, avg_tempo, popularity]]\n",
    "pred_id = predictions[0][0].item()\n",
    "pred_values = predictions[0][1].detach()\n",
    "\n",
    "aux_tabular_df.loc[aux_tabular_df['id'] == pred_id]"
   ]
  },
  {
   "cell_type": "code",
   "execution_count": 311,
   "metadata": {
    "id": "8-iX0rOvcXEq",
    "pycharm": {
     "name": "#%%\n"
    }
   },
   "outputs": [
    {
     "name": "stdout",
     "output_type": "stream",
     "text": [
      "tensor([[ 3.6450e+01, -6.3609e-04,  1.3677e+01,  5.1975e+00]])\n"
     ]
    }
   ],
   "source": [
    "print(pred_values)\n",
    "#print(aux_tabular_df[['release_date','popularity','avg_tempo', 'avg_energy']])"
   ]
  },
  {
   "cell_type": "markdown",
   "metadata": {
    "id": "pXO8fAnw52ef",
    "pycharm": {
     "name": "#%% md\n"
    }
   },
   "source": [
    "**Final thoughts**\n",
    "\n",
    "As we can see above in the different results (out of our four models), the SVR regressor is the best regressor for predicting popularity of the albums based on the features in the tabular album information data. RandomForestRegressor has approximately same result as SVR, but as it predicts mostly between 33.2-33.8, which is roughly the same as popularity mean. One can argue whether or not it is a good model. When we look at the scores, the regressors generally underfit, giving us near identical results for both training and test set score. We can however remove some of the underfitting by increasing the complexity of our data set. For example by switching from a linear to non-linear model or by adding hidden layers to our model. However we tried this, and it comes to a certain point where adding or removing features/outliers will not give us satisfactory results, thus making the model almost useless. We can hypothesize that the problem does not lie within our models, but that the data itself is not complex enough. Maybe the data is too predictable or there are too many features? If the data is not up to par, the machine learning models are only as good as its data.\n",
    "\n",
    "When it comes to the results for the deep neural network, it shows a general satisfying result. As one can see from the batch, it loads at a 100 percent. When it comes to the MSE results, they are generally good. After each epoch, you can see the MSE decreasing which means the computer is doing fewer and fewer mistakes each run-through. Generally MSE will decrease per epoch. RMSE also gives satisfactory results, but sometimes the results may vary because of low data precision. As mentioned earlier, this means our data is getting less and less concentrated. An observation we made when we ran the deep neural network multiple times, was that the results changed in small amounts. However, since the general result stayed the same we did not change our methods."
   ]
  },
  {
   "cell_type": "markdown",
   "metadata": {
    "id": "v5x7FiUcjCKL",
    "pycharm": {
     "name": "#%% md\n"
    }
   },
   "source": [
    "**Sources:** \n",
    "\n",
    "Anurag (2018). *Random Forest Analysis in ML and when to use it*. Found on the internet 05.05.2022: https://www.newgenapps.com/blogs/random-forest-analysis-in-ml-and-when-to-use-it-2/\n",
    "\n",
    "Frost, Jim (2022). *Mean Squared Error*. Found on the internet 12.05.2022: https://statisticsbyjim.com/regression/mean-squared-error-mse/\n",
    "\n",
    "Glen, Stephanie (2015). *Lasso regression*. Found on the internet 05.05.2022: https://www.statisticshowto.com/lasso-regression/\n",
    "\n",
    "Glen, Stephanie (2022). *Mean Square Error Definition*. Found on the internet 05.05.2022: https://www.statisticshowto.com/probability-and-statistics/statistics-definitions/mean-squared-error/\n",
    "\n",
    "Glen, Stephanie (2022). *Root Mean Square Error*. Found on the internet 12.05.2022: https://www.statisticshowto.com/probability-and-statistics/regression-analysis/rmse-root-mean-square-error/\n",
    "\n",
    "Hamada, Bilal (2021). *K-Nearest Neighbors Algorithm in Python and SciKit-Learn*. Found on the internet 11.05.2022: https://stackabuse.com/k-nearest-neighbors-algorithm-in-python-and-scikit-learn/\n",
    "\n",
    "javatpoint. 2022. Logistic Regression in Machine Learning - Javatpoint. Found on the internet 05.05.2022. Available at: <https://www.javatpoint.com/logistic-regression-in-machine-learning> \n",
    "\n",
    "Pydata (2022) *pandas.io.formats.style.Styler.background_gradient*. Found on the internet 05.05.2022: https://pandas.pydata.org/docs/reference/api/pandas.io.formats.style.Styler.background_gradient.html\n",
    "\n",
    "pypi(2022).*torch 1.11.0*. Found on the internet 12.05.2022: https://pypi.org/project/torch/\n",
    "\n",
    "Python (2022) *Warning control*. Found on the internet 05.05.2022: https://docs.python.org/3/library/warnings.html\n",
    "\n",
    "Raj, Ashwin(2020). *Unlocking the true power of Support Vector Regression*. Found on the internet 11.05.2022: https://towardsdatascience.com/unlocking-the-true-power-of-support-vector-regression-847fd123a4a0\n",
    "\n",
    "SciKit (2022) *sklearn.ensemble.RandomForestRegressor*. Found on the internet 05.05.2022: https://scikit-learn.org/stable/modules/generated/sklearn.ensemble.RandomForestRegressor.html\n",
    "\n",
    "Statistics Canada (2021). *Data Exploration*. Found on the internet 11.05.2022: https://www150.statcan.gc.ca/n1/edu/power-pouvoir/ch8/5214817-eng.htm\n",
    "\n",
    "Tessem, Bjørnar (2022). *Machine Learning - Linear Regression*. Found as Powerpoint: https://mitt.uib.no/courses/33150/files/folder/Lectures?preview=3999650\n",
    "\n",
    "CHen, B., 2020. Towardsdatascience.com.\n",
    "Available at: https://towardsdatascience.com/what-is-one-hot-encoding-and-how-to-use-pandas-get-dummies-function-922eb9bd4970.\n",
    "\n",
    "Agrawal, S., 2021. Towardsdatasience.com. \n",
    "Available at: https://towardsdatascience.com/how-to-split-data-into-three-sets-train-validation-and-test-and-why-e50d22d3e54c.\n",
    "\n",
    "Rovnik, W., 2019. Webdatarocks.com. Available at:\n",
    "https://www.webdatarocks.com/blog/best-charts-for-data-distribution/"
   ]
  }
 ],
 "metadata": {
  "colab": {
   "collapsed_sections": [],
   "name": "GO_HDELUX (1) oppdatert.ipynb",
   "provenance": []
  },
  "interpreter": {
   "hash": "fb833273add3e7c60eb33c0608260b79a61e072ade6f02cc8d07b0a26eef8ab8"
  },
  "kernelspec": {
   "display_name": "Python 3.9.7 ('base')",
   "language": "python",
   "name": "python3"
  },
  "language_info": {
   "codemirror_mode": {
    "name": "ipython",
    "version": 3
   },
   "file_extension": ".py",
   "mimetype": "text/x-python",
   "name": "python",
   "nbconvert_exporter": "python",
   "pygments_lexer": "ipython3",
   "version": "3.9.7"
  }
 },
 "nbformat": 4,
 "nbformat_minor": 0
}
