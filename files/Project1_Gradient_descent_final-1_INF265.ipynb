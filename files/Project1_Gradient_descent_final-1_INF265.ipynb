{
 "cells": [
  {
   "cell_type": "markdown",
   "metadata": {},
   "source": [
    "# Task 3, project 1\n",
    "\n",
    "## Contents\n",
    "\n",
    "1. Loading data  \n",
    "    1. Normalizing dataset and loading CIFAR-10  \n",
    "    2. From CIFAR-10 to CIFAR-2  \n",
    "2. MLP Architecture and data inspection\n",
    "    1. MLP\n",
    "    2. Data inspection\n",
    "3. Train() and train_manual()\n",
    "    1. Train() with learning rate\n",
    "    2. train_manual() with learning rate\n",
    "    3. Train() with learning rate and weight decay\n",
    "    4. train_manual() with learning rate and weight decay\n",
    "    5. Train() with learning rate, weight decay and momentum\n",
    "    6. train_manual() with learning rate, weight decay and momentum\n",
    "4. Several models and model selection"
   ]
  },
  {
   "cell_type": "code",
   "execution_count": 20,
   "metadata": {},
   "outputs": [],
   "source": [
    "import torch\n",
    "import torch.nn as nn\n",
    "import torch.optim as optim\n",
    "from torchvision import datasets, transforms\n",
    "from datetime import datetime\n",
    "from torch.utils.data import random_split\n",
    "import numpy as np\n",
    "import plotly.express as px\n",
    "import pandas as pd\n",
    "\n",
    "torch.manual_seed(123)\n",
    "torch.set_default_dtype(torch.double)"
   ]
  },
  {
   "cell_type": "markdown",
   "metadata": {},
   "source": [
    "## 1. Loading data\n",
    "\n",
    "### 1.1 Normalizing dataset and loading CIFAR-10"
   ]
  },
  {
   "cell_type": "code",
   "execution_count": 21,
   "metadata": {},
   "outputs": [],
   "source": [
    "def mean_std():\n",
    "    cifar_trainset = datasets.CIFAR10(root='./data', train=True, download=True, transform=transforms.ToTensor())\n",
    "\n",
    "    imgs = [item[0] for item in cifar_trainset] # item[0] and item[1] are image and its label\n",
    "    imgs = torch.stack(imgs, dim=0).numpy()\n",
    "    mean = []\n",
    "    std = []\n",
    "    # calculate mean over each channel (r,g,b)\n",
    "\n",
    "    for i in range (3):\n",
    "        mean.append(imgs[:,i,:,:].mean())\n",
    "        std.append(imgs[:,i,:,:].std())\n",
    "\n",
    "    prepross = transforms.Compose([\n",
    "            transforms.ToTensor(),\n",
    "            transforms.Normalize((mean[0],mean[1],mean[2]),(std[0],std[1],std[2]))\n",
    "    ])\n",
    "    \n",
    "    return (prepross)"
   ]
  },
  {
   "cell_type": "code",
   "execution_count": 22,
   "metadata": {},
   "outputs": [
    {
     "name": "stdout",
     "output_type": "stream",
     "text": [
      "Files already downloaded and verified\n",
      "Files already downloaded and verified\n",
      "Files already downloaded and verified\n",
      "Size of the train dataset:         45000\n",
      "Size of the validation dataset:    5000\n",
      "Size of the test dataset:          10000\n"
     ]
    }
   ],
   "source": [
    "def load_cifar(train_val_split=0.9, data_path='../data/', preprocessor=None):\n",
    "    \n",
    "    # Define preprocessor\n",
    "    if preprocessor is None:\n",
    "        preprocessor = mean_std()\n",
    "\n",
    "    \n",
    "    # load datasets\n",
    "    data_train_val = datasets.CIFAR10(\n",
    "        data_path,       \n",
    "        train=True,      \n",
    "        download=True,  \n",
    "        transform=preprocessor)\n",
    "\n",
    "    data_test = datasets.CIFAR10(\n",
    "        data_path, \n",
    "        train=False,\n",
    "        download=True,\n",
    "        transform=preprocessor)\n",
    "\n",
    "    # train/validation split\n",
    "    n_train = int(len(data_train_val)*train_val_split)\n",
    "    n_val =  len(data_train_val) - n_train\n",
    "\n",
    "    data_train, data_val = random_split(\n",
    "        data_train_val, \n",
    "        [n_train, n_val],\n",
    "        generator=torch.Generator().manual_seed(123)\n",
    "    )\n",
    "\n",
    "    print(\"Size of the train dataset:        \", len(data_train))\n",
    "    print(\"Size of the validation dataset:   \", len(data_val))\n",
    "    print(\"Size of the test dataset:         \", len(data_test))\n",
    "    \n",
    "    return (data_train, data_val, data_test)\n",
    "\n",
    "cifar10_train, cifar10_val, cifar10_test = load_cifar()"
   ]
  },
  {
   "cell_type": "markdown",
   "metadata": {},
   "source": [
    "### 1.2 From CIFAR-10 to CIFAR-2\n",
    "\n",
    "We define a lighter version of CIFAR-10, which is now CIFAR-2, containing only the planes and birds"
   ]
  },
  {
   "cell_type": "code",
   "execution_count": 23,
   "metadata": {},
   "outputs": [
    {
     "name": "stdout",
     "output_type": "stream",
     "text": [
      "Size of the training dataset:  9017\n",
      "Size of the validation dataset:  983\n",
      "Size of the test dataset:  2000\n"
     ]
    }
   ],
   "source": [
    "label_map = {0: 0, 2: 1}\n",
    "class_names = ['airplane', 'bird']\n",
    "\n",
    "# For each dataset, keep only airplanes and birds\n",
    "cifar2_train = [(img, label_map[label]) for img, label in cifar10_train if label in [0, 2]]\n",
    "cifar2_val = [(img, label_map[label]) for img, label in cifar10_val if label in [0, 2]]\n",
    "cifar2_test = [(img, label_map[label]) for img, label in cifar10_test if label in [0, 2]]\n",
    "\n",
    "print('Size of the training dataset: ', len(cifar2_train))\n",
    "print('Size of the validation dataset: ', len(cifar2_val))\n",
    "print('Size of the test dataset: ', len(cifar2_test))"
   ]
  },
  {
   "cell_type": "markdown",
   "metadata": {},
   "source": [
    "# 2. MLP Architecture and data inspection\n",
    "\n",
    "### 2.1 MLP"
   ]
  },
  {
   "cell_type": "code",
   "execution_count": 24,
   "metadata": {},
   "outputs": [],
   "source": [
    "class MyMLP(nn.Module):\n",
    "    def __init__(self, n_in, n_hidden1, n_hidden2, n_hidden3, n_out):\n",
    "        torch.manual_seed(123)\n",
    "        super(MyMLP, self).__init__()\n",
    "        self.flatten = nn.Flatten()\n",
    "        self.fc1 = nn.Linear(n_in, n_hidden1)\n",
    "        self.relu1 = nn.ReLU()\n",
    "        self.fc2 = nn.Linear(n_hidden1, n_hidden2)\n",
    "        self.relu2 = nn.ReLU()\n",
    "        self.fc3 = nn.Linear(n_hidden2, n_hidden3)\n",
    "        self.relu3 = nn.ReLU()\n",
    "        self.fc4 = nn.Linear(n_hidden3, n_out)\n",
    "\n",
    "    def forward(self, x):\n",
    "        x = self.flatten(x)\n",
    "        x = self.fc1(x)\n",
    "        x = self.relu1(x)\n",
    "        x = self.fc2(x)\n",
    "        x = self.relu2(x)\n",
    "        x = self.fc3(x)\n",
    "        x = self.relu3(x)\n",
    "        x = self.fc4(x)\n",
    "        return x\n",
    "\n",
    "# Setting up the model with the specified dimensions\n",
    "n_in = 32*32*3   # Determined by our dataset: 32x32 RGB images\n",
    "n_hidden1 = 512  \n",
    "n_hidden2 = 128\n",
    "n_hidden3 = 32\n",
    "n_out = 2        # Determined by our number of classes, so 2: birds and planes\n",
    "\n",
    "model_seq = MyMLP(n_in, n_hidden1, n_hidden2, n_hidden3, n_out)\n"
   ]
  },
  {
   "cell_type": "markdown",
   "metadata": {},
   "source": [
    "### 2.2 Data inspection"
   ]
  },
  {
   "cell_type": "code",
   "execution_count": 25,
   "metadata": {},
   "outputs": [
    {
     "name": "stdout",
     "output_type": "stream",
     "text": [
      "Shape of an image:                        torch.Size([3, 32, 32])\n",
      "Shape of our input batch of one image:    torch.Size([1, 3, 32, 32])\n",
      "Shape of our output batch of one image:   torch.Size([1, 2])\n",
      "Output tensor (values are just rubbish because the nn is not trained yet!):\n",
      " Ouput:  tensor([[ 0.1908, -0.0874]], grad_fn=<AddmmBackward0>)\n"
     ]
    }
   ],
   "source": [
    "# Shape of an image\n",
    "print(\"Shape of an image:                       \", cifar2_train[0][0].shape)\n",
    "# Add a extra dimension for the batch dimension\n",
    "batch_t = torch.unsqueeze(cifar2_train[0][0], 0)\n",
    "print(\"Shape of our input batch of one image:   \", batch_t.shape)\n",
    "# Feed our batch into our network and get the output\n",
    "out = model_seq(batch_t)\n",
    "print(\"Shape of our output batch of one image:  \", out.shape)   \n",
    "print(\"Output tensor (values are just rubbish because the nn is not trained yet!):\\n Ouput: \", out)"
   ]
  },
  {
   "cell_type": "code",
   "execution_count": 26,
   "metadata": {},
   "outputs": [
    {
     "name": "stdout",
     "output_type": "stream",
     "text": [
      "Inspecting parameters\n",
      "name:  fc1.weight    length:  1572864\n",
      "name:  fc1.bias    length:  512\n",
      "name:  fc2.weight    length:  65536\n",
      "name:  fc2.bias    length:  128\n",
      "name:  fc3.weight    length:  4096\n",
      "name:  fc3.bias    length:  32\n",
      "name:  fc4.weight    length:  64\n",
      "name:  fc4.bias    length:  2\n",
      "\n",
      "Total number of trainable parameters:  1643234\n",
      "\n",
      "Inspecting modules\n",
      "('', MyMLP(\n",
      "  (flatten): Flatten(start_dim=1, end_dim=-1)\n",
      "  (fc1): Linear(in_features=3072, out_features=512, bias=True)\n",
      "  (relu1): ReLU()\n",
      "  (fc2): Linear(in_features=512, out_features=128, bias=True)\n",
      "  (relu2): ReLU()\n",
      "  (fc3): Linear(in_features=128, out_features=32, bias=True)\n",
      "  (relu3): ReLU()\n",
      "  (fc4): Linear(in_features=32, out_features=2, bias=True)\n",
      "))\n",
      "('flatten', Flatten(start_dim=1, end_dim=-1))\n",
      "('fc1', Linear(in_features=3072, out_features=512, bias=True))\n",
      "('relu1', ReLU())\n",
      "('fc2', Linear(in_features=512, out_features=128, bias=True))\n",
      "('relu2', ReLU())\n",
      "('fc3', Linear(in_features=128, out_features=32, bias=True))\n",
      "('relu3', ReLU())\n",
      "('fc4', Linear(in_features=32, out_features=2, bias=True))\n"
     ]
    }
   ],
   "source": [
    "print(\"Inspecting parameters\")\n",
    "# Iterate over all the named parameters of our network\n",
    "for p in model_seq.named_parameters():\n",
    "    # p is a tuple: \n",
    "    # - p[0] is the name of parameter\n",
    "    # - p[1] is a tensor containing the current parameter values\n",
    "    print(\"name: \", p[0], \"   length: \", p[1].numel())\n",
    "    \n",
    "\n",
    "print(\"\\nTotal number of trainable parameters: \", sum([p.numel() for p in model_seq.parameters() if p.requires_grad == True]))\n",
    "\n",
    "print(\"\\nInspecting modules\")\n",
    "# Iterate over all the named modules of our network\n",
    "for m in model_seq.named_modules():\n",
    "    print(m)"
   ]
  },
  {
   "cell_type": "markdown",
   "metadata": {},
   "source": [
    "# 3. Train() and Train_manual()\n",
    "\n",
    "## 3.1 Train() with learning rate"
   ]
  },
  {
   "cell_type": "code",
   "execution_count": 27,
   "metadata": {},
   "outputs": [],
   "source": [
    "def train(n_epochs, optimizer, model, loss_fn, train_loader):\n",
    "    \n",
    "    n_batch = len(train_loader)\n",
    "    \n",
    "    # We'll store the training loss for each epoch\n",
    "    losses_train = []\n",
    "    \n",
    "    # Set the network in training mode\n",
    "    model.train()\n",
    "    \n",
    "    # Re-initialize gradients, just in case the model has been inappropriately \n",
    "    # manipulated before the training\n",
    "    optimizer.zero_grad(set_to_none=True)\n",
    "    \n",
    "    for epoch in range(1, n_epochs + 1): \n",
    "        \n",
    "        # Training loss for the current epoch\n",
    "        loss_train = 0\n",
    "\n",
    "        # Loop over our dataset (in batches the data loader creates for us)\n",
    "        for imgs, labels in train_loader:\n",
    "            \n",
    "            \n",
    "            imgs.to(device=device, dtype=torch.double)\n",
    "            labels.to(device=device, dtype=torch.double)\n",
    "            \n",
    "            # Feed a batch into our model\n",
    "            outputs = model(imgs)\n",
    "            \n",
    "            # Compute the loss we wish to minimize \n",
    "            # Note that by default, it is the mean loss that is computed\n",
    "            # (so entire_batch_loss / batch_size)\n",
    "            loss = loss_fn(outputs, labels) \n",
    "            \n",
    "            \n",
    "            # Perform the backward step. That is, compute the gradients of all parameters we want the network to learn\n",
    "            loss.backward()\n",
    "            \n",
    "            # Update the model\n",
    "            optimizer.step() \n",
    "            \n",
    "            # Zero out gradients before the next round (or the end of training)\n",
    "            optimizer.zero_grad() \n",
    "\n",
    "            # Update loss for this epoch\n",
    "            # It is important to transform the loss to a number with .item()\n",
    "            loss_train += loss.item()\n",
    "            \n",
    "        # Store current epoch loss. \n",
    "        losses_train.append(loss_train / n_batch)\n",
    "\n",
    "        if epoch == 1 or epoch % 10 == 0:\n",
    "            print('{}  |  Epoch {}  |  Training loss {:.3f}'.format(\n",
    "                datetime.now().time(), epoch, loss_train / n_batch))\n",
    "            \n",
    "    fig = px.line(y=losses_train) \n",
    "    fig.show()      \n",
    "    return losses_train"
   ]
  },
  {
   "cell_type": "code",
   "execution_count": 28,
   "metadata": {},
   "outputs": [
    {
     "name": "stdout",
     "output_type": "stream",
     "text": [
      "Training on device cpu.\n"
     ]
    },
    {
     "name": "stdout",
     "output_type": "stream",
     "text": [
      "14:20:48.623912  |  Epoch 1  |  Training loss 0.645\n",
      "14:21:03.223303  |  Epoch 10  |  Training loss 0.326\n",
      "14:21:19.593329  |  Epoch 20  |  Training loss 0.193\n"
     ]
    },
    {
     "data": {
      "application/vnd.plotly.v1+json": {
       "config": {
        "plotlyServerURL": "https://plot.ly"
       },
       "data": [
        {
         "hovertemplate": "x=%{x}<br>y=%{y}<extra></extra>",
         "legendgroup": "",
         "line": {
          "color": "#636efa",
          "dash": "solid"
         },
         "marker": {
          "symbol": "circle"
         },
         "mode": "lines",
         "name": "",
         "orientation": "v",
         "showlegend": false,
         "type": "scatter",
         "x": [
          0,
          1,
          2,
          3,
          4,
          5,
          6,
          7,
          8,
          9,
          10,
          11,
          12,
          13,
          14,
          15,
          16,
          17,
          18,
          19,
          20
         ],
         "xaxis": "x",
         "y": [
          0.6451409337713092,
          0.5330214988716704,
          0.4778114872587618,
          0.4467950260181383,
          0.41975051514770373,
          0.39665607299003786,
          0.377205001348311,
          0.3594806784696625,
          0.34218265624083744,
          0.3259121634333262,
          0.3095135061656864,
          0.2941828004187012,
          0.2794635535450371,
          0.26470840575093957,
          0.2508130809636899,
          0.23903974764243696,
          0.22305760265291155,
          0.21590890375892896,
          0.20536177543051357,
          0.19266571694948245,
          0.18860362983203377
         ],
         "yaxis": "y"
        }
       ],
       "layout": {
        "legend": {
         "tracegroupgap": 0
        },
        "margin": {
         "t": 60
        },
        "template": {
         "data": {
          "bar": [
           {
            "error_x": {
             "color": "#2a3f5f"
            },
            "error_y": {
             "color": "#2a3f5f"
            },
            "marker": {
             "line": {
              "color": "#E5ECF6",
              "width": 0.5
             },
             "pattern": {
              "fillmode": "overlay",
              "size": 10,
              "solidity": 0.2
             }
            },
            "type": "bar"
           }
          ],
          "barpolar": [
           {
            "marker": {
             "line": {
              "color": "#E5ECF6",
              "width": 0.5
             },
             "pattern": {
              "fillmode": "overlay",
              "size": 10,
              "solidity": 0.2
             }
            },
            "type": "barpolar"
           }
          ],
          "carpet": [
           {
            "aaxis": {
             "endlinecolor": "#2a3f5f",
             "gridcolor": "white",
             "linecolor": "white",
             "minorgridcolor": "white",
             "startlinecolor": "#2a3f5f"
            },
            "baxis": {
             "endlinecolor": "#2a3f5f",
             "gridcolor": "white",
             "linecolor": "white",
             "minorgridcolor": "white",
             "startlinecolor": "#2a3f5f"
            },
            "type": "carpet"
           }
          ],
          "choropleth": [
           {
            "colorbar": {
             "outlinewidth": 0,
             "ticks": ""
            },
            "type": "choropleth"
           }
          ],
          "contour": [
           {
            "colorbar": {
             "outlinewidth": 0,
             "ticks": ""
            },
            "colorscale": [
             [
              0,
              "#0d0887"
             ],
             [
              0.1111111111111111,
              "#46039f"
             ],
             [
              0.2222222222222222,
              "#7201a8"
             ],
             [
              0.3333333333333333,
              "#9c179e"
             ],
             [
              0.4444444444444444,
              "#bd3786"
             ],
             [
              0.5555555555555556,
              "#d8576b"
             ],
             [
              0.6666666666666666,
              "#ed7953"
             ],
             [
              0.7777777777777778,
              "#fb9f3a"
             ],
             [
              0.8888888888888888,
              "#fdca26"
             ],
             [
              1,
              "#f0f921"
             ]
            ],
            "type": "contour"
           }
          ],
          "contourcarpet": [
           {
            "colorbar": {
             "outlinewidth": 0,
             "ticks": ""
            },
            "type": "contourcarpet"
           }
          ],
          "heatmap": [
           {
            "colorbar": {
             "outlinewidth": 0,
             "ticks": ""
            },
            "colorscale": [
             [
              0,
              "#0d0887"
             ],
             [
              0.1111111111111111,
              "#46039f"
             ],
             [
              0.2222222222222222,
              "#7201a8"
             ],
             [
              0.3333333333333333,
              "#9c179e"
             ],
             [
              0.4444444444444444,
              "#bd3786"
             ],
             [
              0.5555555555555556,
              "#d8576b"
             ],
             [
              0.6666666666666666,
              "#ed7953"
             ],
             [
              0.7777777777777778,
              "#fb9f3a"
             ],
             [
              0.8888888888888888,
              "#fdca26"
             ],
             [
              1,
              "#f0f921"
             ]
            ],
            "type": "heatmap"
           }
          ],
          "heatmapgl": [
           {
            "colorbar": {
             "outlinewidth": 0,
             "ticks": ""
            },
            "colorscale": [
             [
              0,
              "#0d0887"
             ],
             [
              0.1111111111111111,
              "#46039f"
             ],
             [
              0.2222222222222222,
              "#7201a8"
             ],
             [
              0.3333333333333333,
              "#9c179e"
             ],
             [
              0.4444444444444444,
              "#bd3786"
             ],
             [
              0.5555555555555556,
              "#d8576b"
             ],
             [
              0.6666666666666666,
              "#ed7953"
             ],
             [
              0.7777777777777778,
              "#fb9f3a"
             ],
             [
              0.8888888888888888,
              "#fdca26"
             ],
             [
              1,
              "#f0f921"
             ]
            ],
            "type": "heatmapgl"
           }
          ],
          "histogram": [
           {
            "marker": {
             "pattern": {
              "fillmode": "overlay",
              "size": 10,
              "solidity": 0.2
             }
            },
            "type": "histogram"
           }
          ],
          "histogram2d": [
           {
            "colorbar": {
             "outlinewidth": 0,
             "ticks": ""
            },
            "colorscale": [
             [
              0,
              "#0d0887"
             ],
             [
              0.1111111111111111,
              "#46039f"
             ],
             [
              0.2222222222222222,
              "#7201a8"
             ],
             [
              0.3333333333333333,
              "#9c179e"
             ],
             [
              0.4444444444444444,
              "#bd3786"
             ],
             [
              0.5555555555555556,
              "#d8576b"
             ],
             [
              0.6666666666666666,
              "#ed7953"
             ],
             [
              0.7777777777777778,
              "#fb9f3a"
             ],
             [
              0.8888888888888888,
              "#fdca26"
             ],
             [
              1,
              "#f0f921"
             ]
            ],
            "type": "histogram2d"
           }
          ],
          "histogram2dcontour": [
           {
            "colorbar": {
             "outlinewidth": 0,
             "ticks": ""
            },
            "colorscale": [
             [
              0,
              "#0d0887"
             ],
             [
              0.1111111111111111,
              "#46039f"
             ],
             [
              0.2222222222222222,
              "#7201a8"
             ],
             [
              0.3333333333333333,
              "#9c179e"
             ],
             [
              0.4444444444444444,
              "#bd3786"
             ],
             [
              0.5555555555555556,
              "#d8576b"
             ],
             [
              0.6666666666666666,
              "#ed7953"
             ],
             [
              0.7777777777777778,
              "#fb9f3a"
             ],
             [
              0.8888888888888888,
              "#fdca26"
             ],
             [
              1,
              "#f0f921"
             ]
            ],
            "type": "histogram2dcontour"
           }
          ],
          "mesh3d": [
           {
            "colorbar": {
             "outlinewidth": 0,
             "ticks": ""
            },
            "type": "mesh3d"
           }
          ],
          "parcoords": [
           {
            "line": {
             "colorbar": {
              "outlinewidth": 0,
              "ticks": ""
             }
            },
            "type": "parcoords"
           }
          ],
          "pie": [
           {
            "automargin": true,
            "type": "pie"
           }
          ],
          "scatter": [
           {
            "fillpattern": {
             "fillmode": "overlay",
             "size": 10,
             "solidity": 0.2
            },
            "type": "scatter"
           }
          ],
          "scatter3d": [
           {
            "line": {
             "colorbar": {
              "outlinewidth": 0,
              "ticks": ""
             }
            },
            "marker": {
             "colorbar": {
              "outlinewidth": 0,
              "ticks": ""
             }
            },
            "type": "scatter3d"
           }
          ],
          "scattercarpet": [
           {
            "marker": {
             "colorbar": {
              "outlinewidth": 0,
              "ticks": ""
             }
            },
            "type": "scattercarpet"
           }
          ],
          "scattergeo": [
           {
            "marker": {
             "colorbar": {
              "outlinewidth": 0,
              "ticks": ""
             }
            },
            "type": "scattergeo"
           }
          ],
          "scattergl": [
           {
            "marker": {
             "colorbar": {
              "outlinewidth": 0,
              "ticks": ""
             }
            },
            "type": "scattergl"
           }
          ],
          "scattermapbox": [
           {
            "marker": {
             "colorbar": {
              "outlinewidth": 0,
              "ticks": ""
             }
            },
            "type": "scattermapbox"
           }
          ],
          "scatterpolar": [
           {
            "marker": {
             "colorbar": {
              "outlinewidth": 0,
              "ticks": ""
             }
            },
            "type": "scatterpolar"
           }
          ],
          "scatterpolargl": [
           {
            "marker": {
             "colorbar": {
              "outlinewidth": 0,
              "ticks": ""
             }
            },
            "type": "scatterpolargl"
           }
          ],
          "scatterternary": [
           {
            "marker": {
             "colorbar": {
              "outlinewidth": 0,
              "ticks": ""
             }
            },
            "type": "scatterternary"
           }
          ],
          "surface": [
           {
            "colorbar": {
             "outlinewidth": 0,
             "ticks": ""
            },
            "colorscale": [
             [
              0,
              "#0d0887"
             ],
             [
              0.1111111111111111,
              "#46039f"
             ],
             [
              0.2222222222222222,
              "#7201a8"
             ],
             [
              0.3333333333333333,
              "#9c179e"
             ],
             [
              0.4444444444444444,
              "#bd3786"
             ],
             [
              0.5555555555555556,
              "#d8576b"
             ],
             [
              0.6666666666666666,
              "#ed7953"
             ],
             [
              0.7777777777777778,
              "#fb9f3a"
             ],
             [
              0.8888888888888888,
              "#fdca26"
             ],
             [
              1,
              "#f0f921"
             ]
            ],
            "type": "surface"
           }
          ],
          "table": [
           {
            "cells": {
             "fill": {
              "color": "#EBF0F8"
             },
             "line": {
              "color": "white"
             }
            },
            "header": {
             "fill": {
              "color": "#C8D4E3"
             },
             "line": {
              "color": "white"
             }
            },
            "type": "table"
           }
          ]
         },
         "layout": {
          "annotationdefaults": {
           "arrowcolor": "#2a3f5f",
           "arrowhead": 0,
           "arrowwidth": 1
          },
          "autotypenumbers": "strict",
          "coloraxis": {
           "colorbar": {
            "outlinewidth": 0,
            "ticks": ""
           }
          },
          "colorscale": {
           "diverging": [
            [
             0,
             "#8e0152"
            ],
            [
             0.1,
             "#c51b7d"
            ],
            [
             0.2,
             "#de77ae"
            ],
            [
             0.3,
             "#f1b6da"
            ],
            [
             0.4,
             "#fde0ef"
            ],
            [
             0.5,
             "#f7f7f7"
            ],
            [
             0.6,
             "#e6f5d0"
            ],
            [
             0.7,
             "#b8e186"
            ],
            [
             0.8,
             "#7fbc41"
            ],
            [
             0.9,
             "#4d9221"
            ],
            [
             1,
             "#276419"
            ]
           ],
           "sequential": [
            [
             0,
             "#0d0887"
            ],
            [
             0.1111111111111111,
             "#46039f"
            ],
            [
             0.2222222222222222,
             "#7201a8"
            ],
            [
             0.3333333333333333,
             "#9c179e"
            ],
            [
             0.4444444444444444,
             "#bd3786"
            ],
            [
             0.5555555555555556,
             "#d8576b"
            ],
            [
             0.6666666666666666,
             "#ed7953"
            ],
            [
             0.7777777777777778,
             "#fb9f3a"
            ],
            [
             0.8888888888888888,
             "#fdca26"
            ],
            [
             1,
             "#f0f921"
            ]
           ],
           "sequentialminus": [
            [
             0,
             "#0d0887"
            ],
            [
             0.1111111111111111,
             "#46039f"
            ],
            [
             0.2222222222222222,
             "#7201a8"
            ],
            [
             0.3333333333333333,
             "#9c179e"
            ],
            [
             0.4444444444444444,
             "#bd3786"
            ],
            [
             0.5555555555555556,
             "#d8576b"
            ],
            [
             0.6666666666666666,
             "#ed7953"
            ],
            [
             0.7777777777777778,
             "#fb9f3a"
            ],
            [
             0.8888888888888888,
             "#fdca26"
            ],
            [
             1,
             "#f0f921"
            ]
           ]
          },
          "colorway": [
           "#636efa",
           "#EF553B",
           "#00cc96",
           "#ab63fa",
           "#FFA15A",
           "#19d3f3",
           "#FF6692",
           "#B6E880",
           "#FF97FF",
           "#FECB52"
          ],
          "font": {
           "color": "#2a3f5f"
          },
          "geo": {
           "bgcolor": "white",
           "lakecolor": "white",
           "landcolor": "#E5ECF6",
           "showlakes": true,
           "showland": true,
           "subunitcolor": "white"
          },
          "hoverlabel": {
           "align": "left"
          },
          "hovermode": "closest",
          "mapbox": {
           "style": "light"
          },
          "paper_bgcolor": "white",
          "plot_bgcolor": "#E5ECF6",
          "polar": {
           "angularaxis": {
            "gridcolor": "white",
            "linecolor": "white",
            "ticks": ""
           },
           "bgcolor": "#E5ECF6",
           "radialaxis": {
            "gridcolor": "white",
            "linecolor": "white",
            "ticks": ""
           }
          },
          "scene": {
           "xaxis": {
            "backgroundcolor": "#E5ECF6",
            "gridcolor": "white",
            "gridwidth": 2,
            "linecolor": "white",
            "showbackground": true,
            "ticks": "",
            "zerolinecolor": "white"
           },
           "yaxis": {
            "backgroundcolor": "#E5ECF6",
            "gridcolor": "white",
            "gridwidth": 2,
            "linecolor": "white",
            "showbackground": true,
            "ticks": "",
            "zerolinecolor": "white"
           },
           "zaxis": {
            "backgroundcolor": "#E5ECF6",
            "gridcolor": "white",
            "gridwidth": 2,
            "linecolor": "white",
            "showbackground": true,
            "ticks": "",
            "zerolinecolor": "white"
           }
          },
          "shapedefaults": {
           "line": {
            "color": "#2a3f5f"
           }
          },
          "ternary": {
           "aaxis": {
            "gridcolor": "white",
            "linecolor": "white",
            "ticks": ""
           },
           "baxis": {
            "gridcolor": "white",
            "linecolor": "white",
            "ticks": ""
           },
           "bgcolor": "#E5ECF6",
           "caxis": {
            "gridcolor": "white",
            "linecolor": "white",
            "ticks": ""
           }
          },
          "title": {
           "x": 0.05
          },
          "xaxis": {
           "automargin": true,
           "gridcolor": "white",
           "linecolor": "white",
           "ticks": "",
           "title": {
            "standoff": 15
           },
           "zerolinecolor": "white",
           "zerolinewidth": 2
          },
          "yaxis": {
           "automargin": true,
           "gridcolor": "white",
           "linecolor": "white",
           "ticks": "",
           "title": {
            "standoff": 15
           },
           "zerolinecolor": "white",
           "zerolinewidth": 2
          }
         }
        },
        "xaxis": {
         "anchor": "y",
         "domain": [
          0,
          1
         ],
         "title": {
          "text": "x"
         }
        },
        "yaxis": {
         "anchor": "x",
         "domain": [
          0,
          1
         ],
         "title": {
          "text": "y"
         }
        }
       }
      }
     },
     "metadata": {},
     "output_type": "display_data"
    },
    {
     "name": "stdout",
     "output_type": "stream",
     "text": [
      "\n"
     ]
    }
   ],
   "source": [
    "device = (torch.device('cuda') if torch.cuda.is_available()\n",
    "          else torch.device('cpu'))\n",
    "print(f\"Training on device {device}.\")\n",
    "\n",
    "# The DataLoader batches up the examples of our cifar dataset\n",
    "train_loader = torch.utils.data.DataLoader(cifar2_train, batch_size=64, shuffle=False) \n",
    "\n",
    "# Instantiate the optimizer, here:\n",
    "# 1. Stochastic Gradient Descent optimizer, \n",
    "# 2. that has to be applied to our parameters (model.parameters())\n",
    "# 3. With a learning rate of 1e-2\n",
    "optimizer = optim.SGD(model_seq.parameters(), lr=1e-2)\n",
    "\n",
    "# Instantiate the loss function (here we use cross entropy)\n",
    "loss_fn = nn.CrossEntropyLoss()\n",
    "\n",
    "# Now all we have to do is calling the training loop\n",
    "train(\n",
    "    n_epochs = 21,\n",
    "    optimizer = optimizer,\n",
    "    model = model_seq,\n",
    "    loss_fn = loss_fn,\n",
    "    train_loader = train_loader,\n",
    ")\n",
    "print('')"
   ]
  },
  {
   "cell_type": "code",
   "execution_count": 30,
   "metadata": {},
   "outputs": [
    {
     "name": "stdout",
     "output_type": "stream",
     "text": [
      "Training accuracy:\n",
      "Accuracy: 0.93\n",
      "Validation accuracy:\n",
      "Accuracy: 0.84\n",
      "Test accuracy:\n",
      "Accuracy: 0.85\n"
     ]
    },
    {
     "data": {
      "text/plain": [
       "0.8475"
      ]
     },
     "execution_count": 30,
     "metadata": {},
     "output_type": "execute_result"
    }
   ],
   "source": [
    "# Here we use shuffle = False\n",
    "# Because it is easier to check the predictions made.\n",
    "train_loader = torch.utils.data.DataLoader(cifar2_train, batch_size=64, shuffle=False)\n",
    "val_loader = torch.utils.data.DataLoader(cifar2_val, batch_size=64, shuffle=False)\n",
    "test_loader = torch.utils.data.DataLoader(cifar2_test, batch_size=64, shuffle=False)\n",
    "\n",
    "\n",
    "def compute_accuracy(model, loader):\n",
    "    model.eval()\n",
    "    correct = 0\n",
    "    total = 0\n",
    "\n",
    "    # We do not want gradients here, as we will not want to update the parameters.\n",
    "    with torch.no_grad():\n",
    "        for imgs, labels in loader:\n",
    "\n",
    "            outputs = model(imgs)\n",
    "            _, predicted = torch.max(outputs, dim=1)\n",
    "            total += labels.shape[0]\n",
    "            correct += int((predicted == labels).sum())\n",
    "\n",
    "    acc =  correct / total\n",
    "    print(\"Accuracy: {:.2f}\".format(acc))\n",
    "    return acc\n",
    "\n",
    "print(\"Training accuracy:\")\n",
    "compute_accuracy(model_seq, train_loader)\n",
    "print(\"Validation accuracy:\")\n",
    "compute_accuracy(model_seq, val_loader)\n",
    "print(\"Test accuracy:\")\n",
    "compute_accuracy(model_seq, test_loader)"
   ]
  },
  {
   "cell_type": "code",
   "execution_count": 14,
   "metadata": {},
   "outputs": [],
   "source": [
    "def plot_loss(x, t_loss, v_loss):\n",
    "    df = pd.DataFrame({\n",
    "                'epoch':[i for i in range(1, x+1)],\n",
    "                'training_loss':t_loss,\n",
    "                'validation_loss':v_loss\n",
    "            })            \n",
    "    fig = px.line(df, x='epoch', y=['training_loss', 'validation_loss'], title='training loss and val loss')\n",
    "    fig.update_layout(yaxis_title=\"loss\")\n",
    "    fig.show()"
   ]
  },
  {
   "cell_type": "markdown",
   "metadata": {},
   "source": [
    "## 3.2 train_manual() with learning rate"
   ]
  },
  {
   "cell_type": "code",
   "execution_count": 15,
   "metadata": {},
   "outputs": [],
   "source": [
    "def train_manual_update(n_epochs, lr, model, loss_fn, train_loader,val_loader, weight_decay=None, momentum=None, earlystopping = False):\n",
    "    \n",
    "    n_batch = len(train_loader)\n",
    "    n_batch_val = len(val_loader)\n",
    "    stop_count = 2\n",
    "    # We'll store the training loss for each epoch\n",
    "    losses_train = []\n",
    "    val_loss_list = []\n",
    "    # Set the network in training mode\n",
    "    model.train()\n",
    "\n",
    "    # If hyperparameter \"momentum\" is initialized\n",
    "    if momentum is not None:\n",
    "        # Initialize the velocity for each parameter to zero\n",
    "        velocities = [torch.zeros_like(param) for param in model.parameters()]\n",
    "    \n",
    "    for epoch in range(1, n_epochs + 1): \n",
    "        \n",
    "        # Training loss for the current epoch\n",
    "        loss_train = 0\n",
    "        loss_val = 0\n",
    "        # Loop over our dataset (in batches the data loader creates for us)\n",
    "        for imgs, labels in train_loader:\n",
    "            \n",
    "            \n",
    "            imgs.to(device=device, dtype=torch.double)\n",
    "            labels.to(device=device, dtype=torch.double)\n",
    "            \n",
    "            # Feed a batch into our model\n",
    "            outputs = model(imgs)\n",
    "            \n",
    "            # Compute the loss we wish to minimize, including L2 regularization with weight decay\n",
    "            loss = loss_fn(outputs, labels) \n",
    "            \n",
    "            # Perform the backward step. That is, compute the gradients of all parameters we want the network to learn\n",
    "            loss.backward()\n",
    "            \n",
    "            # If only hyperparameter \"learning rate\" is initialized.\n",
    "            if (weight_decay is None) and (momentum is None):\n",
    "                # Manual update of all trainable parameters using gradient descent\n",
    "                with torch.no_grad():\n",
    "                    for param in model.parameters():\n",
    "                        if param.requires_grad:\n",
    "                            param -= lr * param.grad\n",
    "            \n",
    "            \n",
    "            # If hyperparameter \"learning rate\" and \"weight decay\" is initialized.\n",
    "            elif (weight_decay is not None) and (momentum is None):\n",
    "                # Manual update of all trainable parameters using gradient descent with L2 regularization\n",
    "                with torch.no_grad():\n",
    "                    for param in model.parameters():\n",
    "                        if param.requires_grad:\n",
    "                            param -= lr * (param.grad + weight_decay * param)\n",
    "            \n",
    "            \n",
    "            # If all hyperparameters are initialized (learning rate, weight decay and momentum).    \n",
    "            else:\n",
    "                # Update each parameter based on the gradients and the previous velocity\n",
    "                with torch.no_grad():\n",
    "                    for i, param in enumerate(model.parameters()):\n",
    "                        if param.requires_grad:\n",
    "                            velocities[i] = momentum * velocities[i] - lr * (param.grad + weight_decay * param)\n",
    "                            param += velocities[i]\n",
    "            \n",
    "            \n",
    "            # Zero out gradients before the next round (or the end of training)\n",
    "            with torch.no_grad():\n",
    "                for param in model.parameters():\n",
    "                    if param.grad is not None:\n",
    "                        param.grad.zero_()\n",
    " \n",
    "\n",
    "            # Update loss for this epoch\n",
    "            # It is important to transform the loss to a number with .item()\n",
    "            loss_train += loss.item()\n",
    "\n",
    "        for imgs2, lab2 in val_loader:\n",
    "            out_val = model(imgs2)\n",
    "            val_loss = loss_fn(out_val, lab2)\n",
    "            loss_val += val_loss.item()  \n",
    "     \n",
    "        current_val_loss = loss_val / n_batch_val\n",
    "        # Store current epoch loss. \n",
    "        losses_train.append(loss_train / n_batch)\n",
    "\n",
    "        \n",
    "\n",
    "        if earlystopping :\n",
    "            if epoch == 1:\n",
    "                val_loss_list.append(current_val_loss)\n",
    "\n",
    "            elif val_loss_list[-1] < current_val_loss:\n",
    "                stop_count+=1\n",
    "                val_loss_list.append(current_val_loss)\n",
    "\n",
    "                if(stop_count==2):\n",
    "                    n_epochs = epoch\n",
    "                        \n",
    "                    return (epoch, losses_train, val_loss_list)\n",
    "                \n",
    "            else:\n",
    "                stop_count=0\n",
    "                val_loss_list.append(current_val_loss)\n",
    "\n",
    "        else: val_loss_list.append(current_val_loss)\n",
    "\n",
    "        if epoch == 1 or epoch % 10 == 0:\n",
    "            print('{}  |  Epoch {}  |  Training loss {:.3f}'.format(\n",
    "                datetime.now().time(), epoch, loss_train / n_batch))\n",
    "    \n",
    "    \n",
    "    return (epoch, losses_train, val_loss_list)\n",
    "            \n",
    "    "
   ]
  },
  {
   "cell_type": "code",
   "execution_count": 17,
   "metadata": {},
   "outputs": [
    {
     "name": "stdout",
     "output_type": "stream",
     "text": [
      "14:18:25.892078  |  Epoch 1  |  Training loss 0.645\n",
      "14:18:46.938846  |  Epoch 10  |  Training loss 0.326\n",
      "14:19:11.955925  |  Epoch 20  |  Training loss 0.193\n",
      "\n"
     ]
    }
   ],
   "source": [
    "# Initialize MLP\n",
    "torch.manual_seed(123)\n",
    "model_seq = MyMLP(n_in, n_hidden1, n_hidden2, n_hidden3, n_out)\n",
    "# The DataLoader batches up the examples of our cifar dataset\n",
    "train_loader = torch.utils.data.DataLoader(cifar2_train, batch_size=64, shuffle=False) \n",
    "\n",
    "# Instantiate the loss function (here we use cross entropy)\n",
    "loss_fn = nn.CrossEntropyLoss()\n",
    "\n",
    "# Now all we have to do is calling the training loop\n",
    "train_manual_update(\n",
    "    n_epochs = 21,\n",
    "    lr = 1e-2,\n",
    "    model = model_seq,\n",
    "    loss_fn = loss_fn,\n",
    "    train_loader = train_loader,\n",
    "    val_loader= val_loader,\n",
    "    earlystopping = False,\n",
    ")\n",
    "print('')"
   ]
  },
  {
   "cell_type": "code",
   "execution_count": null,
   "metadata": {},
   "outputs": [
    {
     "name": "stdout",
     "output_type": "stream",
     "text": [
      "Training accuracy:\n",
      "Accuracy: 0.91\n",
      "Validation accuracy:\n",
      "Accuracy: 0.83\n",
      "Test accuracy:\n",
      "Accuracy: 0.84\n"
     ]
    },
    {
     "data": {
      "text/plain": [
       "0.8435"
      ]
     },
     "execution_count": 18,
     "metadata": {},
     "output_type": "execute_result"
    }
   ],
   "source": [
    "# Here we use shuffle = False\n",
    "# Because it is easier to check the predictions made.\n",
    "train_loader = torch.utils.data.DataLoader(cifar2_train, batch_size=64, shuffle=False)\n",
    "val_loader = torch.utils.data.DataLoader(cifar2_val, batch_size=64, shuffle=False)\n",
    "test_loader = torch.utils.data.DataLoader(cifar2_test, batch_size=64, shuffle=False)\n",
    "\n",
    "\n",
    "print(\"Training accuracy:\")\n",
    "compute_accuracy(model_seq, train_loader)\n",
    "print(\"Validation accuracy:\")\n",
    "compute_accuracy(model_seq, val_loader)\n",
    "print(\"Test accuracy:\")\n",
    "compute_accuracy(model_seq, test_loader)"
   ]
  },
  {
   "cell_type": "markdown",
   "metadata": {},
   "source": [
    "## 3.3 Train() with learning rate and weight decay"
   ]
  },
  {
   "cell_type": "code",
   "execution_count": null,
   "metadata": {},
   "outputs": [
    {
     "name": "stdout",
     "output_type": "stream",
     "text": [
      "23:17:34.265887  |  Epoch 1  |  Training loss 0.647\n",
      "23:17:51.017986  |  Epoch 10  |  Training loss 0.340\n",
      "23:18:09.715077  |  Epoch 20  |  Training loss 0.223\n"
     ]
    },
    {
     "data": {
      "application/vnd.plotly.v1+json": {
       "config": {
        "plotlyServerURL": "https://plot.ly"
       },
       "data": [
        {
         "hovertemplate": "x=%{x}<br>y=%{y}<extra></extra>",
         "legendgroup": "",
         "line": {
          "color": "#636efa",
          "dash": "solid"
         },
         "marker": {
          "symbol": "circle"
         },
         "mode": "lines",
         "name": "",
         "orientation": "v",
         "showlegend": false,
         "type": "scatter",
         "x": [
          0,
          1,
          2,
          3,
          4,
          5,
          6,
          7,
          8,
          9,
          10,
          11,
          12,
          13,
          14,
          15,
          16,
          17,
          18,
          19,
          20
         ],
         "xaxis": "x",
         "y": [
          0.6466591832146712,
          0.5376953718835688,
          0.4822795340385852,
          0.452786370135989,
          0.42737640564700247,
          0.40529019112646963,
          0.38680338651391066,
          0.37044481123222894,
          0.3551095294135376,
          0.34030381795540876,
          0.32594078853974257,
          0.31228041866048434,
          0.29919311631541623,
          0.2866716747891115,
          0.27461389876861403,
          0.2631591932839082,
          0.2527037606475093,
          0.24174429380142384,
          0.23186269371520685,
          0.22310843243137524,
          0.2109712733200157
         ],
         "yaxis": "y"
        }
       ],
       "layout": {
        "legend": {
         "tracegroupgap": 0
        },
        "margin": {
         "t": 60
        },
        "template": {
         "data": {
          "bar": [
           {
            "error_x": {
             "color": "#2a3f5f"
            },
            "error_y": {
             "color": "#2a3f5f"
            },
            "marker": {
             "line": {
              "color": "#E5ECF6",
              "width": 0.5
             },
             "pattern": {
              "fillmode": "overlay",
              "size": 10,
              "solidity": 0.2
             }
            },
            "type": "bar"
           }
          ],
          "barpolar": [
           {
            "marker": {
             "line": {
              "color": "#E5ECF6",
              "width": 0.5
             },
             "pattern": {
              "fillmode": "overlay",
              "size": 10,
              "solidity": 0.2
             }
            },
            "type": "barpolar"
           }
          ],
          "carpet": [
           {
            "aaxis": {
             "endlinecolor": "#2a3f5f",
             "gridcolor": "white",
             "linecolor": "white",
             "minorgridcolor": "white",
             "startlinecolor": "#2a3f5f"
            },
            "baxis": {
             "endlinecolor": "#2a3f5f",
             "gridcolor": "white",
             "linecolor": "white",
             "minorgridcolor": "white",
             "startlinecolor": "#2a3f5f"
            },
            "type": "carpet"
           }
          ],
          "choropleth": [
           {
            "colorbar": {
             "outlinewidth": 0,
             "ticks": ""
            },
            "type": "choropleth"
           }
          ],
          "contour": [
           {
            "colorbar": {
             "outlinewidth": 0,
             "ticks": ""
            },
            "colorscale": [
             [
              0,
              "#0d0887"
             ],
             [
              0.1111111111111111,
              "#46039f"
             ],
             [
              0.2222222222222222,
              "#7201a8"
             ],
             [
              0.3333333333333333,
              "#9c179e"
             ],
             [
              0.4444444444444444,
              "#bd3786"
             ],
             [
              0.5555555555555556,
              "#d8576b"
             ],
             [
              0.6666666666666666,
              "#ed7953"
             ],
             [
              0.7777777777777778,
              "#fb9f3a"
             ],
             [
              0.8888888888888888,
              "#fdca26"
             ],
             [
              1,
              "#f0f921"
             ]
            ],
            "type": "contour"
           }
          ],
          "contourcarpet": [
           {
            "colorbar": {
             "outlinewidth": 0,
             "ticks": ""
            },
            "type": "contourcarpet"
           }
          ],
          "heatmap": [
           {
            "colorbar": {
             "outlinewidth": 0,
             "ticks": ""
            },
            "colorscale": [
             [
              0,
              "#0d0887"
             ],
             [
              0.1111111111111111,
              "#46039f"
             ],
             [
              0.2222222222222222,
              "#7201a8"
             ],
             [
              0.3333333333333333,
              "#9c179e"
             ],
             [
              0.4444444444444444,
              "#bd3786"
             ],
             [
              0.5555555555555556,
              "#d8576b"
             ],
             [
              0.6666666666666666,
              "#ed7953"
             ],
             [
              0.7777777777777778,
              "#fb9f3a"
             ],
             [
              0.8888888888888888,
              "#fdca26"
             ],
             [
              1,
              "#f0f921"
             ]
            ],
            "type": "heatmap"
           }
          ],
          "heatmapgl": [
           {
            "colorbar": {
             "outlinewidth": 0,
             "ticks": ""
            },
            "colorscale": [
             [
              0,
              "#0d0887"
             ],
             [
              0.1111111111111111,
              "#46039f"
             ],
             [
              0.2222222222222222,
              "#7201a8"
             ],
             [
              0.3333333333333333,
              "#9c179e"
             ],
             [
              0.4444444444444444,
              "#bd3786"
             ],
             [
              0.5555555555555556,
              "#d8576b"
             ],
             [
              0.6666666666666666,
              "#ed7953"
             ],
             [
              0.7777777777777778,
              "#fb9f3a"
             ],
             [
              0.8888888888888888,
              "#fdca26"
             ],
             [
              1,
              "#f0f921"
             ]
            ],
            "type": "heatmapgl"
           }
          ],
          "histogram": [
           {
            "marker": {
             "pattern": {
              "fillmode": "overlay",
              "size": 10,
              "solidity": 0.2
             }
            },
            "type": "histogram"
           }
          ],
          "histogram2d": [
           {
            "colorbar": {
             "outlinewidth": 0,
             "ticks": ""
            },
            "colorscale": [
             [
              0,
              "#0d0887"
             ],
             [
              0.1111111111111111,
              "#46039f"
             ],
             [
              0.2222222222222222,
              "#7201a8"
             ],
             [
              0.3333333333333333,
              "#9c179e"
             ],
             [
              0.4444444444444444,
              "#bd3786"
             ],
             [
              0.5555555555555556,
              "#d8576b"
             ],
             [
              0.6666666666666666,
              "#ed7953"
             ],
             [
              0.7777777777777778,
              "#fb9f3a"
             ],
             [
              0.8888888888888888,
              "#fdca26"
             ],
             [
              1,
              "#f0f921"
             ]
            ],
            "type": "histogram2d"
           }
          ],
          "histogram2dcontour": [
           {
            "colorbar": {
             "outlinewidth": 0,
             "ticks": ""
            },
            "colorscale": [
             [
              0,
              "#0d0887"
             ],
             [
              0.1111111111111111,
              "#46039f"
             ],
             [
              0.2222222222222222,
              "#7201a8"
             ],
             [
              0.3333333333333333,
              "#9c179e"
             ],
             [
              0.4444444444444444,
              "#bd3786"
             ],
             [
              0.5555555555555556,
              "#d8576b"
             ],
             [
              0.6666666666666666,
              "#ed7953"
             ],
             [
              0.7777777777777778,
              "#fb9f3a"
             ],
             [
              0.8888888888888888,
              "#fdca26"
             ],
             [
              1,
              "#f0f921"
             ]
            ],
            "type": "histogram2dcontour"
           }
          ],
          "mesh3d": [
           {
            "colorbar": {
             "outlinewidth": 0,
             "ticks": ""
            },
            "type": "mesh3d"
           }
          ],
          "parcoords": [
           {
            "line": {
             "colorbar": {
              "outlinewidth": 0,
              "ticks": ""
             }
            },
            "type": "parcoords"
           }
          ],
          "pie": [
           {
            "automargin": true,
            "type": "pie"
           }
          ],
          "scatter": [
           {
            "fillpattern": {
             "fillmode": "overlay",
             "size": 10,
             "solidity": 0.2
            },
            "type": "scatter"
           }
          ],
          "scatter3d": [
           {
            "line": {
             "colorbar": {
              "outlinewidth": 0,
              "ticks": ""
             }
            },
            "marker": {
             "colorbar": {
              "outlinewidth": 0,
              "ticks": ""
             }
            },
            "type": "scatter3d"
           }
          ],
          "scattercarpet": [
           {
            "marker": {
             "colorbar": {
              "outlinewidth": 0,
              "ticks": ""
             }
            },
            "type": "scattercarpet"
           }
          ],
          "scattergeo": [
           {
            "marker": {
             "colorbar": {
              "outlinewidth": 0,
              "ticks": ""
             }
            },
            "type": "scattergeo"
           }
          ],
          "scattergl": [
           {
            "marker": {
             "colorbar": {
              "outlinewidth": 0,
              "ticks": ""
             }
            },
            "type": "scattergl"
           }
          ],
          "scattermapbox": [
           {
            "marker": {
             "colorbar": {
              "outlinewidth": 0,
              "ticks": ""
             }
            },
            "type": "scattermapbox"
           }
          ],
          "scatterpolar": [
           {
            "marker": {
             "colorbar": {
              "outlinewidth": 0,
              "ticks": ""
             }
            },
            "type": "scatterpolar"
           }
          ],
          "scatterpolargl": [
           {
            "marker": {
             "colorbar": {
              "outlinewidth": 0,
              "ticks": ""
             }
            },
            "type": "scatterpolargl"
           }
          ],
          "scatterternary": [
           {
            "marker": {
             "colorbar": {
              "outlinewidth": 0,
              "ticks": ""
             }
            },
            "type": "scatterternary"
           }
          ],
          "surface": [
           {
            "colorbar": {
             "outlinewidth": 0,
             "ticks": ""
            },
            "colorscale": [
             [
              0,
              "#0d0887"
             ],
             [
              0.1111111111111111,
              "#46039f"
             ],
             [
              0.2222222222222222,
              "#7201a8"
             ],
             [
              0.3333333333333333,
              "#9c179e"
             ],
             [
              0.4444444444444444,
              "#bd3786"
             ],
             [
              0.5555555555555556,
              "#d8576b"
             ],
             [
              0.6666666666666666,
              "#ed7953"
             ],
             [
              0.7777777777777778,
              "#fb9f3a"
             ],
             [
              0.8888888888888888,
              "#fdca26"
             ],
             [
              1,
              "#f0f921"
             ]
            ],
            "type": "surface"
           }
          ],
          "table": [
           {
            "cells": {
             "fill": {
              "color": "#EBF0F8"
             },
             "line": {
              "color": "white"
             }
            },
            "header": {
             "fill": {
              "color": "#C8D4E3"
             },
             "line": {
              "color": "white"
             }
            },
            "type": "table"
           }
          ]
         },
         "layout": {
          "annotationdefaults": {
           "arrowcolor": "#2a3f5f",
           "arrowhead": 0,
           "arrowwidth": 1
          },
          "autotypenumbers": "strict",
          "coloraxis": {
           "colorbar": {
            "outlinewidth": 0,
            "ticks": ""
           }
          },
          "colorscale": {
           "diverging": [
            [
             0,
             "#8e0152"
            ],
            [
             0.1,
             "#c51b7d"
            ],
            [
             0.2,
             "#de77ae"
            ],
            [
             0.3,
             "#f1b6da"
            ],
            [
             0.4,
             "#fde0ef"
            ],
            [
             0.5,
             "#f7f7f7"
            ],
            [
             0.6,
             "#e6f5d0"
            ],
            [
             0.7,
             "#b8e186"
            ],
            [
             0.8,
             "#7fbc41"
            ],
            [
             0.9,
             "#4d9221"
            ],
            [
             1,
             "#276419"
            ]
           ],
           "sequential": [
            [
             0,
             "#0d0887"
            ],
            [
             0.1111111111111111,
             "#46039f"
            ],
            [
             0.2222222222222222,
             "#7201a8"
            ],
            [
             0.3333333333333333,
             "#9c179e"
            ],
            [
             0.4444444444444444,
             "#bd3786"
            ],
            [
             0.5555555555555556,
             "#d8576b"
            ],
            [
             0.6666666666666666,
             "#ed7953"
            ],
            [
             0.7777777777777778,
             "#fb9f3a"
            ],
            [
             0.8888888888888888,
             "#fdca26"
            ],
            [
             1,
             "#f0f921"
            ]
           ],
           "sequentialminus": [
            [
             0,
             "#0d0887"
            ],
            [
             0.1111111111111111,
             "#46039f"
            ],
            [
             0.2222222222222222,
             "#7201a8"
            ],
            [
             0.3333333333333333,
             "#9c179e"
            ],
            [
             0.4444444444444444,
             "#bd3786"
            ],
            [
             0.5555555555555556,
             "#d8576b"
            ],
            [
             0.6666666666666666,
             "#ed7953"
            ],
            [
             0.7777777777777778,
             "#fb9f3a"
            ],
            [
             0.8888888888888888,
             "#fdca26"
            ],
            [
             1,
             "#f0f921"
            ]
           ]
          },
          "colorway": [
           "#636efa",
           "#EF553B",
           "#00cc96",
           "#ab63fa",
           "#FFA15A",
           "#19d3f3",
           "#FF6692",
           "#B6E880",
           "#FF97FF",
           "#FECB52"
          ],
          "font": {
           "color": "#2a3f5f"
          },
          "geo": {
           "bgcolor": "white",
           "lakecolor": "white",
           "landcolor": "#E5ECF6",
           "showlakes": true,
           "showland": true,
           "subunitcolor": "white"
          },
          "hoverlabel": {
           "align": "left"
          },
          "hovermode": "closest",
          "mapbox": {
           "style": "light"
          },
          "paper_bgcolor": "white",
          "plot_bgcolor": "#E5ECF6",
          "polar": {
           "angularaxis": {
            "gridcolor": "white",
            "linecolor": "white",
            "ticks": ""
           },
           "bgcolor": "#E5ECF6",
           "radialaxis": {
            "gridcolor": "white",
            "linecolor": "white",
            "ticks": ""
           }
          },
          "scene": {
           "xaxis": {
            "backgroundcolor": "#E5ECF6",
            "gridcolor": "white",
            "gridwidth": 2,
            "linecolor": "white",
            "showbackground": true,
            "ticks": "",
            "zerolinecolor": "white"
           },
           "yaxis": {
            "backgroundcolor": "#E5ECF6",
            "gridcolor": "white",
            "gridwidth": 2,
            "linecolor": "white",
            "showbackground": true,
            "ticks": "",
            "zerolinecolor": "white"
           },
           "zaxis": {
            "backgroundcolor": "#E5ECF6",
            "gridcolor": "white",
            "gridwidth": 2,
            "linecolor": "white",
            "showbackground": true,
            "ticks": "",
            "zerolinecolor": "white"
           }
          },
          "shapedefaults": {
           "line": {
            "color": "#2a3f5f"
           }
          },
          "ternary": {
           "aaxis": {
            "gridcolor": "white",
            "linecolor": "white",
            "ticks": ""
           },
           "baxis": {
            "gridcolor": "white",
            "linecolor": "white",
            "ticks": ""
           },
           "bgcolor": "#E5ECF6",
           "caxis": {
            "gridcolor": "white",
            "linecolor": "white",
            "ticks": ""
           }
          },
          "title": {
           "x": 0.05
          },
          "xaxis": {
           "automargin": true,
           "gridcolor": "white",
           "linecolor": "white",
           "ticks": "",
           "title": {
            "standoff": 15
           },
           "zerolinecolor": "white",
           "zerolinewidth": 2
          },
          "yaxis": {
           "automargin": true,
           "gridcolor": "white",
           "linecolor": "white",
           "ticks": "",
           "title": {
            "standoff": 15
           },
           "zerolinecolor": "white",
           "zerolinewidth": 2
          }
         }
        },
        "xaxis": {
         "anchor": "y",
         "domain": [
          0,
          1
         ],
         "title": {
          "text": "x"
         }
        },
        "yaxis": {
         "anchor": "x",
         "domain": [
          0,
          1
         ],
         "title": {
          "text": "y"
         }
        }
       }
      }
     },
     "metadata": {},
     "output_type": "display_data"
    },
    {
     "name": "stdout",
     "output_type": "stream",
     "text": [
      "\n"
     ]
    }
   ],
   "source": [
    "# Initialize MLP\n",
    "torch.manual_seed(123)\n",
    "model_seq = MyMLP(n_in, n_hidden1, n_hidden2, n_hidden3, n_out)\n",
    "# The DataLoader batches up the examples of our cifar dataset\n",
    "# Here we use shuffle = True in order to shuffle the dataset for the training\n",
    "train_loader = torch.utils.data.DataLoader(cifar2_train, batch_size=64, shuffle=False) \n",
    "\n",
    "# Instantiate the optimizer, here:\n",
    "# 1. Stochastic Gradient Descent optimizer, \n",
    "# 2. that has to be applied to our parameters (model.parameters())\n",
    "# 3. With a learning rate of 1e-2\n",
    "optimizer = optim.SGD(model_seq.parameters(), lr=1e-2, weight_decay=0.01)\n",
    "\n",
    "# Instantiate the loss function (here we use cross entropy)\n",
    "loss_fn = nn.CrossEntropyLoss()\n",
    "\n",
    "# Now all we have to do is calling the training loop\n",
    "train(\n",
    "    n_epochs = 21,\n",
    "    optimizer = optimizer,\n",
    "    model = model_seq,\n",
    "    loss_fn = loss_fn,\n",
    "    train_loader = train_loader,\n",
    ")\n",
    "print('')"
   ]
  },
  {
   "cell_type": "code",
   "execution_count": null,
   "metadata": {},
   "outputs": [
    {
     "name": "stdout",
     "output_type": "stream",
     "text": [
      "Training accuracy:\n",
      "Accuracy: 0.94\n",
      "Validation accuracy:\n",
      "Accuracy: 0.85\n",
      "Test accuracy:\n",
      "Accuracy: 0.85\n"
     ]
    },
    {
     "data": {
      "text/plain": [
       "0.851"
      ]
     },
     "execution_count": 20,
     "metadata": {},
     "output_type": "execute_result"
    }
   ],
   "source": [
    "# Here we use shuffle = False\n",
    "# Because it is easier to check the predictions made.\n",
    "train_loader = torch.utils.data.DataLoader(cifar2_train, batch_size=64, shuffle=False)\n",
    "val_loader = torch.utils.data.DataLoader(cifar2_val, batch_size=64, shuffle=False)\n",
    "test_loader = torch.utils.data.DataLoader(cifar2_test, batch_size=64, shuffle=False)\n",
    "\n",
    "\n",
    "print(\"Training accuracy:\")\n",
    "compute_accuracy(model_seq, train_loader)\n",
    "print(\"Validation accuracy:\")\n",
    "compute_accuracy(model_seq, val_loader)\n",
    "print(\"Test accuracy:\")\n",
    "compute_accuracy(model_seq, test_loader)"
   ]
  },
  {
   "cell_type": "markdown",
   "metadata": {},
   "source": [
    "## 3.4 train_manual() with learning rate and weight decay"
   ]
  },
  {
   "cell_type": "code",
   "execution_count": null,
   "metadata": {},
   "outputs": [
    {
     "name": "stdout",
     "output_type": "stream",
     "text": [
      "23:18:15.089365  |  Epoch 1  |  Training loss 0.647\n",
      "23:18:40.413478  |  Epoch 10  |  Training loss 0.340\n",
      "23:19:09.201984  |  Epoch 20  |  Training loss 0.223\n",
      "\n"
     ]
    }
   ],
   "source": [
    "# Initialize MLP\n",
    "torch.manual_seed(123)\n",
    "model_seq = MyMLP(n_in, n_hidden1, n_hidden2, n_hidden3, n_out)\n",
    "# The DataLoader batches up the examples of our cifar dataset\n",
    "# Here we use shuffle = True in order to shuffle the dataset for the training\n",
    "train_loader = torch.utils.data.DataLoader(cifar2_train, batch_size=64, shuffle=False) \n",
    "\n",
    "# Instantiate the loss function (here we use cross entropy)\n",
    "loss_fn = nn.CrossEntropyLoss()\n",
    "\n",
    "# Now all we have to do is calling the training loop\n",
    "train_manual_update(\n",
    "    n_epochs = 21,\n",
    "    lr = 1e-2,\n",
    "    model = model_seq,\n",
    "    loss_fn = loss_fn,\n",
    "    train_loader = train_loader,\n",
    "    val_loader= val_loader,\n",
    "    weight_decay = 0.01,\n",
    "    earlystopping = False,\n",
    ")\n",
    "print('')"
   ]
  },
  {
   "cell_type": "code",
   "execution_count": null,
   "metadata": {},
   "outputs": [
    {
     "name": "stdout",
     "output_type": "stream",
     "text": [
      "Training accuracy:\n",
      "Accuracy: 0.94\n",
      "Validation accuracy:\n",
      "Accuracy: 0.85\n",
      "Test accuracy:\n",
      "Accuracy: 0.85\n"
     ]
    },
    {
     "data": {
      "text/plain": [
       "0.851"
      ]
     },
     "execution_count": 22,
     "metadata": {},
     "output_type": "execute_result"
    }
   ],
   "source": [
    "# Here we use shuffle = False\n",
    "# Because it is easier to check the predictions made.\n",
    "train_loader = torch.utils.data.DataLoader(cifar2_train, batch_size=64, shuffle=False)\n",
    "val_loader = torch.utils.data.DataLoader(cifar2_val, batch_size=64, shuffle=False)\n",
    "test_loader = torch.utils.data.DataLoader(cifar2_test, batch_size=64, shuffle=False)\n",
    "\n",
    "\n",
    "print(\"Training accuracy:\")\n",
    "compute_accuracy(model_seq, train_loader)\n",
    "print(\"Validation accuracy:\")\n",
    "compute_accuracy(model_seq, val_loader)\n",
    "print(\"Test accuracy:\")\n",
    "compute_accuracy(model_seq, test_loader)"
   ]
  },
  {
   "cell_type": "markdown",
   "metadata": {},
   "source": [
    "## 3.5 Train() with learning rate, weight decay and momentum"
   ]
  },
  {
   "cell_type": "code",
   "execution_count": null,
   "metadata": {},
   "outputs": [
    {
     "name": "stdout",
     "output_type": "stream",
     "text": [
      "23:19:15.159995  |  Epoch 1  |  Training loss 0.641\n",
      "23:19:36.418203  |  Epoch 10  |  Training loss 0.328\n",
      "23:19:59.780204  |  Epoch 20  |  Training loss 0.207\n"
     ]
    },
    {
     "data": {
      "application/vnd.plotly.v1+json": {
       "config": {
        "plotlyServerURL": "https://plot.ly"
       },
       "data": [
        {
         "hovertemplate": "x=%{x}<br>y=%{y}<extra></extra>",
         "legendgroup": "",
         "line": {
          "color": "#636efa",
          "dash": "solid"
         },
         "marker": {
          "symbol": "circle"
         },
         "mode": "lines",
         "name": "",
         "orientation": "v",
         "showlegend": false,
         "type": "scatter",
         "x": [
          0,
          1,
          2,
          3,
          4,
          5,
          6,
          7,
          8,
          9,
          10,
          11,
          12,
          13,
          14,
          15,
          16,
          17,
          18,
          19,
          20
         ],
         "xaxis": "x",
         "y": [
          0.6405048418530012,
          0.5252887452456713,
          0.47371002105908194,
          0.4433001189970418,
          0.4171215965267434,
          0.3952642049049771,
          0.3767939438036155,
          0.35977271302746755,
          0.3437429520713142,
          0.32827264904049464,
          0.3135329245438702,
          0.2997358934620785,
          0.2857527130801885,
          0.27331679279066934,
          0.2598461390919654,
          0.24819375493410886,
          0.2390629443781814,
          0.2260008693634106,
          0.21455247118870563,
          0.20687324989061856,
          0.1944019133142125
         ],
         "yaxis": "y"
        }
       ],
       "layout": {
        "legend": {
         "tracegroupgap": 0
        },
        "margin": {
         "t": 60
        },
        "template": {
         "data": {
          "bar": [
           {
            "error_x": {
             "color": "#2a3f5f"
            },
            "error_y": {
             "color": "#2a3f5f"
            },
            "marker": {
             "line": {
              "color": "#E5ECF6",
              "width": 0.5
             },
             "pattern": {
              "fillmode": "overlay",
              "size": 10,
              "solidity": 0.2
             }
            },
            "type": "bar"
           }
          ],
          "barpolar": [
           {
            "marker": {
             "line": {
              "color": "#E5ECF6",
              "width": 0.5
             },
             "pattern": {
              "fillmode": "overlay",
              "size": 10,
              "solidity": 0.2
             }
            },
            "type": "barpolar"
           }
          ],
          "carpet": [
           {
            "aaxis": {
             "endlinecolor": "#2a3f5f",
             "gridcolor": "white",
             "linecolor": "white",
             "minorgridcolor": "white",
             "startlinecolor": "#2a3f5f"
            },
            "baxis": {
             "endlinecolor": "#2a3f5f",
             "gridcolor": "white",
             "linecolor": "white",
             "minorgridcolor": "white",
             "startlinecolor": "#2a3f5f"
            },
            "type": "carpet"
           }
          ],
          "choropleth": [
           {
            "colorbar": {
             "outlinewidth": 0,
             "ticks": ""
            },
            "type": "choropleth"
           }
          ],
          "contour": [
           {
            "colorbar": {
             "outlinewidth": 0,
             "ticks": ""
            },
            "colorscale": [
             [
              0,
              "#0d0887"
             ],
             [
              0.1111111111111111,
              "#46039f"
             ],
             [
              0.2222222222222222,
              "#7201a8"
             ],
             [
              0.3333333333333333,
              "#9c179e"
             ],
             [
              0.4444444444444444,
              "#bd3786"
             ],
             [
              0.5555555555555556,
              "#d8576b"
             ],
             [
              0.6666666666666666,
              "#ed7953"
             ],
             [
              0.7777777777777778,
              "#fb9f3a"
             ],
             [
              0.8888888888888888,
              "#fdca26"
             ],
             [
              1,
              "#f0f921"
             ]
            ],
            "type": "contour"
           }
          ],
          "contourcarpet": [
           {
            "colorbar": {
             "outlinewidth": 0,
             "ticks": ""
            },
            "type": "contourcarpet"
           }
          ],
          "heatmap": [
           {
            "colorbar": {
             "outlinewidth": 0,
             "ticks": ""
            },
            "colorscale": [
             [
              0,
              "#0d0887"
             ],
             [
              0.1111111111111111,
              "#46039f"
             ],
             [
              0.2222222222222222,
              "#7201a8"
             ],
             [
              0.3333333333333333,
              "#9c179e"
             ],
             [
              0.4444444444444444,
              "#bd3786"
             ],
             [
              0.5555555555555556,
              "#d8576b"
             ],
             [
              0.6666666666666666,
              "#ed7953"
             ],
             [
              0.7777777777777778,
              "#fb9f3a"
             ],
             [
              0.8888888888888888,
              "#fdca26"
             ],
             [
              1,
              "#f0f921"
             ]
            ],
            "type": "heatmap"
           }
          ],
          "heatmapgl": [
           {
            "colorbar": {
             "outlinewidth": 0,
             "ticks": ""
            },
            "colorscale": [
             [
              0,
              "#0d0887"
             ],
             [
              0.1111111111111111,
              "#46039f"
             ],
             [
              0.2222222222222222,
              "#7201a8"
             ],
             [
              0.3333333333333333,
              "#9c179e"
             ],
             [
              0.4444444444444444,
              "#bd3786"
             ],
             [
              0.5555555555555556,
              "#d8576b"
             ],
             [
              0.6666666666666666,
              "#ed7953"
             ],
             [
              0.7777777777777778,
              "#fb9f3a"
             ],
             [
              0.8888888888888888,
              "#fdca26"
             ],
             [
              1,
              "#f0f921"
             ]
            ],
            "type": "heatmapgl"
           }
          ],
          "histogram": [
           {
            "marker": {
             "pattern": {
              "fillmode": "overlay",
              "size": 10,
              "solidity": 0.2
             }
            },
            "type": "histogram"
           }
          ],
          "histogram2d": [
           {
            "colorbar": {
             "outlinewidth": 0,
             "ticks": ""
            },
            "colorscale": [
             [
              0,
              "#0d0887"
             ],
             [
              0.1111111111111111,
              "#46039f"
             ],
             [
              0.2222222222222222,
              "#7201a8"
             ],
             [
              0.3333333333333333,
              "#9c179e"
             ],
             [
              0.4444444444444444,
              "#bd3786"
             ],
             [
              0.5555555555555556,
              "#d8576b"
             ],
             [
              0.6666666666666666,
              "#ed7953"
             ],
             [
              0.7777777777777778,
              "#fb9f3a"
             ],
             [
              0.8888888888888888,
              "#fdca26"
             ],
             [
              1,
              "#f0f921"
             ]
            ],
            "type": "histogram2d"
           }
          ],
          "histogram2dcontour": [
           {
            "colorbar": {
             "outlinewidth": 0,
             "ticks": ""
            },
            "colorscale": [
             [
              0,
              "#0d0887"
             ],
             [
              0.1111111111111111,
              "#46039f"
             ],
             [
              0.2222222222222222,
              "#7201a8"
             ],
             [
              0.3333333333333333,
              "#9c179e"
             ],
             [
              0.4444444444444444,
              "#bd3786"
             ],
             [
              0.5555555555555556,
              "#d8576b"
             ],
             [
              0.6666666666666666,
              "#ed7953"
             ],
             [
              0.7777777777777778,
              "#fb9f3a"
             ],
             [
              0.8888888888888888,
              "#fdca26"
             ],
             [
              1,
              "#f0f921"
             ]
            ],
            "type": "histogram2dcontour"
           }
          ],
          "mesh3d": [
           {
            "colorbar": {
             "outlinewidth": 0,
             "ticks": ""
            },
            "type": "mesh3d"
           }
          ],
          "parcoords": [
           {
            "line": {
             "colorbar": {
              "outlinewidth": 0,
              "ticks": ""
             }
            },
            "type": "parcoords"
           }
          ],
          "pie": [
           {
            "automargin": true,
            "type": "pie"
           }
          ],
          "scatter": [
           {
            "fillpattern": {
             "fillmode": "overlay",
             "size": 10,
             "solidity": 0.2
            },
            "type": "scatter"
           }
          ],
          "scatter3d": [
           {
            "line": {
             "colorbar": {
              "outlinewidth": 0,
              "ticks": ""
             }
            },
            "marker": {
             "colorbar": {
              "outlinewidth": 0,
              "ticks": ""
             }
            },
            "type": "scatter3d"
           }
          ],
          "scattercarpet": [
           {
            "marker": {
             "colorbar": {
              "outlinewidth": 0,
              "ticks": ""
             }
            },
            "type": "scattercarpet"
           }
          ],
          "scattergeo": [
           {
            "marker": {
             "colorbar": {
              "outlinewidth": 0,
              "ticks": ""
             }
            },
            "type": "scattergeo"
           }
          ],
          "scattergl": [
           {
            "marker": {
             "colorbar": {
              "outlinewidth": 0,
              "ticks": ""
             }
            },
            "type": "scattergl"
           }
          ],
          "scattermapbox": [
           {
            "marker": {
             "colorbar": {
              "outlinewidth": 0,
              "ticks": ""
             }
            },
            "type": "scattermapbox"
           }
          ],
          "scatterpolar": [
           {
            "marker": {
             "colorbar": {
              "outlinewidth": 0,
              "ticks": ""
             }
            },
            "type": "scatterpolar"
           }
          ],
          "scatterpolargl": [
           {
            "marker": {
             "colorbar": {
              "outlinewidth": 0,
              "ticks": ""
             }
            },
            "type": "scatterpolargl"
           }
          ],
          "scatterternary": [
           {
            "marker": {
             "colorbar": {
              "outlinewidth": 0,
              "ticks": ""
             }
            },
            "type": "scatterternary"
           }
          ],
          "surface": [
           {
            "colorbar": {
             "outlinewidth": 0,
             "ticks": ""
            },
            "colorscale": [
             [
              0,
              "#0d0887"
             ],
             [
              0.1111111111111111,
              "#46039f"
             ],
             [
              0.2222222222222222,
              "#7201a8"
             ],
             [
              0.3333333333333333,
              "#9c179e"
             ],
             [
              0.4444444444444444,
              "#bd3786"
             ],
             [
              0.5555555555555556,
              "#d8576b"
             ],
             [
              0.6666666666666666,
              "#ed7953"
             ],
             [
              0.7777777777777778,
              "#fb9f3a"
             ],
             [
              0.8888888888888888,
              "#fdca26"
             ],
             [
              1,
              "#f0f921"
             ]
            ],
            "type": "surface"
           }
          ],
          "table": [
           {
            "cells": {
             "fill": {
              "color": "#EBF0F8"
             },
             "line": {
              "color": "white"
             }
            },
            "header": {
             "fill": {
              "color": "#C8D4E3"
             },
             "line": {
              "color": "white"
             }
            },
            "type": "table"
           }
          ]
         },
         "layout": {
          "annotationdefaults": {
           "arrowcolor": "#2a3f5f",
           "arrowhead": 0,
           "arrowwidth": 1
          },
          "autotypenumbers": "strict",
          "coloraxis": {
           "colorbar": {
            "outlinewidth": 0,
            "ticks": ""
           }
          },
          "colorscale": {
           "diverging": [
            [
             0,
             "#8e0152"
            ],
            [
             0.1,
             "#c51b7d"
            ],
            [
             0.2,
             "#de77ae"
            ],
            [
             0.3,
             "#f1b6da"
            ],
            [
             0.4,
             "#fde0ef"
            ],
            [
             0.5,
             "#f7f7f7"
            ],
            [
             0.6,
             "#e6f5d0"
            ],
            [
             0.7,
             "#b8e186"
            ],
            [
             0.8,
             "#7fbc41"
            ],
            [
             0.9,
             "#4d9221"
            ],
            [
             1,
             "#276419"
            ]
           ],
           "sequential": [
            [
             0,
             "#0d0887"
            ],
            [
             0.1111111111111111,
             "#46039f"
            ],
            [
             0.2222222222222222,
             "#7201a8"
            ],
            [
             0.3333333333333333,
             "#9c179e"
            ],
            [
             0.4444444444444444,
             "#bd3786"
            ],
            [
             0.5555555555555556,
             "#d8576b"
            ],
            [
             0.6666666666666666,
             "#ed7953"
            ],
            [
             0.7777777777777778,
             "#fb9f3a"
            ],
            [
             0.8888888888888888,
             "#fdca26"
            ],
            [
             1,
             "#f0f921"
            ]
           ],
           "sequentialminus": [
            [
             0,
             "#0d0887"
            ],
            [
             0.1111111111111111,
             "#46039f"
            ],
            [
             0.2222222222222222,
             "#7201a8"
            ],
            [
             0.3333333333333333,
             "#9c179e"
            ],
            [
             0.4444444444444444,
             "#bd3786"
            ],
            [
             0.5555555555555556,
             "#d8576b"
            ],
            [
             0.6666666666666666,
             "#ed7953"
            ],
            [
             0.7777777777777778,
             "#fb9f3a"
            ],
            [
             0.8888888888888888,
             "#fdca26"
            ],
            [
             1,
             "#f0f921"
            ]
           ]
          },
          "colorway": [
           "#636efa",
           "#EF553B",
           "#00cc96",
           "#ab63fa",
           "#FFA15A",
           "#19d3f3",
           "#FF6692",
           "#B6E880",
           "#FF97FF",
           "#FECB52"
          ],
          "font": {
           "color": "#2a3f5f"
          },
          "geo": {
           "bgcolor": "white",
           "lakecolor": "white",
           "landcolor": "#E5ECF6",
           "showlakes": true,
           "showland": true,
           "subunitcolor": "white"
          },
          "hoverlabel": {
           "align": "left"
          },
          "hovermode": "closest",
          "mapbox": {
           "style": "light"
          },
          "paper_bgcolor": "white",
          "plot_bgcolor": "#E5ECF6",
          "polar": {
           "angularaxis": {
            "gridcolor": "white",
            "linecolor": "white",
            "ticks": ""
           },
           "bgcolor": "#E5ECF6",
           "radialaxis": {
            "gridcolor": "white",
            "linecolor": "white",
            "ticks": ""
           }
          },
          "scene": {
           "xaxis": {
            "backgroundcolor": "#E5ECF6",
            "gridcolor": "white",
            "gridwidth": 2,
            "linecolor": "white",
            "showbackground": true,
            "ticks": "",
            "zerolinecolor": "white"
           },
           "yaxis": {
            "backgroundcolor": "#E5ECF6",
            "gridcolor": "white",
            "gridwidth": 2,
            "linecolor": "white",
            "showbackground": true,
            "ticks": "",
            "zerolinecolor": "white"
           },
           "zaxis": {
            "backgroundcolor": "#E5ECF6",
            "gridcolor": "white",
            "gridwidth": 2,
            "linecolor": "white",
            "showbackground": true,
            "ticks": "",
            "zerolinecolor": "white"
           }
          },
          "shapedefaults": {
           "line": {
            "color": "#2a3f5f"
           }
          },
          "ternary": {
           "aaxis": {
            "gridcolor": "white",
            "linecolor": "white",
            "ticks": ""
           },
           "baxis": {
            "gridcolor": "white",
            "linecolor": "white",
            "ticks": ""
           },
           "bgcolor": "#E5ECF6",
           "caxis": {
            "gridcolor": "white",
            "linecolor": "white",
            "ticks": ""
           }
          },
          "title": {
           "x": 0.05
          },
          "xaxis": {
           "automargin": true,
           "gridcolor": "white",
           "linecolor": "white",
           "ticks": "",
           "title": {
            "standoff": 15
           },
           "zerolinecolor": "white",
           "zerolinewidth": 2
          },
          "yaxis": {
           "automargin": true,
           "gridcolor": "white",
           "linecolor": "white",
           "ticks": "",
           "title": {
            "standoff": 15
           },
           "zerolinecolor": "white",
           "zerolinewidth": 2
          }
         }
        },
        "xaxis": {
         "anchor": "y",
         "domain": [
          0,
          1
         ],
         "title": {
          "text": "x"
         }
        },
        "yaxis": {
         "anchor": "x",
         "domain": [
          0,
          1
         ],
         "title": {
          "text": "y"
         }
        }
       }
      }
     },
     "metadata": {},
     "output_type": "display_data"
    },
    {
     "name": "stdout",
     "output_type": "stream",
     "text": [
      "\n"
     ]
    }
   ],
   "source": [
    "# Initialize MLP\n",
    "torch.manual_seed(123)\n",
    "model_seq = MyMLP(n_in, n_hidden1, n_hidden2, n_hidden3, n_out)\n",
    "# The DataLoader batches up the examples of our cifar dataset\n",
    "# Here we use shuffle = True in order to shuffle the dataset for the training\n",
    "train_loader = torch.utils.data.DataLoader(cifar2_train, batch_size=64, shuffle=False) \n",
    "\n",
    "# Instantiate the optimizer, here:\n",
    "# 1. Stochastic Gradient Descent optimizer, \n",
    "# 2. that has to be applied to our parameters (model.parameters())\n",
    "# 3. With a learning rate of 1e-2\n",
    "optimizer = optim.SGD(model_seq.parameters(), lr=1e-2, weight_decay=0.01, momentum=0.1)\n",
    "\n",
    "# Instantiate the loss function (here we use cross entropy)\n",
    "loss_fn = nn.CrossEntropyLoss()\n",
    "\n",
    "# Now all we have to do is calling the training loop\n",
    "train(\n",
    "    n_epochs = 21,\n",
    "    optimizer = optimizer,\n",
    "    model = model_seq,\n",
    "    loss_fn = loss_fn,\n",
    "    train_loader = train_loader,\n",
    ")\n",
    "print('')"
   ]
  },
  {
   "cell_type": "code",
   "execution_count": null,
   "metadata": {},
   "outputs": [
    {
     "name": "stdout",
     "output_type": "stream",
     "text": [
      "Training accuracy:\n",
      "Accuracy: 0.95\n",
      "Validation accuracy:\n",
      "Accuracy: 0.84\n",
      "Test accuracy:\n",
      "Accuracy: 0.85\n"
     ]
    },
    {
     "data": {
      "text/plain": [
       "0.853"
      ]
     },
     "execution_count": 24,
     "metadata": {},
     "output_type": "execute_result"
    }
   ],
   "source": [
    "# Here we use shuffle = False\n",
    "# Because it is easier to check the predictions made.\n",
    "train_loader = torch.utils.data.DataLoader(cifar2_train, batch_size=64, shuffle=False)\n",
    "val_loader = torch.utils.data.DataLoader(cifar2_val, batch_size=64, shuffle=False)\n",
    "test_loader = torch.utils.data.DataLoader(cifar2_test, batch_size=64, shuffle=False)\n",
    "\n",
    "\n",
    "print(\"Training accuracy:\")\n",
    "compute_accuracy(model_seq, train_loader)\n",
    "print(\"Validation accuracy:\")\n",
    "compute_accuracy(model_seq, val_loader)\n",
    "print(\"Test accuracy:\")\n",
    "compute_accuracy(model_seq, test_loader)"
   ]
  },
  {
   "cell_type": "markdown",
   "metadata": {},
   "source": [
    "## 3.6 train_manual() with learning rate, weight decay and momentum"
   ]
  },
  {
   "cell_type": "code",
   "execution_count": null,
   "metadata": {},
   "outputs": [
    {
     "name": "stdout",
     "output_type": "stream",
     "text": [
      "23:20:06.079855  |  Epoch 1  |  Training loss 0.641\n",
      "23:20:35.724817  |  Epoch 10  |  Training loss 0.328\n",
      "23:21:08.872297  |  Epoch 20  |  Training loss 0.207\n",
      "\n"
     ]
    }
   ],
   "source": [
    "# Initialize MLP\n",
    "torch.manual_seed(123)\n",
    "model_seq = MyMLP(n_in, n_hidden1, n_hidden2, n_hidden3, n_out)\n",
    "# The DataLoader batches up the examples of our cifar dataset\n",
    "# Here we use shuffle = True in order to shuffle the dataset for the training\n",
    "train_loader = torch.utils.data.DataLoader(cifar2_train, batch_size=64, shuffle=False) \n",
    "\n",
    "# Instantiate the loss function (here we use cross entropy)\n",
    "loss_fn = nn.CrossEntropyLoss()\n",
    "\n",
    "# Now all we have to do is calling the training loop\n",
    "train_manual_update(\n",
    "    n_epochs = 21,\n",
    "    lr = 1e-2,\n",
    "    model = model_seq,\n",
    "    loss_fn = loss_fn,\n",
    "    train_loader = train_loader,\n",
    "    val_loader= val_loader,\n",
    "    weight_decay = 0.01,\n",
    "    momentum = 0.1,\n",
    ")\n",
    "print('')"
   ]
  },
  {
   "cell_type": "code",
   "execution_count": null,
   "metadata": {},
   "outputs": [
    {
     "name": "stdout",
     "output_type": "stream",
     "text": [
      "Training accuracy:\n",
      "Accuracy: 0.95\n",
      "Validation accuracy:\n",
      "Accuracy: 0.84\n",
      "Test accuracy:\n",
      "Accuracy: 0.85\n"
     ]
    },
    {
     "data": {
      "text/plain": [
       "0.853"
      ]
     },
     "execution_count": 26,
     "metadata": {},
     "output_type": "execute_result"
    }
   ],
   "source": [
    "# Here we use shuffle = False\n",
    "# Because it is easier to check the predictions made.\n",
    "train_loader = torch.utils.data.DataLoader(cifar2_train, batch_size=64, shuffle=False)\n",
    "val_loader = torch.utils.data.DataLoader(cifar2_val, batch_size=64, shuffle=False)\n",
    "test_loader = torch.utils.data.DataLoader(cifar2_test, batch_size=64, shuffle=False)\n",
    "\n",
    "\n",
    "print(\"Training accuracy:\")\n",
    "compute_accuracy(model_seq, train_loader)\n",
    "print(\"Validation accuracy:\")\n",
    "compute_accuracy(model_seq, val_loader)\n",
    "print(\"Test accuracy:\")\n",
    "compute_accuracy(model_seq, test_loader)"
   ]
  },
  {
   "cell_type": "markdown",
   "metadata": {},
   "source": [
    "# 4. Several models and model selection"
   ]
  },
  {
   "cell_type": "code",
   "execution_count": null,
   "metadata": {},
   "outputs": [
    {
     "name": "stdout",
     "output_type": "stream",
     "text": [
      " ====================== model 1 ====================== \n",
      "Iteration using weight value 0, and momentum value 0:\n",
      "23:21:16.189668  |  Epoch 1  |  Training loss 0.504\n",
      "23:21:46.378841  |  Epoch 10  |  Training loss 0.207\n",
      "23:22:20.425196  |  Epoch 20  |  Training loss 0.097\n",
      "\n",
      "Accuracy: 0.96\n",
      "Training accuracy: \n",
      " 0.9573028723522236\n",
      "Accuracy: 0.84\n",
      "Validation accuracy: \n",
      " 0.8413021363173957\n",
      " ====================== model 2 ====================== \n",
      "Iteration using weight value 0, and momentum value 0:\n",
      "23:22:27.838354  |  Epoch 1  |  Training loss 0.645\n",
      "23:22:58.736369  |  Epoch 10  |  Training loss 0.326\n",
      "23:23:32.720613  |  Epoch 20  |  Training loss 0.193\n",
      "\n",
      "Accuracy: 0.93\n",
      "Training accuracy: \n",
      " 0.9311300876122879\n",
      "Accuracy: 0.84\n",
      "Validation accuracy: \n",
      " 0.8382502543234995\n",
      " ====================== model 3 ====================== \n",
      "Iteration using weight value 0, and momentum value 0:\n",
      "23:23:39.896094  |  Epoch 1  |  Training loss 0.690\n",
      "23:24:10.591069  |  Epoch 10  |  Training loss 0.589\n",
      "23:24:45.198522  |  Epoch 20  |  Training loss 0.495\n",
      "\n",
      "Accuracy: 0.79\n",
      "Training accuracy: \n",
      " 0.7939447709881335\n",
      "Accuracy: 0.79\n",
      "Validation accuracy: \n",
      " 0.7894201424211598\n",
      " ====================== model 4 ====================== \n",
      "Iteration using weight value 0, and momentum value 0:\n",
      "23:24:52.488745  |  Epoch 1  |  Training loss 0.694\n",
      "23:25:22.923330  |  Epoch 10  |  Training loss 0.686\n",
      "23:25:57.005745  |  Epoch 20  |  Training loss 0.678\n",
      "\n",
      "Accuracy: 0.50\n",
      "Training accuracy: \n",
      " 0.5007208605966508\n",
      "Accuracy: 0.50\n",
      "Validation accuracy: \n",
      " 0.49745676500508645\n",
      " ====================== model 5 ====================== \n",
      "Iteration using weight value 0, and momentum value 0.01:\n",
      "23:26:04.378034  |  Epoch 1  |  Training loss 0.499\n",
      "23:26:34.684696  |  Epoch 10  |  Training loss 0.181\n",
      "23:27:08.599326  |  Epoch 20  |  Training loss 0.094\n",
      "\n",
      "Accuracy: 0.96\n",
      "Training accuracy: \n",
      " 0.9591882000665409\n",
      "Accuracy: 0.83\n",
      "Validation accuracy: \n",
      " 0.8331637843336724\n",
      " ====================== model 6 ====================== \n",
      "Iteration using weight value 0, and momentum value 0.01:\n",
      "23:27:16.082369  |  Epoch 1  |  Training loss 0.645\n",
      "23:27:46.754114  |  Epoch 10  |  Training loss 0.325\n",
      "23:28:20.603435  |  Epoch 20  |  Training loss 0.193\n",
      "\n",
      "Accuracy: 0.92\n",
      "Training accuracy: \n",
      " 0.9190418099146057\n",
      "Accuracy: 0.84\n",
      "Validation accuracy: \n",
      " 0.8351983723296033\n",
      " ====================== model 7 ====================== \n",
      "Iteration using weight value 0, and momentum value 0.01:\n",
      "23:28:27.899754  |  Epoch 1  |  Training loss 0.690\n",
      "23:28:58.547204  |  Epoch 10  |  Training loss 0.588\n",
      "23:29:32.226152  |  Epoch 20  |  Training loss 0.494\n",
      "\n",
      "Accuracy: 0.79\n",
      "Training accuracy: \n",
      " 0.7946101807696573\n",
      "Accuracy: 0.79\n",
      "Validation accuracy: \n",
      " 0.7894201424211598\n",
      " ====================== model 8 ====================== \n",
      "Iteration using weight value 0, and momentum value 0.01:\n",
      "23:29:39.631751  |  Epoch 1  |  Training loss 0.694\n",
      "23:30:09.581266  |  Epoch 10  |  Training loss 0.686\n",
      "23:30:43.819229  |  Epoch 20  |  Training loss 0.678\n",
      "\n",
      "Accuracy: 0.50\n",
      "Training accuracy: \n",
      " 0.5006099589663968\n",
      "Accuracy: 0.50\n",
      "Validation accuracy: \n",
      " 0.49745676500508645\n",
      " ====================== model 9 ====================== \n",
      "Iteration using weight value 0, and momentum value 0.1:\n",
      "23:30:51.182580  |  Epoch 1  |  Training loss 0.496\n",
      "23:31:21.843585  |  Epoch 10  |  Training loss 0.189\n",
      "23:31:55.206928  |  Epoch 20  |  Training loss 0.088\n",
      "\n",
      "Accuracy: 0.97\n",
      "Training accuracy: \n",
      " 0.9658422978817789\n",
      "Accuracy: 0.84\n",
      "Validation accuracy: \n",
      " 0.8433367243133265\n",
      " ====================== model 10 ====================== \n",
      "Iteration using weight value 0, and momentum value 0.1:\n",
      "23:32:02.660960  |  Epoch 1  |  Training loss 0.639\n",
      "23:32:33.496614  |  Epoch 10  |  Training loss 0.312\n",
      "23:33:07.307388  |  Epoch 20  |  Training loss 0.185\n",
      "\n",
      "Accuracy: 0.96\n",
      "Training accuracy: \n",
      " 0.9554175446379062\n",
      "Accuracy: 0.84\n",
      "Validation accuracy: \n",
      " 0.8362156663275687\n",
      " ====================== model 11 ====================== \n",
      "Iteration using weight value 0, and momentum value 0.1:\n",
      "23:33:14.491404  |  Epoch 1  |  Training loss 0.690\n",
      "23:33:45.467173  |  Epoch 10  |  Training loss 0.575\n",
      "23:34:19.506379  |  Epoch 20  |  Training loss 0.485\n",
      "\n",
      "Accuracy: 0.80\n",
      "Training accuracy: \n",
      " 0.7982699345680382\n",
      "Accuracy: 0.79\n",
      "Validation accuracy: \n",
      " 0.7924720244150559\n",
      " ====================== model 12 ====================== \n",
      "Iteration using weight value 0, and momentum value 0.1:\n",
      "23:34:26.866961  |  Epoch 1  |  Training loss 0.694\n",
      "23:34:56.932998  |  Epoch 10  |  Training loss 0.686\n",
      "23:35:31.411605  |  Epoch 20  |  Training loss 0.676\n",
      "\n",
      "Accuracy: 0.50\n",
      "Training accuracy: \n",
      " 0.5014971720084285\n",
      "Accuracy: 0.50\n",
      "Validation accuracy: \n",
      " 0.5005086469989827\n",
      " ====================== model 13 ====================== \n",
      "Iteration using weight value 0, and momentum value 0.8:\n",
      "23:35:38.983583  |  Epoch 1  |  Training loss 0.491\n",
      "23:36:09.165075  |  Epoch 10  |  Training loss 0.228\n",
      "23:36:43.210268  |  Epoch 20  |  Training loss 0.147\n",
      "\n",
      "Accuracy: 0.95\n",
      "Training accuracy: \n",
      " 0.9468781191083508\n",
      "Accuracy: 0.85\n",
      "Validation accuracy: \n",
      " 0.8484231943031536\n",
      " ====================== model 14 ====================== \n",
      "Iteration using weight value 0, and momentum value 0.8:\n",
      "23:36:50.605674  |  Epoch 1  |  Training loss 0.532\n",
      "23:37:20.779374  |  Epoch 10  |  Training loss 0.171\n",
      "23:37:54.963396  |  Epoch 20  |  Training loss 0.078\n",
      "\n",
      "Accuracy: 0.97\n",
      "Training accuracy: \n",
      " 0.9659531995120328\n",
      "Accuracy: 0.83\n",
      "Validation accuracy: \n",
      " 0.8341810783316378\n",
      " ====================== model 15 ====================== \n",
      "Iteration using weight value 0, and momentum value 0.8:\n",
      "23:38:02.201669  |  Epoch 1  |  Training loss 0.674\n",
      "23:38:32.849410  |  Epoch 10  |  Training loss 0.407\n",
      "23:39:06.942484  |  Epoch 20  |  Training loss 0.289\n",
      "\n",
      "Accuracy: 0.90\n",
      "Training accuracy: \n",
      " 0.902406565376511\n",
      "Accuracy: 0.84\n",
      "Validation accuracy: \n",
      " 0.8392675483214649\n",
      " ====================== model 16 ====================== \n",
      "Iteration using weight value 0, and momentum value 0.8:\n",
      "23:39:14.460396  |  Epoch 1  |  Training loss 0.693\n",
      "23:39:45.695909  |  Epoch 10  |  Training loss 0.650\n",
      "23:40:19.669637  |  Epoch 20  |  Training loss 0.586\n",
      "\n",
      "Accuracy: 0.75\n",
      "Training accuracy: \n",
      " 0.7479205944327382\n",
      "Accuracy: 0.75\n",
      "Validation accuracy: \n",
      " 0.7507629704984741\n",
      " ====================== model 17 ====================== \n",
      "Iteration using weight value 0.01, and momentum value 0:\n",
      "23:40:26.964315  |  Epoch 1  |  Training loss 0.501\n",
      "23:40:57.517620  |  Epoch 10  |  Training loss 0.311\n",
      "23:41:31.430629  |  Epoch 20  |  Training loss 0.268\n",
      "\n",
      "Accuracy: 0.89\n",
      "Training accuracy: \n",
      " 0.8889874681157813\n",
      "Accuracy: 0.82\n",
      "Validation accuracy: \n",
      " 0.8240081383519837\n",
      " ====================== model 18 ====================== \n",
      "Iteration using weight value 0.01, and momentum value 0:\n",
      "23:41:38.830049  |  Epoch 1  |  Training loss 0.647\n",
      "23:42:09.161189  |  Epoch 10  |  Training loss 0.340\n",
      "23:42:43.201911  |  Epoch 20  |  Training loss 0.223\n",
      "\n",
      "Accuracy: 0.94\n",
      "Training accuracy: \n",
      " 0.9391150049905733\n",
      "Accuracy: 0.85\n",
      "Validation accuracy: \n",
      " 0.8504577822990844\n",
      " ====================== model 19 ====================== \n",
      "Iteration using weight value 0.01, and momentum value 0:\n",
      "23:42:50.352114  |  Epoch 1  |  Training loss 0.690\n",
      "23:43:20.298430  |  Epoch 10  |  Training loss 0.593\n",
      "23:43:54.143108  |  Epoch 20  |  Training loss 0.500\n",
      "\n",
      "Accuracy: 0.79\n",
      "Training accuracy: \n",
      " 0.7922812465343241\n",
      "Accuracy: 0.79\n",
      "Validation accuracy: \n",
      " 0.7873855544252288\n",
      " ====================== model 20 ====================== \n",
      "Iteration using weight value 0.01, and momentum value 0:\n",
      "23:44:01.617461  |  Epoch 1  |  Training loss 0.694\n",
      "23:44:31.841969  |  Epoch 10  |  Training loss 0.687\n",
      "23:45:05.177355  |  Epoch 20  |  Training loss 0.678\n",
      "\n",
      "Accuracy: 0.50\n",
      "Training accuracy: \n",
      " 0.5007208605966508\n",
      "Accuracy: 0.50\n",
      "Validation accuracy: \n",
      " 0.49745676500508645\n",
      " ====================== model 21 ====================== \n",
      "Iteration using weight value 0.01, and momentum value 0.01:\n",
      "23:45:12.460900  |  Epoch 1  |  Training loss 0.502\n",
      "23:45:42.579560  |  Epoch 10  |  Training loss 0.318\n",
      "23:46:16.669151  |  Epoch 20  |  Training loss 0.263\n",
      "\n",
      "Accuracy: 0.91\n",
      "Training accuracy: \n",
      " 0.9101696794942886\n",
      "Accuracy: 0.84\n",
      "Validation accuracy: \n",
      " 0.8413021363173957\n",
      " ====================== model 22 ====================== \n",
      "Iteration using weight value 0.01, and momentum value 0.01:\n",
      "23:46:23.856668  |  Epoch 1  |  Training loss 0.646\n",
      "23:46:54.193946  |  Epoch 10  |  Training loss 0.339\n",
      "23:47:27.283279  |  Epoch 20  |  Training loss 0.222\n",
      "\n",
      "Accuracy: 0.94\n",
      "Training accuracy: \n",
      " 0.9422202506376843\n",
      "Accuracy: 0.85\n",
      "Validation accuracy: \n",
      " 0.8504577822990844\n",
      " ====================== model 23 ====================== \n",
      "Iteration using weight value 0.01, and momentum value 0.01:\n",
      "23:47:34.549165  |  Epoch 1  |  Training loss 0.690\n",
      "23:48:05.176106  |  Epoch 10  |  Training loss 0.592\n",
      "23:48:39.032473  |  Epoch 20  |  Training loss 0.499\n",
      "\n",
      "Accuracy: 0.79\n",
      "Training accuracy: \n",
      " 0.792392148164578\n",
      "Accuracy: 0.79\n",
      "Validation accuracy: \n",
      " 0.7884028484231943\n",
      " ====================== model 24 ====================== \n",
      "Iteration using weight value 0.01, and momentum value 0.01:\n",
      "23:48:46.479145  |  Epoch 1  |  Training loss 0.694\n",
      "23:49:16.327554  |  Epoch 10  |  Training loss 0.686\n",
      "23:49:50.106624  |  Epoch 20  |  Training loss 0.678\n",
      "\n",
      "Accuracy: 0.50\n",
      "Training accuracy: \n",
      " 0.5007208605966508\n",
      "Accuracy: 0.50\n",
      "Validation accuracy: \n",
      " 0.49745676500508645\n",
      " ====================== model 25 ====================== \n",
      "Iteration using weight value 0.01, and momentum value 0.1:\n",
      "23:49:57.430444  |  Epoch 1  |  Training loss 0.498\n",
      "23:50:27.005065  |  Epoch 10  |  Training loss 0.316\n",
      "23:51:00.197505  |  Epoch 20  |  Training loss 0.256\n",
      "\n",
      "Accuracy: 0.84\n",
      "Training accuracy: \n",
      " 0.8383054230897194\n",
      "Accuracy: 0.77\n",
      "Validation accuracy: \n",
      " 0.7690742624618515\n",
      " ====================== model 26 ====================== \n",
      "Iteration using weight value 0.01, and momentum value 0.1:\n",
      "23:51:07.117102  |  Epoch 1  |  Training loss 0.641\n",
      "23:51:37.247387  |  Epoch 10  |  Training loss 0.328\n",
      "23:52:10.988028  |  Epoch 20  |  Training loss 0.207\n",
      "\n",
      "Accuracy: 0.95\n",
      "Training accuracy: \n",
      " 0.9468781191083508\n",
      "Accuracy: 0.84\n",
      "Validation accuracy: \n",
      " 0.8433367243133265\n",
      " ====================== model 27 ====================== \n",
      "Iteration using weight value 0.01, and momentum value 0.1:\n",
      "23:52:18.043778  |  Epoch 1  |  Training loss 0.690\n",
      "23:52:48.654286  |  Epoch 10  |  Training loss 0.580\n",
      "23:53:22.044992  |  Epoch 20  |  Training loss 0.489\n",
      "\n",
      "Accuracy: 0.80\n",
      "Training accuracy: \n",
      " 0.7967173117444827\n",
      "Accuracy: 0.79\n",
      "Validation accuracy: \n",
      " 0.7914547304170906\n",
      " ====================== model 28 ====================== \n",
      "Iteration using weight value 0.01, and momentum value 0.1:\n",
      "23:53:29.331718  |  Epoch 1  |  Training loss 0.694\n",
      "23:53:59.973265  |  Epoch 10  |  Training loss 0.686\n",
      "23:54:33.861312  |  Epoch 20  |  Training loss 0.676\n",
      "\n",
      "Accuracy: 0.50\n",
      "Training accuracy: \n",
      " 0.5013862703781745\n",
      "Accuracy: 0.50\n",
      "Validation accuracy: \n",
      " 0.49847405900305186\n",
      " ====================== model 29 ====================== \n",
      "Iteration using weight value 0.01, and momentum value 0.8:\n",
      "23:54:41.325951  |  Epoch 1  |  Training loss 0.494\n",
      "23:55:11.147120  |  Epoch 10  |  Training loss 0.410\n",
      "23:55:44.619792  |  Epoch 20  |  Training loss 0.406\n",
      "\n",
      "Accuracy: 0.85\n",
      "Training accuracy: \n",
      " 0.8482865698125762\n",
      "Accuracy: 0.80\n",
      "Validation accuracy: \n",
      " 0.8026449643947101\n",
      " ====================== model 30 ====================== \n",
      "Iteration using weight value 0.01, and momentum value 0.8:\n",
      "23:55:51.746491  |  Epoch 1  |  Training loss 0.535\n",
      "23:56:22.114033  |  Epoch 10  |  Training loss 0.234\n",
      "23:56:55.665532  |  Epoch 20  |  Training loss 0.160\n",
      "\n",
      "Accuracy: 0.92\n",
      "Training accuracy: \n",
      " 0.9238105800155262\n",
      "Accuracy: 0.81\n",
      "Validation accuracy: \n",
      " 0.8138351983723296\n",
      " ====================== model 31 ====================== \n",
      "Iteration using weight value 0.01, and momentum value 0.8:\n",
      "23:57:02.810929  |  Epoch 1  |  Training loss 0.674\n",
      "23:57:32.954753  |  Epoch 10  |  Training loss 0.416\n",
      "23:58:05.973275  |  Epoch 20  |  Training loss 0.311\n",
      "\n",
      "Accuracy: 0.89\n",
      "Training accuracy: \n",
      " 0.8899855827880669\n",
      "Accuracy: 0.84\n",
      "Validation accuracy: \n",
      " 0.8372329603255341\n",
      " ====================== model 32 ====================== \n",
      "Iteration using weight value 0.01, and momentum value 0.8:\n",
      "23:58:13.176148  |  Epoch 1  |  Training loss 0.693\n",
      "23:58:44.460934  |  Epoch 10  |  Training loss 0.651\n",
      "23:59:17.060331  |  Epoch 20  |  Training loss 0.590\n",
      "\n",
      "Accuracy: 0.75\n",
      "Training accuracy: \n",
      " 0.745148053676389\n",
      "Accuracy: 0.74\n",
      "Validation accuracy: \n",
      " 0.7446592065106816\n",
      " ====================== model 33 ====================== \n",
      "Iteration using weight value 0.1, and momentum value 0:\n",
      "23:59:24.065829  |  Epoch 1  |  Training loss 0.533\n",
      "23:59:54.128140  |  Epoch 10  |  Training loss 0.470\n",
      "00:00:26.962026  |  Epoch 20  |  Training loss 0.470\n",
      "\n",
      "Accuracy: 0.81\n",
      "Training accuracy: \n",
      " 0.8108018187867362\n",
      "Accuracy: 0.81\n",
      "Validation accuracy: \n",
      " 0.8107833163784334\n",
      " ====================== model 34 ====================== \n",
      "Iteration using weight value 0.1, and momentum value 0:\n",
      "00:00:34.187989  |  Epoch 1  |  Training loss 0.659\n",
      "00:01:04.184688  |  Epoch 10  |  Training loss 0.453\n",
      "00:01:37.728114  |  Epoch 20  |  Training loss 0.416\n",
      "\n",
      "Accuracy: 0.83\n",
      "Training accuracy: \n",
      " 0.8340911611400688\n",
      "Accuracy: 0.82\n",
      "Validation accuracy: \n",
      " 0.8209562563580874\n",
      " ====================== model 35 ====================== \n",
      "Iteration using weight value 0.1, and momentum value 0:\n",
      "00:01:44.813734  |  Epoch 1  |  Training loss 0.691\n",
      "00:02:14.625947  |  Epoch 10  |  Training loss 0.625\n",
      "00:02:48.061711  |  Epoch 20  |  Training loss 0.553\n",
      "\n",
      "Accuracy: 0.77\n",
      "Training accuracy: \n",
      " 0.7693246090717534\n",
      "Accuracy: 0.78\n",
      "Validation accuracy: \n",
      " 0.7761953204476093\n",
      " ====================== model 36 ====================== \n",
      "Iteration using weight value 0.1, and momentum value 0:\n",
      "00:02:55.426327  |  Epoch 1  |  Training loss 0.694\n",
      "00:03:25.154638  |  Epoch 10  |  Training loss 0.687\n",
      "00:03:58.741369  |  Epoch 20  |  Training loss 0.680\n",
      "\n",
      "Accuracy: 0.50\n",
      "Training accuracy: \n",
      " 0.5004990573361429\n",
      "Accuracy: 0.50\n",
      "Validation accuracy: \n",
      " 0.49542217700915564\n",
      " ====================== model 37 ====================== \n",
      "Iteration using weight value 0.1, and momentum value 0.01:\n",
      "00:04:05.660089  |  Epoch 1  |  Training loss 0.533\n",
      "00:04:35.757138  |  Epoch 10  |  Training loss 0.470\n",
      "00:05:09.513931  |  Epoch 20  |  Training loss 0.470\n",
      "\n",
      "Accuracy: 0.81\n",
      "Training accuracy: \n",
      " 0.8109127204169901\n",
      "Accuracy: 0.81\n",
      "Validation accuracy: \n",
      " 0.8107833163784334\n",
      " ====================== model 38 ====================== \n",
      "Iteration using weight value 0.1, and momentum value 0.01:\n",
      "00:05:16.927932  |  Epoch 1  |  Training loss 0.659\n",
      "00:05:47.849802  |  Epoch 10  |  Training loss 0.452\n",
      "00:06:22.016444  |  Epoch 20  |  Training loss 0.416\n",
      "\n",
      "Accuracy: 0.83\n",
      "Training accuracy: \n",
      " 0.8339802595098148\n",
      "Accuracy: 0.82\n",
      "Validation accuracy: \n",
      " 0.8209562563580874\n",
      " ====================== model 39 ====================== \n",
      "Iteration using weight value 0.1, and momentum value 0.01:\n",
      "00:06:29.519866  |  Epoch 1  |  Training loss 0.691\n",
      "00:07:00.672362  |  Epoch 10  |  Training loss 0.624\n",
      "00:07:35.293000  |  Epoch 20  |  Training loss 0.552\n",
      "\n",
      "Accuracy: 0.77\n",
      "Training accuracy: \n",
      " 0.7694355107020073\n",
      "Accuracy: 0.77\n",
      "Validation accuracy: \n",
      " 0.7741607324516785\n",
      " ====================== model 40 ====================== \n",
      "Iteration using weight value 0.1, and momentum value 0.01:\n",
      "00:07:42.846237  |  Epoch 1  |  Training loss 0.694\n",
      "00:08:14.695359  |  Epoch 10  |  Training loss 0.687\n",
      "00:08:50.065992  |  Epoch 20  |  Training loss 0.680\n",
      "\n",
      "Accuracy: 0.50\n",
      "Training accuracy: \n",
      " 0.5003881557058889\n",
      "Accuracy: 0.50\n",
      "Validation accuracy: \n",
      " 0.49542217700915564\n",
      " ====================== model 41 ====================== \n",
      "Iteration using weight value 0.1, and momentum value 0.1:\n",
      "00:08:57.551110  |  Epoch 1  |  Training loss 0.530\n",
      "00:09:27.979931  |  Epoch 10  |  Training loss 0.472\n",
      "00:10:02.170666  |  Epoch 20  |  Training loss 0.472\n",
      "\n",
      "Accuracy: 0.81\n",
      "Training accuracy: \n",
      " 0.8092491959631807\n",
      "Accuracy: 0.81\n",
      "Validation accuracy: \n",
      " 0.8128179043743642\n",
      " ====================== model 42 ====================== \n",
      "Iteration using weight value 0.1, and momentum value 0.1:\n",
      "00:10:09.182107  |  Epoch 1  |  Training loss 0.655\n",
      "00:10:39.271708  |  Epoch 10  |  Training loss 0.447\n",
      "00:11:13.152704  |  Epoch 20  |  Training loss 0.414\n",
      "\n",
      "Accuracy: 0.83\n",
      "Training accuracy: \n",
      " 0.8346456692913385\n",
      "Accuracy: 0.82\n",
      "Validation accuracy: \n",
      " 0.8219735503560529\n",
      " ====================== model 43 ====================== \n",
      "Iteration using weight value 0.1, and momentum value 0.1:\n",
      "00:11:20.321739  |  Epoch 1  |  Training loss 0.690\n",
      "00:11:51.048626  |  Epoch 10  |  Training loss 0.617\n",
      "00:12:24.722278  |  Epoch 20  |  Training loss 0.541\n",
      "\n",
      "Accuracy: 0.77\n",
      "Training accuracy: \n",
      " 0.7725407563491183\n",
      "Accuracy: 0.78\n",
      "Validation accuracy: \n",
      " 0.7812817904374364\n",
      " ====================== model 44 ====================== \n",
      "Iteration using weight value 0.1, and momentum value 0.1:\n",
      "00:12:32.128770  |  Epoch 1  |  Training loss 0.694\n",
      "00:13:02.768128  |  Epoch 10  |  Training loss 0.686\n",
      "00:13:36.546893  |  Epoch 20  |  Training loss 0.678\n",
      "\n",
      "Accuracy: 0.50\n",
      "Training accuracy: \n",
      " 0.5007208605966508\n",
      "Accuracy: 0.50\n",
      "Validation accuracy: \n",
      " 0.49643947100712105\n",
      " ====================== model 45 ====================== \n",
      "Iteration using weight value 0.1, and momentum value 0.8:\n",
      "00:13:43.818580  |  Epoch 1  |  Training loss 0.531\n",
      "00:14:13.451260  |  Epoch 10  |  Training loss 0.519\n",
      "00:14:46.706588  |  Epoch 20  |  Training loss 0.520\n",
      "\n",
      "Accuracy: 0.78\n",
      "Training accuracy: \n",
      " 0.7811910835089276\n",
      "Accuracy: 0.78\n",
      "Validation accuracy: \n",
      " 0.780264496439471\n",
      " ====================== model 46 ====================== \n",
      "Iteration using weight value 0.1, and momentum value 0.8:\n",
      "00:14:53.883313  |  Epoch 1  |  Training loss 0.570\n",
      "00:15:23.778374  |  Epoch 10  |  Training loss 0.435\n",
      "00:15:57.920295  |  Epoch 20  |  Training loss 0.432\n",
      "\n",
      "Accuracy: 0.82\n",
      "Training accuracy: \n",
      " 0.8190085394255295\n",
      "Accuracy: 0.81\n",
      "Validation accuracy: \n",
      " 0.8128179043743642\n",
      " ====================== model 47 ====================== \n",
      "Iteration using weight value 0.1, and momentum value 0.8:\n",
      "00:16:04.949990  |  Epoch 1  |  Training loss 0.677\n",
      "00:16:34.557674  |  Epoch 10  |  Training loss 0.487\n",
      "00:17:09.285542  |  Epoch 20  |  Training loss 0.449\n",
      "\n",
      "Accuracy: 0.82\n",
      "Training accuracy: \n",
      " 0.820672063879339\n",
      "Accuracy: 0.81\n",
      "Validation accuracy: \n",
      " 0.8128179043743642\n",
      " ====================== model 48 ====================== \n",
      "Iteration using weight value 0.1, and momentum value 0.8:\n",
      "00:17:16.232640  |  Epoch 1  |  Training loss 0.693\n",
      "00:17:44.549443  |  Epoch 10  |  Training loss 0.660\n",
      "00:18:16.100706  |  Epoch 20  |  Training loss 0.623\n",
      "\n",
      "Accuracy: 0.72\n",
      "Training accuracy: \n",
      " 0.7247421537096596\n",
      "Accuracy: 0.74\n",
      "Validation accuracy: \n",
      " 0.7355035605289929\n",
      " ====================== model 49 ====================== \n",
      "Iteration using weight value 0.5, and momentum value 0:\n",
      "00:18:23.008069  |  Epoch 1  |  Training loss 0.692\n",
      "00:18:52.074238  |  Epoch 10  |  Training loss 0.693\n",
      "00:19:24.452855  |  Epoch 20  |  Training loss 0.693\n",
      "\n",
      "Accuracy: 0.50\n",
      "Training accuracy: \n",
      " 0.49950094266385714\n",
      "Accuracy: 0.50\n",
      "Validation accuracy: \n",
      " 0.5045778229908443\n",
      " ====================== model 50 ====================== \n",
      "Iteration using weight value 0.5, and momentum value 0:\n",
      "00:19:31.685102  |  Epoch 1  |  Training loss 0.686\n",
      "00:20:00.282789  |  Epoch 10  |  Training loss 0.693\n",
      "00:20:32.331281  |  Epoch 20  |  Training loss 0.693\n",
      "\n",
      "Accuracy: 0.50\n",
      "Training accuracy: \n",
      " 0.5004990573361429\n",
      "Accuracy: 0.50\n",
      "Validation accuracy: \n",
      " 0.49542217700915564\n",
      " ====================== model 51 ====================== \n",
      "Iteration using weight value 0.5, and momentum value 0:\n",
      "00:20:39.277284  |  Epoch 1  |  Training loss 0.691\n",
      "00:21:08.421491  |  Epoch 10  |  Training loss 0.687\n",
      "00:21:40.377225  |  Epoch 20  |  Training loss 0.692\n",
      "\n",
      "Accuracy: 0.50\n",
      "Training accuracy: \n",
      " 0.5004990573361429\n",
      "Accuracy: 0.50\n",
      "Validation accuracy: \n",
      " 0.49542217700915564\n",
      " ====================== model 52 ====================== \n",
      "Iteration using weight value 0.5, and momentum value 0:\n",
      "00:21:47.706030  |  Epoch 1  |  Training loss 0.694\n",
      "00:22:16.676826  |  Epoch 10  |  Training loss 0.689\n",
      "00:22:48.524182  |  Epoch 20  |  Training loss 0.685\n",
      "\n",
      "Accuracy: 0.50\n",
      "Training accuracy: \n",
      " 0.5004990573361429\n",
      "Accuracy: 0.50\n",
      "Validation accuracy: \n",
      " 0.49542217700915564\n",
      " ====================== model 53 ====================== \n",
      "Iteration using weight value 0.5, and momentum value 0.01:\n",
      "00:22:55.450148  |  Epoch 1  |  Training loss 0.692\n",
      "00:23:23.909843  |  Epoch 10  |  Training loss 0.693\n",
      "00:23:55.627617  |  Epoch 20  |  Training loss 0.693\n",
      "\n",
      "Accuracy: 0.50\n",
      "Training accuracy: \n",
      " 0.49950094266385714\n",
      "Accuracy: 0.50\n",
      "Validation accuracy: \n",
      " 0.5045778229908443\n",
      " ====================== model 54 ====================== \n",
      "Iteration using weight value 0.5, and momentum value 0.01:\n",
      "00:24:02.483964  |  Epoch 1  |  Training loss 0.686\n",
      "00:24:31.336105  |  Epoch 10  |  Training loss 0.693\n",
      "00:25:04.441197  |  Epoch 20  |  Training loss 0.693\n",
      "\n",
      "Accuracy: 0.50\n",
      "Training accuracy: \n",
      " 0.5004990573361429\n",
      "Accuracy: 0.50\n",
      "Validation accuracy: \n",
      " 0.49542217700915564\n",
      " ====================== model 55 ====================== \n",
      "Iteration using weight value 0.5, and momentum value 0.01:\n",
      "00:25:11.428678  |  Epoch 1  |  Training loss 0.691\n",
      "00:25:39.968706  |  Epoch 10  |  Training loss 0.687\n",
      "00:26:11.998799  |  Epoch 20  |  Training loss 0.692\n",
      "\n",
      "Accuracy: 0.50\n",
      "Training accuracy: \n",
      " 0.5004990573361429\n",
      "Accuracy: 0.50\n",
      "Validation accuracy: \n",
      " 0.49542217700915564\n",
      " ====================== model 56 ====================== \n",
      "Iteration using weight value 0.5, and momentum value 0.01:\n",
      "00:26:18.859873  |  Epoch 1  |  Training loss 0.694\n",
      "00:26:47.510341  |  Epoch 10  |  Training loss 0.689\n",
      "00:27:19.339062  |  Epoch 20  |  Training loss 0.685\n",
      "\n",
      "Accuracy: 0.50\n",
      "Training accuracy: \n",
      " 0.5004990573361429\n",
      "Accuracy: 0.50\n",
      "Validation accuracy: \n",
      " 0.49542217700915564\n",
      " ====================== model 57 ====================== \n",
      "Iteration using weight value 0.5, and momentum value 0.1:\n",
      "00:27:26.269649  |  Epoch 1  |  Training loss 0.693\n",
      "00:27:54.661529  |  Epoch 10  |  Training loss 0.693\n",
      "00:28:26.555143  |  Epoch 20  |  Training loss 0.693\n",
      "\n",
      "Accuracy: 0.50\n",
      "Training accuracy: \n",
      " 0.49950094266385714\n",
      "Accuracy: 0.50\n",
      "Validation accuracy: \n",
      " 0.5045778229908443\n",
      " ====================== model 58 ====================== \n",
      "Iteration using weight value 0.5, and momentum value 0.1:\n",
      "00:28:33.459853  |  Epoch 1  |  Training loss 0.686\n",
      "00:29:01.964507  |  Epoch 10  |  Training loss 0.693\n",
      "00:29:33.538027  |  Epoch 20  |  Training loss 0.693\n",
      "\n",
      "Accuracy: 0.50\n",
      "Training accuracy: \n",
      " 0.5004990573361429\n",
      "Accuracy: 0.50\n",
      "Validation accuracy: \n",
      " 0.49542217700915564\n",
      " ====================== model 59 ====================== \n",
      "Iteration using weight value 0.5, and momentum value 0.1:\n",
      "00:29:40.519081  |  Epoch 1  |  Training loss 0.691\n",
      "00:30:09.133559  |  Epoch 10  |  Training loss 0.687\n",
      "00:30:41.340244  |  Epoch 20  |  Training loss 0.693\n",
      "\n",
      "Accuracy: 0.50\n",
      "Training accuracy: \n",
      " 0.5004990573361429\n",
      "Accuracy: 0.50\n",
      "Validation accuracy: \n",
      " 0.49542217700915564\n",
      " ====================== model 60 ====================== \n",
      "Iteration using weight value 0.5, and momentum value 0.1:\n",
      "00:30:48.218298  |  Epoch 1  |  Training loss 0.694\n",
      "00:31:16.814838  |  Epoch 10  |  Training loss 0.688\n",
      "00:31:48.514443  |  Epoch 20  |  Training loss 0.685\n",
      "\n",
      "Accuracy: 0.50\n",
      "Training accuracy: \n",
      " 0.5004990573361429\n",
      "Accuracy: 0.50\n",
      "Validation accuracy: \n",
      " 0.49542217700915564\n",
      " ====================== model 61 ====================== \n",
      "Iteration using weight value 0.5, and momentum value 0.8:\n",
      "00:31:55.589541  |  Epoch 1  |  Training loss 0.693\n",
      "00:32:23.987153  |  Epoch 10  |  Training loss 0.694\n",
      "00:32:55.828210  |  Epoch 20  |  Training loss 0.694\n",
      "\n",
      "Accuracy: 0.50\n",
      "Training accuracy: \n",
      " 0.49950094266385714\n",
      "Accuracy: 0.50\n",
      "Validation accuracy: \n",
      " 0.5045778229908443\n",
      " ====================== model 62 ====================== \n",
      "Iteration using weight value 0.5, and momentum value 0.8:\n",
      "00:33:02.773637  |  Epoch 1  |  Training loss 0.691\n",
      "00:33:31.423978  |  Epoch 10  |  Training loss 0.693\n",
      "00:34:03.003614  |  Epoch 20  |  Training loss 0.693\n",
      "\n",
      "Accuracy: 0.50\n",
      "Training accuracy: \n",
      " 0.49950094266385714\n",
      "Accuracy: 0.50\n",
      "Validation accuracy: \n",
      " 0.5045778229908443\n",
      " ====================== model 63 ====================== \n",
      "Iteration using weight value 0.5, and momentum value 0.8:\n",
      "00:34:09.914659  |  Epoch 1  |  Training loss 0.686\n",
      "00:34:38.392280  |  Epoch 10  |  Training loss 0.693\n",
      "00:35:09.822730  |  Epoch 20  |  Training loss 0.693\n",
      "\n",
      "Accuracy: 0.50\n",
      "Training accuracy: \n",
      " 0.5004990573361429\n",
      "Accuracy: 0.50\n",
      "Validation accuracy: \n",
      " 0.49542217700915564\n",
      " ====================== model 64 ====================== \n",
      "Iteration using weight value 0.5, and momentum value 0.8:\n",
      "00:35:16.772796  |  Epoch 1  |  Training loss 0.693\n",
      "00:35:45.189228  |  Epoch 10  |  Training loss 0.683\n",
      "00:36:17.397171  |  Epoch 20  |  Training loss 0.687\n",
      "\n",
      "Accuracy: 0.50\n",
      "Training accuracy: \n",
      " 0.5004990573361429\n",
      "Accuracy: 0.50\n",
      "Validation accuracy: \n",
      " 0.49542217700915564\n",
      "Accuracy: 0.85\n"
     ]
    },
    {
     "data": {
      "application/vnd.plotly.v1+json": {
       "config": {
        "plotlyServerURL": "https://plot.ly"
       },
       "data": [
        {
         "hovertemplate": "variable=training_loss<br>epoch=%{x}<br>value=%{y}<extra></extra>",
         "legendgroup": "training_loss",
         "line": {
          "color": "#636efa",
          "dash": "solid"
         },
         "marker": {
          "symbol": "circle"
         },
         "mode": "lines",
         "name": "training_loss",
         "orientation": "v",
         "showlegend": true,
         "type": "scatter",
         "x": [
          1,
          2,
          3,
          4,
          5,
          6,
          7,
          8,
          9,
          10,
          11,
          12,
          13,
          14,
          15,
          16,
          17,
          18,
          19,
          20,
          21
         ],
         "xaxis": "x",
         "y": [
          0.6466591832146712,
          0.5376953718835688,
          0.4822795340385852,
          0.452786370135989,
          0.42737640564700247,
          0.40529019112646963,
          0.38680338651391066,
          0.37044481123222894,
          0.3551095294135376,
          0.34030381795540876,
          0.32594078853974257,
          0.31228041866048434,
          0.29919311631541623,
          0.2866716747891115,
          0.27461389876861403,
          0.2631591932839082,
          0.2527037606475093,
          0.24174429380142384,
          0.23186269371520685,
          0.22310843243137524,
          0.2109712733200157
         ],
         "yaxis": "y"
        },
        {
         "hovertemplate": "variable=validation_loss<br>epoch=%{x}<br>value=%{y}<extra></extra>",
         "legendgroup": "validation_loss",
         "line": {
          "color": "#EF553B",
          "dash": "solid"
         },
         "marker": {
          "symbol": "circle"
         },
         "mode": "lines",
         "name": "validation_loss",
         "orientation": "v",
         "showlegend": true,
         "type": "scatter",
         "x": [
          1,
          2,
          3,
          4,
          5,
          6,
          7,
          8,
          9,
          10,
          11,
          12,
          13,
          14,
          15,
          16,
          17,
          18,
          19,
          20,
          21
         ],
         "xaxis": "x",
         "y": [
          0.5833333295256785,
          0.5003117021207517,
          0.46762415615828434,
          0.4443563024831273,
          0.4257570891686705,
          0.4126715006381234,
          0.40335663346426726,
          0.3960700839219087,
          0.38992213365787315,
          0.38471935583556555,
          0.3807890031577233,
          0.3775026886254535,
          0.37487105052086966,
          0.37361054298405816,
          0.3723787166135546,
          0.37247357076437976,
          0.37455833493208707,
          0.3745536483520395,
          0.3755022099731271,
          0.38010115440868875,
          0.3822924234530449
         ],
         "yaxis": "y"
        }
       ],
       "layout": {
        "legend": {
         "title": {
          "text": "variable"
         },
         "tracegroupgap": 0
        },
        "template": {
         "data": {
          "bar": [
           {
            "error_x": {
             "color": "#2a3f5f"
            },
            "error_y": {
             "color": "#2a3f5f"
            },
            "marker": {
             "line": {
              "color": "#E5ECF6",
              "width": 0.5
             },
             "pattern": {
              "fillmode": "overlay",
              "size": 10,
              "solidity": 0.2
             }
            },
            "type": "bar"
           }
          ],
          "barpolar": [
           {
            "marker": {
             "line": {
              "color": "#E5ECF6",
              "width": 0.5
             },
             "pattern": {
              "fillmode": "overlay",
              "size": 10,
              "solidity": 0.2
             }
            },
            "type": "barpolar"
           }
          ],
          "carpet": [
           {
            "aaxis": {
             "endlinecolor": "#2a3f5f",
             "gridcolor": "white",
             "linecolor": "white",
             "minorgridcolor": "white",
             "startlinecolor": "#2a3f5f"
            },
            "baxis": {
             "endlinecolor": "#2a3f5f",
             "gridcolor": "white",
             "linecolor": "white",
             "minorgridcolor": "white",
             "startlinecolor": "#2a3f5f"
            },
            "type": "carpet"
           }
          ],
          "choropleth": [
           {
            "colorbar": {
             "outlinewidth": 0,
             "ticks": ""
            },
            "type": "choropleth"
           }
          ],
          "contour": [
           {
            "colorbar": {
             "outlinewidth": 0,
             "ticks": ""
            },
            "colorscale": [
             [
              0,
              "#0d0887"
             ],
             [
              0.1111111111111111,
              "#46039f"
             ],
             [
              0.2222222222222222,
              "#7201a8"
             ],
             [
              0.3333333333333333,
              "#9c179e"
             ],
             [
              0.4444444444444444,
              "#bd3786"
             ],
             [
              0.5555555555555556,
              "#d8576b"
             ],
             [
              0.6666666666666666,
              "#ed7953"
             ],
             [
              0.7777777777777778,
              "#fb9f3a"
             ],
             [
              0.8888888888888888,
              "#fdca26"
             ],
             [
              1,
              "#f0f921"
             ]
            ],
            "type": "contour"
           }
          ],
          "contourcarpet": [
           {
            "colorbar": {
             "outlinewidth": 0,
             "ticks": ""
            },
            "type": "contourcarpet"
           }
          ],
          "heatmap": [
           {
            "colorbar": {
             "outlinewidth": 0,
             "ticks": ""
            },
            "colorscale": [
             [
              0,
              "#0d0887"
             ],
             [
              0.1111111111111111,
              "#46039f"
             ],
             [
              0.2222222222222222,
              "#7201a8"
             ],
             [
              0.3333333333333333,
              "#9c179e"
             ],
             [
              0.4444444444444444,
              "#bd3786"
             ],
             [
              0.5555555555555556,
              "#d8576b"
             ],
             [
              0.6666666666666666,
              "#ed7953"
             ],
             [
              0.7777777777777778,
              "#fb9f3a"
             ],
             [
              0.8888888888888888,
              "#fdca26"
             ],
             [
              1,
              "#f0f921"
             ]
            ],
            "type": "heatmap"
           }
          ],
          "heatmapgl": [
           {
            "colorbar": {
             "outlinewidth": 0,
             "ticks": ""
            },
            "colorscale": [
             [
              0,
              "#0d0887"
             ],
             [
              0.1111111111111111,
              "#46039f"
             ],
             [
              0.2222222222222222,
              "#7201a8"
             ],
             [
              0.3333333333333333,
              "#9c179e"
             ],
             [
              0.4444444444444444,
              "#bd3786"
             ],
             [
              0.5555555555555556,
              "#d8576b"
             ],
             [
              0.6666666666666666,
              "#ed7953"
             ],
             [
              0.7777777777777778,
              "#fb9f3a"
             ],
             [
              0.8888888888888888,
              "#fdca26"
             ],
             [
              1,
              "#f0f921"
             ]
            ],
            "type": "heatmapgl"
           }
          ],
          "histogram": [
           {
            "marker": {
             "pattern": {
              "fillmode": "overlay",
              "size": 10,
              "solidity": 0.2
             }
            },
            "type": "histogram"
           }
          ],
          "histogram2d": [
           {
            "colorbar": {
             "outlinewidth": 0,
             "ticks": ""
            },
            "colorscale": [
             [
              0,
              "#0d0887"
             ],
             [
              0.1111111111111111,
              "#46039f"
             ],
             [
              0.2222222222222222,
              "#7201a8"
             ],
             [
              0.3333333333333333,
              "#9c179e"
             ],
             [
              0.4444444444444444,
              "#bd3786"
             ],
             [
              0.5555555555555556,
              "#d8576b"
             ],
             [
              0.6666666666666666,
              "#ed7953"
             ],
             [
              0.7777777777777778,
              "#fb9f3a"
             ],
             [
              0.8888888888888888,
              "#fdca26"
             ],
             [
              1,
              "#f0f921"
             ]
            ],
            "type": "histogram2d"
           }
          ],
          "histogram2dcontour": [
           {
            "colorbar": {
             "outlinewidth": 0,
             "ticks": ""
            },
            "colorscale": [
             [
              0,
              "#0d0887"
             ],
             [
              0.1111111111111111,
              "#46039f"
             ],
             [
              0.2222222222222222,
              "#7201a8"
             ],
             [
              0.3333333333333333,
              "#9c179e"
             ],
             [
              0.4444444444444444,
              "#bd3786"
             ],
             [
              0.5555555555555556,
              "#d8576b"
             ],
             [
              0.6666666666666666,
              "#ed7953"
             ],
             [
              0.7777777777777778,
              "#fb9f3a"
             ],
             [
              0.8888888888888888,
              "#fdca26"
             ],
             [
              1,
              "#f0f921"
             ]
            ],
            "type": "histogram2dcontour"
           }
          ],
          "mesh3d": [
           {
            "colorbar": {
             "outlinewidth": 0,
             "ticks": ""
            },
            "type": "mesh3d"
           }
          ],
          "parcoords": [
           {
            "line": {
             "colorbar": {
              "outlinewidth": 0,
              "ticks": ""
             }
            },
            "type": "parcoords"
           }
          ],
          "pie": [
           {
            "automargin": true,
            "type": "pie"
           }
          ],
          "scatter": [
           {
            "fillpattern": {
             "fillmode": "overlay",
             "size": 10,
             "solidity": 0.2
            },
            "type": "scatter"
           }
          ],
          "scatter3d": [
           {
            "line": {
             "colorbar": {
              "outlinewidth": 0,
              "ticks": ""
             }
            },
            "marker": {
             "colorbar": {
              "outlinewidth": 0,
              "ticks": ""
             }
            },
            "type": "scatter3d"
           }
          ],
          "scattercarpet": [
           {
            "marker": {
             "colorbar": {
              "outlinewidth": 0,
              "ticks": ""
             }
            },
            "type": "scattercarpet"
           }
          ],
          "scattergeo": [
           {
            "marker": {
             "colorbar": {
              "outlinewidth": 0,
              "ticks": ""
             }
            },
            "type": "scattergeo"
           }
          ],
          "scattergl": [
           {
            "marker": {
             "colorbar": {
              "outlinewidth": 0,
              "ticks": ""
             }
            },
            "type": "scattergl"
           }
          ],
          "scattermapbox": [
           {
            "marker": {
             "colorbar": {
              "outlinewidth": 0,
              "ticks": ""
             }
            },
            "type": "scattermapbox"
           }
          ],
          "scatterpolar": [
           {
            "marker": {
             "colorbar": {
              "outlinewidth": 0,
              "ticks": ""
             }
            },
            "type": "scatterpolar"
           }
          ],
          "scatterpolargl": [
           {
            "marker": {
             "colorbar": {
              "outlinewidth": 0,
              "ticks": ""
             }
            },
            "type": "scatterpolargl"
           }
          ],
          "scatterternary": [
           {
            "marker": {
             "colorbar": {
              "outlinewidth": 0,
              "ticks": ""
             }
            },
            "type": "scatterternary"
           }
          ],
          "surface": [
           {
            "colorbar": {
             "outlinewidth": 0,
             "ticks": ""
            },
            "colorscale": [
             [
              0,
              "#0d0887"
             ],
             [
              0.1111111111111111,
              "#46039f"
             ],
             [
              0.2222222222222222,
              "#7201a8"
             ],
             [
              0.3333333333333333,
              "#9c179e"
             ],
             [
              0.4444444444444444,
              "#bd3786"
             ],
             [
              0.5555555555555556,
              "#d8576b"
             ],
             [
              0.6666666666666666,
              "#ed7953"
             ],
             [
              0.7777777777777778,
              "#fb9f3a"
             ],
             [
              0.8888888888888888,
              "#fdca26"
             ],
             [
              1,
              "#f0f921"
             ]
            ],
            "type": "surface"
           }
          ],
          "table": [
           {
            "cells": {
             "fill": {
              "color": "#EBF0F8"
             },
             "line": {
              "color": "white"
             }
            },
            "header": {
             "fill": {
              "color": "#C8D4E3"
             },
             "line": {
              "color": "white"
             }
            },
            "type": "table"
           }
          ]
         },
         "layout": {
          "annotationdefaults": {
           "arrowcolor": "#2a3f5f",
           "arrowhead": 0,
           "arrowwidth": 1
          },
          "autotypenumbers": "strict",
          "coloraxis": {
           "colorbar": {
            "outlinewidth": 0,
            "ticks": ""
           }
          },
          "colorscale": {
           "diverging": [
            [
             0,
             "#8e0152"
            ],
            [
             0.1,
             "#c51b7d"
            ],
            [
             0.2,
             "#de77ae"
            ],
            [
             0.3,
             "#f1b6da"
            ],
            [
             0.4,
             "#fde0ef"
            ],
            [
             0.5,
             "#f7f7f7"
            ],
            [
             0.6,
             "#e6f5d0"
            ],
            [
             0.7,
             "#b8e186"
            ],
            [
             0.8,
             "#7fbc41"
            ],
            [
             0.9,
             "#4d9221"
            ],
            [
             1,
             "#276419"
            ]
           ],
           "sequential": [
            [
             0,
             "#0d0887"
            ],
            [
             0.1111111111111111,
             "#46039f"
            ],
            [
             0.2222222222222222,
             "#7201a8"
            ],
            [
             0.3333333333333333,
             "#9c179e"
            ],
            [
             0.4444444444444444,
             "#bd3786"
            ],
            [
             0.5555555555555556,
             "#d8576b"
            ],
            [
             0.6666666666666666,
             "#ed7953"
            ],
            [
             0.7777777777777778,
             "#fb9f3a"
            ],
            [
             0.8888888888888888,
             "#fdca26"
            ],
            [
             1,
             "#f0f921"
            ]
           ],
           "sequentialminus": [
            [
             0,
             "#0d0887"
            ],
            [
             0.1111111111111111,
             "#46039f"
            ],
            [
             0.2222222222222222,
             "#7201a8"
            ],
            [
             0.3333333333333333,
             "#9c179e"
            ],
            [
             0.4444444444444444,
             "#bd3786"
            ],
            [
             0.5555555555555556,
             "#d8576b"
            ],
            [
             0.6666666666666666,
             "#ed7953"
            ],
            [
             0.7777777777777778,
             "#fb9f3a"
            ],
            [
             0.8888888888888888,
             "#fdca26"
            ],
            [
             1,
             "#f0f921"
            ]
           ]
          },
          "colorway": [
           "#636efa",
           "#EF553B",
           "#00cc96",
           "#ab63fa",
           "#FFA15A",
           "#19d3f3",
           "#FF6692",
           "#B6E880",
           "#FF97FF",
           "#FECB52"
          ],
          "font": {
           "color": "#2a3f5f"
          },
          "geo": {
           "bgcolor": "white",
           "lakecolor": "white",
           "landcolor": "#E5ECF6",
           "showlakes": true,
           "showland": true,
           "subunitcolor": "white"
          },
          "hoverlabel": {
           "align": "left"
          },
          "hovermode": "closest",
          "mapbox": {
           "style": "light"
          },
          "paper_bgcolor": "white",
          "plot_bgcolor": "#E5ECF6",
          "polar": {
           "angularaxis": {
            "gridcolor": "white",
            "linecolor": "white",
            "ticks": ""
           },
           "bgcolor": "#E5ECF6",
           "radialaxis": {
            "gridcolor": "white",
            "linecolor": "white",
            "ticks": ""
           }
          },
          "scene": {
           "xaxis": {
            "backgroundcolor": "#E5ECF6",
            "gridcolor": "white",
            "gridwidth": 2,
            "linecolor": "white",
            "showbackground": true,
            "ticks": "",
            "zerolinecolor": "white"
           },
           "yaxis": {
            "backgroundcolor": "#E5ECF6",
            "gridcolor": "white",
            "gridwidth": 2,
            "linecolor": "white",
            "showbackground": true,
            "ticks": "",
            "zerolinecolor": "white"
           },
           "zaxis": {
            "backgroundcolor": "#E5ECF6",
            "gridcolor": "white",
            "gridwidth": 2,
            "linecolor": "white",
            "showbackground": true,
            "ticks": "",
            "zerolinecolor": "white"
           }
          },
          "shapedefaults": {
           "line": {
            "color": "#2a3f5f"
           }
          },
          "ternary": {
           "aaxis": {
            "gridcolor": "white",
            "linecolor": "white",
            "ticks": ""
           },
           "baxis": {
            "gridcolor": "white",
            "linecolor": "white",
            "ticks": ""
           },
           "bgcolor": "#E5ECF6",
           "caxis": {
            "gridcolor": "white",
            "linecolor": "white",
            "ticks": ""
           }
          },
          "title": {
           "x": 0.05
          },
          "xaxis": {
           "automargin": true,
           "gridcolor": "white",
           "linecolor": "white",
           "ticks": "",
           "title": {
            "standoff": 15
           },
           "zerolinecolor": "white",
           "zerolinewidth": 2
          },
          "yaxis": {
           "automargin": true,
           "gridcolor": "white",
           "linecolor": "white",
           "ticks": "",
           "title": {
            "standoff": 15
           },
           "zerolinecolor": "white",
           "zerolinewidth": 2
          }
         }
        },
        "title": {
         "text": "training loss and val loss"
        },
        "xaxis": {
         "anchor": "y",
         "domain": [
          0,
          1
         ],
         "title": {
          "text": "epoch"
         }
        },
        "yaxis": {
         "anchor": "x",
         "domain": [
          0,
          1
         ],
         "title": {
          "text": "loss"
         }
        }
       }
      }
     },
     "metadata": {},
     "output_type": "display_data"
    },
    {
     "name": "stdout",
     "output_type": "stream",
     "text": [
      " ====================== model 1 ====================== \n",
      "Iteration using weight value 0, and momentum value 0:\n",
      "00:36:24.619715  |  Epoch 1  |  Training loss 0.504\n",
      "\n",
      "Accuracy: 0.92\n",
      "Training accuracy: \n",
      " 0.9185982033935899\n",
      "Accuracy: 0.83\n",
      "Validation accuracy: \n",
      " 0.8311291963377416\n",
      " ====================== model 2 ====================== \n",
      "Iteration using weight value 0, and momentum value 0:\n",
      "00:36:51.085020  |  Epoch 1  |  Training loss 0.645\n",
      "00:37:19.972382  |  Epoch 10  |  Training loss 0.326\n",
      "\n",
      "Accuracy: 0.93\n",
      "Training accuracy: \n",
      " 0.9322391039148276\n",
      "Accuracy: 0.85\n",
      "Validation accuracy: \n",
      " 0.8504577822990844\n",
      " ====================== model 3 ====================== \n",
      "Iteration using weight value 0, and momentum value 0:\n",
      "00:37:43.217000  |  Epoch 1  |  Training loss 0.690\n",
      "00:38:12.188337  |  Epoch 10  |  Training loss 0.589\n",
      "00:38:44.497519  |  Epoch 20  |  Training loss 0.495\n",
      "\n",
      "Accuracy: 0.79\n",
      "Training accuracy: \n",
      " 0.7939447709881335\n",
      "Accuracy: 0.79\n",
      "Validation accuracy: \n",
      " 0.7894201424211598\n",
      " ====================== model 4 ====================== \n",
      "Iteration using weight value 0, and momentum value 0:\n",
      "00:38:51.464392  |  Epoch 1  |  Training loss 0.694\n",
      "00:39:20.406597  |  Epoch 10  |  Training loss 0.686\n",
      "00:39:53.065254  |  Epoch 20  |  Training loss 0.678\n",
      "\n",
      "Accuracy: 0.50\n",
      "Training accuracy: \n",
      " 0.5007208605966508\n",
      "Accuracy: 0.50\n",
      "Validation accuracy: \n",
      " 0.49745676500508645\n",
      " ====================== model 5 ====================== \n",
      "Iteration using weight value 0, and momentum value 0.01:\n",
      "00:40:00.037811  |  Epoch 1  |  Training loss 0.499\n",
      "\n",
      "Accuracy: 0.91\n",
      "Training accuracy: \n",
      " 0.9099478762337806\n",
      "Accuracy: 0.85\n",
      "Validation accuracy: \n",
      " 0.8474059003051883\n",
      " ====================== model 6 ====================== \n",
      "Iteration using weight value 0, and momentum value 0.01:\n",
      "00:40:21.204576  |  Epoch 1  |  Training loss 0.645\n",
      "00:40:50.188165  |  Epoch 10  |  Training loss 0.325\n",
      "\n",
      "Accuracy: 0.93\n",
      "Training accuracy: \n",
      " 0.9326827104358434\n",
      "Accuracy: 0.85\n",
      "Validation accuracy: \n",
      " 0.8494404883011191\n",
      " ====================== model 7 ====================== \n",
      "Iteration using weight value 0, and momentum value 0.01:\n",
      "00:41:13.051710  |  Epoch 1  |  Training loss 0.690\n",
      "00:41:42.160004  |  Epoch 10  |  Training loss 0.588\n",
      "00:42:14.234135  |  Epoch 20  |  Training loss 0.494\n",
      "\n",
      "Accuracy: 0.79\n",
      "Training accuracy: \n",
      " 0.7946101807696573\n",
      "Accuracy: 0.79\n",
      "Validation accuracy: \n",
      " 0.7894201424211598\n",
      " ====================== model 8 ====================== \n",
      "Iteration using weight value 0, and momentum value 0.01:\n",
      "00:42:21.233342  |  Epoch 1  |  Training loss 0.694\n",
      "00:42:50.008214  |  Epoch 10  |  Training loss 0.686\n",
      "00:43:22.012741  |  Epoch 20  |  Training loss 0.678\n",
      "\n",
      "Accuracy: 0.50\n",
      "Training accuracy: \n",
      " 0.5006099589663968\n",
      "Accuracy: 0.50\n",
      "Validation accuracy: \n",
      " 0.49745676500508645\n",
      " ====================== model 9 ====================== \n",
      "Iteration using weight value 0, and momentum value 0.1:\n",
      "00:43:29.497386  |  Epoch 1  |  Training loss 0.496\n",
      "\n",
      "Accuracy: 0.91\n",
      "Training accuracy: \n",
      " 0.9127204169901297\n",
      "Accuracy: 0.84\n",
      "Validation accuracy: \n",
      " 0.8413021363173957\n",
      " ====================== model 10 ====================== \n",
      "Iteration using weight value 0, and momentum value 0.1:\n",
      "00:43:49.502523  |  Epoch 1  |  Training loss 0.639\n",
      "00:44:18.436117  |  Epoch 10  |  Training loss 0.312\n",
      "\n",
      "Accuracy: 0.93\n",
      "Training accuracy: \n",
      " 0.9260286126206055\n",
      "Accuracy: 0.85\n",
      "Validation accuracy: \n",
      " 0.8494404883011191\n",
      " ====================== model 11 ====================== \n",
      "Iteration using weight value 0, and momentum value 0.1:\n",
      "00:44:34.949454  |  Epoch 1  |  Training loss 0.690\n",
      "00:45:03.875761  |  Epoch 10  |  Training loss 0.575\n",
      "00:45:36.035374  |  Epoch 20  |  Training loss 0.485\n",
      "\n",
      "Accuracy: 0.80\n",
      "Training accuracy: \n",
      " 0.7982699345680382\n",
      "Accuracy: 0.79\n",
      "Validation accuracy: \n",
      " 0.7924720244150559\n",
      " ====================== model 12 ====================== \n",
      "Iteration using weight value 0, and momentum value 0.1:\n",
      "00:45:42.989820  |  Epoch 1  |  Training loss 0.694\n",
      "00:46:12.140046  |  Epoch 10  |  Training loss 0.686\n",
      "00:46:44.330231  |  Epoch 20  |  Training loss 0.676\n",
      "\n",
      "Accuracy: 0.50\n",
      "Training accuracy: \n",
      " 0.5014971720084285\n",
      "Accuracy: 0.50\n",
      "Validation accuracy: \n",
      " 0.5005086469989827\n",
      " ====================== model 13 ====================== \n",
      "Iteration using weight value 0, and momentum value 0.8:\n",
      "00:46:51.299275  |  Epoch 1  |  Training loss 0.491\n",
      "\n",
      "Accuracy: 0.88\n",
      "Training accuracy: \n",
      " 0.8817788621492736\n",
      "Accuracy: 0.82\n",
      "Validation accuracy: \n",
      " 0.8240081383519837\n",
      " ====================== model 14 ====================== \n",
      "Iteration using weight value 0, and momentum value 0.8:\n",
      "00:47:14.194815  |  Epoch 1  |  Training loss 0.532\n",
      "\n",
      "Accuracy: 0.91\n",
      "Training accuracy: \n",
      " 0.9081734501497172\n",
      "Accuracy: 0.84\n",
      "Validation accuracy: \n",
      " 0.8382502543234995\n",
      " ====================== model 15 ====================== \n",
      "Iteration using weight value 0, and momentum value 0.8:\n",
      "00:47:33.936333  |  Epoch 1  |  Training loss 0.674\n",
      "00:48:02.871698  |  Epoch 10  |  Training loss 0.407\n",
      "00:48:35.576577  |  Epoch 20  |  Training loss 0.289\n",
      "\n",
      "Accuracy: 0.90\n",
      "Training accuracy: \n",
      " 0.902406565376511\n",
      "Accuracy: 0.84\n",
      "Validation accuracy: \n",
      " 0.8392675483214649\n",
      " ====================== model 16 ====================== \n",
      "Iteration using weight value 0, and momentum value 0.8:\n",
      "00:48:42.504297  |  Epoch 1  |  Training loss 0.693\n",
      "00:49:11.301441  |  Epoch 10  |  Training loss 0.650\n",
      "00:49:43.471445  |  Epoch 20  |  Training loss 0.586\n",
      "\n",
      "Accuracy: 0.75\n",
      "Training accuracy: \n",
      " 0.7479205944327382\n",
      "Accuracy: 0.75\n",
      "Validation accuracy: \n",
      " 0.7507629704984741\n",
      " ====================== model 17 ====================== \n",
      "Iteration using weight value 0.01, and momentum value 0:\n",
      "00:49:50.474696  |  Epoch 1  |  Training loss 0.501\n",
      "00:50:19.180596  |  Epoch 10  |  Training loss 0.311\n",
      "\n",
      "Accuracy: 0.89\n",
      "Training accuracy: \n",
      " 0.8923145170234003\n",
      "Accuracy: 0.83\n",
      "Validation accuracy: \n",
      " 0.8341810783316378\n",
      " ====================== model 18 ====================== \n",
      "Iteration using weight value 0.01, and momentum value 0:\n",
      "00:50:45.278574  |  Epoch 1  |  Training loss 0.647\n",
      "00:51:14.123324  |  Epoch 10  |  Training loss 0.340\n",
      "\n",
      "Accuracy: 0.93\n",
      "Training accuracy: \n",
      " 0.9253632028390817\n",
      "Accuracy: 0.84\n",
      "Validation accuracy: \n",
      " 0.8433367243133265\n",
      " ====================== model 19 ====================== \n",
      "Iteration using weight value 0.01, and momentum value 0:\n",
      "00:51:40.284679  |  Epoch 1  |  Training loss 0.690\n",
      "00:52:09.215707  |  Epoch 10  |  Training loss 0.593\n",
      "00:52:41.211040  |  Epoch 20  |  Training loss 0.500\n",
      "\n",
      "Accuracy: 0.79\n",
      "Training accuracy: \n",
      " 0.7922812465343241\n",
      "Accuracy: 0.79\n",
      "Validation accuracy: \n",
      " 0.7873855544252288\n",
      " ====================== model 20 ====================== \n",
      "Iteration using weight value 0.01, and momentum value 0:\n",
      "00:52:48.273664  |  Epoch 1  |  Training loss 0.694\n",
      "00:53:16.903983  |  Epoch 10  |  Training loss 0.687\n",
      "00:53:49.018575  |  Epoch 20  |  Training loss 0.678\n",
      "\n",
      "Accuracy: 0.50\n",
      "Training accuracy: \n",
      " 0.5007208605966508\n",
      "Accuracy: 0.50\n",
      "Validation accuracy: \n",
      " 0.49745676500508645\n",
      " ====================== model 21 ====================== \n",
      "Iteration using weight value 0.01, and momentum value 0.01:\n",
      "00:53:56.043149  |  Epoch 1  |  Training loss 0.502\n",
      "00:54:24.646966  |  Epoch 10  |  Training loss 0.318\n",
      "\n",
      "Accuracy: 0.88\n",
      "Training accuracy: \n",
      " 0.8754574692247976\n",
      "Accuracy: 0.81\n",
      "Validation accuracy: \n",
      " 0.8056968463886063\n",
      " ====================== model 22 ====================== \n",
      "Iteration using weight value 0.01, and momentum value 0.01:\n",
      "00:54:44.439735  |  Epoch 1  |  Training loss 0.646\n",
      "00:55:12.984624  |  Epoch 10  |  Training loss 0.339\n",
      "\n",
      "Accuracy: 0.93\n",
      "Training accuracy: \n",
      " 0.927581235444161\n",
      "Accuracy: 0.84\n",
      "Validation accuracy: \n",
      " 0.8433367243133265\n",
      " ====================== model 23 ====================== \n",
      "Iteration using weight value 0.01, and momentum value 0.01:\n",
      "00:55:40.799503  |  Epoch 1  |  Training loss 0.690\n",
      "00:56:10.101151  |  Epoch 10  |  Training loss 0.592\n",
      "00:56:42.075712  |  Epoch 20  |  Training loss 0.499\n",
      "\n",
      "Accuracy: 0.79\n",
      "Training accuracy: \n",
      " 0.792392148164578\n",
      "Accuracy: 0.79\n",
      "Validation accuracy: \n",
      " 0.7884028484231943\n",
      " ====================== model 24 ====================== \n",
      "Iteration using weight value 0.01, and momentum value 0.01:\n",
      "00:56:48.986857  |  Epoch 1  |  Training loss 0.694\n",
      "00:57:18.024197  |  Epoch 10  |  Training loss 0.686\n",
      "00:57:50.076859  |  Epoch 20  |  Training loss 0.678\n",
      "\n",
      "Accuracy: 0.50\n",
      "Training accuracy: \n",
      " 0.5007208605966508\n",
      "Accuracy: 0.50\n",
      "Validation accuracy: \n",
      " 0.49745676500508645\n",
      " ====================== model 25 ====================== \n",
      "Iteration using weight value 0.01, and momentum value 0.1:\n",
      "00:57:56.904758  |  Epoch 1  |  Training loss 0.498\n",
      "\n",
      "Accuracy: 0.89\n",
      "Training accuracy: \n",
      " 0.89286902517467\n",
      "Accuracy: 0.83\n",
      "Validation accuracy: \n",
      " 0.8331637843336724\n",
      " ====================== model 26 ====================== \n",
      "Iteration using weight value 0.01, and momentum value 0.1:\n",
      "00:58:26.150523  |  Epoch 1  |  Training loss 0.641\n",
      "00:58:54.655313  |  Epoch 10  |  Training loss 0.328\n",
      "\n",
      "Accuracy: 0.92\n",
      "Training accuracy: \n",
      " 0.9194854164356216\n",
      "Accuracy: 0.85\n",
      "Validation accuracy: \n",
      " 0.8474059003051883\n",
      " ====================== model 27 ====================== \n",
      "Iteration using weight value 0.01, and momentum value 0.1:\n",
      "00:59:14.216572  |  Epoch 1  |  Training loss 0.690\n",
      "00:59:43.528501  |  Epoch 10  |  Training loss 0.580\n",
      "01:00:15.901388  |  Epoch 20  |  Training loss 0.489\n",
      "\n",
      "Accuracy: 0.80\n",
      "Training accuracy: \n",
      " 0.7967173117444827\n",
      "Accuracy: 0.79\n",
      "Validation accuracy: \n",
      " 0.7914547304170906\n",
      " ====================== model 28 ====================== \n",
      "Iteration using weight value 0.01, and momentum value 0.1:\n",
      "01:00:22.918020  |  Epoch 1  |  Training loss 0.694\n",
      "01:00:51.511133  |  Epoch 10  |  Training loss 0.686\n",
      "01:01:23.157010  |  Epoch 20  |  Training loss 0.676\n",
      "\n",
      "Accuracy: 0.50\n",
      "Training accuracy: \n",
      " 0.5013862703781745\n",
      "Accuracy: 0.50\n",
      "Validation accuracy: \n",
      " 0.49847405900305186\n",
      " ====================== model 29 ====================== \n",
      "Iteration using weight value 0.01, and momentum value 0.8:\n",
      "01:01:30.147617  |  Epoch 1  |  Training loss 0.494\n",
      "\n",
      "Accuracy: 0.84\n",
      "Training accuracy: \n",
      " 0.839636242652767\n",
      "Accuracy: 0.81\n",
      "Validation accuracy: \n",
      " 0.8077314343845371\n",
      " ====================== model 30 ====================== \n",
      "Iteration using weight value 0.01, and momentum value 0.8:\n",
      "01:02:02.357318  |  Epoch 1  |  Training loss 0.535\n",
      "\n",
      "Accuracy: 0.91\n",
      "Training accuracy: \n",
      " 0.9111677941665742\n",
      "Accuracy: 0.84\n",
      "Validation accuracy: \n",
      " 0.8351983723296033\n",
      " ====================== model 31 ====================== \n",
      "Iteration using weight value 0.01, and momentum value 0.8:\n",
      "01:02:31.427451  |  Epoch 1  |  Training loss 0.674\n",
      "01:02:59.831205  |  Epoch 10  |  Training loss 0.416\n",
      "01:03:31.668142  |  Epoch 20  |  Training loss 0.311\n",
      "\n",
      "Accuracy: 0.89\n",
      "Training accuracy: \n",
      " 0.8899855827880669\n",
      "Accuracy: 0.84\n",
      "Validation accuracy: \n",
      " 0.8372329603255341\n",
      " ====================== model 32 ====================== \n",
      "Iteration using weight value 0.01, and momentum value 0.8:\n",
      "01:03:38.681134  |  Epoch 1  |  Training loss 0.693\n",
      "01:04:07.121705  |  Epoch 10  |  Training loss 0.651\n",
      "01:04:38.873158  |  Epoch 20  |  Training loss 0.590\n",
      "\n",
      "Accuracy: 0.75\n",
      "Training accuracy: \n",
      " 0.745148053676389\n",
      "Accuracy: 0.74\n",
      "Validation accuracy: \n",
      " 0.7446592065106816\n",
      " ====================== model 33 ====================== \n",
      "Iteration using weight value 0.1, and momentum value 0:\n",
      "01:04:45.770463  |  Epoch 1  |  Training loss 0.533\n",
      "01:05:14.334761  |  Epoch 10  |  Training loss 0.470\n",
      "\n",
      "Accuracy: 0.81\n",
      "Training accuracy: \n",
      " 0.8108018187867362\n",
      "Accuracy: 0.81\n",
      "Validation accuracy: \n",
      " 0.8118006103763988\n",
      " ====================== model 34 ====================== \n",
      "Iteration using weight value 0.1, and momentum value 0:\n",
      "01:05:33.960302  |  Epoch 1  |  Training loss 0.659\n",
      "01:06:02.965405  |  Epoch 10  |  Training loss 0.453\n",
      "01:06:35.318093  |  Epoch 20  |  Training loss 0.416\n",
      "\n",
      "Accuracy: 0.83\n",
      "Training accuracy: \n",
      " 0.8340911611400688\n",
      "Accuracy: 0.82\n",
      "Validation accuracy: \n",
      " 0.8209562563580874\n",
      " ====================== model 35 ====================== \n",
      "Iteration using weight value 0.1, and momentum value 0:\n",
      "01:06:42.264201  |  Epoch 1  |  Training loss 0.691\n",
      "01:07:11.261737  |  Epoch 10  |  Training loss 0.625\n",
      "01:07:43.422027  |  Epoch 20  |  Training loss 0.553\n",
      "\n",
      "Accuracy: 0.77\n",
      "Training accuracy: \n",
      " 0.7693246090717534\n",
      "Accuracy: 0.78\n",
      "Validation accuracy: \n",
      " 0.7761953204476093\n",
      " ====================== model 36 ====================== \n",
      "Iteration using weight value 0.1, and momentum value 0:\n",
      "01:07:50.448792  |  Epoch 1  |  Training loss 0.694\n",
      "01:08:19.474518  |  Epoch 10  |  Training loss 0.687\n",
      "01:08:51.884707  |  Epoch 20  |  Training loss 0.680\n",
      "\n",
      "Accuracy: 0.50\n",
      "Training accuracy: \n",
      " 0.5004990573361429\n",
      "Accuracy: 0.50\n",
      "Validation accuracy: \n",
      " 0.49542217700915564\n",
      " ====================== model 37 ====================== \n",
      "Iteration using weight value 0.1, and momentum value 0.01:\n",
      "01:08:58.882783  |  Epoch 1  |  Training loss 0.533\n",
      "\n",
      "Accuracy: 0.81\n",
      "Training accuracy: \n",
      " 0.8100255073749584\n",
      "Accuracy: 0.81\n",
      "Validation accuracy: \n",
      " 0.8138351983723296\n",
      " ====================== model 38 ====================== \n",
      "Iteration using weight value 0.1, and momentum value 0.01:\n",
      "01:09:31.506988  |  Epoch 1  |  Training loss 0.659\n",
      "01:10:00.950829  |  Epoch 10  |  Training loss 0.452\n",
      "01:10:33.455823  |  Epoch 20  |  Training loss 0.416\n",
      "\n",
      "Accuracy: 0.83\n",
      "Training accuracy: \n",
      " 0.8339802595098148\n",
      "Accuracy: 0.82\n",
      "Validation accuracy: \n",
      " 0.8209562563580874\n",
      " ====================== model 39 ====================== \n",
      "Iteration using weight value 0.1, and momentum value 0.01:\n",
      "01:10:40.553911  |  Epoch 1  |  Training loss 0.691\n",
      "01:11:11.188397  |  Epoch 10  |  Training loss 0.624\n",
      "01:11:43.975030  |  Epoch 20  |  Training loss 0.552\n",
      "\n",
      "Accuracy: 0.77\n",
      "Training accuracy: \n",
      " 0.7694355107020073\n",
      "Accuracy: 0.77\n",
      "Validation accuracy: \n",
      " 0.7741607324516785\n",
      " ====================== model 40 ====================== \n",
      "Iteration using weight value 0.1, and momentum value 0.01:\n",
      "01:11:51.069200  |  Epoch 1  |  Training loss 0.694\n",
      "01:12:19.656427  |  Epoch 10  |  Training loss 0.687\n",
      "01:12:51.355671  |  Epoch 20  |  Training loss 0.680\n",
      "\n",
      "Accuracy: 0.50\n",
      "Training accuracy: \n",
      " 0.5003881557058889\n",
      "Accuracy: 0.50\n",
      "Validation accuracy: \n",
      " 0.49542217700915564\n",
      " ====================== model 41 ====================== \n",
      "Iteration using weight value 0.1, and momentum value 0.1:\n",
      "01:12:58.286651  |  Epoch 1  |  Training loss 0.530\n",
      "\n",
      "Accuracy: 0.81\n",
      "Training accuracy: \n",
      " 0.8086946878119108\n",
      "Accuracy: 0.81\n",
      "Validation accuracy: \n",
      " 0.8107833163784334\n",
      " ====================== model 42 ====================== \n",
      "Iteration using weight value 0.1, and momentum value 0.1:\n",
      "01:13:30.750309  |  Epoch 1  |  Training loss 0.655\n",
      "01:13:59.304184  |  Epoch 10  |  Training loss 0.447\n",
      "01:14:30.795764  |  Epoch 20  |  Training loss 0.414\n",
      "\n",
      "Accuracy: 0.83\n",
      "Training accuracy: \n",
      " 0.8346456692913385\n",
      "Accuracy: 0.82\n",
      "Validation accuracy: \n",
      " 0.8219735503560529\n",
      " ====================== model 43 ====================== \n",
      "Iteration using weight value 0.1, and momentum value 0.1:\n",
      "01:14:37.744923  |  Epoch 1  |  Training loss 0.690\n",
      "01:15:06.543794  |  Epoch 10  |  Training loss 0.617\n",
      "01:15:38.324871  |  Epoch 20  |  Training loss 0.541\n",
      "\n",
      "Accuracy: 0.77\n",
      "Training accuracy: \n",
      " 0.7725407563491183\n",
      "Accuracy: 0.78\n",
      "Validation accuracy: \n",
      " 0.7812817904374364\n",
      " ====================== model 44 ====================== \n",
      "Iteration using weight value 0.1, and momentum value 0.1:\n",
      "01:15:45.151009  |  Epoch 1  |  Training loss 0.694\n",
      "01:16:13.940976  |  Epoch 10  |  Training loss 0.686\n",
      "01:16:45.847671  |  Epoch 20  |  Training loss 0.678\n",
      "\n",
      "Accuracy: 0.50\n",
      "Training accuracy: \n",
      " 0.5007208605966508\n",
      "Accuracy: 0.50\n",
      "Validation accuracy: \n",
      " 0.49643947100712105\n",
      " ====================== model 45 ====================== \n",
      "Iteration using weight value 0.1, and momentum value 0.8:\n",
      "01:16:52.803979  |  Epoch 1  |  Training loss 0.531\n",
      "01:17:21.081866  |  Epoch 10  |  Training loss 0.519\n",
      "\n",
      "Accuracy: 0.78\n",
      "Training accuracy: \n",
      " 0.779971165576134\n",
      "Accuracy: 0.78\n",
      "Validation accuracy: \n",
      " 0.7843336724313327\n",
      " ====================== model 46 ====================== \n",
      "Iteration using weight value 0.1, and momentum value 0.8:\n",
      "01:17:31.186492  |  Epoch 1  |  Training loss 0.570\n",
      "01:17:59.643022  |  Epoch 10  |  Training loss 0.435\n",
      "\n",
      "Accuracy: 0.82\n",
      "Training accuracy: \n",
      " 0.8185649329045137\n",
      "Accuracy: 0.81\n",
      "Validation accuracy: \n",
      " 0.8118006103763988\n",
      " ====================== model 47 ====================== \n",
      "Iteration using weight value 0.1, and momentum value 0.8:\n",
      "01:18:35.058521  |  Epoch 1  |  Training loss 0.677\n",
      "01:19:03.395389  |  Epoch 10  |  Training loss 0.487\n",
      "01:19:34.880346  |  Epoch 20  |  Training loss 0.449\n",
      "\n",
      "Accuracy: 0.82\n",
      "Training accuracy: \n",
      " 0.820672063879339\n",
      "Accuracy: 0.81\n",
      "Validation accuracy: \n",
      " 0.8128179043743642\n",
      " ====================== model 48 ====================== \n",
      "Iteration using weight value 0.1, and momentum value 0.8:\n",
      "01:19:41.663876  |  Epoch 1  |  Training loss 0.693\n",
      "01:20:10.232901  |  Epoch 10  |  Training loss 0.660\n",
      "01:20:41.819689  |  Epoch 20  |  Training loss 0.623\n",
      "\n",
      "Accuracy: 0.72\n",
      "Training accuracy: \n",
      " 0.7247421537096596\n",
      "Accuracy: 0.74\n",
      "Validation accuracy: \n",
      " 0.7355035605289929\n",
      " ====================== model 49 ====================== \n",
      "Iteration using weight value 0.5, and momentum value 0:\n",
      "01:20:48.780960  |  Epoch 1  |  Training loss 0.692\n",
      "01:21:17.933736  |  Epoch 10  |  Training loss 0.693\n",
      "01:21:50.308686  |  Epoch 20  |  Training loss 0.693\n",
      "\n",
      "Accuracy: 0.50\n",
      "Training accuracy: \n",
      " 0.49950094266385714\n",
      "Accuracy: 0.50\n",
      "Validation accuracy: \n",
      " 0.5045778229908443\n",
      " ====================== model 50 ====================== \n",
      "Iteration using weight value 0.5, and momentum value 0:\n",
      "01:21:57.246196  |  Epoch 1  |  Training loss 0.686\n",
      "01:22:26.069112  |  Epoch 10  |  Training loss 0.693\n",
      "01:22:57.817140  |  Epoch 20  |  Training loss 0.693\n",
      "\n",
      "Accuracy: 0.50\n",
      "Training accuracy: \n",
      " 0.5004990573361429\n",
      "Accuracy: 0.50\n",
      "Validation accuracy: \n",
      " 0.49542217700915564\n",
      " ====================== model 51 ====================== \n",
      "Iteration using weight value 0.5, and momentum value 0:\n",
      "01:23:05.161739  |  Epoch 1  |  Training loss 0.691\n",
      "\n",
      "Accuracy: 0.50\n",
      "Training accuracy: \n",
      " 0.5004990573361429\n",
      "Accuracy: 0.50\n",
      "Validation accuracy: \n",
      " 0.49542217700915564\n",
      " ====================== model 52 ====================== \n",
      "Iteration using weight value 0.5, and momentum value 0:\n",
      "01:23:25.011988  |  Epoch 1  |  Training loss 0.694\n",
      "01:23:54.356090  |  Epoch 10  |  Training loss 0.689\n",
      "01:24:26.427718  |  Epoch 20  |  Training loss 0.685\n",
      "\n",
      "Accuracy: 0.50\n",
      "Training accuracy: \n",
      " 0.5004990573361429\n",
      "Accuracy: 0.50\n",
      "Validation accuracy: \n",
      " 0.49542217700915564\n",
      " ====================== model 53 ====================== \n",
      "Iteration using weight value 0.5, and momentum value 0.01:\n",
      "01:24:33.262615  |  Epoch 1  |  Training loss 0.692\n",
      "01:25:01.919552  |  Epoch 10  |  Training loss 0.693\n",
      "01:25:33.746351  |  Epoch 20  |  Training loss 0.693\n",
      "\n",
      "Accuracy: 0.50\n",
      "Training accuracy: \n",
      " 0.49950094266385714\n",
      "Accuracy: 0.50\n",
      "Validation accuracy: \n",
      " 0.5045778229908443\n",
      " ====================== model 54 ====================== \n",
      "Iteration using weight value 0.5, and momentum value 0.01:\n",
      "01:25:40.638124  |  Epoch 1  |  Training loss 0.686\n",
      "01:26:10.329122  |  Epoch 10  |  Training loss 0.693\n",
      "01:26:42.558524  |  Epoch 20  |  Training loss 0.693\n",
      "\n",
      "Accuracy: 0.50\n",
      "Training accuracy: \n",
      " 0.5004990573361429\n",
      "Accuracy: 0.50\n",
      "Validation accuracy: \n",
      " 0.49542217700915564\n",
      " ====================== model 55 ====================== \n",
      "Iteration using weight value 0.5, and momentum value 0.01:\n",
      "01:26:49.369869  |  Epoch 1  |  Training loss 0.691\n",
      "\n",
      "Accuracy: 0.50\n",
      "Training accuracy: \n",
      " 0.5004990573361429\n",
      "Accuracy: 0.50\n",
      "Validation accuracy: \n",
      " 0.49542217700915564\n",
      " ====================== model 56 ====================== \n",
      "Iteration using weight value 0.5, and momentum value 0.01:\n",
      "01:27:08.991307  |  Epoch 1  |  Training loss 0.694\n",
      "01:27:37.823269  |  Epoch 10  |  Training loss 0.689\n",
      "01:28:09.733397  |  Epoch 20  |  Training loss 0.685\n",
      "\n",
      "Accuracy: 0.50\n",
      "Training accuracy: \n",
      " 0.5004990573361429\n",
      "Accuracy: 0.50\n",
      "Validation accuracy: \n",
      " 0.49542217700915564\n",
      " ====================== model 57 ====================== \n",
      "Iteration using weight value 0.5, and momentum value 0.1:\n",
      "01:28:16.673486  |  Epoch 1  |  Training loss 0.693\n",
      "01:28:45.204566  |  Epoch 10  |  Training loss 0.693\n",
      "01:29:16.718928  |  Epoch 20  |  Training loss 0.693\n",
      "\n",
      "Accuracy: 0.50\n",
      "Training accuracy: \n",
      " 0.49950094266385714\n",
      "Accuracy: 0.50\n",
      "Validation accuracy: \n",
      " 0.5045778229908443\n",
      " ====================== model 58 ====================== \n",
      "Iteration using weight value 0.5, and momentum value 0.1:\n",
      "01:29:23.628494  |  Epoch 1  |  Training loss 0.686\n",
      "01:29:52.210171  |  Epoch 10  |  Training loss 0.693\n",
      "01:30:23.817948  |  Epoch 20  |  Training loss 0.693\n",
      "\n",
      "Accuracy: 0.50\n",
      "Training accuracy: \n",
      " 0.5004990573361429\n",
      "Accuracy: 0.50\n",
      "Validation accuracy: \n",
      " 0.49542217700915564\n",
      " ====================== model 59 ====================== \n",
      "Iteration using weight value 0.5, and momentum value 0.1:\n",
      "01:30:30.694834  |  Epoch 1  |  Training loss 0.691\n",
      "\n",
      "Accuracy: 0.50\n",
      "Training accuracy: \n",
      " 0.5004990573361429\n",
      "Accuracy: 0.50\n",
      "Validation accuracy: \n",
      " 0.49542217700915564\n",
      " ====================== model 60 ====================== \n",
      "Iteration using weight value 0.5, and momentum value 0.1:\n",
      "01:30:50.226196  |  Epoch 1  |  Training loss 0.694\n",
      "01:31:18.862808  |  Epoch 10  |  Training loss 0.688\n",
      "01:31:50.527927  |  Epoch 20  |  Training loss 0.685\n",
      "\n",
      "Accuracy: 0.50\n",
      "Training accuracy: \n",
      " 0.5004990573361429\n",
      "Accuracy: 0.50\n",
      "Validation accuracy: \n",
      " 0.49542217700915564\n",
      " ====================== model 61 ====================== \n",
      "Iteration using weight value 0.5, and momentum value 0.8:\n",
      "01:31:57.403386  |  Epoch 1  |  Training loss 0.693\n",
      "01:32:25.588367  |  Epoch 10  |  Training loss 0.694\n",
      "01:32:57.559718  |  Epoch 20  |  Training loss 0.694\n",
      "\n",
      "Accuracy: 0.50\n",
      "Training accuracy: \n",
      " 0.49950094266385714\n",
      "Accuracy: 0.50\n",
      "Validation accuracy: \n",
      " 0.5045778229908443\n",
      " ====================== model 62 ====================== \n",
      "Iteration using weight value 0.5, and momentum value 0.8:\n",
      "01:33:04.476143  |  Epoch 1  |  Training loss 0.691\n",
      "01:33:33.428972  |  Epoch 10  |  Training loss 0.693\n",
      "01:34:05.562606  |  Epoch 20  |  Training loss 0.693\n",
      "\n",
      "Accuracy: 0.50\n",
      "Training accuracy: \n",
      " 0.49950094266385714\n",
      "Accuracy: 0.50\n",
      "Validation accuracy: \n",
      " 0.5045778229908443\n",
      " ====================== model 63 ====================== \n",
      "Iteration using weight value 0.5, and momentum value 0.8:\n",
      "01:34:12.654520  |  Epoch 1  |  Training loss 0.686\n",
      "01:34:42.067340  |  Epoch 10  |  Training loss 0.693\n",
      "01:35:14.797957  |  Epoch 20  |  Training loss 0.693\n",
      "\n",
      "Accuracy: 0.50\n",
      "Training accuracy: \n",
      " 0.5004990573361429\n",
      "Accuracy: 0.50\n",
      "Validation accuracy: \n",
      " 0.49542217700915564\n",
      " ====================== model 64 ====================== \n",
      "Iteration using weight value 0.5, and momentum value 0.8:\n",
      "01:35:21.749215  |  Epoch 1  |  Training loss 0.693\n",
      "01:35:50.616856  |  Epoch 10  |  Training loss 0.683\n",
      "\n",
      "Accuracy: 0.50\n",
      "Training accuracy: \n",
      " 0.5004990573361429\n",
      "Accuracy: 0.50\n",
      "Validation accuracy: \n",
      " 0.49542217700915564\n",
      "Accuracy: 0.86\n"
     ]
    },
    {
     "data": {
      "application/vnd.plotly.v1+json": {
       "config": {
        "plotlyServerURL": "https://plot.ly"
       },
       "data": [
        {
         "hovertemplate": "variable=training_loss<br>epoch=%{x}<br>value=%{y}<extra></extra>",
         "legendgroup": "training_loss",
         "line": {
          "color": "#636efa",
          "dash": "solid"
         },
         "marker": {
          "symbol": "circle"
         },
         "mode": "lines",
         "name": "training_loss",
         "orientation": "v",
         "showlegend": true,
         "type": "scatter",
         "x": [
          1,
          2,
          3,
          4,
          5,
          6,
          7,
          8,
          9,
          10,
          11,
          12,
          13,
          14,
          15,
          16
         ],
         "xaxis": "x",
         "y": [
          0.6451409337713092,
          0.5330214988716704,
          0.4778114872587618,
          0.4467950260181383,
          0.41975051514770373,
          0.39665607299003786,
          0.377205001348311,
          0.3594806784696625,
          0.34218265624083744,
          0.3259121634333262,
          0.3095135061656864,
          0.2941828004187012,
          0.2794635535450371,
          0.26470840575093957,
          0.2508130809636899,
          0.23903974764243696
         ],
         "yaxis": "y"
        },
        {
         "hovertemplate": "variable=validation_loss<br>epoch=%{x}<br>value=%{y}<extra></extra>",
         "legendgroup": "validation_loss",
         "line": {
          "color": "#EF553B",
          "dash": "solid"
         },
         "marker": {
          "symbol": "circle"
         },
         "mode": "lines",
         "name": "validation_loss",
         "orientation": "v",
         "showlegend": true,
         "type": "scatter",
         "x": [
          1,
          2,
          3,
          4,
          5,
          6,
          7,
          8,
          9,
          10,
          11,
          12,
          13,
          14,
          15,
          16
         ],
         "xaxis": "x",
         "y": [
          0.5792084978602501,
          0.4962797595062337,
          0.46270910596990755,
          0.4377055010900876,
          0.4192567075601621,
          0.40732308832342573,
          0.3980951224950768,
          0.39080921124176216,
          0.38511503087185084,
          0.3801196882298454,
          0.376033056848802,
          0.37508685104394013,
          0.3742342389152841,
          0.3738709071288854,
          0.37461660604119046,
          0.37937927733102755
         ],
         "yaxis": "y"
        }
       ],
       "layout": {
        "legend": {
         "title": {
          "text": "variable"
         },
         "tracegroupgap": 0
        },
        "template": {
         "data": {
          "bar": [
           {
            "error_x": {
             "color": "#2a3f5f"
            },
            "error_y": {
             "color": "#2a3f5f"
            },
            "marker": {
             "line": {
              "color": "#E5ECF6",
              "width": 0.5
             },
             "pattern": {
              "fillmode": "overlay",
              "size": 10,
              "solidity": 0.2
             }
            },
            "type": "bar"
           }
          ],
          "barpolar": [
           {
            "marker": {
             "line": {
              "color": "#E5ECF6",
              "width": 0.5
             },
             "pattern": {
              "fillmode": "overlay",
              "size": 10,
              "solidity": 0.2
             }
            },
            "type": "barpolar"
           }
          ],
          "carpet": [
           {
            "aaxis": {
             "endlinecolor": "#2a3f5f",
             "gridcolor": "white",
             "linecolor": "white",
             "minorgridcolor": "white",
             "startlinecolor": "#2a3f5f"
            },
            "baxis": {
             "endlinecolor": "#2a3f5f",
             "gridcolor": "white",
             "linecolor": "white",
             "minorgridcolor": "white",
             "startlinecolor": "#2a3f5f"
            },
            "type": "carpet"
           }
          ],
          "choropleth": [
           {
            "colorbar": {
             "outlinewidth": 0,
             "ticks": ""
            },
            "type": "choropleth"
           }
          ],
          "contour": [
           {
            "colorbar": {
             "outlinewidth": 0,
             "ticks": ""
            },
            "colorscale": [
             [
              0,
              "#0d0887"
             ],
             [
              0.1111111111111111,
              "#46039f"
             ],
             [
              0.2222222222222222,
              "#7201a8"
             ],
             [
              0.3333333333333333,
              "#9c179e"
             ],
             [
              0.4444444444444444,
              "#bd3786"
             ],
             [
              0.5555555555555556,
              "#d8576b"
             ],
             [
              0.6666666666666666,
              "#ed7953"
             ],
             [
              0.7777777777777778,
              "#fb9f3a"
             ],
             [
              0.8888888888888888,
              "#fdca26"
             ],
             [
              1,
              "#f0f921"
             ]
            ],
            "type": "contour"
           }
          ],
          "contourcarpet": [
           {
            "colorbar": {
             "outlinewidth": 0,
             "ticks": ""
            },
            "type": "contourcarpet"
           }
          ],
          "heatmap": [
           {
            "colorbar": {
             "outlinewidth": 0,
             "ticks": ""
            },
            "colorscale": [
             [
              0,
              "#0d0887"
             ],
             [
              0.1111111111111111,
              "#46039f"
             ],
             [
              0.2222222222222222,
              "#7201a8"
             ],
             [
              0.3333333333333333,
              "#9c179e"
             ],
             [
              0.4444444444444444,
              "#bd3786"
             ],
             [
              0.5555555555555556,
              "#d8576b"
             ],
             [
              0.6666666666666666,
              "#ed7953"
             ],
             [
              0.7777777777777778,
              "#fb9f3a"
             ],
             [
              0.8888888888888888,
              "#fdca26"
             ],
             [
              1,
              "#f0f921"
             ]
            ],
            "type": "heatmap"
           }
          ],
          "heatmapgl": [
           {
            "colorbar": {
             "outlinewidth": 0,
             "ticks": ""
            },
            "colorscale": [
             [
              0,
              "#0d0887"
             ],
             [
              0.1111111111111111,
              "#46039f"
             ],
             [
              0.2222222222222222,
              "#7201a8"
             ],
             [
              0.3333333333333333,
              "#9c179e"
             ],
             [
              0.4444444444444444,
              "#bd3786"
             ],
             [
              0.5555555555555556,
              "#d8576b"
             ],
             [
              0.6666666666666666,
              "#ed7953"
             ],
             [
              0.7777777777777778,
              "#fb9f3a"
             ],
             [
              0.8888888888888888,
              "#fdca26"
             ],
             [
              1,
              "#f0f921"
             ]
            ],
            "type": "heatmapgl"
           }
          ],
          "histogram": [
           {
            "marker": {
             "pattern": {
              "fillmode": "overlay",
              "size": 10,
              "solidity": 0.2
             }
            },
            "type": "histogram"
           }
          ],
          "histogram2d": [
           {
            "colorbar": {
             "outlinewidth": 0,
             "ticks": ""
            },
            "colorscale": [
             [
              0,
              "#0d0887"
             ],
             [
              0.1111111111111111,
              "#46039f"
             ],
             [
              0.2222222222222222,
              "#7201a8"
             ],
             [
              0.3333333333333333,
              "#9c179e"
             ],
             [
              0.4444444444444444,
              "#bd3786"
             ],
             [
              0.5555555555555556,
              "#d8576b"
             ],
             [
              0.6666666666666666,
              "#ed7953"
             ],
             [
              0.7777777777777778,
              "#fb9f3a"
             ],
             [
              0.8888888888888888,
              "#fdca26"
             ],
             [
              1,
              "#f0f921"
             ]
            ],
            "type": "histogram2d"
           }
          ],
          "histogram2dcontour": [
           {
            "colorbar": {
             "outlinewidth": 0,
             "ticks": ""
            },
            "colorscale": [
             [
              0,
              "#0d0887"
             ],
             [
              0.1111111111111111,
              "#46039f"
             ],
             [
              0.2222222222222222,
              "#7201a8"
             ],
             [
              0.3333333333333333,
              "#9c179e"
             ],
             [
              0.4444444444444444,
              "#bd3786"
             ],
             [
              0.5555555555555556,
              "#d8576b"
             ],
             [
              0.6666666666666666,
              "#ed7953"
             ],
             [
              0.7777777777777778,
              "#fb9f3a"
             ],
             [
              0.8888888888888888,
              "#fdca26"
             ],
             [
              1,
              "#f0f921"
             ]
            ],
            "type": "histogram2dcontour"
           }
          ],
          "mesh3d": [
           {
            "colorbar": {
             "outlinewidth": 0,
             "ticks": ""
            },
            "type": "mesh3d"
           }
          ],
          "parcoords": [
           {
            "line": {
             "colorbar": {
              "outlinewidth": 0,
              "ticks": ""
             }
            },
            "type": "parcoords"
           }
          ],
          "pie": [
           {
            "automargin": true,
            "type": "pie"
           }
          ],
          "scatter": [
           {
            "fillpattern": {
             "fillmode": "overlay",
             "size": 10,
             "solidity": 0.2
            },
            "type": "scatter"
           }
          ],
          "scatter3d": [
           {
            "line": {
             "colorbar": {
              "outlinewidth": 0,
              "ticks": ""
             }
            },
            "marker": {
             "colorbar": {
              "outlinewidth": 0,
              "ticks": ""
             }
            },
            "type": "scatter3d"
           }
          ],
          "scattercarpet": [
           {
            "marker": {
             "colorbar": {
              "outlinewidth": 0,
              "ticks": ""
             }
            },
            "type": "scattercarpet"
           }
          ],
          "scattergeo": [
           {
            "marker": {
             "colorbar": {
              "outlinewidth": 0,
              "ticks": ""
             }
            },
            "type": "scattergeo"
           }
          ],
          "scattergl": [
           {
            "marker": {
             "colorbar": {
              "outlinewidth": 0,
              "ticks": ""
             }
            },
            "type": "scattergl"
           }
          ],
          "scattermapbox": [
           {
            "marker": {
             "colorbar": {
              "outlinewidth": 0,
              "ticks": ""
             }
            },
            "type": "scattermapbox"
           }
          ],
          "scatterpolar": [
           {
            "marker": {
             "colorbar": {
              "outlinewidth": 0,
              "ticks": ""
             }
            },
            "type": "scatterpolar"
           }
          ],
          "scatterpolargl": [
           {
            "marker": {
             "colorbar": {
              "outlinewidth": 0,
              "ticks": ""
             }
            },
            "type": "scatterpolargl"
           }
          ],
          "scatterternary": [
           {
            "marker": {
             "colorbar": {
              "outlinewidth": 0,
              "ticks": ""
             }
            },
            "type": "scatterternary"
           }
          ],
          "surface": [
           {
            "colorbar": {
             "outlinewidth": 0,
             "ticks": ""
            },
            "colorscale": [
             [
              0,
              "#0d0887"
             ],
             [
              0.1111111111111111,
              "#46039f"
             ],
             [
              0.2222222222222222,
              "#7201a8"
             ],
             [
              0.3333333333333333,
              "#9c179e"
             ],
             [
              0.4444444444444444,
              "#bd3786"
             ],
             [
              0.5555555555555556,
              "#d8576b"
             ],
             [
              0.6666666666666666,
              "#ed7953"
             ],
             [
              0.7777777777777778,
              "#fb9f3a"
             ],
             [
              0.8888888888888888,
              "#fdca26"
             ],
             [
              1,
              "#f0f921"
             ]
            ],
            "type": "surface"
           }
          ],
          "table": [
           {
            "cells": {
             "fill": {
              "color": "#EBF0F8"
             },
             "line": {
              "color": "white"
             }
            },
            "header": {
             "fill": {
              "color": "#C8D4E3"
             },
             "line": {
              "color": "white"
             }
            },
            "type": "table"
           }
          ]
         },
         "layout": {
          "annotationdefaults": {
           "arrowcolor": "#2a3f5f",
           "arrowhead": 0,
           "arrowwidth": 1
          },
          "autotypenumbers": "strict",
          "coloraxis": {
           "colorbar": {
            "outlinewidth": 0,
            "ticks": ""
           }
          },
          "colorscale": {
           "diverging": [
            [
             0,
             "#8e0152"
            ],
            [
             0.1,
             "#c51b7d"
            ],
            [
             0.2,
             "#de77ae"
            ],
            [
             0.3,
             "#f1b6da"
            ],
            [
             0.4,
             "#fde0ef"
            ],
            [
             0.5,
             "#f7f7f7"
            ],
            [
             0.6,
             "#e6f5d0"
            ],
            [
             0.7,
             "#b8e186"
            ],
            [
             0.8,
             "#7fbc41"
            ],
            [
             0.9,
             "#4d9221"
            ],
            [
             1,
             "#276419"
            ]
           ],
           "sequential": [
            [
             0,
             "#0d0887"
            ],
            [
             0.1111111111111111,
             "#46039f"
            ],
            [
             0.2222222222222222,
             "#7201a8"
            ],
            [
             0.3333333333333333,
             "#9c179e"
            ],
            [
             0.4444444444444444,
             "#bd3786"
            ],
            [
             0.5555555555555556,
             "#d8576b"
            ],
            [
             0.6666666666666666,
             "#ed7953"
            ],
            [
             0.7777777777777778,
             "#fb9f3a"
            ],
            [
             0.8888888888888888,
             "#fdca26"
            ],
            [
             1,
             "#f0f921"
            ]
           ],
           "sequentialminus": [
            [
             0,
             "#0d0887"
            ],
            [
             0.1111111111111111,
             "#46039f"
            ],
            [
             0.2222222222222222,
             "#7201a8"
            ],
            [
             0.3333333333333333,
             "#9c179e"
            ],
            [
             0.4444444444444444,
             "#bd3786"
            ],
            [
             0.5555555555555556,
             "#d8576b"
            ],
            [
             0.6666666666666666,
             "#ed7953"
            ],
            [
             0.7777777777777778,
             "#fb9f3a"
            ],
            [
             0.8888888888888888,
             "#fdca26"
            ],
            [
             1,
             "#f0f921"
            ]
           ]
          },
          "colorway": [
           "#636efa",
           "#EF553B",
           "#00cc96",
           "#ab63fa",
           "#FFA15A",
           "#19d3f3",
           "#FF6692",
           "#B6E880",
           "#FF97FF",
           "#FECB52"
          ],
          "font": {
           "color": "#2a3f5f"
          },
          "geo": {
           "bgcolor": "white",
           "lakecolor": "white",
           "landcolor": "#E5ECF6",
           "showlakes": true,
           "showland": true,
           "subunitcolor": "white"
          },
          "hoverlabel": {
           "align": "left"
          },
          "hovermode": "closest",
          "mapbox": {
           "style": "light"
          },
          "paper_bgcolor": "white",
          "plot_bgcolor": "#E5ECF6",
          "polar": {
           "angularaxis": {
            "gridcolor": "white",
            "linecolor": "white",
            "ticks": ""
           },
           "bgcolor": "#E5ECF6",
           "radialaxis": {
            "gridcolor": "white",
            "linecolor": "white",
            "ticks": ""
           }
          },
          "scene": {
           "xaxis": {
            "backgroundcolor": "#E5ECF6",
            "gridcolor": "white",
            "gridwidth": 2,
            "linecolor": "white",
            "showbackground": true,
            "ticks": "",
            "zerolinecolor": "white"
           },
           "yaxis": {
            "backgroundcolor": "#E5ECF6",
            "gridcolor": "white",
            "gridwidth": 2,
            "linecolor": "white",
            "showbackground": true,
            "ticks": "",
            "zerolinecolor": "white"
           },
           "zaxis": {
            "backgroundcolor": "#E5ECF6",
            "gridcolor": "white",
            "gridwidth": 2,
            "linecolor": "white",
            "showbackground": true,
            "ticks": "",
            "zerolinecolor": "white"
           }
          },
          "shapedefaults": {
           "line": {
            "color": "#2a3f5f"
           }
          },
          "ternary": {
           "aaxis": {
            "gridcolor": "white",
            "linecolor": "white",
            "ticks": ""
           },
           "baxis": {
            "gridcolor": "white",
            "linecolor": "white",
            "ticks": ""
           },
           "bgcolor": "#E5ECF6",
           "caxis": {
            "gridcolor": "white",
            "linecolor": "white",
            "ticks": ""
           }
          },
          "title": {
           "x": 0.05
          },
          "xaxis": {
           "automargin": true,
           "gridcolor": "white",
           "linecolor": "white",
           "ticks": "",
           "title": {
            "standoff": 15
           },
           "zerolinecolor": "white",
           "zerolinewidth": 2
          },
          "yaxis": {
           "automargin": true,
           "gridcolor": "white",
           "linecolor": "white",
           "ticks": "",
           "title": {
            "standoff": 15
           },
           "zerolinecolor": "white",
           "zerolinewidth": 2
          }
         }
        },
        "title": {
         "text": "training loss and val loss"
        },
        "xaxis": {
         "anchor": "y",
         "domain": [
          0,
          1
         ],
         "title": {
          "text": "epoch"
         }
        },
        "yaxis": {
         "anchor": "x",
         "domain": [
          0,
          1
         ],
         "title": {
          "text": "loss"
         }
        }
       }
      }
     },
     "metadata": {},
     "output_type": "display_data"
    }
   ],
   "source": [
    "def model_selection(train_load, val_load, test_load, early_stopping):\n",
    "    #Here we use shuffle = True in order to shuffle the dataset for the training\n",
    "    train_loader = torch.utils.data.DataLoader(cifar2_train, batch_size=64, shuffle=True) \n",
    "    val_loader = torch.utils.data.DataLoader(cifar2_val, batch_size=64, shuffle=False)\n",
    "\n",
    "    # Instantiate the loss function (here we use cross entropy)\n",
    "    loss_fn = nn.CrossEntropyLoss()\n",
    "    \n",
    "    losses = []\n",
    "    models_train = []\n",
    "    models_val = []\n",
    "    models_test = []\n",
    "    lr_list = []\n",
    "    weight_decay_list = []\n",
    "    momentum_list = []\n",
    "    i = 1\n",
    "\n",
    "\n",
    "    models = []\n",
    "    for x in [0, 0.01, 0.1, 0.5]:\n",
    "        for y in [0, 0.01,0.1, 0.8]:\n",
    "            for z in [0.1, 0.01,0.001,0.0001]:\n",
    "                # Initialize MLP\n",
    "                torch.manual_seed(123)\n",
    "                model_seq = MyMLP(n_in, n_hidden1, n_hidden2, n_hidden3, n_out)\n",
    "                \n",
    "                print(\" ====================== model %d ====================== \" %i)\n",
    "                print(f\"Iteration using weight value {x}, and momentum value {y}:\")\n",
    "                \n",
    "                losses.append(train_manual_update(\n",
    "                    n_epochs = 21,\n",
    "                    lr = z,\n",
    "                    model = model_seq,\n",
    "                    loss_fn = loss_fn,\n",
    "                    train_loader = train_loader,\n",
    "                    val_loader = val_loader,\n",
    "                    weight_decay = x,\n",
    "                    momentum = y,\n",
    "                    earlystopping = early_stopping,\n",
    "                ))\n",
    "                print('')\n",
    "                \n",
    "                lr_list.append(z)\n",
    "                weight_decay_list.append(x)\n",
    "                momentum_list.append(y)\n",
    "                models.append(model_seq)\n",
    "                # Here we use shuffle = False\n",
    "                # Because it is easier to check the predictions made.\n",
    "                train_loader = torch.utils.data.DataLoader(train_load, batch_size=64, shuffle=False)\n",
    "                val_loader = torch.utils.data.DataLoader(val_load, batch_size=64, shuffle=False)\n",
    "                test_loader = torch.utils.data.DataLoader(test_load, batch_size=64, shuffle=False)\n",
    "\n",
    "                train_acc = compute_accuracy(model_seq, train_loader)\n",
    "                models_train.append(train_acc)\n",
    "                print(\"Training accuracy: \\n\", train_acc)\n",
    "                val_acc = compute_accuracy(model_seq, val_loader)\n",
    "                models_val.append(val_acc)\n",
    "                print(\"Validation accuracy: \\n\", val_acc)\n",
    "            \n",
    "                i += 1\n",
    "    \n",
    "    best_model = np.argmax(models_val)\n",
    "    #compute accuracy on test data with the model that performed best on validationdata\n",
    "    test_acc = compute_accuracy(models[best_model], test_loader)\n",
    "    models_test.append(test_acc)\n",
    "    best_loss = losses[best_model]\n",
    "    plot_loss(best_loss[0],best_loss[1],best_loss[2])\n",
    "    return models_train, models_val, models_test, lr_list, weight_decay_list, momentum_list, best_model\n",
    "\n",
    "models_train, models_val, models_test, lr, weight_decay, momentum, best_model = model_selection(cifar2_train, cifar2_val, cifar2_test, False)\n",
    "models_train_es, models_val_es, models_test_es, lr_es, weight_decay_es, momentum_es, best_model_es = model_selection(cifar2_train, cifar2_val, cifar2_test, True)"
   ]
  },
  {
   "cell_type": "code",
   "execution_count": null,
   "metadata": {},
   "outputs": [
    {
     "name": "stdout",
     "output_type": "stream",
     "text": [
      "\n",
      "The best model is Model 18\n",
      " ----------------------------------------- \n",
      " Model:                MyMLP(\n",
      "  (flatten): Flatten(start_dim=1, end_dim=-1)\n",
      "  (fc1): Linear(in_features=3072, out_features=512, bias=True)\n",
      "  (relu1): ReLU()\n",
      "  (fc2): Linear(in_features=512, out_features=128, bias=True)\n",
      "  (relu2): ReLU()\n",
      "  (fc3): Linear(in_features=128, out_features=32, bias=True)\n",
      "  (relu3): ReLU()\n",
      "  (fc4): Linear(in_features=32, out_features=2, bias=True)\n",
      ")\n",
      " Learning rate:        0.01\n",
      " Weight decay:         0.01\n",
      " Momentum:             0\n",
      " ----------------------------------------- \n",
      "\n",
      " Performance:   \n",
      " ----------------------------------------- \n",
      " Training accuracy:        0.94\n",
      " Validation accuracy:      0.85\n",
      " Test accuracy:      0.85\n",
      " ----------------------------------------- \n"
     ]
    }
   ],
   "source": [
    "torch.manual_seed(123)\n",
    "model_seq = MyMLP(n_in, n_hidden1, n_hidden2, n_hidden3, n_out)\n",
    "print(\"\\nThe best model without earlystopping is Model\", best_model+1)\n",
    "print(\" ----------------------------------------- \")\n",
    "print(\" Model:               \", model_seq)\n",
    "print(\" Learning rate:       \", lr[best_model])\n",
    "print(\" Weight decay:        \", weight_decay[best_model])\n",
    "print(\" Momentum:            \", momentum[best_model])\n",
    "print(\" ----------------------------------------- \")\n",
    "print(\"\\n Performance:   \")\n",
    "print(\" ----------------------------------------- \")\n",
    "print(' Training accuracy:        %.2f' %models_train[best_model])\n",
    "print(' Validation accuracy:      %.2f' %models_val[best_model])\n",
    "print(' Test accuracy:      %.2f' %models_test[0])\n",
    "print(\" ----------------------------------------- \")\n",
    "\n"
   ]
  },
  {
   "cell_type": "code",
   "execution_count": null,
   "metadata": {},
   "outputs": [
    {
     "name": "stdout",
     "output_type": "stream",
     "text": [
      "\n",
      "The best model with earlystopping is Model 18\n",
      " ----------------------------------------- \n",
      " Model:                MyMLP(\n",
      "  (flatten): Flatten(start_dim=1, end_dim=-1)\n",
      "  (fc1): Linear(in_features=3072, out_features=512, bias=True)\n",
      "  (relu1): ReLU()\n",
      "  (fc2): Linear(in_features=512, out_features=128, bias=True)\n",
      "  (relu2): ReLU()\n",
      "  (fc3): Linear(in_features=128, out_features=32, bias=True)\n",
      "  (relu3): ReLU()\n",
      "  (fc4): Linear(in_features=32, out_features=2, bias=True)\n",
      ")\n",
      " Learning rate:        0.01\n",
      " Weight decay:         0\n",
      " Momentum:             0\n",
      " ----------------------------------------- \n",
      "\n",
      " Performance:   \n",
      " ----------------------------------------- \n",
      " Training accuracy:        0.93\n",
      " Validation accuracy:      0.85\n",
      " Test accuracy:      0.86\n",
      " ----------------------------------------- \n"
     ]
    }
   ],
   "source": [
    "torch.manual_seed(123)\n",
    "model_seq = MyMLP(n_in, n_hidden1, n_hidden2, n_hidden3, n_out)\n",
    "print(\"\\nThe best model with earlystopping is Model\", best_model_es+1)\n",
    "print(\" ----------------------------------------- \")\n",
    "print(\" Model:               \", model_seq)\n",
    "print(\" Learning rate:       \", lr_es[best_model_es])\n",
    "print(\" Weight decay:        \", weight_decay_es[best_model_es])\n",
    "print(\" Momentum:            \", momentum_es[best_model_es])\n",
    "print(\" ----------------------------------------- \")\n",
    "print(\"\\n Performance:   \")\n",
    "print(\" ----------------------------------------- \")\n",
    "print(' Training accuracy:        %.2f' %models_train_es[best_model_es])\n",
    "print(' Validation accuracy:      %.2f' %models_val_es[best_model_es])\n",
    "print(' Test accuracy:      %.2f' %models_test_es[0])\n",
    "print(\" ----------------------------------------- \")"
   ]
  }
 ],
 "metadata": {
  "kernelspec": {
   "display_name": "inf367vim",
   "language": "python",
   "name": "inf367vim"
  },
  "language_info": {
   "codemirror_mode": {
    "name": "ipython",
    "version": 3
   },
   "file_extension": ".py",
   "mimetype": "text/x-python",
   "name": "python",
   "nbconvert_exporter": "python",
   "pygments_lexer": "ipython3",
   "version": "3.9.2"
  }
 },
 "nbformat": 4,
 "nbformat_minor": 2
}
