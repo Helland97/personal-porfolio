{
 "cells": [
  {
   "attachments": {},
   "cell_type": "markdown",
   "metadata": {},
   "source": [
    "# Content\n",
    "\n",
    "    1. Task 2.1 word embedding\n",
    "        1.1 Creating vocabulary and datasets\n",
    "        1.2 Creating \"context/label\" datasets\n",
    "        1.3 MLP to create embeddings\n",
    "        1.4 Training and performance\n",
    "        1.5 Save embeddings to a .pt file\n",
    "    2. Task 2.2 be and have conjugation\n",
    "        2.1 Creating datasets\n",
    "        2.2 Simple attention\n",
    "        2.3 MLP with attention model\n",
    "        2.4 MY RNN Model\n",
    "        2.5 Training and performance of MODEL_ATTENTION.pt\n",
    "        2.6 Training and performance of MODEL_RNN.pt\n",
    "    3. Task 2.3 Text generation in main file"
   ]
  },
  {
   "cell_type": "code",
   "execution_count": 1,
   "metadata": {},
   "outputs": [
    {
     "data": {
      "text/plain": [
       "<torch._C.Generator at 0x24f476c4570>"
      ]
     },
     "execution_count": 1,
     "metadata": {},
     "output_type": "execute_result"
    }
   ],
   "source": [
    "import torch\n",
    "from torch import nn, optim\n",
    "import torch.nn.functional as F\n",
    "from datetime import datetime\n",
    "from torch.utils.data import DataLoader, TensorDataset\n",
    "from sklearn.metrics.pairwise import cosine_similarity\n",
    "from sklearn.metrics import confusion_matrix\n",
    "import matplotlib.pyplot as plt\n",
    "import seaborn as sns\n",
    "import numpy as np\n",
    "import pandas as pd\n",
    "import torchtext\n",
    "import os\n",
    "import re\n",
    "from torchtext.data.utils import get_tokenizer\n",
    "from torchtext.vocab import build_vocab_from_iterator\n",
    "from utils import train, set_device, compute_accuracy\n",
    "import math\n",
    "from IPython.display import display, clear_output\n",
    "seed = 265\n",
    "torch.manual_seed(seed)"
   ]
  },
  {
   "attachments": {},
   "cell_type": "markdown",
   "metadata": {},
   "source": [
    "# 1. Task 2.1"
   ]
  },
  {
   "attachments": {},
   "cell_type": "markdown",
   "metadata": {},
   "source": [
    "## 1.1 Creating vocabulary and datasets"
   ]
  },
  {
   "cell_type": "code",
   "execution_count": 2,
   "metadata": {},
   "outputs": [],
   "source": [
    "# tokenizer will split a long text into a list of english words\n",
    "TOKENIZER_EN = get_tokenizer('basic_english')\n",
    "# Where we will store / load all our models, datasets, vocabulary, etc.\n",
    "PATH_GENERATED = './generated/'\n",
    "# Minimum number of occurence of a word in the text to add it to the vocabulary\n",
    "MIN_FREQ = 100\n",
    "\n",
    "def read_files(datapath='./data_train/'):\n",
    "    \"\"\"\n",
    "    Return a list of strings, one for each line in each .txt files in 'datapath'\n",
    "    \"\"\"\n",
    "    # Find all txt files in directory \n",
    "    files = os.listdir(datapath)\n",
    "    files = [datapath + f for f in files if f.endswith(\".txt\")]\n",
    "    \n",
    "    # Stores each line of each book in a list\n",
    "    lines = []\n",
    "    for f_name in files:\n",
    "        with open(f_name) as f:\n",
    "            lines += f.readlines()\n",
    "    return lines\n",
    "\n",
    "def tokenize(lines, tokenizer=TOKENIZER_EN):\n",
    "    \"\"\"\n",
    "    Tokenize the list of lines\n",
    "    \"\"\"\n",
    "    list_text = []\n",
    "    for line in lines:\n",
    "        list_text += tokenizer(line)\n",
    "    return list_text\n",
    "\n",
    "def yield_tokens(lines, tokenizer=TOKENIZER_EN):\n",
    "    \"\"\"\n",
    "    Yield tokens, ignoring names and digits to build vocabulary\n",
    "    \"\"\"\n",
    "    # Match any word containing digit\n",
    "    no_digits = '\\w*[0-9]+\\w*'\n",
    "    # Match word containing a uppercase \n",
    "    no_names = '\\w*[A-Z]+\\w*'\n",
    "    # Match any sequence containing more than one space\n",
    "    no_spaces = '\\s+'\n",
    "    \n",
    "    for line in lines:\n",
    "        line = re.sub(no_digits, ' ', line)\n",
    "        line = re.sub(no_names, ' ', line)\n",
    "        line = re.sub(no_spaces, ' ', line)\n",
    "        yield tokenizer(line)\n",
    "\n",
    "def count_freqs(words, vocab):\n",
    "    \"\"\"\n",
    "    Count occurrences of each word in vocabulary in the data\n",
    "    \n",
    "    Useful to get some insight on the data and to compute loss weights\n",
    "    \"\"\"\n",
    "    freqs = torch.zeros(len(vocab), dtype=torch.int)\n",
    "    for w in words:\n",
    "        freqs[vocab[w]] += 1\n",
    "    return freqs\n",
    "\n",
    "def create_vocabulary(lines, min_freq=MIN_FREQ):\n",
    "    \"\"\"\n",
    "    Create a vocabulary (list of known tokens) from a list of strings\n",
    "    \"\"\"\n",
    "    # vocab contains the vocabulary found in the data, associating an index to each word\n",
    "    vocab = build_vocab_from_iterator(yield_tokens(lines), min_freq=min_freq, specials=[\"<unk>\"])\n",
    "    # Since we removed all words with an uppercase when building the vocabulary, we skipped the word \"I\"\n",
    "    vocab.append_token(\"i\")\n",
    "    # Value of default index. This index will be returned when OOV (Out Of Vocabulary) token is queried.\n",
    "    vocab.set_default_index(vocab[\"<unk>\"])\n",
    "    return vocab"
   ]
  },
  {
   "cell_type": "code",
   "execution_count": 3,
   "metadata": {},
   "outputs": [
    {
     "name": "stdout",
     "output_type": "stream",
     "text": [
      "Total number of words in the training dataset:      2684706\n",
      "Total number of words in the validation dataset:    49526\n",
      "Total number of words in the test dataset:          124152\n",
      "Number of distinct words in the training dataset:   52105\n",
      "Number of distinct words kept (vocabulary size):    1880\n",
      "occurences:\n",
      " [(433907, '<unk>'), (182537, ','), (151278, 'the'), (123727, '.'), (82289, 'and'), (65661, 'of'), (62763, 'to'), (49230, 'a'), (41477, 'in'), (31052, 'that'), (37167, 'he'), (29046, 'was'), (26508, 'his'), (26354, 'it'), (20862, 'with'), (20159, 'had'), (19965, 'is'), (15692, 'not'), (16593, 'as'), (15705, 'on'), (14464, 'him'), (15317, 'for'), (15838, 'at'), (15952, 'you'), (13255, 'be'), (12698, 'her'), (12798, 's'), (11924, 'which'), (11808, '!'), (11740, 'all'), (10338, '?'), (10205, 'have'), (10405, 'from'), (13251, 'but'), (11464, 'this'), (9439, 'by'), (11496, 'they'), (8797, 'said'), (8800, 'are'), (11055, 'she'), (9537, 'one'), (8219, 'were'), (8564, 'who'), (8345, 'so'), (9409, 'there'), (7072, 'or'), (6575, 'me'), (6478, 'them'), (6429, 'an'), (6868, 'my'), (5849, 'will'), (5692, 'man'), (7485, 'we'), (5641, 'up'), (5769, 'their'), (5510, 'out'), (5446, 'been'), (7638, 'when'), (6616, 'no'), (5164, 'would'), (7378, 'what'), (4643, 'into'), (5716, 'if'), (4257, 'more'), (4107, 'very'), (3956, 'could'), (3981, 'did'), (3834, 'men'), (3817, 'has'), (4231, 'do'), (6231, 'then'), (4105, 'some'), (7038, 'king'), (3679, 'other'), (3585, 'time'), (3617, 'about'), (3563, 'should'), (3480, 'went'), (3458, 'himself'), (3381, 'came'), (4406, 'now'), (3615, 'only'), (3551, 'your'), (3306, 'like'), (3406, 'two'), (3285, 'little'), (3193, 'before'), (3009, 'over'), (2975, 'made'), (2947, 'than'), (3011, 'see'), (3092, 'may'), (2844, 'down'), (2857, 'old'), (2748, 'us'), (2702, 'know'), (2831, 'can'), (2934, 'good'), (3070, 'where'), (2711, 't'), (2604, '('), (2604, ')'), (2605, 'must'), (2712, 'great'), (2744, 'our'), (2647, 'people'), (2746, 'go'), (2620, 'again'), (2818, 'come'), (2475, 'its'), (2897, 'these'), (3020, 'after'), (2339, 'any'), (2388, 'without'), (2287, 'day'), (2301, 'upon'), (2249, 'eyes'), (1057, '—'), (2311, 'first'), (2224, 'way'), (2205, 'back'), (2171, 'away'), (2169, 'am'), (2142, 'same'), (2277, 'those'), (2125, 'thought'), (2996, 'well'), (2141, 'say'), (2109, 'took'), (2246, 'such'), (2130, 'long'), (2046, 'much'), (1980, 'hand'), (2053, 'still'), (1924, 'face'), (2708, 'how'), (1982, 'through'), (2372, 'here'), (1904, 'head'), (336, '-'), (2128, 'nothing'), (2040, 'many'), (1918, 'shall'), (1981, 'even'), (1855, 'off'), (2061, 'just'), (1754, 'own'), (1752, 'left'), (1738, 'saw'), (1769, 'life'), (1729, 'house'), (1683, 'also'), (1668, 'room'), (1651, 'heard'), (1678, 'too'), (1678, 'being'), (1706, 'make'), (1786, 'never'), (1787, 'take'), (1728, 'once'), (1635, 'night'), (1732, 'each'), (1637, 'most'), (1567, 'door'), (1567, 'seemed'), (1635, 'under'), (1615, 'place'), (1582, 'last'), (1543, 'right'), (1676, 'another'), (1494, 'whole'), (1476, 'asked'), (1462, 'began'), (1620, 'every'), (1504, 'something'), (1438, 'called'), (1473, 'young'), (1415, 'moment'), (1429, 'against'), (1392, 'looked'), (1450, 'get'), (1437, 'things'), (1390, 'might'), (1413, 'think'), (1463, 'three'), (1365, 'told'), (1359, 'felt'), (1621, 'father'), (1338, 'found'), (1357, 'always'), (1291, 'got'), (1311, 'set'), (1307, 'put'), (1840, 'let'), (1265, 'side'), (1242, 'gave'), (1226, 'seen'), (1227, 'round'), (1207, 'turned'), (1296, 'give'), (1216, 'whom'), (1208, 'country'), (1363, 'look'), (1305, 'though'), (1269, 'both'), (1431, 'while'), (1232, 'between'), (1183, 'going'), (1165, 'done'), (1258, 'tell'), (1157, 'woman'), (1222, 'because'), (1272, 'having'), (1109, 'taken'), (1120, 'army'), (1191, 'yet'), (1087, 'says'), (1105, 'light'), (1076, 'knew'), (1145, 'soon'), (1112, 'plants'), (1063, 'few'), (1051, 'part'), (1065, 'son'), (1066, 'others'), (1031, 'years'), (1028, 'voice'), (1020, 'hands'), (1069, 'love'), (1027, 'large'), (1013, 'morning'), (1022, 'end'), (997, 'themselves'), (1043, 'quite'), (995, 'words'), (982, 'stood'), (1033, 'behind'), (1209, 'thing'), (956, 'replied'), (1005, 'battle'), (1027, 'white'), (958, 'along'), (959, 'far'), (946, 'together'), (964, 'water'), (932, 'feet'), (930, 'ground'), (931, 'brought'), (935, 'home'), (923, 'anything'), (930, 'small'), (1047, 'everything'), (1162, 'don'), (917, 'mind'), (893, 'longer'), (889, 'name'), (911, 'already'), (955, 'does'), (886, 'find'), (892, 'wife'), (881, 'fell'), (876, 'word'), (904, 'order'), (963, 'death'), (864, 'matter'), (1046, 'mother'), (857, 'passed'), (856, 'herself'), (871, 'open'), (880, 'near'), (857, 'lay'), (839, 'll'), (842, 'child'), (838, 'sat'), (834, 'best'), (857, 'land'), (837, 'work'), (827, 'remained'), (826, 'bed'), (913, 'among'), (839, 'better'), (823, 'heart'), (822, 'alone'), (824, 'evening'), (878, 'dear'), (814, 'full'), (819, 'de'), (803, 'days'), (797, 'air'), (790, 'sent'), (846, 'poor'), (797, 'friend'), (880, 'new'), (766, 'front'), (860, 'since'), (758, 'sort'), (813, 'four'), (745, 'want'), (762, 'almost'), (742, 'given'), (741, 'table'), (742, 'became'), (747, 'dead'), (723, 'held'), (725, 'cannot'), (742, 'fire'), (719, 'ran'), (733, 'ever'), (763, 'nor'), (709, 'myself'), (765, 'towards'), (784, 'black'), (704, 'case'), (864, 'thou'), (698, 'cried'), (702, 'understand'), (714, 'looking'), (732, 'fall'), (807, 'suddenly'), (684, 'become'), (679, 'answered'), (683, 'ready'), (697, 'until'), (668, 'returned'), (704, 'leave'), (679, 'winter'), (672, 'gone'), (666, 'world'), (693, 'cut'), (662, 'used'), (771, 'general'), (679, 'often'), (655, 'daughter'), (660, 'power'), (651, 'soul'), (1308, 'why'), (643, 'entered'), (826, 'however'), (641, 'itself'), (641, 'possible'), (710, 'war'), (658, 'coming'), (642, 'arms'), (638, 'smile'), (661, 'true'), (635, 'window'), (670, 'half'), (658, 'whose'), (637, 'saying'), (638, 'point'), (635, 'less'), (649, 'rather'), (637, 'enough'), (629, 'laid'), (641, 'speak'), (646, 'certain'), (615, 'earth'), (1311, 'earl'), (607, 'fact'), (609, 'received'), (600, 'hour'), (652, 'red'), (615, 'garden'), (631, 'above'), (599, 'ships'), (595, 'hundred'), (587, 'opened'), (587, 'spoke'), (588, 'girl'), (585, 'lost'), (585, 'continued'), (591, 'ship'), (595, 'trees'), (603, 'horse'), (598, 'around'), (577, 'money'), (570, 'body'), (591, 'brother'), (573, 'hear'), (618, 'keep'), (578, 'spring'), (570, 'town'), (580, 'second'), (581, 'use'), (561, 'hair'), (559, 'rest'), (559, 'cold'), (569, 'terrible'), (565, 'close'), (557, 'course'), (566, 'high'), (564, 'husband'), (553, 'added'), (563, 'killed'), (555, 'met'), (573, 'road'), (665, 'sometimes'), (564, 'sound'), (559, 'children'), (564, 'within'), (590, 'whether'), (558, 'help'), (542, 'followed'), (545, 'making'), (716, 'thus'), (542, 'year'), (582, 'five'), (578, 'flowers'), (537, 'kept'), (713, 'o'), (545, 'taking'), (546, 'turn'), (536, 'present'), (528, 've'), (529, 'yourself'), (605, 'early'), (613, 'next'), (529, 'times'), (533, 'dark'), (546, 'force'), (523, 'necessary'), (525, 'officer'), (520, 'able'), (526, 'sleep'), (540, 'till'), (523, 'happened'), (533, 'either'), (525, 'short'), (511, 'wish'), (507, 'placed'), (604, 'street'), (512, 'fear'), (506, 'known'), (502, 'need'), (525, 'rose'), (502, 'wanted'), (528, 'fine'), (526, 'letter'), (520, 'ask'), (999, 'count'), (512, 'happy'), (497, 'question'), (494, 'wall'), (494, 'idea'), (500, 'care'), (498, 'feeling'), (504, 'soldiers'), (491, 'clock'), (497, 'past'), (486, 'appeared'), (494, 'blood'), (513, 'beside'), (503, 'talk'), (477, 'carried'), (477, 'raised'), (538, 'later'), (598, 'during'), (483, 'following'), (475, 'soil'), (503, 'hold'), (502, 'evidently'), (482, 'peace'), (468, 'corner'), (484, 'late'), (514, 'really'), (472, 'return'), (467, 'line'), (464, 'horses'), (463, 'arm'), (468, 're'), (485, 'strange'), (466, 'beautiful'), (459, 'fellow'), (463, 'free'), (464, 'live'), (476, 'forward'), (456, 'business'), (828, 'd'), (463, 'read'), (535, 'several'), (453, 'thousand'), (459, 'deep'), (452, 'drew'), (458, 'run'), (451, 'else'), (461, 'tree'), (447, 'kind'), (458, 'summer'), (444, 'position'), (442, 'ordered'), (1033, 'princess'), (446, 'reason'), (447, 'standing'), (438, 'reached'), (446, 'third'), (2053, 'prince'), (454, 'silence'), (451, 'women'), (443, 'across'), (433, 'grown'), (452, 'bring'), (445, 'strong'), (427, 'doing'), (431, 'human'), (429, 'manner'), (427, 'sight'), (430, 'sitting'), (437, 'chief'), (433, 'heavy'), (448, 'believe'), (459, 'six'), (460, 'immediately'), (426, 'foot'), (421, 'doubt'), (428, 'low'), (428, 'comes'), (419, 'least'), (418, 'expression'), (418, 'person'), (469, 'therefore'), (422, 'truth'), (435, 'friends'), (424, 'thee'), (416, 'wounded'), (415, 'cause'), (413, 'family'), (412, 'meet'), (434, 'sea'), (411, 'tried'), (573, 'perhaps'), (425, 'bad'), (483, 'sir'), (411, 'feel'), (420, 'hard'), (405, 'struck'), (404, 'wished'), (508, 'nature'), (431, 'seeing'), (401, 'strength'), (1470, 'm'), (421, 'pass'), (396, 'sun'), (416, 'call'), (403, 'news'), (401, 'wood'), (396, 'seems'), (415, 'ten'), (389, 'troops'), (388, 'train'), (394, 'sure'), (467, 'thy'), (384, 'stopped'), (420, 'gold'), (383, 'form'), (384, 'moved'), (381, 'enemy'), (383, 'bondes'), (379, 'wind'), (379, 'arrived'), (376, 'closed'), (375, 'soldier'), (377, 'sword'), (374, 'mouth'), (424, 'neither'), (402, 'state'), (373, 'die'), (372, 'means'), (371, 'crowd'), (420, 'sister'), (460, 'although'), (420, 'lady'), (398, 'outside'), (368, 'exclaimed'), (402, 'impossible'), (496, 'countess'), (375, 'answer'), (378, 'service'), (368, 'silent'), (366, 'understood'), (365, 'action'), (364, 'different'), (370, 'leaves'), (367, 'afraid'), (374, 'turning'), (360, 'sides'), (366, 'clear'), (359, 'movement'), (360, 'caught'), (372, 'common'), (358, 'account'), (357, 'knows'), (356, 'shouted'), (359, 'talking'), (370, 'law'), (358, 'presence'), (355, 'waiting'), (360, 'attention'), (354, 'broken'), (379, 'beginning'), (363, 'blue'), (351, 'eye'), (348, 'single'), (351, 'boy'), (352, 'big'), (351, 'remain'), (346, 'rode'), (350, 'hope'), (398, 'remember'), (343, 'steps'), (357, 'usually'), (343, 'covered'), (385, 'doctor'), (341, 'minutes'), (343, 'pale'), (338, 'lips'), (339, 'lived'), (362, 'kings'), (339, 'led'), (336, 'hours'), (342, 'stone'), (338, 'conversation'), (335, 'grow'), (336, 'thinking'), (344, 'according'), (334, 'quickly'), (331, 'desire'), (343, 'show'), (357, 'plant'), (332, 'seized'), (331, 'living'), (327, 'noticed'), (369, 'afterwards'), (334, 'joy'), (333, 'speaking'), (341, 'won'), (357, 'hardly'), (324, 'threw'), (1324, 'yes'), (323, 'coat'), (323, 'grew'), (329, 'makes'), (348, 'police'), (325, 'paper'), (322, 'seem'), (324, 'carriage'), (321, 'duty'), (325, 'age'), (334, 'field'), (321, 'loved'), (338, 'middle'), (324, 'pleasure'), (462, 'north'), (346, 'beneath'), (317, 'neck'), (318, 'glance'), (316, 'latter'), (318, 'sailed'), (319, 'watch'), (338, 'toward'), (321, 'commander'), (313, 'purpose'), (312, 'floor'), (315, 'top'), (309, 'spot'), (309, 'asleep'), (308, 'effect'), (307, 'fallen'), (314, 'follow'), (357, 'master'), (305, 'places'), (305, 'planted'), (304, 'distance'), (309, 'forest'), (305, 'reply'), (330, 'wild'), (304, 'glass'), (307, 'darkness'), (308, 'passing'), (331, 'sons'), (309, 'tears'), (304, 'drawing'), (303, 'eat'), (307, 'except'), (317, 'number'), (299, 'sky'), (304, 'straight'), (300, 'attack'), (298, 'fixed'), (301, 'married'), (308, 'orders'), (297, 'ago'), (307, 'rich'), (304, 'stand'), (297, 'usual'), (298, 'died'), (300, 'dinner'), (301, 'fresh'), (299, 'filled'), (312, 'river'), (297, 'fast'), (299, 'ill'), (294, 'barricade'), (295, 'francs'), (340, 'indeed'), (293, 'fight'), (295, 'officers'), (291, 'allowed'), (299, 'pay'), (295, 'pretty'), (290, 'tone'), (292, 'cry'), (289, 'subject'), (319, 'church'), (480, 'la'), (295, 'thin'), (293, 'evil'), (315, 'nearly'), (287, 'shoulders'), (291, 'step'), (310, 'twenty'), (291, 'houses'), (288, 'box'), (284, 'formed'), (291, 'happiness'), (285, 'anyone'), (289, 'change'), (283, 'listened'), (281, 'bottom'), (282, 'forth'), (300, 'iron'), (285, 'piece'), (281, 'appearance'), (284, 'faces'), (310, 'history'), (287, 'kingdom'), (285, 'thoughts'), (345, 'wait'), (279, 'direction'), (281, 'handsome'), (279, 'replies'), (279, 'village'), (289, 'enter'), (281, 'former'), (278, 'mean'), (278, 'repeated'), (278, 'week'), (303, 'beyond'), (280, 'danger'), (275, 'instant'), (277, 'lying'), (313, 'none'), (277, 'particularly'), (278, 'smoke'), (275, 'trouble'), (275, 'walked'), (289, 'green'), (276, 'regiment'), (310, 'society'), (343, 'certainly'), (297, 'company'), (283, 'kill'), (271, 'merely'), (271, 'proceeded'), (271, 'bit'), (284, 'mass'), (277, 'bear'), (272, 'further'), (270, 'prepared'), (293, 'seven'), (296, 'journey'), (272, 'leaving'), (272, 'walk'), (266, 'bent'), (269, 'snow'), (266, 'wide'), (280, 'try'), (269, 'view'), (269, 'growing'), (265, 'holding'), (263, 'resumed'), (263, 'smiled'), (275, 'story'), (264, 'dry'), (265, 'getting'), (263, 'angry'), (260, 'appear'), (260, 'kinds'), (259, 'ourselves'), (273, 'apart'), (265, 'ought'), (263, 'roots'), (260, 'showed'), (268, 'begin'), (257, 'important'), (258, 'legs'), (256, 'simple'), (258, 'cast'), (256, 'effort'), (255, 'started'), (262, 'carry'), (260, 'especially'), (274, 'below'), (274, 'castle'), (256, 'fled'), (253, 'clothes'), (251, 'paid'), (254, 'heads'), (256, 'running'), (253, 'drawn'), (250, 'seated'), (253, 'slowly'), (265, 'varieties'), (251, 'events'), (248, 'hat'), (247, 'opinion'), (248, 'pleased'), (250, 'trying'), (246, 'caused'), (251, 'drove'), (248, 'expected'), (249, 'escape'), (247, 'giving'), (244, 'chair'), (244, 'months'), (267, 'probably'), (248, 'victory'), (249, 'glad'), (244, 'greater'), (255, 'seed'), (243, 'easy'), (256, 'meeting'), (245, 'real'), (243, 'smiling'), (360, 'south'), (244, 'letters'), (262, 'sweet'), (269, 'yellow'), (245, 'bright'), (254, 'chance'), (241, 'difficult'), (240, 'inches'), (243, 'wine'), (239, 'pocket'), (242, 'warm'), (241, 'written'), (245, 'post'), (239, 'serious'), (240, 'simply'), (240, 'teeth'), (239, 'wrong'), (242, 'act'), (237, 'condition'), (278, 'everyone'), (237, 'gazed'), (280, 'le'), (238, 'lines'), (238, 'quarter'), (249, 'various'), (238, 'voices'), (238, 'sad'), (242, 'study'), (280, 'court'), (234, 'disappeared'), (238, 'drink'), (236, 'laugh'), (257, 'brothers'), (231, 'ft'), (271, 'please'), (232, 'shown'), (232, 'spite'), (231, 'bound'), (252, 'city'), (232, 'finished'), (231, 'habit'), (231, 'plain'), (236, 'public'), (230, 'remarked'), (230, 'broke'), (229, 'interest'), (229, 'command'), (230, 'dressed'), (230, 'goes'), (233, 'questions'), (231, 'rain'), (228, 'considered'), (240, 'tall'), (227, 'frightened'), (228, 'future'), (229, 'moving'), (230, 'streets'), (228, 'weather'), (279, 'whatever'), (243, 'excellent'), (226, 'forms'), (225, 'parts'), (262, 'art'), (233, 'save'), (228, 'space'), (230, 'lie'), (246, 'brave'), (236, 'eight'), (226, 'gentleman'), (229, 'unknown'), (222, 'breath'), (224, 'lies'), (222, 'thrown'), (310, 'book'), (221, 'settled'), (222, 'touched'), (221, 'girls'), (221, 'grave'), (219, 'minute'), (233, 'bridge'), (219, 'deal'), (220, 'move'), (222, 'surprise'), (220, 'wolf'), (217, 'advanced'), (222, 'contrary'), (220, 'dress'), (217, 'affair'), (216, 'changed'), (218, 'flew'), (217, 'hole'), (219, 'looks'), (233, 'send'), (215, 'talked'), (229, 'allow'), (216, 'aside'), (225, 'blow'), (222, 'calm'), (233, 'honor'), (219, 'plan'), (213, 'remembered'), (217, 'sign'), (236, 'sit'), (215, 'spread'), (223, 'dream'), (212, 'month'), (216, 'planting'), (224, 'speech'), (213, 'surface'), (214, 'affairs'), (213, 'season'), (217, 'shadow'), (216, 'dog'), (211, 'walls'), (209, 'glanced'), (218, 'lower'), (210, 'matters'), (210, 'occupied'), (209, 'offered'), (212, 'play'), (209, 'presented'), (211, 'result'), (210, 'understanding'), (217, 'hall'), (213, 'peasant'), (209, 'property'), (208, 'sprang'), (226, 'stay'), (209, 'easily'), (220, 'flight'), (216, 'knowing'), (207, 'laughed'), (211, 'shot'), (209, 'bread'), (209, 'sown'), (207, 'burst'), (211, 'gate'), (208, 'rushed'), (205, 'spoken'), (203, 'desired'), (204, 'forced'), (207, 'pity'), (206, 'burning'), (216, 'station'), (202, 'wrote'), (204, 'crime'), (201, 'windows'), (364, 'besides'), (202, 'rapidly'), (202, 'seat'), (205, 'secret'), (203, 'terror'), (200, 'appears'), (200, 'laughing'), (199, 'sense'), (230, 'to-day'), (210, 'youth'), (198, 'greatest'), (203, 'message'), (198, 'occurred'), (198, 'perceived'), (215, 'quick'), (198, 'shook'), (203, 'start'), (205, 'bird'), (197, 'knees'), (198, 'papers'), (199, 'quiet'), (197, 'removed'), (199, 'special'), (200, 'advance'), (197, 'begun'), (198, 'empty'), (200, 'fly'), (214, 'marriage'), (209, 'shut'), (209, 'twelve'), (197, 'visible'), (212, 'write'), (202, 'board'), (288, 'east'), (199, 'respect'), (195, 'sake'), (196, 'dying'), (213, 'everywhere'), (231, 'figure'), (197, 'fleet'), (234, 'heaven'), (195, 'perfectly'), (193, 'recognized'), (196, 'silver'), (198, 'break'), (244, 'cross'), (198, 'farther'), (194, 'grass'), (198, 'spirit'), (192, 'waited'), (194, 'immense'), (193, 'observed'), (190, 'gathered'), (252, 'listen'), (191, 'promised'), (205, 'trench'), (191, 'difficulty'), (205, 'fate'), (196, 'useful'), (199, 'foliage'), (188, 'kissed'), (188, 'length'), (189, 'noise'), (188, 'relations'), (188, 'required'), (225, 'stop'), (220, 'thick'), (189, 'ball'), (187, 'moments'), (197, 'ring'), (197, 'thirty'), (186, 'approached'), (186, 'happen'), (186, 'paused'), (186, 'pointed'), (186, 'related'), (186, 'served'), (187, 'shoulder'), (192, 'tender'), (189, 'forces'), (187, 'lives'), (189, 'priest'), (193, 'beauty'), (184, 'ears'), (184, 'experienced'), (188, 'midst'), (194, 'persons'), (184, 'bloom'), (192, 'charming'), (184, 'ended'), (183, 'hot'), (187, 'inside'), (184, 'occasion'), (183, 'ones'), (187, 'opening'), (185, 'pressed'), (191, 'prisoner'), (195, 'search'), (192, 'ancient'), (184, 'natural'), (183, 'object'), (182, 'reach'), (182, 'bare'), (182, 'doors'), (181, 'fit'), (240, 'guard'), (207, 'instead'), (197, 'justice'), (183, 'proper'), (182, 'stones'), (183, 'visit'), (186, 'agreed'), (189, 'becomes'), (186, 'feast'), (180, 'gloomy'), (183, 'marry'), (182, 'prevent'), (180, 'produced'), (185, 'worse'), (180, 'worth'), (185, 'clearly'), (182, 'enormous'), (180, 'friendship'), (180, 'notice'), (179, 'slept'), (180, 'walking'), (180, 'wound'), (178, 'bore'), (180, 'falling'), (180, 'particular'), (192, 'someone'), (178, 'species'), (207, 'yard'), (178, 'cap'), (262, 'march'), (179, 'melancholy'), (181, 'mysterious'), (180, 'pain'), (180, 'suffering'), (176, 'gentle'), (201, 'hill'), (176, 'knife'), (177, 'nose'), (180, 'regard'), (181, 'adjutant'), (178, 'food'), (180, 'forget'), (176, 'group'), (175, 'inquired'), (317, 'l'), (176, 'prisoners'), (212, 'ye'), (174, 'ceased'), (183, 'chamber'), (234, 'holy'), (190, 'military'), (175, 'race'), (176, 'report'), (174, 'rows'), (178, 'sharp'), (178, 'weeks'), (176, 'advice'), (173, 'evident'), (177, 'mine'), (173, 'rule'), (178, 'broad'), (173, 'composed'), (174, 'ideas'), (172, 'likely'), (172, 'meaning'), (172, 'memory'), (184, 'note'), (203, 'to-morrow'), (171, 'alive'), (185, 'amid'), (172, 'asking'), (173, 'complete'), (175, 'entirely'), (171, 'fingers'), (172, 'learned'), (174, 'shadows'), (171, 'throat'), (209, 'golden'), (172, 'growth'), (177, 'imagine'), (178, 'ladies'), (171, 'lifted'), (170, 'meant'), (171, 'unable'), (170, 'uttered'), (169, 'breast'), (173, 'horror'), (169, 'motionless'), (173, 'generally'), (168, 'guns'), (173, 'haste'), (170, 'key'), (173, 'laws'), (177, 'opposite'), (168, 'party'), (173, 'straw'), (170, 'becoming'), (169, 'candle'), (167, 'character'), (167, 'decided'), (179, 'fifteen'), (167, 'obliged'), (168, 'surprised'), (168, 'touch'), (170, 'autumn'), (239, 'captain'), (170, 'freedom'), (170, 'passage'), (175, 'staff'), (167, 'telling'), (165, 'belonged'), (166, 'branches'), (168, 'carefully'), (187, 'formerly'), (164, 'arranged'), (166, 'conditions'), (166, 'lose'), (164, 'mentioned'), (166, 'reader'), (168, 'satisfied'), (169, 'stout'), (163, 'advantage'), (170, 'despair'), (188, 'everybody'), (165, 'express'), (170, 'fruit'), (163, 'pulled'), (172, 'suppose'), (167, 'takes'), (163, 'vessel'), (163, 'concealed'), (167, 'departure'), (167, 'district'), (162, 'finger'), (162, 'interrupted'), (172, 'throw'), (161, 'crop'), (161, 'crossed'), (164, 'des'), (166, 'drive'), (166, 'entering'), (162, 'forgotten'), (162, 'quarters'), (163, 'buried'), (161, 'frightful'), (165, 'receive'), (160, 'shore'), (160, 'spent'), (160, 'sufficient'), (166, 'absolutely'), (162, 'er'), (159, 'lighted'), (163, 'rise'), (163, 'boots'), (175, 'devil'), (158, 'expressed'), (167, 'fair'), (158, 'fault'), (158, 'handed'), (160, 'loss'), (160, 'manure'), (160, 'narrow'), (158, 'path'), (160, 'peasants'), (158, 'sought'), (158, 'sudden'), (158, 'built'), (163, 'double'), (159, 'gray'), (163, 'health'), (163, 'huge'), (157, 'liked'), (159, 'mud'), (157, 'edge'), (225, 'grand'), (156, 'joined'), (157, 'possession'), (158, 'profound'), (155, 'beheld'), (209, 'colonel'), (158, 'grandfather'), (160, 'row'), (157, 'saved'), (160, 'seek'), (155, 'sorts'), (156, 'stupid'), (161, 'du'), (156, 'false'), (157, 'fashion'), (158, 'firm'), (154, 'fought'), (155, 'knowledge'), (160, 'lead'), (154, 'pieces'), (164, 'social'), (156, 'thrust'), (154, 'watched'), (154, 'wore'), (168, 'building'), (154, 'chiefs'), (167, 'clever'), (193, 'consider'), (155, 'depths'), (156, 'faith'), (153, 'intended'), (154, 'luck'), (154, 'putting'), (192, 'square'), (153, 'weak'), (153, 'whispered'), (155, 'escaped'), (152, 'event'), (162, 'flat'), (153, 'mad'), (174, 'murder'), (157, 'nearer'), (153, 'pushed'), (154, 'remains'), (153, 'stranger'), (152, 'uniform'), (155, 'beds'), (158, 'fortune'), (174, 'government'), (156, 'hearing'), (173, 'progress'), (153, 'rooms'), (150, 'appointed'), (150, 'boxes'), (150, 'dropped'), (151, 'lawn'), (162, 'liberty'), (153, 'merry'), (157, 'promise'), (150, 'shouting'), (153, 'surrounded'), (150, 'borne'), (151, 'driver'), (150, 'existence'), (151, 'facts'), (150, 'gesture'), (152, 'hung'), (149, 'needed'), (149, 'peculiar'), (149, 'quietly'), (157, 'song'), (150, 'succeeded'), (149, 'thoroughly'), (149, 'vague'), (149, 'aim'), (155, 'cat'), (148, 'explain'), (160, 'kindly'), (148, 'necessity'), (148, 'proved'), (149, 'worthy'), (149, 'confused'), (251, 'queen'), (147, 'rising'), (147, 'roof'), (151, 'somewhat'), (148, 'vast'), (148, 'address'), (146, 'addressed'), (147, 'cart'), (146, 'explained'), (146, 'gained'), (146, 'horrible'), (161, 'sewer'), (175, 'yesterday'), (147, 'cannon'), (145, 'creature'), (145, 'expect'), (148, 'laughter'), (146, 'powerful'), (159, 'reading'), (149, 'souls'), (146, 'century'), (149, 'loud'), (144, 'sang'), (145, 'servants'), (167, 'twice'), (144, 'accompanied'), (145, 'armed'), (143, 'bench'), (154, 'fifty'), (144, 'gazing'), (145, 'keeping'), (147, 'listening'), (146, 'passion'), (144, 'results'), (149, 'severe'), (142, 'assembled'), (162, 'blind'), (149, 'bold'), (142, 'coffin'), (143, 'offer'), (142, 'safe'), (155, 'seeds'), (142, 'shock'), (143, 'soft'), (157, 'unless'), (142, 'fields'), (143, 'mingled'), (141, 'possessed'), (141, 'servant'), (142, 'clouds'), (155, 'didn'), (141, 'lad'), (141, 'leg'), (140, 'lot'), (140, 'named'), (143, 'pleasant'), (140, 'stepped'), (143, 'arrival'), (140, 'badly'), (140, 'carrying'), (141, 'cases'), (139, 'determined'), (161, 'hardy'), (151, 'otherwise'), (141, 'situation'), (139, 'treated'), (140, 'accept'), (138, 'cloak'), (139, 'conscious'), (156, 'convent'), (150, 'cover'), (139, 'dust'), (139, 'ordinary'), (138, 'picked'), (139, 'ranks'), (138, 'relation'), (138, 'shoes'), (139, 'wheels'), (138, 'bowed'), (140, 'conscience'), (138, 'names'), (137, 'played'), (138, 'violent'), (137, 'watching'), (137, 'circumstances'), (145, 'draw'), (138, 'experience'), (136, 'friendly'), (137, 'greatly'), (136, 'singing'), (143, 'success'), (139, 'birds'), (152, 'courage'), (138, 'deserted'), (135, 'ear'), (136, 'harm'), (143, 'nine'), (135, 'paces'), (138, 'splendid'), (137, 'trembling'), (134, 'aid'), (136, 'brilliant'), (138, 'daylight'), (134, 'distant'), (135, 'engine'), (138, 'equal'), (139, 'gently'), (136, 'maid'), (135, 'raise'), (138, 'returning'), (136, 'setting'), (141, 'somewhere'), (136, 'sorry'), (134, 'suffer'), (139, 'wet'), (133, 'activity'), (137, 'border'), (139, 'catch'), (138, 'dare'), (133, 'engaged'), (158, 'expedition'), (134, 'increased'), (139, 'learn'), (154, 'nobody'), (135, 'prove'), (136, 'sounds'), (133, 'suffered'), (137, 'supper'), (145, 'to-night'), (133, 'ways'), (132, 'due'), (134, 'dull'), (154, 'gentlemen'), (138, 'loose'), (132, 'retreat'), (138, 'sand'), (133, 'summoned'), (131, 'fully'), (134, 'gives'), (132, 'points'), (134, 'trust'), (152, 'add'), (134, 'admit'), (130, 'cloth'), (130, 'dared'), (178, 'dwarf'), (132, 'gaze'), (131, 'serve'), (130, 'size'), (130, 'tongue'), (129, 'actions'), (130, 'anxious'), (130, 'cloud'), (130, 'couple'), (129, 'demanded'), (129, 'details'), (129, 'directed'), (129, 'happens'), (129, 'opportunity'), (129, 'refused'), (130, 'writing'), (128, 'beings'), (132, 'campaign'), (133, 'dawn'), (128, 'ease'), (146, 'exactly'), (131, 'glory'), (128, 'main'), (128, 'recognize'), (129, 'sick'), (128, 'abandoned'), (128, 'circle'), (127, 'distinguished'), (132, 'extraordinary'), (127, 'fond'), (130, 'higher'), (128, 'level'), (127, 'shade'), (128, 'sous'), (126, 'approaching'), (425, 'bishop'), (127, 'books'), (126, 'brain'), (126, 'cellar'), (126, 'chest'), (128, 'chosen'), (127, 'completely'), (127, 'dreadful'), (129, 'driven'), (131, 'excellency'), (127, 'flesh'), (126, 'galleys'), (126, 'gun'), (126, 'murmured'), (128, 'singular'), (126, 'slight'), (129, 'anger'), (128, 'familiar'), (125, 'halted'), (126, 'historians'), (127, 'regular'), (125, 'separated'), (125, 'sleeping'), (127, 'storm'), (125, 'vessels'), (159, 'finally'), (125, 'heat'), (125, 'hideous'), (126, 'honest'), (124, 'protection'), (138, 'roses'), (134, 'skald'), (123, 'accepted'), (124, 'anxiety'), (123, 'corpse'), (134, 'farm'), (125, 'grief'), (128, 'height'), (132, 'misery'), (128, 'shield'), (126, 'stands'), (123, 'task'), (125, 'torn'), (124, 'cavalry'), (124, 'counsel'), (122, 'feared'), (122, 'forehead'), (122, 'gloom'), (123, 'heap'), (126, 'honour'), (123, 'material'), (126, 'perfect'), (126, 'private'), (123, 'sail'), (138, 'whence'), (127, 'directly'), (122, 'firing'), (127, 'flower'), (124, 'noble'), (125, 'office'), (124, 'personal'), (122, 'remark'), (205, 'west'), (130, 'avoid'), (121, 'believed'), (126, 'bow'), (135, 'bulbs'), (122, 'charge'), (122, 'cleared'), (124, 'drop'), (128, 'fourth'), (123, 'goods'), (131, 'instantly'), (121, 'pair'), (120, 'shed'), (122, 'speed'), (121, 'stretched'), (121, 'tired'), (123, 'virtue'), (120, 'cheeks'), (120, 'destroyed'), (119, 'direct'), (120, 'entrance'), (120, 'prison'), (123, 'pure'), (119, 'rage'), (120, 'resolved'), (123, 'wedding'), (125, 'wonderful'), (124, 'absolute'), (119, 'attitude'), (120, 'beast'), (118, 'dangerous'), (120, 'deeply'), (118, 'descended'), (123, 'dogs'), (118, 'established'), (123, 'finding'), (119, 'gay'), (118, 'masses'), (119, 'merchant'), (174, 'pray'), (120, 'sorrow'), (120, 'vain'), (117, 'begged'), (119, 'comrades'), (122, 'cutting'), (117, 'discovered'), (117, 'examined'), (118, 'join'), (121, 'leading'), (117, 'pause'), (119, 'shows'), (118, 'support'), (117, 'turns'), (119, 'wants'), (119, 'wearing'), (117, 'accustomed'), (118, 'continually'), (116, 'existed'), (123, 'hast'), (116, 'method'), (146, 'whilst'), (117, 'beat'), (121, 'choose'), (115, 'corridor'), (120, 'glancing'), (128, 'kiss'), (116, 'lit'), (117, 'nice'), (116, 'porter'), (116, 'rapid'), (129, 'royal'), (115, 'value'), (115, 'vanished'), (114, 'animal'), (116, 'curiosity'), (117, 'fighting'), (117, 'generals'), (114, 'hurt'), (114, 'oath'), (117, 'rear'), (114, 'stared'), (118, 'stars'), (116, 'cook'), (113, 'guests'), (114, 'hanging'), (115, 'hastily'), (113, 'importance'), (143, 'isn'), (113, 'jumped'), (114, 'miles'), (114, 'mist'), (115, 'pointing'), (115, 'scene'), (113, 'stayed'), (117, 'tea'), (130, 'tomorrow'), (113, 'variety'), (113, 'wooden'), (115, 'worn'), (113, 'attacked'), (114, 'bodies'), (113, 'breathing'), (114, 'center'), (113, 'committed'), (115, 'dirty'), (117, 'frequently'), (113, 'highest'), (156, 'mon'), (130, 'scarcely'), (113, 'sees'), (115, 'slightly'), (112, 'sum'), (114, 'unhappy'), (137, 'bank'), (111, 'brow'), (112, 'bushes'), (112, 'depth'), (113, 'difference'), (111, 'dignity'), (111, 'hastened'), (111, 'hidden'), (118, 'hurry'), (113, 'moon'), (111, 'playing'), (111, 'porch'), (112, 'tells'), (114, 'upper'), (112, 'weary'), (110, 'approach'), (112, 'attempt'), (111, 'causes'), (111, 'convinced'), (111, 'epoch'), (110, 'mistake'), (110, 'resolution'), (110, 'rope'), (113, 'similar'), (110, 'skin'), (115, 'thence'), (111, 'troubled'), (110, 'weapons'), (110, 'confidence'), (114, 'desirable'), (111, 'game'), (113, 'infantry'), (109, 'innocent'), (112, 'lendermen'), (110, 'linen'), (109, 'muttered'), (109, 'sofa'), (110, 'burned'), (108, 'convict'), (108, 'declared'), (110, 'drunk'), (108, 'entire'), (109, 'exist'), (110, 'influence'), (109, 'lamp'), (108, 'movements'), (108, 'previous'), (115, 'proceed'), (108, 'rendered'), (112, 'thither'), (107, 'ate'), (107, 'aware'), (107, 'boat'), (115, 'clean'), (119, 'fancy'), (107, 'flank'), (107, 'gain'), (110, 'hussars'), (107, 'hut'), (109, 'popular'), (111, 'agreement'), (107, 'awoke'), (107, 'band'), (106, 'branch'), (107, 'collected'), (107, 'conceal'), (107, 'confusion'), (107, 'frame'), (106, 'galloped'), (177, 'hills'), (106, 'impression'), (106, 'pavement'), (106, 'produce'), (111, 'raising'), (111, 'shouts'), (105, 'attached'), (109, 'beard'), (106, 'beg'), (106, 'blame'), (105, 'closely'), (106, 'driving'), (105, 'example'), (106, 'flame'), (106, 'frost'), (116, 'meantime'), (105, 'pipe'), (105, 'rolled'), (108, 'sacrifice'), (106, 'share'), (106, 'shining'), (106, 'terrified'), (112, 'tomb'), (117, 'yours'), (105, 'breaking'), (106, 'defend'), (105, 'delicate'), (105, 'eastward'), (112, 'erect'), (116, 'forty'), (106, 'hollow'), (105, 'interesting'), (105, 'larger'), (105, 'mere'), (107, 'mystery'), (110, 'provided'), (104, 'satisfaction'), (104, 'shudder'), (109, 'abruptly'), (104, 'absence'), (104, 'aloud'), (103, 'angrily'), (103, 'bearing'), (111, 'born'), (104, 'busy'), (103, 'companion'), (103, 'connection'), (103, 'covering'), (105, 'cries'), (103, 'disease'), (108, 'divine'), (104, 'intelligence'), (107, 'judge'), (105, 'leaning'), (104, 'pots'), (103, 'reality'), (103, 'remaining'), (105, 'slow'), (106, 'artillery'), (102, 'assistant'), (105, 'bell'), (105, 'carriages'), (104, 'coast'), (106, 'curious'), (104, 'fatigue'), (102, 'freely'), (103, 'hearts'), (103, 'kitchen'), (102, 'managed'), (103, 'reasons'), (103, 'ride'), (102, 'ruled'), (102, 'silently'), (112, 'sovereign'), (102, 'struggle'), (142, 'thanks'), (108, 'universal'), (112, 'wise'), (105, 'begins'), (102, 'considerable'), (106, 'destiny'), (101, 'distinctly'), (101, 'formidable'), (103, 'gardener'), (110, 'grey'), (109, 'inn'), (101, 'locked'), (114, 'nonsense'), (101, 'plunged'), (104, 'showing'), (101, 'smell'), (102, 'useless'), (101, 'worked'), (101, 'absorbed'), (100, 'agree'), (102, 'astonished'), (101, 'authority'), (105, 'bourgeois'), (101, 'chain'), (102, 'crossing'), (101, 'divided'), (100, 'eaten'), (116, 'elder'), (101, 'ends'), (108, 'gradually'), (102, 'instinct'), (100, 'mounted'), (100, 'pistol'), (102, 'pot'), (103, 'pride'), (100, 'slipped'), (100, 'station-master'), (182, 'thank'), (100, 'wounds'), (22996, 'i')]\n"
     ]
    }
   ],
   "source": [
    "# ----------------------- Tokenize texts -------------------------------\n",
    "# Load tokenized versions of texts if you have already generated it\n",
    "# Otherwise, create it and save it\n",
    "if os.path.isfile(PATH_GENERATED + \"words_train.pt\"):\n",
    "    words_train = torch.load(PATH_GENERATED + \"words_train.pt\")\n",
    "    words_val = torch.load(PATH_GENERATED + \"words_val.pt\")\n",
    "    words_test = torch.load(PATH_GENERATED + \"words_test.pt\")\n",
    "else:\n",
    "    # Get lists of strings, one for each line in each .txt files in 'datapath' \n",
    "    lines_books_train = read_files('./data_train/')\n",
    "    lines_books_val = read_files('./data_val/')\n",
    "    lines_books_test = read_files('./data_test/')\n",
    "\n",
    "    # List of words contained in the dataset\n",
    "    words_train = tokenize(lines_books_train)\n",
    "    words_val = tokenize(lines_books_val)\n",
    "    words_test = tokenize(lines_books_test)\n",
    "    \n",
    "    torch.save(words_train , PATH_GENERATED + \"words_train.pt\")\n",
    "    torch.save(words_val , PATH_GENERATED + \"words_val.pt\")\n",
    "    torch.save(words_test , PATH_GENERATED + \"words_test.pt\")\n",
    "\n",
    "\n",
    "\n",
    "# ----------------------- Create vocabulary ----------------------------\n",
    "VOCAB_FNAME = \"vocabulary.pt\"\n",
    "# Load vocabulary if you have already generated it\n",
    "# Otherwise, create it and save it\n",
    "if os.path.isfile(PATH_GENERATED + VOCAB_FNAME):\n",
    "    vocab = torch.load(PATH_GENERATED + VOCAB_FNAME)\n",
    "else:\n",
    "    # Create vocabulary based on the words in the training dataset\n",
    "    vocab = create_vocabulary(lines_books_train, min_freq=MIN_FREQ)\n",
    "    torch.save(vocab, PATH_GENERATED + VOCAB_FNAME)\n",
    "    \n",
    "\n",
    "\n",
    "# ------------------------ Quick analysis ------------------------------\n",
    "VOCAB_SIZE = len(vocab)\n",
    "print(\"Total number of words in the training dataset:     \", len(words_train))\n",
    "print(\"Total number of words in the validation dataset:   \", len(words_val))\n",
    "print(\"Total number of words in the test dataset:         \", len(words_test))\n",
    "print(\"Number of distinct words in the training dataset:  \", len(set(words_train)))\n",
    "print(\"Number of distinct words kept (vocabulary size):   \", VOCAB_SIZE)\n",
    "\n",
    "freqs = count_freqs(words_train, vocab)\n",
    "print(\"occurences:\\n\", [(f.item(), w) for (f, w)  in zip(freqs, vocab.lookup_tokens(range(VOCAB_SIZE)))])"
   ]
  },
  {
   "attachments": {},
   "cell_type": "markdown",
   "metadata": {},
   "source": [
    "## 1.2 Creating \"context/label\" datasets"
   ]
  },
  {
   "cell_type": "code",
   "execution_count": 4,
   "metadata": {},
   "outputs": [],
   "source": [
    "# context size for this task \n",
    "CONTEXT_SIZE = 3\n",
    "\n",
    "\n",
    "# ---------------- Define context / target pairs -----------------------\n",
    "def create_dataset(\n",
    "    text, vocab, \n",
    "    context_size=CONTEXT_SIZE, map_target=None\n",
    "):\n",
    "    \"\"\"\n",
    "    Create a pytorch dataset of context / target pairs from a text\n",
    "    \"\"\"\n",
    "    \n",
    "    n_text = len(text)\n",
    "    n_vocab = len(vocab)\n",
    "    \n",
    "    # Transform the text as a list of integers.\n",
    "    txt = [vocab[w] for w in text]\n",
    "\n",
    "    # Start constructing the context / target pairs...\n",
    "    contexts = []\n",
    "    targets = []\n",
    "    for i in range(n_text - context_size):\n",
    "        \n",
    "        # Word used to define target\n",
    "        t = txt[i + context_size]\n",
    "        \n",
    "        # Context before the target\n",
    "        c = txt[i:i + context_size] + txt[i + context_size + 1:i + context_size + 1 + context_size]\n",
    "        \n",
    "        if len(c) == 6:\n",
    "            targets.append(t)\n",
    "            contexts.append(torch.tensor(c))\n",
    "            \n",
    "    # contexts of shape (N_dataset, context_size)\n",
    "    # targets of shape  (N_dataset)\n",
    "    contexts = torch.stack(contexts)\n",
    "    targets = torch.tensor(targets)\n",
    "    # Create a pytorch dataset out of these context / target pairs\n",
    "    return TensorDataset(contexts, targets)"
   ]
  },
  {
   "cell_type": "code",
   "execution_count": 5,
   "metadata": {},
   "outputs": [],
   "source": [
    "def load_dataset(words, vocab, fname):\n",
    "    \"\"\"\n",
    "    Load dataset if already generated, otherwise, create it and save it\n",
    "    \"\"\"\n",
    "    # If already generated\n",
    "    if os.path.isfile(PATH_GENERATED + fname):\n",
    "        dataset = torch.load(PATH_GENERATED + fname)\n",
    "    else:\n",
    "        # Create context / target dataset based on the list of strings\n",
    "        dataset = create_dataset(words, vocab)\n",
    "        torch.save(dataset, PATH_GENERATED + fname)\n",
    "    return dataset\n",
    "\n",
    "data_train = load_dataset(words_train, vocab, \"data_train.pt\")\n",
    "data_val = load_dataset(words_val, vocab, \"data_val.pt\")\n",
    "data_test = load_dataset(words_test, vocab, \"data_test.pt\")"
   ]
  },
  {
   "attachments": {},
   "cell_type": "markdown",
   "metadata": {},
   "source": [
    "## 1.3 MLP to create embeddings"
   ]
  },
  {
   "cell_type": "code",
   "execution_count": 6,
   "metadata": {},
   "outputs": [],
   "source": [
    "class MyMLP_train(nn.Module):\n",
    "    \n",
    "    def __init__(self, vocab_size=1880, embedding_dim=10, context_size=CONTEXT_SIZE*2):\n",
    "        super().__init__()\n",
    "        \n",
    "        # Instantiate an embedding layer\n",
    "        self.embedding = nn.Embedding(vocab_size, embedding_dim)\n",
    "            \n",
    "        # Regular MLP\n",
    "        self.fc1 = nn.Linear(embedding_dim*context_size, 128)\n",
    "        self.fc2 = nn.Linear(128, VOCAB_SIZE)\n",
    "\n",
    "    def forward(self, x):\n",
    "        # x is of shape (N, context_size) but contains integers which can\n",
    "        # be seen as equivalent to (N, context_size, vocab_size) since one hot\n",
    "        # encoding is used under the hood\n",
    "        out = self.embedding(x)\n",
    "        # out is now of shape (N, context_size, embedding_dim)\n",
    "        \n",
    "        out = F.relu(self.fc1(torch.flatten(out, 1)))\n",
    "        # out is now of shape (N, context_size*embedding_dim)\n",
    "        \n",
    "        out = self.fc2(out)\n",
    "        return out"
   ]
  },
  {
   "attachments": {},
   "cell_type": "markdown",
   "metadata": {},
   "source": [
    "## 1.4 Training and performance"
   ]
  },
  {
   "cell_type": "code",
   "execution_count": 7,
   "metadata": {},
   "outputs": [
    {
     "name": "stdout",
     "output_type": "stream",
     "text": [
      "On device cpu.\n",
      "On device cpu.\n",
      "On device cpu.\n",
      "Training Accuracy:     0.3727\n",
      "Validation Accuracy:   0.3668\n"
     ]
    }
   ],
   "source": [
    "torch.manual_seed(seed)\n",
    "device = set_device()\n",
    "\n",
    "\n",
    "MODEL_FNAME = \"model.pt\"\n",
    "\n",
    "batch_size=512\n",
    "train_loader = DataLoader(data_train, batch_size=batch_size, shuffle=True)\n",
    "val_loader = DataLoader(data_val, batch_size=batch_size, shuffle=True)\n",
    "test_loader = DataLoader(data_test, batch_size=batch_size, shuffle=True)\n",
    "\n",
    "model = MyMLP_train()\n",
    "\n",
    "if os.path.isfile(PATH_GENERATED + MODEL_FNAME):\n",
    "    # Load the trained model\n",
    "    model = torch.load(PATH_GENERATED + MODEL_FNAME)\n",
    "    model.to(device)\n",
    "else:\n",
    "    # Or train the model...\n",
    "    model.to(device)\n",
    "    optimizer = optim.Adam(model.parameters(), lr=0.001)\n",
    "    loss_fn = nn.CrossEntropyLoss()\n",
    "    n_epochs=30\n",
    "\n",
    "    train(n_epochs, optimizer, model, loss_fn, train_loader)\n",
    "    # ... and save it\n",
    "    torch.save(model.to(device=\"cpu\"), PATH_GENERATED + MODEL_FNAME)\n",
    "\n",
    "acc_train = compute_accuracy(model, train_loader)\n",
    "acc_val = compute_accuracy(model, val_loader)\n",
    "print(\"Training Accuracy:     %.4f\" %acc_train)\n",
    "print(\"Validation Accuracy:   %.4f\" %acc_val)"
   ]
  },
  {
   "attachments": {},
   "cell_type": "markdown",
   "metadata": {},
   "source": [
    "## 1.5 Save embeddings to a .pt file"
   ]
  },
  {
   "cell_type": "code",
   "execution_count": 8,
   "metadata": {},
   "outputs": [],
   "source": [
    "# Load the model.pt file\n",
    "model_state_dict = torch.load(PATH_GENERATED + \"model.pt\")\n",
    "\n",
    "# Extract the embedding weights\n",
    "embedding_weights = model_state_dict.embedding\n",
    "\n",
    "# Save the embedding weights to a new .pt file\n",
    "torch.save(embedding_weights, PATH_GENERATED + \"embeddings.pt\")"
   ]
  },
  {
   "cell_type": "code",
   "execution_count": 9,
   "metadata": {},
   "outputs": [],
   "source": [
    "embedding = torch.load(PATH_GENERATED + \"embeddings.pt\")"
   ]
  },
  {
   "cell_type": "code",
   "execution_count": 10,
   "metadata": {},
   "outputs": [
    {
     "data": {
      "text/plain": [
       "tensor([[-0.7113, -0.4291,  0.3201,  ...,  0.1893,  0.3876,  0.4825],\n",
       "        [-0.7197,  0.4194,  1.2058,  ...,  0.9158, -0.9787, -0.5259],\n",
       "        [ 0.7245, -0.6136, -1.0676,  ...,  1.4184, -0.2769,  0.3635],\n",
       "        ...,\n",
       "        [ 1.0629, -0.6368,  1.3616,  ...,  0.3551,  1.6261, -0.9608],\n",
       "        [-0.2361,  0.3703, -0.0491,  ...,  0.4575,  0.6760,  0.7526],\n",
       "        [ 2.0310,  1.2806,  0.0027,  ...,  1.5835, -0.6891, -0.6740]])"
      ]
     },
     "execution_count": 10,
     "metadata": {},
     "output_type": "execute_result"
    }
   ],
   "source": [
    "embedding.weight.data"
   ]
  },
  {
   "cell_type": "code",
   "execution_count": 11,
   "metadata": {},
   "outputs": [
    {
     "data": {
      "text/html": [
       "<div>\n",
       "<style scoped>\n",
       "    .dataframe tbody tr th:only-of-type {\n",
       "        vertical-align: middle;\n",
       "    }\n",
       "\n",
       "    .dataframe tbody tr th {\n",
       "        vertical-align: top;\n",
       "    }\n",
       "\n",
       "    .dataframe thead th {\n",
       "        text-align: right;\n",
       "    }\n",
       "</style>\n",
       "<table border=\"1\" class=\"dataframe\">\n",
       "  <thead>\n",
       "    <tr style=\"text-align: right;\">\n",
       "      <th></th>\n",
       "      <th>0</th>\n",
       "      <th>1</th>\n",
       "      <th>2</th>\n",
       "      <th>3</th>\n",
       "      <th>4</th>\n",
       "      <th>5</th>\n",
       "      <th>6</th>\n",
       "      <th>7</th>\n",
       "      <th>8</th>\n",
       "      <th>9</th>\n",
       "    </tr>\n",
       "  </thead>\n",
       "  <tbody>\n",
       "    <tr>\n",
       "      <th>0</th>\n",
       "      <td>-0.711318</td>\n",
       "      <td>-0.429117</td>\n",
       "      <td>0.320072</td>\n",
       "      <td>-0.438549</td>\n",
       "      <td>-0.072789</td>\n",
       "      <td>-0.490328</td>\n",
       "      <td>-0.506588</td>\n",
       "      <td>0.189302</td>\n",
       "      <td>0.387606</td>\n",
       "      <td>0.482511</td>\n",
       "    </tr>\n",
       "    <tr>\n",
       "      <th>1</th>\n",
       "      <td>-0.719662</td>\n",
       "      <td>0.419366</td>\n",
       "      <td>1.205772</td>\n",
       "      <td>-0.165893</td>\n",
       "      <td>-0.055032</td>\n",
       "      <td>-0.632643</td>\n",
       "      <td>0.950606</td>\n",
       "      <td>0.915822</td>\n",
       "      <td>-0.978738</td>\n",
       "      <td>-0.525862</td>\n",
       "    </tr>\n",
       "    <tr>\n",
       "      <th>2</th>\n",
       "      <td>0.724457</td>\n",
       "      <td>-0.613590</td>\n",
       "      <td>-1.067608</td>\n",
       "      <td>-1.207475</td>\n",
       "      <td>-0.481757</td>\n",
       "      <td>0.479321</td>\n",
       "      <td>1.395973</td>\n",
       "      <td>1.418402</td>\n",
       "      <td>-0.276932</td>\n",
       "      <td>0.363500</td>\n",
       "    </tr>\n",
       "    <tr>\n",
       "      <th>3</th>\n",
       "      <td>-0.592553</td>\n",
       "      <td>0.980284</td>\n",
       "      <td>2.082150</td>\n",
       "      <td>-0.387613</td>\n",
       "      <td>-0.371271</td>\n",
       "      <td>0.966273</td>\n",
       "      <td>0.779362</td>\n",
       "      <td>0.414348</td>\n",
       "      <td>0.338546</td>\n",
       "      <td>-1.655101</td>\n",
       "    </tr>\n",
       "    <tr>\n",
       "      <th>4</th>\n",
       "      <td>0.885879</td>\n",
       "      <td>0.475946</td>\n",
       "      <td>1.941342</td>\n",
       "      <td>0.287676</td>\n",
       "      <td>-1.126295</td>\n",
       "      <td>-0.019672</td>\n",
       "      <td>0.710776</td>\n",
       "      <td>1.099598</td>\n",
       "      <td>-0.093946</td>\n",
       "      <td>0.546516</td>\n",
       "    </tr>\n",
       "    <tr>\n",
       "      <th>...</th>\n",
       "      <td>...</td>\n",
       "      <td>...</td>\n",
       "      <td>...</td>\n",
       "      <td>...</td>\n",
       "      <td>...</td>\n",
       "      <td>...</td>\n",
       "      <td>...</td>\n",
       "      <td>...</td>\n",
       "      <td>...</td>\n",
       "      <td>...</td>\n",
       "    </tr>\n",
       "    <tr>\n",
       "      <th>1875</th>\n",
       "      <td>1.017892</td>\n",
       "      <td>-1.762980</td>\n",
       "      <td>0.152583</td>\n",
       "      <td>1.334535</td>\n",
       "      <td>1.501916</td>\n",
       "      <td>-0.553635</td>\n",
       "      <td>0.041718</td>\n",
       "      <td>0.443957</td>\n",
       "      <td>0.728637</td>\n",
       "      <td>0.201682</td>\n",
       "    </tr>\n",
       "    <tr>\n",
       "      <th>1876</th>\n",
       "      <td>-1.327927</td>\n",
       "      <td>-0.450362</td>\n",
       "      <td>-0.855280</td>\n",
       "      <td>1.293782</td>\n",
       "      <td>1.964983</td>\n",
       "      <td>-0.170144</td>\n",
       "      <td>-0.857106</td>\n",
       "      <td>2.781407</td>\n",
       "      <td>1.358132</td>\n",
       "      <td>0.128895</td>\n",
       "    </tr>\n",
       "    <tr>\n",
       "      <th>1877</th>\n",
       "      <td>1.062906</td>\n",
       "      <td>-0.636836</td>\n",
       "      <td>1.361603</td>\n",
       "      <td>-0.432130</td>\n",
       "      <td>-1.851287</td>\n",
       "      <td>1.320264</td>\n",
       "      <td>-3.164718</td>\n",
       "      <td>0.355052</td>\n",
       "      <td>1.626089</td>\n",
       "      <td>-0.960758</td>\n",
       "    </tr>\n",
       "    <tr>\n",
       "      <th>1878</th>\n",
       "      <td>-0.236145</td>\n",
       "      <td>0.370334</td>\n",
       "      <td>-0.049119</td>\n",
       "      <td>0.130092</td>\n",
       "      <td>-0.378512</td>\n",
       "      <td>-1.077464</td>\n",
       "      <td>-0.270208</td>\n",
       "      <td>0.457543</td>\n",
       "      <td>0.676001</td>\n",
       "      <td>0.752626</td>\n",
       "    </tr>\n",
       "    <tr>\n",
       "      <th>1879</th>\n",
       "      <td>2.030991</td>\n",
       "      <td>1.280587</td>\n",
       "      <td>0.002745</td>\n",
       "      <td>-0.679962</td>\n",
       "      <td>0.986909</td>\n",
       "      <td>-0.468691</td>\n",
       "      <td>-1.020484</td>\n",
       "      <td>1.583469</td>\n",
       "      <td>-0.689086</td>\n",
       "      <td>-0.674028</td>\n",
       "    </tr>\n",
       "  </tbody>\n",
       "</table>\n",
       "<p>1880 rows × 10 columns</p>\n",
       "</div>"
      ],
      "text/plain": [
       "             0         1         2         3         4         5         6  \\\n",
       "0    -0.711318 -0.429117  0.320072 -0.438549 -0.072789 -0.490328 -0.506588   \n",
       "1    -0.719662  0.419366  1.205772 -0.165893 -0.055032 -0.632643  0.950606   \n",
       "2     0.724457 -0.613590 -1.067608 -1.207475 -0.481757  0.479321  1.395973   \n",
       "3    -0.592553  0.980284  2.082150 -0.387613 -0.371271  0.966273  0.779362   \n",
       "4     0.885879  0.475946  1.941342  0.287676 -1.126295 -0.019672  0.710776   \n",
       "...        ...       ...       ...       ...       ...       ...       ...   \n",
       "1875  1.017892 -1.762980  0.152583  1.334535  1.501916 -0.553635  0.041718   \n",
       "1876 -1.327927 -0.450362 -0.855280  1.293782  1.964983 -0.170144 -0.857106   \n",
       "1877  1.062906 -0.636836  1.361603 -0.432130 -1.851287  1.320264 -3.164718   \n",
       "1878 -0.236145  0.370334 -0.049119  0.130092 -0.378512 -1.077464 -0.270208   \n",
       "1879  2.030991  1.280587  0.002745 -0.679962  0.986909 -0.468691 -1.020484   \n",
       "\n",
       "             7         8         9  \n",
       "0     0.189302  0.387606  0.482511  \n",
       "1     0.915822 -0.978738 -0.525862  \n",
       "2     1.418402 -0.276932  0.363500  \n",
       "3     0.414348  0.338546 -1.655101  \n",
       "4     1.099598 -0.093946  0.546516  \n",
       "...        ...       ...       ...  \n",
       "1875  0.443957  0.728637  0.201682  \n",
       "1876  2.781407  1.358132  0.128895  \n",
       "1877  0.355052  1.626089 -0.960758  \n",
       "1878  0.457543  0.676001  0.752626  \n",
       "1879  1.583469 -0.689086 -0.674028  \n",
       "\n",
       "[1880 rows x 10 columns]"
      ]
     },
     "execution_count": 11,
     "metadata": {},
     "output_type": "execute_result"
    }
   ],
   "source": [
    "embeddings_tsv = embedding\n",
    "embeddings_tsv = embeddings_tsv.weight.detach().numpy()\n",
    "df = pd.DataFrame(embeddings_tsv)\n",
    "df"
   ]
  },
  {
   "cell_type": "code",
   "execution_count": 12,
   "metadata": {},
   "outputs": [],
   "source": [
    "df = df.to_csv(PATH_GENERATED + \"embeddings.tsv\",sep=\"\\t\", header=None, index=False)"
   ]
  },
  {
   "cell_type": "code",
   "execution_count": 13,
   "metadata": {},
   "outputs": [],
   "source": [
    "pd_vocab = []\n",
    "for word in vocab.lookup_tokens(range(VOCAB_SIZE)):\n",
    "    pd_vocab.append(word)\n",
    "#pd_vocab = pd.DataFrame(pd_vocab)\n",
    "#pd_vocab = pd_vocab.to_csv(PATH_GENERATED + \"vocab.tsv\",sep=\"\\t\", header=None, index=False)"
   ]
  },
  {
   "cell_type": "code",
   "execution_count": 14,
   "metadata": {},
   "outputs": [
    {
     "name": "stdout",
     "output_type": "stream",
     "text": [
      "Top 10 words similar to 'child': ['boy', 'dog', 'maid', 'servant', 'lad', 'stranger', 'girl', 'peasant', 'porter', 'gardener']\n"
     ]
    }
   ],
   "source": [
    "# Load vocabulary and embeddings\n",
    "vocab_no = pd_vocab\n",
    "embeddings = torch.load(PATH_GENERATED + 'embeddings.pt')\n",
    "embeddings = embeddings.weight\n",
    "\n",
    "# Normalize embeddings\n",
    "norms = embeddings.norm(dim=1, keepdim=True)\n",
    "embeddings = embeddings.div(norms)\n",
    "\n",
    "# Compute cosine similarity matrix\n",
    "similarity_matrix = cosine_similarity(embeddings.detach().numpy())\n",
    "\n",
    "# Find most similar words for some target words\n",
    "target_words = 'child'\n",
    "top_k = 10\n",
    "for word in vocab_no:\n",
    "    index = vocab_no.index(target_words)\n",
    "    similarity_scores = similarity_matrix[index]\n",
    "    similar_words = [vocab_no[i] for i in similarity_scores.argsort()[-top_k-1:-1][::-1]]\n",
    "print(f\"Top {top_k} words similar to '{target_words}': {similar_words}\")\n"
   ]
  },
  {
   "cell_type": "markdown",
   "metadata": {},
   "source": [
    "# 2. Task 2.2 be and have conjugation"
   ]
  },
  {
   "cell_type": "code",
   "execution_count": 15,
   "metadata": {},
   "outputs": [],
   "source": [
    "conjugation_mapping = {\n",
    "    'be': 0, 'am': 1, 'are': 2, 'is': 3, 'was': 4, 'were': 5,\n",
    "    'been': 6, 'being': 7, 'have': 8, 'has': 9, 'had': 10, 'having': 11\n",
    "}\n",
    "re_map = {0: 24, 1: 122, 2: 38, 3: 16, 4: 11, 5: 41, 6: 56, 7: 155, 8: 31, 9: 68, 10: 15, 11: 212}\n"
   ]
  },
  {
   "cell_type": "code",
   "execution_count": 16,
   "metadata": {},
   "outputs": [],
   "source": [
    "#creates (context, verb) tuples to be used for training validation and testing\n",
    "def create_dataset_con(text, vocab, conjugation_map, context_size=6):\n",
    "    context_all = []\n",
    "    target = []\n",
    "    for n, i in enumerate (text):\n",
    "        if i in conjugation_map.keys() and n >= context_size and (len(text) - n) > context_size:\n",
    "            context = []\n",
    "            start = max(0, n-context_size)\n",
    "            end = min(len(text), n + context_size +1)\n",
    "\n",
    "            for j in range(start, end):\n",
    "                if j != n and j<len(text):\n",
    "                    word = text[j]\n",
    "                    if word in vocab:\n",
    "                        context.append(vocab[word])\n",
    "                    else:\n",
    "                        context.append(vocab['<unk>'])\n",
    "            context_all.append(torch.tensor(context))\n",
    "            if i in vocab:\n",
    "                target_verb_index = vocab[i]\n",
    "                target.append(conjugation_map[i])\n",
    "            else:\n",
    "                target_verb_index = vocab['<unk>']\n",
    "                target.append(target_verb_index)\n",
    "\n",
    "    context_all = torch.stack(context_all)\n",
    "    target = torch.tensor(target)\n",
    "    return(context_all, target)\n"
   ]
  },
  {
   "cell_type": "markdown",
   "metadata": {},
   "source": [
    "# Creates datasets used for training, validation and testing"
   ]
  },
  {
   "cell_type": "code",
   "execution_count": 17,
   "metadata": {},
   "outputs": [],
   "source": [
    "criterion = torch.nn.CrossEntropyLoss()\n",
    "\n",
    "#prepare training data\n",
    "context_all_3, target_3 = create_dataset_con(words_train, vocab, conjugation_mapping,context_size=3)\n",
    "train_dataset_3 = TensorDataset(context_all_3, target_3)\n",
    "dataloader_3 = DataLoader(train_dataset_3, batch_size=32, shuffle=False)\n",
    "\n",
    "#prepare val_data\n",
    "val_con_3, val_target_3 = create_dataset_con(words_val, vocab, conjugation_mapping, context_size=3) \n",
    "val_dataset_3 = TensorDataset(val_con_3,val_target_3) \n",
    "val_dataloader_3 = DataLoader(val_dataset_3, batch_size=32, shuffle=False)\n",
    "\n",
    "#prepare test_data\n",
    "test_con_3, test_target_3 = create_dataset_con(words_test, vocab, conjugation_mapping, context_size=3) \n",
    "test_dataset_3 = TensorDataset(test_con_3,test_target_3) \n",
    "test_dataloader_3 = DataLoader(test_dataset_3, batch_size=32, shuffle=False)"
   ]
  },
  {
   "cell_type": "markdown",
   "metadata": {},
   "source": [
    "# Simple MLP"
   ]
  },
  {
   "cell_type": "code",
   "execution_count": 18,
   "metadata": {},
   "outputs": [],
   "source": [
    "class simpleMLP(nn.Module):\n",
    "    def __init__(self, embedding_dim, hidden_dim, output_dim, max_len):\n",
    "            super(simpleMLP, self).__init__()\n",
    "            self.embedding = nn.Embedding(num_embeddings=1880, embedding_dim=embedding_dim)\n",
    "            self.fc1 = nn.Linear(max_len*embedding_dim, hidden_dim)\n",
    "            self.relu = nn.ReLU()\n",
    "            self.fc2 = nn.Linear(hidden_dim, output_dim)\n",
    "            \n",
    "\n",
    "    def forward(self, x):\n",
    "        x = self.embedding(x)\n",
    "        x = x.reshape(x.shape[0], -1) \n",
    "        x = self.fc1(x)\n",
    "        x = self.relu(x)\n",
    "        x = self.fc2(x)\n",
    "        return x"
   ]
  },
  {
   "cell_type": "markdown",
   "metadata": {},
   "source": [
    "# MLP with attention"
   ]
  },
  {
   "cell_type": "code",
   "execution_count": 19,
   "metadata": {},
   "outputs": [],
   "source": [
    "class PositionalEncoding(nn.Module):\n",
    "    def __init__(self, emb_dim, max_len=256):\n",
    "        super(PositionalEncoding, self).__init__()\n",
    "        pe = torch.zeros(max_len, emb_dim)\n",
    "        position = torch.arange(0, max_len, dtype=torch.float).unsqueeze(1)\n",
    "        div_term = torch.exp(torch.arange(0, emb_dim, 2).float() * (-math.log(10000.0) / emb_dim))\n",
    "        pe[:, 0::2] = torch.sin(position * div_term)\n",
    "        pe[:, 1::2] = torch.cos(position * div_term)\n",
    "        self.register_buffer('pe', pe.unsqueeze(0))\n",
    "\n",
    "\n",
    "    def forward(self, x):\n",
    "        return x + self.pe[:x.size(0), :]\n",
    "    "
   ]
  },
  {
   "cell_type": "code",
   "execution_count": 20,
   "metadata": {},
   "outputs": [],
   "source": [
    "class SimpleMultiheadAttention(nn.Module):\n",
    "    def __init__(self, d_model, num_heads):\n",
    "        super(SimpleMultiheadAttention, self).__init__()\n",
    "        self.num_heads = num_heads\n",
    "        self.d_model = d_model\n",
    "        self.d_k = d_model // num_heads\n",
    "        \n",
    "        self.query_layers = nn.ModuleList([nn.Linear(d_model, self.d_k) for _ in range(num_heads)])\n",
    "        self.key_layers = nn.ModuleList([nn.Linear(d_model, self.d_k) for _ in range(num_heads)])\n",
    "        self.value_layers = nn.ModuleList([nn.Linear(d_model, self.d_k) for _ in range(num_heads)])\n",
    "\n",
    "    def forward(self, x):\n",
    "        concat_heads = []\n",
    "        for i in range(self.num_heads):\n",
    "            queries = self.query_layers[i](x)\n",
    "            keys = self.key_layers[i](x)\n",
    "            values = self.value_layers[i](x)\n",
    "            scores = torch.matmul(queries, keys.transpose(-2, -1)) / math.sqrt(self.d_k)\n",
    "            attn = torch.softmax(scores, dim=-1)\n",
    "            head_output = torch.matmul(attn, values)\n",
    "            concat_heads.append(head_output)\n",
    "        concat_output = torch.cat(concat_heads, dim=-1)\n",
    "        return concat_output\n"
   ]
  },
  {
   "cell_type": "code",
   "execution_count": 21,
   "metadata": {},
   "outputs": [],
   "source": [
    "class MLPWithAttention(nn.Module):\n",
    "    def __init__(self, embedding_dim, hidden_dim, output_dim, max_len, num_heads):\n",
    "        super(MLPWithAttention, self).__init__()\n",
    "        self.embedding = nn.Embedding(num_embeddings=1880, embedding_dim=embedding_dim)\n",
    "        self.positional_encoding = PositionalEncoding(embedding_dim, max_len)\n",
    "        self.attention = SimpleMultiheadAttention(embedding_dim, num_heads)\n",
    "        self.fc1 = nn.Linear(max_len*embedding_dim, hidden_dim)\n",
    "        self.relu = nn.ReLU()\n",
    "        self.fc2 = nn.Linear(hidden_dim, output_dim)\n",
    "        \n",
    "\n",
    "    def forward(self, x):\n",
    "        x = self.embedding(x)\n",
    "        x = self.positional_encoding(x)\n",
    "        x = self.attention(x)\n",
    "        x = x.reshape(x.shape[0], -1) \n",
    "        x = self.fc1(x)\n",
    "        x = self.relu(x)\n",
    "        x = self.fc2(x)\n",
    "        return x\n"
   ]
  },
  {
   "cell_type": "markdown",
   "metadata": {},
   "source": [
    "# RNN LSTM Model"
   ]
  },
  {
   "cell_type": "code",
   "execution_count": 22,
   "metadata": {},
   "outputs": [],
   "source": [
    "class LSTMConjugationModel(nn.Module):\n",
    "    def __init__(self, vocab_size, embedding_dim, hidden_dim, output_dim, num_layers=1, dropout=0.2):\n",
    "        super(LSTMConjugationModel, self).__init__()\n",
    "        self.embedding = nn.Embedding(num_embeddings=vocab_size, embedding_dim=embedding_dim)\n",
    "        self.lstm = nn.LSTM(input_size=embedding_dim,\n",
    "                            hidden_size=hidden_dim,\n",
    "                            num_layers=num_layers,\n",
    "                            dropout=dropout,\n",
    "                            batch_first=True)\n",
    "        self.fc = nn.Linear(hidden_dim, output_dim)\n",
    "    def forward(self, x):\n",
    "        embedded = self.embedding(x)\n",
    "        lstm_out, _ = self.lstm(embedded)\n",
    "        # We take the output from the last time step\n",
    "        x = lstm_out[:, -1, :]\n",
    "        x = self.fc(x)\n",
    "        return x"
   ]
  },
  {
   "cell_type": "markdown",
   "metadata": {},
   "source": [
    "# Simple trainingloop"
   ]
  },
  {
   "cell_type": "code",
   "execution_count": 23,
   "metadata": {},
   "outputs": [],
   "source": [
    "\n",
    "\n",
    "def train_model(dataloader, model, criterion, optimizer, epoch):\n",
    "    model.train() \n",
    "    total_loss = 0\n",
    "    for context, targets in dataloader:\n",
    "        optimizer.zero_grad()\n",
    "        outputs = model(context) \n",
    "        loss = criterion(outputs, targets)\n",
    "        loss.backward() \n",
    "        optimizer.step()  \n",
    "        total_loss += loss.item()\n",
    "    average_loss = total_loss / len(dataloader)\n",
    "    return average_loss\n",
    "\n"
   ]
  },
  {
   "cell_type": "markdown",
   "metadata": {},
   "source": [
    "# Checks validation accuracy and loss of current model"
   ]
  },
  {
   "cell_type": "code",
   "execution_count": 24,
   "metadata": {},
   "outputs": [],
   "source": [
    "\n",
    "\n",
    "\n",
    "def loss_validation(data, model, criterion):\n",
    "    all_preds = torch.tensor([]).to(device)  \n",
    "    all_labels = torch.tensor([]).to(device)\n",
    "    model.eval()\n",
    "    total_loss = 0\n",
    "\n",
    "    with torch.no_grad():\n",
    "        for context, target in data:\n",
    "            context, target = context.to(device), target.to(device)  \n",
    "            pred = model(context)\n",
    "            loss = criterion(pred, target)\n",
    "            total_loss += loss.item()\n",
    "\n",
    "            _, predicted = torch.max(pred, 1)\n",
    "            all_preds = torch.cat((all_preds, predicted.float()), dim=0)\n",
    "            all_labels = torch.cat((all_labels, target.float()), dim=0)\n",
    "\n",
    "    correct = (all_preds == all_labels).sum().item()\n",
    "    accuracy = 100 * correct / all_labels.size(0)\n",
    "    \n",
    "    return all_labels, all_preds, accuracy, (total_loss / len(data))  \n",
    "\n",
    "\n"
   ]
  },
  {
   "cell_type": "markdown",
   "metadata": {},
   "source": [
    "# Main trainingloop\n",
    "    -runs train and val epoch times\n",
    "    -plots training and validationloss per epoch\n",
    "    -stops if validation accuracy does not decrease over 3 epochs \n",
    "    -saves the one with the lowest validationloss"
   ]
  },
  {
   "cell_type": "code",
   "execution_count": 25,
   "metadata": {},
   "outputs": [],
   "source": [
    "\n",
    "ALL_MODELS = './lstm_models/'\n",
    "def training_loop(model, train_dataloader, val_dataloader, criterion, optimizer, name, epochs=10):\n",
    "    pations = 3\n",
    "    fig, ax = plt.subplots(figsize=(10, 5)) \n",
    "    training_losses = []\n",
    "    validation_losses=[]\n",
    "    best_val_loss = 10\n",
    "    if not os.path.exists(ALL_MODELS):\n",
    "        os.makedirs(ALL_MODELS)\n",
    "    for epoch in range(epochs):\n",
    "        train_loss = train_model(train_dataloader, model, criterion, optimizer, epoch)\n",
    "        _,_,_,validation_loss = loss_validation(val_dataloader, model, criterion)\n",
    "        \n",
    "        \n",
    "        if  validation_loss < best_val_loss:\n",
    "            best_val_loss = validation_loss\n",
    "            pations = 3\n",
    "            torch.save(model,ALL_MODELS + name + '.pth')\n",
    "        else:\n",
    "            pations -= 1\n",
    "            if pations == 0:\n",
    "                print(f'stopped at epoch {epoch} as validation did not imporove over 3 epochs')\n",
    "                break\n",
    "\n",
    "        training_losses.append(train_loss)\n",
    "        validation_losses.append(validation_loss)\n",
    "\n",
    "        ax.plot(range(1, epoch + 2), training_losses, 'bo-', label='Training Loss')\n",
    "        ax.plot(range(1, epoch + 2), validation_losses, 'ro-', label='Validation Loss')\n",
    "\n",
    "        if epoch == 0:\n",
    "            ax.legend()\n",
    "            ax.set_title('Training and Validation Losses Per Epoch')\n",
    "            ax.set_xlabel('Epoch')\n",
    "            ax.set_ylabel('Loss')\n",
    "        \n",
    "        display(fig)    \n",
    "        clear_output(wait=True) \n",
    "\n",
    "    plt.close(fig)\n",
    "\n"
   ]
  },
  {
   "cell_type": "code",
   "execution_count": 27,
   "metadata": {},
   "outputs": [
    {
     "name": "stdout",
     "output_type": "stream",
     "text": [
      "stopped at epoch 5 as validation did not imporove over 3 epochs\n"
     ]
    }
   ],
   "source": [
    "def model_selection_SIMPLE_MLP():\n",
    "    embedding_dim = [100, 200]\n",
    "    hidden_dim = [128, 256]\n",
    "    learning_rate = [0.001, 0.0001]\n",
    "    for em_dim in embedding_dim:\n",
    "        for hid_dim in hidden_dim:\n",
    "            for lr in learning_rate:\n",
    "                    model = simpleMLP(embedding_dim=em_dim, hidden_dim=hid_dim, output_dim=12, max_len=2*3)            \n",
    "                    optimizer = optim.Adam(model.parameters(), lr=lr)\n",
    "                    training_loop(model, dataloader_3, val_dataloader_3, criterion, optimizer, f'SIMPLE_MLP_{em_dim}_{hid_dim}_{lr}',epochs=30)\n",
    "                    \n",
    "\n",
    "\n",
    "model_selection_SIMPLE_MLP()"
   ]
  },
  {
   "cell_type": "markdown",
   "metadata": {},
   "source": [
    "# Model selction for MLP with attention"
   ]
  },
  {
   "cell_type": "code",
   "execution_count": 154,
   "metadata": {},
   "outputs": [
    {
     "name": "stdout",
     "output_type": "stream",
     "text": [
      "stopped at epoch 6 as validation did not imporove over 3 epochs\n"
     ]
    }
   ],
   "source": [
    "def model_selection_MLP():\n",
    "    embedding_dim = [100, 200]\n",
    "    hidden_dim = [128, 256]\n",
    "    num_heads = [4, 10]\n",
    "    learning_rate = [0.001, 0.0001]\n",
    "    for em_dim in embedding_dim:\n",
    "        for hid_dim in hidden_dim:\n",
    "            for num_head in num_heads:\n",
    "                for lr in learning_rate:\n",
    "                        model = MLPWithAttention(embedding_dim=em_dim, hidden_dim=hid_dim, output_dim=12, max_len=2*3, num_heads=num_head)            \n",
    "                        optimizer = optim.Adam(model.parameters(), lr=lr)\n",
    "                        training_loop(model, dataloader_3, val_dataloader_3, criterion, optimizer, f'MLP_{em_dim}_{hid_dim}_{num_head}_{lr}',epochs=30)\n",
    "                       \n",
    "model_selection_MLP()\n"
   ]
  },
  {
   "cell_type": "markdown",
   "metadata": {},
   "source": [
    "# Model selection for LSTM "
   ]
  },
  {
   "cell_type": "code",
   "execution_count": 155,
   "metadata": {},
   "outputs": [
    {
     "name": "stdout",
     "output_type": "stream",
     "text": [
      "stopped at epoch 6 as validation did not imporove over 3 epochs\n"
     ]
    }
   ],
   "source": [
    "def model_selection_LSTM():\n",
    "    lstm_layers = [2,4,6]\n",
    "    hidden_dim = [128, 256]\n",
    "    dropout = [0.2, 0.4]\n",
    "    learning_rate = [0.001, 0.0001]\n",
    "    for layers in lstm_layers:\n",
    "        for dim in hidden_dim:\n",
    "            for drop in dropout:\n",
    "                for lr in learning_rate:\n",
    "                        model = LSTMConjugationModel(1880, 200, dim, 12, layers, drop)\n",
    "                        optimizer = torch.optim.Adam(model.parameters(), lr=lr)\n",
    "                        training_loop(model, dataloader_3, val_dataloader_3, criterion, optimizer,f'LSTM_{layers}{dim}{drop}{lr}' ,epochs=30)\n",
    "\n",
    "model_selection_LSTM()\n",
    "\n"
   ]
  },
  {
   "cell_type": "markdown",
   "metadata": {},
   "source": [
    "# Loades the treained models and finds the best one to test on testdata"
   ]
  },
  {
   "cell_type": "code",
   "execution_count": 125,
   "metadata": {},
   "outputs": [
    {
     "name": "stdout",
     "output_type": "stream",
     "text": [
      "the best model on validation data was with SIMPLE_MLP_100_128_0.0001 and gave an accuracy of 59.42084942084942\n",
      "the best model on test data gave an accuracy of 51.227701993704095\n"
     ]
    },
    {
     "data": {
      "text/plain": [
       "simpleMLP(\n",
       "  (embedding): Embedding(1880, 100)\n",
       "  (fc1): Linear(in_features=600, out_features=128, bias=True)\n",
       "  (relu): ReLU()\n",
       "  (fc2): Linear(in_features=128, out_features=12, bias=True)\n",
       ")"
      ]
     },
     "execution_count": 125,
     "metadata": {},
     "output_type": "execute_result"
    }
   ],
   "source": [
    "def check_performance_SIMPLE_MLP():\n",
    "    embedding_dim = [100, 200]\n",
    "    hidden_dim = [128, 256]\n",
    "    learning_rate = [0.001, 0.0001]\n",
    "    results = []\n",
    "    for em_dim in embedding_dim:\n",
    "        for hid_dim in hidden_dim:\n",
    "            for lr in learning_rate:\n",
    "                model_path = ALL_MODELS + f'SIMPLE_MLP_{em_dim}_{hid_dim}_{lr}.pth'\n",
    "                if os.path.exists(model_path):\n",
    "                        model = torch.load(model_path)\n",
    "                        model.eval()\n",
    "                        val_loss, val_accuracy, accuracy,_ = loss_validation(val_dataloader_3, model, criterion)\n",
    "\n",
    "\n",
    "                        results.append((accuracy, f'SIMPLE_MLP_{em_dim}_{hid_dim}_{lr}'))\n",
    "                        #print(f\"Layers: {layers}, Hidden: {dim}, Dropout: {drop}, LR: {lr}, Loss: {val_loss}, Accuracy: {val_accuracy}\")\n",
    "                else:\n",
    "                        print(f\"Model file not found: {model_path}\")\n",
    "    best_result = max(results, key=lambda x: x[0])\n",
    "    print (f'the best model on validation data was with {best_result[1]} and gave an accuracy of {best_result[0]}')\n",
    "\n",
    "    model = torch.load(ALL_MODELS + best_result[1] +'.pth')\n",
    "    model.eval()\n",
    "    val_loss, val_accuracy, accuracy,_ = loss_validation(test_dataloader_3, model, criterion)\n",
    "    print (f'the best model on test data gave an accuracy of {accuracy}')\n",
    "    return model\n",
    "\n",
    "check_performance_SIMPLE_MLP()\n",
    "    "
   ]
  },
  {
   "cell_type": "markdown",
   "metadata": {},
   "source": [
    "# checks accuracy for the LSTM models "
   ]
  },
  {
   "cell_type": "code",
   "execution_count": 103,
   "metadata": {},
   "outputs": [
    {
     "name": "stdout",
     "output_type": "stream",
     "text": [
      "the best model on validation data was with 62560.40.001 and gave an accuracy of 66.98841698841699\n",
      "the best model on test data gave an accuracy of 59.01364113326338\n"
     ]
    },
    {
     "data": {
      "text/plain": [
       "LSTMConjugationModel(\n",
       "  (embedding): Embedding(1880, 200)\n",
       "  (lstm): LSTM(200, 256, num_layers=6, batch_first=True, dropout=0.4)\n",
       "  (fc): Linear(in_features=256, out_features=12, bias=True)\n",
       ")"
      ]
     },
     "execution_count": 103,
     "metadata": {},
     "output_type": "execute_result"
    }
   ],
   "source": [
    "\n",
    "def check_performance_LSTM():\n",
    "    lstm_layers = [2, 4, 6]\n",
    "    hidden_dim = [128, 256]\n",
    "    dropout = [0.2, 0.4]\n",
    "    learning_rate = [0.01, 0.001, 0.0001]\n",
    "    results = []\n",
    "\n",
    "    for layers in lstm_layers:\n",
    "        for dim in hidden_dim:\n",
    "            for drop in dropout:\n",
    "                for lr in learning_rate:\n",
    "                        \n",
    "                        model_path = ALL_MODELS + f'{layers}{dim}{drop}{lr}.pth'\n",
    "                        if os.path.exists(model_path):\n",
    "                            model = torch.load(model_path)\n",
    "                            model.eval()\n",
    "                            _, _, accuracy,_ = loss_validation(val_dataloader_3, model, criterion)\n",
    "                            results.append((accuracy, f'{layers}{dim}{drop}{lr}'))\n",
    "                        else:\n",
    "                            print(f\"Model file not found: {model_path}\")\n",
    "                            \n",
    "    best_result = max(results, key=lambda x: x[0])\n",
    "    print (f'the best model on validation data was with {best_result[1]} and gave an accuracy of {best_result[0]}')\n",
    "\n",
    "    model = torch.load(ALL_MODELS + best_result[1] +'.pth')\n",
    "    model.eval()\n",
    "    val_loss, val_accuracy, accuracy,_ = loss_validation(test_dataloader_3, model, criterion)\n",
    "    print (f'the best model on test data gave an accuracy of {accuracy}')\n",
    "    return model\n",
    "\n",
    "check_performance_LSTM()\n"
   ]
  },
  {
   "cell_type": "code",
   "execution_count": 127,
   "metadata": {},
   "outputs": [
    {
     "name": "stdout",
     "output_type": "stream",
     "text": [
      "the best model on validation data was with MLP_200_128_4_0.001 and gave an accuracy of 18.571428571428573\n",
      "the best model on test data gave an accuracy of 18.06925498426023\n"
     ]
    },
    {
     "data": {
      "text/plain": [
       "MLPWithAttention(\n",
       "  (embedding): Embedding(1880, 200)\n",
       "  (positional_encoding): PositionalEncoding()\n",
       "  (attention): SimpleMultiheadAttention(\n",
       "    (query_layers): ModuleList(\n",
       "      (0-3): 4 x Linear(in_features=200, out_features=50, bias=True)\n",
       "    )\n",
       "    (key_layers): ModuleList(\n",
       "      (0-3): 4 x Linear(in_features=200, out_features=50, bias=True)\n",
       "    )\n",
       "    (value_layers): ModuleList(\n",
       "      (0-3): 4 x Linear(in_features=200, out_features=50, bias=True)\n",
       "    )\n",
       "  )\n",
       "  (fc1): Linear(in_features=1200, out_features=128, bias=True)\n",
       "  (relu): ReLU()\n",
       "  (fc2): Linear(in_features=128, out_features=12, bias=True)\n",
       ")"
      ]
     },
     "execution_count": 127,
     "metadata": {},
     "output_type": "execute_result"
    }
   ],
   "source": [
    "def check_performance_MLP():\n",
    "    embedding_dim = [100, 200]\n",
    "    hidden_dim = [128, 256]\n",
    "    num_heads = [4, 10]\n",
    "    learning_rate = [0.001, 0.0001]\n",
    "    results = []\n",
    "    for em_dim in embedding_dim:\n",
    "        for hid_dim in hidden_dim:\n",
    "            for num_head in num_heads:\n",
    "                for lr in learning_rate:\n",
    "                    model_path = ALL_MODELS + f'MLP_{em_dim}_{hid_dim}_{num_head}_{lr}.pth'\n",
    "                    if os.path.exists(model_path):\n",
    "                            model = torch.load(model_path)\n",
    "                            model.eval()\n",
    "                            val_loss, val_accuracy, accuracy,_ = loss_validation(val_dataloader_3, model, criterion)\n",
    "\n",
    "\n",
    "                            results.append((accuracy, f'MLP_{em_dim}_{hid_dim}_{num_head}_{lr}'))\n",
    "                            #print(f\"Layers: {layers}, Hidden: {dim}, Dropout: {drop}, LR: {lr}, Loss: {val_loss}, Accuracy: {val_accuracy}\")\n",
    "                    else:\n",
    "                            print(f\"Model file not found: {model_path}\")\n",
    "    best_result = max(results, key=lambda x: x[0])\n",
    "    print (f'the best model on validation data was with {best_result[1]} and gave an accuracy of {best_result[0]}')\n",
    "\n",
    "    model = torch.load(ALL_MODELS + best_result[1] +'.pth')\n",
    "    model.eval()\n",
    "    val_loss, val_accuracy, accuracy,_ = loss_validation(test_dataloader_3, model, criterion)\n",
    "    print (f'the best model on test data gave an accuracy of {accuracy}')\n",
    "    return model\n",
    "\n",
    "check_performance_MLP()\n",
    "    "
   ]
  },
  {
   "cell_type": "markdown",
   "metadata": {},
   "source": [
    "# creates a confution matrix for the choosen model"
   ]
  },
  {
   "cell_type": "code",
   "execution_count": 128,
   "metadata": {},
   "outputs": [
    {
     "name": "stdout",
     "output_type": "stream",
     "text": [
      "the best model on validation data was with SIMPLE_MLP_100_128_0.0001 and gave an accuracy of 59.42084942084942\n",
      "the best model on test data gave an accuracy of 51.227701993704095\n"
     ]
    },
    {
     "data": {
      "image/png": "[encoded data removed]",
      "text/plain": [
       "<Figure size 1000x700 with 2 Axes>"
      ]
     },
     "metadata": {},
     "output_type": "display_data"
    },
    {
     "name": "stdout",
     "output_type": "stream",
     "text": [
      "the best model on validation data was with MLP_200_128_4_0.001 and gave an accuracy of 18.571428571428573\n",
      "the best model on test data gave an accuracy of 18.06925498426023\n"
     ]
    },
    {
     "data": {
      "image/png": "[encoded data removed]",
      "text/plain": [
       "<Figure size 1000x700 with 2 Axes>"
      ]
     },
     "metadata": {},
     "output_type": "display_data"
    },
    {
     "name": "stdout",
     "output_type": "stream",
     "text": [
      "the best model on validation data was with 62560.40.001 and gave an accuracy of 66.98841698841699\n",
      "the best model on test data gave an accuracy of 59.01364113326338\n"
     ]
    },
    {
     "data": {
      "image/png": "[encoded data removed]",
      "text/plain": [
       "<Figure size 1000x700 with 2 Axes>"
      ]
     },
     "metadata": {},
     "output_type": "display_data"
    }
   ],
   "source": [
    "def create_conf_matrix(model):\n",
    "    targ, pred, _,_= loss_validation(test_dataloader_3, model, criterion)\n",
    "    itos = vocab.get_itos()\n",
    "    all_preds_np = pred.numpy()\n",
    "    all_labels_np = targ.numpy()\n",
    "    classes_int = np.unique(all_preds_np)\n",
    "    classes_int = [re_map[x] for x in classes_int]\n",
    "    classes_str = [itos[int(x)] for x in classes_int]\n",
    "    # Compute the confusion matrix\n",
    "\n",
    "    conf_matrix = confusion_matrix(all_labels_np, all_preds_np)\n",
    "    plt.figure(figsize=(10, 7))\n",
    "    sns.heatmap(conf_matrix, annot=True, fmt=\"d\",\n",
    "    xticklabels=classes_str, yticklabels=classes_str, cmap=plt.cm.Blues)\n",
    "    plt.title('Confusion Matrix')\n",
    "    plt.ylabel('True Label')\n",
    "    plt.xlabel('Predicted Label')\n",
    "    plt.show()\n",
    "create_conf_matrix(check_performance_SIMPLE_MLP())\n",
    "create_conf_matrix(check_performance_MLP())\n",
    "create_conf_matrix(check_performance_LSTM())\n",
    "\n"
   ]
  },
  {
   "cell_type": "markdown",
   "metadata": {},
   "source": [
    "# 3.1 creating dataset"
   ]
  },
  {
   "cell_type": "code",
   "execution_count": 156,
   "metadata": {},
   "outputs": [],
   "source": [
    "# context size for this task \n",
    "CONTEXT_SIZE = 6\n",
    "\n",
    "\n",
    "# ---------------- Define context / target pairs -----------------------\n",
    "def create_dataset(\n",
    "    text, vocab, \n",
    "    context_size=CONTEXT_SIZE, map_target=None\n",
    "):\n",
    "    \"\"\"\n",
    "    Create a pytorch dataset of context / target pairs from a text\n",
    "    \"\"\"\n",
    "    \n",
    "    n_text = len(text)\n",
    "    n_vocab = len(vocab)\n",
    "    \n",
    "    # Transform the text as a list of integers.\n",
    "    txt = [vocab[w] for w in text]\n",
    "\n",
    "    # Start constructing the context / target pairs...\n",
    "    contexts = []\n",
    "    targets = []\n",
    "    for i in range(n_text - context_size):\n",
    "        \n",
    "        # Word used to define target\n",
    "        t = txt[i + context_size]\n",
    "        \n",
    "        # Context before the target\n",
    "        c = txt[i:i + context_size]\n",
    "        \n",
    "        if len(c) == 6:\n",
    "            targets.append(t)\n",
    "            contexts.append(torch.tensor(c))\n",
    "            \n",
    "    # contexts of shape (N_dataset, context_size)\n",
    "    # targets of shape  (N_dataset)\n",
    "    contexts = torch.stack(contexts)\n",
    "    targets = torch.tensor(targets)\n",
    "    # Create a pytorch dataset out of these context / target pairs\n",
    "    return TensorDataset(contexts, targets)\n",
    "    "
   ]
  },
  {
   "cell_type": "code",
   "execution_count": 157,
   "metadata": {},
   "outputs": [],
   "source": [
    "def load_dataset(words, vocab, fname):\n",
    "    \"\"\"\n",
    "    Load dataset if already generated, otherwise, create it and save it\n",
    "    \"\"\"\n",
    "    # If already generated\n",
    "    if os.path.isfile(PATH_GENERATED + fname):\n",
    "        dataset = torch.load(PATH_GENERATED + fname)\n",
    "    else:\n",
    "        # Create context / target dataset based on the list of strings\n",
    "        dataset = create_dataset(words, vocab)\n",
    "        torch.save(dataset, PATH_GENERATED + fname)\n",
    "    return dataset\n",
    "\n",
    "data_train = load_dataset(words_train, vocab, \"data_train_LSTM.pt\")\n",
    "data_val = load_dataset(words_val, vocab, \"data_val_LSTM.pt\")\n",
    "data_test = load_dataset(words_test, vocab, \"data_test_LSTM.pt\")"
   ]
  },
  {
   "cell_type": "markdown",
   "metadata": {},
   "source": [
    "## 3.2 LSTM network"
   ]
  },
  {
   "cell_type": "code",
   "execution_count": 158,
   "metadata": {},
   "outputs": [],
   "source": [
    "class MyNet(nn.Module):\n",
    "    \"\"\"\n",
    "    Simple net with only one LSTM layer and one fc layer. \n",
    "    \n",
    "    The LSTM layer can be ``MyLSTM`` or ``nn.LSTM``\n",
    "    \"\"\"\n",
    "    def __init__(\n",
    "        self,\n",
    "        hidden_size:int,\n",
    "        embedding=None, \n",
    "    ):\n",
    "        \n",
    "        super().__init__()\n",
    "        \n",
    "        (vocab_size, embedding_dim) = embedding.weight.shape\n",
    "        # Instantiate an embedding layer\n",
    "        self.embedding = nn.Embedding(vocab_size, embedding_dim)\n",
    "        # Load the pretrained weights\n",
    "        self.embedding.load_state_dict(embedding.state_dict())\n",
    "        # Freeze the layer\n",
    "        for p in self.embedding.parameters():\n",
    "            p.requires_grad = False\n",
    "\n",
    "            \n",
    "        self.lstm = nn.LSTM(embedding_dim, hidden_size, batch_first=True)\n",
    "        self.fc1 = nn.Linear(hidden_size, vocab_size)\n",
    "\n",
    "    def forward(self, x):\n",
    "        x = self.embedding(x)\n",
    "        # LSTM outputs: (out, (h, c)) with h of shape (num_layer, N, H_out) and we want h[-1,:,:]\n",
    "        output, (h_n, c_n) = self.lstm(x)\n",
    "        out = self.fc1(h_n[-1, :, :])\n",
    "        return out"
   ]
  },
  {
   "cell_type": "markdown",
   "metadata": {},
   "source": [
    "## 3.3 Training and performance"
   ]
  },
  {
   "cell_type": "code",
   "execution_count": 160,
   "metadata": {},
   "outputs": [
    {
     "name": "stdout",
     "output_type": "stream",
     "text": [
      "On device cpu.\n",
      "On device cpu.\n",
      "On device cpu.\n",
      "Training Accuracy:     0.2367\n",
      "Validation Accuracy:   0.2288\n",
      "Test Accuracy:   0.2710\n"
     ]
    }
   ],
   "source": [
    "device = torch.device('cpu')\n",
    "#print(f\"Training on device {device}.\")\n",
    "\n",
    "\n",
    "MODEL_FNAME = \"model_LSTM.pt\"\n",
    "\n",
    "\n",
    "batch_size = 512\n",
    "train_loader = DataLoader(data_train, batch_size=batch_size, shuffle=True)\n",
    "val_loader = DataLoader(data_val, batch_size=batch_size, shuffle=True)\n",
    "test_loader = DataLoader(data_test, batch_size=batch_size, shuffle=True)\n",
    "loss_fn = nn.CrossEntropyLoss()\n",
    "\n",
    "# These parameters don't matter much in this assignment\n",
    "n_epochs = 30\n",
    "lr = 0.001\n",
    "hidden_size = 32\n",
    "\n",
    "torch.manual_seed(265)\n",
    "model = MyNet(hidden_size, embedding=embedding).to(device=device)     \n",
    "    \n",
    "if os.path.isfile(PATH_GENERATED + MODEL_FNAME):\n",
    "    # Load the trained model\n",
    "    model = torch.load(PATH_GENERATED + MODEL_FNAME)\n",
    "    model.to(device)\n",
    "else:\n",
    "    # Or train the model...\n",
    "    model.to(device)\n",
    "    optimizer = optim.Adam(model.parameters(), lr=lr)\n",
    "    \n",
    "    train(\n",
    "        n_epochs = n_epochs,\n",
    "        optimizer = optimizer, \n",
    "        model = model,\n",
    "        loss_fn = loss_fn,\n",
    "        train_loader = train_loader,\n",
    "    )\n",
    "    \n",
    "    # ... and save it\n",
    "    torch.save(model.to(device=\"cpu\"), PATH_GENERATED + MODEL_FNAME)\n",
    "\n",
    "acc_train = compute_accuracy(model, train_loader)\n",
    "acc_val = compute_accuracy(model, val_loader)\n",
    "acc_test = compute_accuracy(model, test_loader)\n",
    "print(\"Training Accuracy:     %.4f\" %acc_train)\n",
    "print(\"Validation Accuracy:   %.4f\" %acc_val)\n",
    "print(\"Test Accuracy:   %.4f\" %acc_test)\n"
   ]
  },
  {
   "cell_type": "markdown",
   "metadata": {},
   "source": [
    "## 3.4 Beam search"
   ]
  },
  {
   "cell_type": "code",
   "execution_count": 161,
   "metadata": {},
   "outputs": [],
   "source": [
    "# Converts sequence text into sequence of tokens/indicies\n",
    "def text_to_sequence(text):\n",
    "    text = text.split()\n",
    "    text = [vocab[i] for i in text]\n",
    "    return text\n",
    "\n",
    "# Converts sequence of tokens/indicies to sequence of text\n",
    "def sequence_to_text(seq):\n",
    "    return [vocab.lookup_token(s) for s in seq]\n"
   ]
  },
  {
   "cell_type": "code",
   "execution_count": 165,
   "metadata": {},
   "outputs": [],
   "source": [
    "# Beam away my friends\n",
    "import copy\n",
    "\n",
    "\n",
    "def beam_search(sequence, model, beam_width, max_sequence_length=None):\n",
    "    model.eval()\n",
    "    final_sequence = [[text_to_sequence(sequence), 0] for _ in range(beam_width)] # Make copies of original sequence equal to \"Beam_width\"\n",
    "    sequence = text_to_sequence(sequence) # Convert text to indexes\n",
    "    sequence = torch.tensor(sequence) # Transform to tensor\n",
    "    sequence = sequence.unsqueeze(0) # Unsqueeze to fit the model\n",
    "    sequence = model(sequence) # feed the model\n",
    "    sequence = torch.softmax(sequence, dim=1) # Make probabilites from model output\n",
    "    scores, scores_indices = torch.sort(sequence, dim=1, descending=True) # Sort the probabilites descending\n",
    "    scores = scores.squeeze(1)\n",
    "    sequence = torch.argsort(sequence, dim=1, descending=True) # Sort the indexes descending\n",
    "    for i in range(beam_width): # Add k best option to k-th list with score\n",
    "        final_sequence[i][0].append(int(sequence[0][i]))\n",
    "        final_sequence[i][1] = float((scores[0][i]))\n",
    "    \n",
    "    # Feed model with new k-sequences \n",
    "    actual_final = []\n",
    "    for max_length in range(1, max_sequence_length): # Repeat until \"max_sequence_length\" is reached\n",
    "        for j, sequence in enumerate(final_sequence): # Feed the k different lists to the model\n",
    "            sequence = torch.tensor(sequence[0])\n",
    "            sequence = sequence.unsqueeze(0)\n",
    "            sequence = model(sequence)\n",
    "            sequence = torch.softmax(sequence, dim=1)\n",
    "            scores, scores_indices = torch.sort(sequence, dim=1, descending=True)\n",
    "            scores = scores.squeeze(1)\n",
    "            sequence = torch.argsort(sequence, dim=1, descending=True)\n",
    "            temp_sequence = [copy.deepcopy(final_sequence[j]) for _ in range(beam_width)] # Save k temporary copies of current list\n",
    "            for k in range(len(temp_sequence)): # Append k best results to current list\n",
    "                temp_sequence[k][0].append(int(sequence[0][k]))\n",
    "                temp_sequence[k][1] *= float(scores[0][k])\n",
    "                actual_final.append(copy.deepcopy(temp_sequence[k])) # Append all results to \"actual_final\". Which will later sort out the k best options\n",
    "        actual_final = sorted(actual_final, key=lambda x: x[1], reverse=True) # Sort all results\n",
    "        final_sequence = copy.deepcopy(actual_final[:beam_width]) # Only keep best k options (k = \"beam_width\")\n",
    "        actual_final = [] # Repeat above steps until \"max_sequence_length\" is reached\n",
    "    \n",
    "\n",
    "    word_result = [] # Transform token indicies to words\n",
    "    for sequence in final_sequence:\n",
    "        word_result.append([sequence_to_text(copy.deepcopy(sequence[0])), sequence[1]])\n",
    "    return final_sequence, word_result # Returns results as token indicies with score (final_sequence), and as words with score (word_result)"
   ]
  },
  {
   "cell_type": "code",
   "execution_count": 166,
   "metadata": {},
   "outputs": [],
   "source": [
    "# Crates new sequence with results from beam search\n",
    "def append_result(sequence, token_sequence):\n",
    "    sequence = [[\" \".join(ele[0]), ele[1]] for ele in sequence]\n",
    "    for i in sequence:\n",
    "        print(i)\n",
    "    for j in token_sequence:\n",
    "        print(j)\n",
    "    return sequence"
   ]
  },
  {
   "cell_type": "code",
   "execution_count": 167,
   "metadata": {},
   "outputs": [
    {
     "name": "stdout",
     "output_type": "stream",
     "text": [
      "['the house were <unk> to the <unk> of', 0.0003493775321344606]\n",
      "['the house were <unk> in the <unk> of', 0.00034223183423138907]\n",
      "['the house were <unk> to the <unk> ,', 0.0002804756357495435]\n",
      "['the house were <unk> in the <unk> ,', 0.0002660973115670801]\n",
      "['the house were <unk> to the <unk> .', 0.00023668073669512997]\n",
      "[[2, 150, 41, 0, 6, 2, 0, 5], 0.0003493775321344606]\n",
      "[[2, 150, 41, 0, 8, 2, 0, 5], 0.00034223183423138907]\n",
      "[[2, 150, 41, 0, 6, 2, 0, 1], 0.0002804756357495435]\n",
      "[[2, 150, 41, 0, 8, 2, 0, 1], 0.0002660973115670801]\n",
      "[[2, 150, 41, 0, 6, 2, 0, 3], 0.00023668073669512997]\n"
     ]
    }
   ],
   "source": [
    "# Type in whatever sequence you want\n",
    "seq = \"the house were\"\n",
    "\n",
    "# Run beam search\n",
    "search, words = beam_search(seq, model, beam_width=5, max_sequence_length=5)\n",
    "\n",
    "# Print results\n",
    "result = append_result(words, search)"
   ]
  }
 ],
 "metadata": {
  "interpreter": {
   "hash": "57cefe2154ba5a99ebca65feebf37b85a9836a25c4612ca974c85a5dd5452023"
  },
  "kernelspec": {
   "display_name": "Python 3.10.4 64-bit ('inf265': conda)",
   "name": "python3"
  },
  "language_info": {
   "codemirror_mode": {
    "name": "ipython",
    "version": 3
   },
   "file_extension": ".py",
   "mimetype": "text/x-python",
   "name": "python",
   "nbconvert_exporter": "python",
   "pygments_lexer": "ipython3",
   "version": "3.9.2"
  },
  "orig_nbformat": 4
 },
 "nbformat": 4,
 "nbformat_minor": 2
}
